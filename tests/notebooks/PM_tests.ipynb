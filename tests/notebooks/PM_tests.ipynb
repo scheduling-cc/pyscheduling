{
 "cells": [
  {
   "cell_type": "code",
   "execution_count": 85,
   "id": "4210e786",
   "metadata": {
    "ExecuteTime": {
     "end_time": "2023-05-17T14:50:43.062770Z",
     "start_time": "2023-05-17T14:50:42.698131Z"
    }
   },
   "outputs": [
    {
     "name": "stdout",
     "output_type": "stream",
     "text": [
      "The autoreload extension is already loaded. To reload it, use:\n",
      "  %reload_ext autoreload\n",
      "The pycodestyle_magic extension is already loaded. To reload it, use:\n",
      "  %reload_ext pycodestyle_magic\n"
     ]
    }
   ],
   "source": [
    "from pyscheduling.PMSP.ParallelMachines import Machine, Job\n",
    "import pyscheduling.PMSP.RmSijkCmax as pms\n",
    "import pyscheduling.PMSP.PM_methods as methods\n",
    "import pyscheduling.PMSP.RmridiSijkWiTi as pms_wiTi\n",
    "from pyscheduling.core.listeners import BaseListener, FileListener, CSVListener, PlotListener\n",
    "\n",
    "%load_ext autoreload\n",
    "%load_ext pycodestyle_magic\n",
    "%autoreload 2"
   ]
  },
  {
   "cell_type": "markdown",
   "id": "f2241998",
   "metadata": {},
   "source": [
    "## Rm | Sijk | Cmax"
   ]
  },
  {
   "cell_type": "code",
   "execution_count": 109,
   "id": "b1a42c0d",
   "metadata": {
    "ExecuteTime": {
     "end_time": "2023-05-17T15:04:33.431254Z",
     "start_time": "2023-05-17T15:04:32.876220Z"
    }
   },
   "outputs": [],
   "source": [
    "instance = pms.RmSijkCmax_Instance.generate_random(100, 2)"
   ]
  },
  {
   "cell_type": "code",
   "execution_count": 113,
   "id": "537ce7cb",
   "metadata": {
    "ExecuteTime": {
     "end_time": "2023-05-17T15:06:37.845137Z",
     "start_time": "2023-05-17T15:06:37.074981Z"
    }
   },
   "outputs": [],
   "source": [
    "lahc_solver = methods.Metaheuristics.LAHC()"
   ]
  },
  {
   "cell_type": "code",
   "execution_count": 114,
   "id": "f66b14ca",
   "metadata": {
    "ExecuteTime": {
     "end_time": "2023-05-17T15:06:37.861565Z",
     "start_time": "2023-05-17T15:06:37.847162Z"
    }
   },
   "outputs": [],
   "source": [
    "lahc_solver.attach_listeners( PlotListener() )"
   ]
  },
  {
   "cell_type": "code",
   "execution_count": 115,
   "id": "c59673c2",
   "metadata": {
    "ExecuteTime": {
     "end_time": "2023-05-17T15:07:07.792321Z",
     "start_time": "2023-05-17T15:06:38.753749Z"
    }
   },
   "outputs": [
    {
     "data": {
      "text/html": [
       "        <script type=\"text/javascript\">\n",
       "        window.PlotlyConfig = {MathJaxConfig: 'local'};\n",
       "        if (window.MathJax && window.MathJax.Hub && window.MathJax.Hub.Config) {window.MathJax.Hub.Config({SVG: {font: \"STIX-Web\"}});}\n",
       "        if (typeof require !== 'undefined') {\n",
       "        require.undef(\"plotly\");\n",
       "        requirejs.config({\n",
       "            paths: {\n",
       "                'plotly': ['https://cdn.plot.ly/plotly-2.18.2.min']\n",
       "            }\n",
       "        });\n",
       "        require(['plotly'], function(Plotly) {\n",
       "            window._Plotly = Plotly;\n",
       "        });\n",
       "        }\n",
       "        </script>\n",
       "        "
      ]
     },
     "metadata": {},
     "output_type": "display_data"
    },
    {
     "data": {
      "application/vnd.plotly.v1+json": {
       "config": {
        "plotlyServerURL": "https://plot.ly"
       },
       "data": [
        {
         "line": {
          "color": "firebrick",
          "width": 4
         },
         "name": "Objective value",
         "type": "scatter",
         "x": [
          0.6002839959983248,
          0.8704473809921183,
          1.146904176013777,
          1.4236359130009077,
          1.6950518719968386,
          1.9678842200082727,
          2.23928923899075,
          2.5120745570166036,
          2.8086302840092685,
          3.07757511199452,
          3.345488919003401,
          3.615671542007476,
          3.8858744770113844,
          4.155477274005534,
          4.4218651539995335,
          4.694257735012798,
          4.993367996008601,
          5.29121392100933,
          5.563088588009123,
          5.837047239008825,
          6.113754866004456,
          6.391752522002207,
          6.670056224014843,
          6.938852199993562,
          7.217648546007695,
          7.490089603001252,
          7.763326877990039,
          8.036322243016912,
          8.310575960989809,
          8.599088413990103,
          8.90397961900453,
          9.18586240199511,
          9.462230163015192,
          9.743264702992747,
          10.020058224006789,
          10.296420429018326,
          10.586145125998883,
          10.861790332011878,
          11.14236538700061,
          11.427019465016201,
          11.711352751008235,
          11.984761041007005,
          12.258877407002728,
          12.537650799989933,
          12.811777365015587,
          13.088970287994016,
          13.399545132007916,
          13.68743156499113,
          13.960468984005274,
          14.239905685011763,
          14.517578619008418,
          14.801958527998067,
          15.077478115010308,
          15.353045605996158,
          15.666294202004792,
          15.94263769700774,
          16.226272694999352,
          16.502262908004923,
          16.784658179007238,
          17.092443239002023,
          17.375241169997025,
          17.6586507440079,
          17.93728910200298,
          18.206136547989445,
          18.4930132740119,
          18.768574084999273,
          19.047714852000354,
          19.325123852002434,
          19.604637436015764,
          19.8784445009951,
          20.161971522989916,
          20.438567339995643,
          20.722303484013537,
          20.993509587016888,
          21.91842492201249,
          22.285084606002783,
          22.571571634005522,
          22.893322270014323,
          23.175227811007062,
          23.445123283017892,
          23.717719303997,
          24.02556700099376,
          24.296044791000895,
          24.56891215199721,
          24.849961867992533,
          25.130151157994987,
          25.411803427996347,
          25.689320717996452,
          25.98585515000741,
          26.257693479012232,
          26.533976078993874,
          26.816200919012772,
          27.09357604800607,
          27.368069106014445,
          27.64956967899343,
          27.92549234899343,
          28.192441741994116,
          28.457623551017605,
          28.733533405000344,
          29.007678710011533
         ],
         "y": [
          1526,
          1540,
          1522,
          1525,
          1530,
          1536,
          1533,
          1525,
          1522,
          1522,
          1509,
          1530,
          1533,
          1523,
          1525,
          1505,
          1512,
          1519,
          1517,
          1509,
          1514,
          1518,
          1501,
          1524,
          1514,
          1504,
          1514,
          1525,
          1532,
          1530,
          1541,
          1547,
          1533,
          1532,
          1543,
          1531,
          1542,
          1528,
          1539,
          1543,
          1517,
          1537,
          1510,
          1519,
          1523,
          1521,
          1527,
          1521,
          1518,
          1518,
          1518,
          1518,
          1521,
          1515,
          1515,
          1517,
          1515,
          1511,
          1510,
          1515,
          1519,
          1525,
          1528,
          1506,
          1508,
          1518,
          1532,
          1536,
          1528,
          1513,
          1522,
          1519,
          1530,
          1533,
          1532,
          1532,
          1519,
          1529,
          1518,
          1518,
          1518,
          1516,
          1525,
          1515,
          1526,
          1534,
          1515,
          1518,
          1522,
          1515,
          1515,
          1532,
          1515,
          1515,
          1515,
          1515,
          1517,
          1519,
          1526,
          1507
         ]
        }
       ],
       "layout": {
        "template": {
         "data": {
          "bar": [
           {
            "error_x": {
             "color": "#2a3f5f"
            },
            "error_y": {
             "color": "#2a3f5f"
            },
            "marker": {
             "line": {
              "color": "#E5ECF6",
              "width": 0.5
             },
             "pattern": {
              "fillmode": "overlay",
              "size": 10,
              "solidity": 0.2
             }
            },
            "type": "bar"
           }
          ],
          "barpolar": [
           {
            "marker": {
             "line": {
              "color": "#E5ECF6",
              "width": 0.5
             },
             "pattern": {
              "fillmode": "overlay",
              "size": 10,
              "solidity": 0.2
             }
            },
            "type": "barpolar"
           }
          ],
          "carpet": [
           {
            "aaxis": {
             "endlinecolor": "#2a3f5f",
             "gridcolor": "white",
             "linecolor": "white",
             "minorgridcolor": "white",
             "startlinecolor": "#2a3f5f"
            },
            "baxis": {
             "endlinecolor": "#2a3f5f",
             "gridcolor": "white",
             "linecolor": "white",
             "minorgridcolor": "white",
             "startlinecolor": "#2a3f5f"
            },
            "type": "carpet"
           }
          ],
          "choropleth": [
           {
            "colorbar": {
             "outlinewidth": 0,
             "ticks": ""
            },
            "type": "choropleth"
           }
          ],
          "contour": [
           {
            "colorbar": {
             "outlinewidth": 0,
             "ticks": ""
            },
            "colorscale": [
             [
              0,
              "#0d0887"
             ],
             [
              0.1111111111111111,
              "#46039f"
             ],
             [
              0.2222222222222222,
              "#7201a8"
             ],
             [
              0.3333333333333333,
              "#9c179e"
             ],
             [
              0.4444444444444444,
              "#bd3786"
             ],
             [
              0.5555555555555556,
              "#d8576b"
             ],
             [
              0.6666666666666666,
              "#ed7953"
             ],
             [
              0.7777777777777778,
              "#fb9f3a"
             ],
             [
              0.8888888888888888,
              "#fdca26"
             ],
             [
              1,
              "#f0f921"
             ]
            ],
            "type": "contour"
           }
          ],
          "contourcarpet": [
           {
            "colorbar": {
             "outlinewidth": 0,
             "ticks": ""
            },
            "type": "contourcarpet"
           }
          ],
          "heatmap": [
           {
            "colorbar": {
             "outlinewidth": 0,
             "ticks": ""
            },
            "colorscale": [
             [
              0,
              "#0d0887"
             ],
             [
              0.1111111111111111,
              "#46039f"
             ],
             [
              0.2222222222222222,
              "#7201a8"
             ],
             [
              0.3333333333333333,
              "#9c179e"
             ],
             [
              0.4444444444444444,
              "#bd3786"
             ],
             [
              0.5555555555555556,
              "#d8576b"
             ],
             [
              0.6666666666666666,
              "#ed7953"
             ],
             [
              0.7777777777777778,
              "#fb9f3a"
             ],
             [
              0.8888888888888888,
              "#fdca26"
             ],
             [
              1,
              "#f0f921"
             ]
            ],
            "type": "heatmap"
           }
          ],
          "heatmapgl": [
           {
            "colorbar": {
             "outlinewidth": 0,
             "ticks": ""
            },
            "colorscale": [
             [
              0,
              "#0d0887"
             ],
             [
              0.1111111111111111,
              "#46039f"
             ],
             [
              0.2222222222222222,
              "#7201a8"
             ],
             [
              0.3333333333333333,
              "#9c179e"
             ],
             [
              0.4444444444444444,
              "#bd3786"
             ],
             [
              0.5555555555555556,
              "#d8576b"
             ],
             [
              0.6666666666666666,
              "#ed7953"
             ],
             [
              0.7777777777777778,
              "#fb9f3a"
             ],
             [
              0.8888888888888888,
              "#fdca26"
             ],
             [
              1,
              "#f0f921"
             ]
            ],
            "type": "heatmapgl"
           }
          ],
          "histogram": [
           {
            "marker": {
             "pattern": {
              "fillmode": "overlay",
              "size": 10,
              "solidity": 0.2
             }
            },
            "type": "histogram"
           }
          ],
          "histogram2d": [
           {
            "colorbar": {
             "outlinewidth": 0,
             "ticks": ""
            },
            "colorscale": [
             [
              0,
              "#0d0887"
             ],
             [
              0.1111111111111111,
              "#46039f"
             ],
             [
              0.2222222222222222,
              "#7201a8"
             ],
             [
              0.3333333333333333,
              "#9c179e"
             ],
             [
              0.4444444444444444,
              "#bd3786"
             ],
             [
              0.5555555555555556,
              "#d8576b"
             ],
             [
              0.6666666666666666,
              "#ed7953"
             ],
             [
              0.7777777777777778,
              "#fb9f3a"
             ],
             [
              0.8888888888888888,
              "#fdca26"
             ],
             [
              1,
              "#f0f921"
             ]
            ],
            "type": "histogram2d"
           }
          ],
          "histogram2dcontour": [
           {
            "colorbar": {
             "outlinewidth": 0,
             "ticks": ""
            },
            "colorscale": [
             [
              0,
              "#0d0887"
             ],
             [
              0.1111111111111111,
              "#46039f"
             ],
             [
              0.2222222222222222,
              "#7201a8"
             ],
             [
              0.3333333333333333,
              "#9c179e"
             ],
             [
              0.4444444444444444,
              "#bd3786"
             ],
             [
              0.5555555555555556,
              "#d8576b"
             ],
             [
              0.6666666666666666,
              "#ed7953"
             ],
             [
              0.7777777777777778,
              "#fb9f3a"
             ],
             [
              0.8888888888888888,
              "#fdca26"
             ],
             [
              1,
              "#f0f921"
             ]
            ],
            "type": "histogram2dcontour"
           }
          ],
          "mesh3d": [
           {
            "colorbar": {
             "outlinewidth": 0,
             "ticks": ""
            },
            "type": "mesh3d"
           }
          ],
          "parcoords": [
           {
            "line": {
             "colorbar": {
              "outlinewidth": 0,
              "ticks": ""
             }
            },
            "type": "parcoords"
           }
          ],
          "pie": [
           {
            "automargin": true,
            "type": "pie"
           }
          ],
          "scatter": [
           {
            "fillpattern": {
             "fillmode": "overlay",
             "size": 10,
             "solidity": 0.2
            },
            "type": "scatter"
           }
          ],
          "scatter3d": [
           {
            "line": {
             "colorbar": {
              "outlinewidth": 0,
              "ticks": ""
             }
            },
            "marker": {
             "colorbar": {
              "outlinewidth": 0,
              "ticks": ""
             }
            },
            "type": "scatter3d"
           }
          ],
          "scattercarpet": [
           {
            "marker": {
             "colorbar": {
              "outlinewidth": 0,
              "ticks": ""
             }
            },
            "type": "scattercarpet"
           }
          ],
          "scattergeo": [
           {
            "marker": {
             "colorbar": {
              "outlinewidth": 0,
              "ticks": ""
             }
            },
            "type": "scattergeo"
           }
          ],
          "scattergl": [
           {
            "marker": {
             "colorbar": {
              "outlinewidth": 0,
              "ticks": ""
             }
            },
            "type": "scattergl"
           }
          ],
          "scattermapbox": [
           {
            "marker": {
             "colorbar": {
              "outlinewidth": 0,
              "ticks": ""
             }
            },
            "type": "scattermapbox"
           }
          ],
          "scatterpolar": [
           {
            "marker": {
             "colorbar": {
              "outlinewidth": 0,
              "ticks": ""
             }
            },
            "type": "scatterpolar"
           }
          ],
          "scatterpolargl": [
           {
            "marker": {
             "colorbar": {
              "outlinewidth": 0,
              "ticks": ""
             }
            },
            "type": "scatterpolargl"
           }
          ],
          "scatterternary": [
           {
            "marker": {
             "colorbar": {
              "outlinewidth": 0,
              "ticks": ""
             }
            },
            "type": "scatterternary"
           }
          ],
          "surface": [
           {
            "colorbar": {
             "outlinewidth": 0,
             "ticks": ""
            },
            "colorscale": [
             [
              0,
              "#0d0887"
             ],
             [
              0.1111111111111111,
              "#46039f"
             ],
             [
              0.2222222222222222,
              "#7201a8"
             ],
             [
              0.3333333333333333,
              "#9c179e"
             ],
             [
              0.4444444444444444,
              "#bd3786"
             ],
             [
              0.5555555555555556,
              "#d8576b"
             ],
             [
              0.6666666666666666,
              "#ed7953"
             ],
             [
              0.7777777777777778,
              "#fb9f3a"
             ],
             [
              0.8888888888888888,
              "#fdca26"
             ],
             [
              1,
              "#f0f921"
             ]
            ],
            "type": "surface"
           }
          ],
          "table": [
           {
            "cells": {
             "fill": {
              "color": "#EBF0F8"
             },
             "line": {
              "color": "white"
             }
            },
            "header": {
             "fill": {
              "color": "#C8D4E3"
             },
             "line": {
              "color": "white"
             }
            },
            "type": "table"
           }
          ]
         },
         "layout": {
          "annotationdefaults": {
           "arrowcolor": "#2a3f5f",
           "arrowhead": 0,
           "arrowwidth": 1
          },
          "autotypenumbers": "strict",
          "coloraxis": {
           "colorbar": {
            "outlinewidth": 0,
            "ticks": ""
           }
          },
          "colorscale": {
           "diverging": [
            [
             0,
             "#8e0152"
            ],
            [
             0.1,
             "#c51b7d"
            ],
            [
             0.2,
             "#de77ae"
            ],
            [
             0.3,
             "#f1b6da"
            ],
            [
             0.4,
             "#fde0ef"
            ],
            [
             0.5,
             "#f7f7f7"
            ],
            [
             0.6,
             "#e6f5d0"
            ],
            [
             0.7,
             "#b8e186"
            ],
            [
             0.8,
             "#7fbc41"
            ],
            [
             0.9,
             "#4d9221"
            ],
            [
             1,
             "#276419"
            ]
           ],
           "sequential": [
            [
             0,
             "#0d0887"
            ],
            [
             0.1111111111111111,
             "#46039f"
            ],
            [
             0.2222222222222222,
             "#7201a8"
            ],
            [
             0.3333333333333333,
             "#9c179e"
            ],
            [
             0.4444444444444444,
             "#bd3786"
            ],
            [
             0.5555555555555556,
             "#d8576b"
            ],
            [
             0.6666666666666666,
             "#ed7953"
            ],
            [
             0.7777777777777778,
             "#fb9f3a"
            ],
            [
             0.8888888888888888,
             "#fdca26"
            ],
            [
             1,
             "#f0f921"
            ]
           ],
           "sequentialminus": [
            [
             0,
             "#0d0887"
            ],
            [
             0.1111111111111111,
             "#46039f"
            ],
            [
             0.2222222222222222,
             "#7201a8"
            ],
            [
             0.3333333333333333,
             "#9c179e"
            ],
            [
             0.4444444444444444,
             "#bd3786"
            ],
            [
             0.5555555555555556,
             "#d8576b"
            ],
            [
             0.6666666666666666,
             "#ed7953"
            ],
            [
             0.7777777777777778,
             "#fb9f3a"
            ],
            [
             0.8888888888888888,
             "#fdca26"
            ],
            [
             1,
             "#f0f921"
            ]
           ]
          },
          "colorway": [
           "#636efa",
           "#EF553B",
           "#00cc96",
           "#ab63fa",
           "#FFA15A",
           "#19d3f3",
           "#FF6692",
           "#B6E880",
           "#FF97FF",
           "#FECB52"
          ],
          "font": {
           "color": "#2a3f5f"
          },
          "geo": {
           "bgcolor": "white",
           "lakecolor": "white",
           "landcolor": "#E5ECF6",
           "showlakes": true,
           "showland": true,
           "subunitcolor": "white"
          },
          "hoverlabel": {
           "align": "left"
          },
          "hovermode": "closest",
          "mapbox": {
           "style": "light"
          },
          "paper_bgcolor": "white",
          "plot_bgcolor": "#E5ECF6",
          "polar": {
           "angularaxis": {
            "gridcolor": "white",
            "linecolor": "white",
            "ticks": ""
           },
           "bgcolor": "#E5ECF6",
           "radialaxis": {
            "gridcolor": "white",
            "linecolor": "white",
            "ticks": ""
           }
          },
          "scene": {
           "xaxis": {
            "backgroundcolor": "#E5ECF6",
            "gridcolor": "white",
            "gridwidth": 2,
            "linecolor": "white",
            "showbackground": true,
            "ticks": "",
            "zerolinecolor": "white"
           },
           "yaxis": {
            "backgroundcolor": "#E5ECF6",
            "gridcolor": "white",
            "gridwidth": 2,
            "linecolor": "white",
            "showbackground": true,
            "ticks": "",
            "zerolinecolor": "white"
           },
           "zaxis": {
            "backgroundcolor": "#E5ECF6",
            "gridcolor": "white",
            "gridwidth": 2,
            "linecolor": "white",
            "showbackground": true,
            "ticks": "",
            "zerolinecolor": "white"
           }
          },
          "shapedefaults": {
           "line": {
            "color": "#2a3f5f"
           }
          },
          "ternary": {
           "aaxis": {
            "gridcolor": "white",
            "linecolor": "white",
            "ticks": ""
           },
           "baxis": {
            "gridcolor": "white",
            "linecolor": "white",
            "ticks": ""
           },
           "bgcolor": "#E5ECF6",
           "caxis": {
            "gridcolor": "white",
            "linecolor": "white",
            "ticks": ""
           }
          },
          "title": {
           "x": 0.05
          },
          "xaxis": {
           "automargin": true,
           "gridcolor": "white",
           "linecolor": "white",
           "ticks": "",
           "title": {
            "standoff": 15
           },
           "zerolinecolor": "white",
           "zerolinewidth": 2
          },
          "yaxis": {
           "automargin": true,
           "gridcolor": "white",
           "linecolor": "white",
           "ticks": "",
           "title": {
            "standoff": 15
           },
           "zerolinecolor": "white",
           "zerolinewidth": 2
          }
         }
        },
        "title": {
         "text": "Objective value VS Time (s)"
        },
        "xaxis": {
         "title": {
          "text": "Time (s)"
         }
        },
        "yaxis": {
         "title": {
          "text": "Objective value"
         }
        }
       }
      },
      "text/html": [
       "<div>                            <div id=\"91564353-e996-453a-9199-f3e4450b9228\" class=\"plotly-graph-div\" style=\"height:525px; width:100%;\"></div>            <script type=\"text/javascript\">                require([\"plotly\"], function(Plotly) {                    window.PLOTLYENV=window.PLOTLYENV || {};                                    if (document.getElementById(\"91564353-e996-453a-9199-f3e4450b9228\")) {                    Plotly.newPlot(                        \"91564353-e996-453a-9199-f3e4450b9228\",                        [{\"line\":{\"color\":\"firebrick\",\"width\":4},\"name\":\"Objective value\",\"x\":[0.6002839959983248,0.8704473809921183,1.146904176013777,1.4236359130009077,1.6950518719968386,1.9678842200082727,2.23928923899075,2.5120745570166036,2.8086302840092685,3.07757511199452,3.345488919003401,3.615671542007476,3.8858744770113844,4.155477274005534,4.4218651539995335,4.694257735012798,4.993367996008601,5.29121392100933,5.563088588009123,5.837047239008825,6.113754866004456,6.391752522002207,6.670056224014843,6.938852199993562,7.217648546007695,7.490089603001252,7.763326877990039,8.036322243016912,8.310575960989809,8.599088413990103,8.90397961900453,9.18586240199511,9.462230163015192,9.743264702992747,10.020058224006789,10.296420429018326,10.586145125998883,10.861790332011878,11.14236538700061,11.427019465016201,11.711352751008235,11.984761041007005,12.258877407002728,12.537650799989933,12.811777365015587,13.088970287994016,13.399545132007916,13.68743156499113,13.960468984005274,14.239905685011763,14.517578619008418,14.801958527998067,15.077478115010308,15.353045605996158,15.666294202004792,15.94263769700774,16.226272694999352,16.502262908004923,16.784658179007238,17.092443239002023,17.375241169997025,17.6586507440079,17.93728910200298,18.206136547989445,18.4930132740119,18.768574084999273,19.047714852000354,19.325123852002434,19.604637436015764,19.8784445009951,20.161971522989916,20.438567339995643,20.722303484013537,20.993509587016888,21.91842492201249,22.285084606002783,22.571571634005522,22.893322270014323,23.175227811007062,23.445123283017892,23.717719303997,24.02556700099376,24.296044791000895,24.56891215199721,24.849961867992533,25.130151157994987,25.411803427996347,25.689320717996452,25.98585515000741,26.257693479012232,26.533976078993874,26.816200919012772,27.09357604800607,27.368069106014445,27.64956967899343,27.92549234899343,28.192441741994116,28.457623551017605,28.733533405000344,29.007678710011533],\"y\":[1526,1540,1522,1525,1530,1536,1533,1525,1522,1522,1509,1530,1533,1523,1525,1505,1512,1519,1517,1509,1514,1518,1501,1524,1514,1504,1514,1525,1532,1530,1541,1547,1533,1532,1543,1531,1542,1528,1539,1543,1517,1537,1510,1519,1523,1521,1527,1521,1518,1518,1518,1518,1521,1515,1515,1517,1515,1511,1510,1515,1519,1525,1528,1506,1508,1518,1532,1536,1528,1513,1522,1519,1530,1533,1532,1532,1519,1529,1518,1518,1518,1516,1525,1515,1526,1534,1515,1518,1522,1515,1515,1532,1515,1515,1515,1515,1517,1519,1526,1507],\"type\":\"scatter\"}],                        {\"template\":{\"data\":{\"histogram2dcontour\":[{\"type\":\"histogram2dcontour\",\"colorbar\":{\"outlinewidth\":0,\"ticks\":\"\"},\"colorscale\":[[0.0,\"#0d0887\"],[0.1111111111111111,\"#46039f\"],[0.2222222222222222,\"#7201a8\"],[0.3333333333333333,\"#9c179e\"],[0.4444444444444444,\"#bd3786\"],[0.5555555555555556,\"#d8576b\"],[0.6666666666666666,\"#ed7953\"],[0.7777777777777778,\"#fb9f3a\"],[0.8888888888888888,\"#fdca26\"],[1.0,\"#f0f921\"]]}],\"choropleth\":[{\"type\":\"choropleth\",\"colorbar\":{\"outlinewidth\":0,\"ticks\":\"\"}}],\"histogram2d\":[{\"type\":\"histogram2d\",\"colorbar\":{\"outlinewidth\":0,\"ticks\":\"\"},\"colorscale\":[[0.0,\"#0d0887\"],[0.1111111111111111,\"#46039f\"],[0.2222222222222222,\"#7201a8\"],[0.3333333333333333,\"#9c179e\"],[0.4444444444444444,\"#bd3786\"],[0.5555555555555556,\"#d8576b\"],[0.6666666666666666,\"#ed7953\"],[0.7777777777777778,\"#fb9f3a\"],[0.8888888888888888,\"#fdca26\"],[1.0,\"#f0f921\"]]}],\"heatmap\":[{\"type\":\"heatmap\",\"colorbar\":{\"outlinewidth\":0,\"ticks\":\"\"},\"colorscale\":[[0.0,\"#0d0887\"],[0.1111111111111111,\"#46039f\"],[0.2222222222222222,\"#7201a8\"],[0.3333333333333333,\"#9c179e\"],[0.4444444444444444,\"#bd3786\"],[0.5555555555555556,\"#d8576b\"],[0.6666666666666666,\"#ed7953\"],[0.7777777777777778,\"#fb9f3a\"],[0.8888888888888888,\"#fdca26\"],[1.0,\"#f0f921\"]]}],\"heatmapgl\":[{\"type\":\"heatmapgl\",\"colorbar\":{\"outlinewidth\":0,\"ticks\":\"\"},\"colorscale\":[[0.0,\"#0d0887\"],[0.1111111111111111,\"#46039f\"],[0.2222222222222222,\"#7201a8\"],[0.3333333333333333,\"#9c179e\"],[0.4444444444444444,\"#bd3786\"],[0.5555555555555556,\"#d8576b\"],[0.6666666666666666,\"#ed7953\"],[0.7777777777777778,\"#fb9f3a\"],[0.8888888888888888,\"#fdca26\"],[1.0,\"#f0f921\"]]}],\"contourcarpet\":[{\"type\":\"contourcarpet\",\"colorbar\":{\"outlinewidth\":0,\"ticks\":\"\"}}],\"contour\":[{\"type\":\"contour\",\"colorbar\":{\"outlinewidth\":0,\"ticks\":\"\"},\"colorscale\":[[0.0,\"#0d0887\"],[0.1111111111111111,\"#46039f\"],[0.2222222222222222,\"#7201a8\"],[0.3333333333333333,\"#9c179e\"],[0.4444444444444444,\"#bd3786\"],[0.5555555555555556,\"#d8576b\"],[0.6666666666666666,\"#ed7953\"],[0.7777777777777778,\"#fb9f3a\"],[0.8888888888888888,\"#fdca26\"],[1.0,\"#f0f921\"]]}],\"surface\":[{\"type\":\"surface\",\"colorbar\":{\"outlinewidth\":0,\"ticks\":\"\"},\"colorscale\":[[0.0,\"#0d0887\"],[0.1111111111111111,\"#46039f\"],[0.2222222222222222,\"#7201a8\"],[0.3333333333333333,\"#9c179e\"],[0.4444444444444444,\"#bd3786\"],[0.5555555555555556,\"#d8576b\"],[0.6666666666666666,\"#ed7953\"],[0.7777777777777778,\"#fb9f3a\"],[0.8888888888888888,\"#fdca26\"],[1.0,\"#f0f921\"]]}],\"mesh3d\":[{\"type\":\"mesh3d\",\"colorbar\":{\"outlinewidth\":0,\"ticks\":\"\"}}],\"scatter\":[{\"fillpattern\":{\"fillmode\":\"overlay\",\"size\":10,\"solidity\":0.2},\"type\":\"scatter\"}],\"parcoords\":[{\"type\":\"parcoords\",\"line\":{\"colorbar\":{\"outlinewidth\":0,\"ticks\":\"\"}}}],\"scatterpolargl\":[{\"type\":\"scatterpolargl\",\"marker\":{\"colorbar\":{\"outlinewidth\":0,\"ticks\":\"\"}}}],\"bar\":[{\"error_x\":{\"color\":\"#2a3f5f\"},\"error_y\":{\"color\":\"#2a3f5f\"},\"marker\":{\"line\":{\"color\":\"#E5ECF6\",\"width\":0.5},\"pattern\":{\"fillmode\":\"overlay\",\"size\":10,\"solidity\":0.2}},\"type\":\"bar\"}],\"scattergeo\":[{\"type\":\"scattergeo\",\"marker\":{\"colorbar\":{\"outlinewidth\":0,\"ticks\":\"\"}}}],\"scatterpolar\":[{\"type\":\"scatterpolar\",\"marker\":{\"colorbar\":{\"outlinewidth\":0,\"ticks\":\"\"}}}],\"histogram\":[{\"marker\":{\"pattern\":{\"fillmode\":\"overlay\",\"size\":10,\"solidity\":0.2}},\"type\":\"histogram\"}],\"scattergl\":[{\"type\":\"scattergl\",\"marker\":{\"colorbar\":{\"outlinewidth\":0,\"ticks\":\"\"}}}],\"scatter3d\":[{\"type\":\"scatter3d\",\"line\":{\"colorbar\":{\"outlinewidth\":0,\"ticks\":\"\"}},\"marker\":{\"colorbar\":{\"outlinewidth\":0,\"ticks\":\"\"}}}],\"scattermapbox\":[{\"type\":\"scattermapbox\",\"marker\":{\"colorbar\":{\"outlinewidth\":0,\"ticks\":\"\"}}}],\"scatterternary\":[{\"type\":\"scatterternary\",\"marker\":{\"colorbar\":{\"outlinewidth\":0,\"ticks\":\"\"}}}],\"scattercarpet\":[{\"type\":\"scattercarpet\",\"marker\":{\"colorbar\":{\"outlinewidth\":0,\"ticks\":\"\"}}}],\"carpet\":[{\"aaxis\":{\"endlinecolor\":\"#2a3f5f\",\"gridcolor\":\"white\",\"linecolor\":\"white\",\"minorgridcolor\":\"white\",\"startlinecolor\":\"#2a3f5f\"},\"baxis\":{\"endlinecolor\":\"#2a3f5f\",\"gridcolor\":\"white\",\"linecolor\":\"white\",\"minorgridcolor\":\"white\",\"startlinecolor\":\"#2a3f5f\"},\"type\":\"carpet\"}],\"table\":[{\"cells\":{\"fill\":{\"color\":\"#EBF0F8\"},\"line\":{\"color\":\"white\"}},\"header\":{\"fill\":{\"color\":\"#C8D4E3\"},\"line\":{\"color\":\"white\"}},\"type\":\"table\"}],\"barpolar\":[{\"marker\":{\"line\":{\"color\":\"#E5ECF6\",\"width\":0.5},\"pattern\":{\"fillmode\":\"overlay\",\"size\":10,\"solidity\":0.2}},\"type\":\"barpolar\"}],\"pie\":[{\"automargin\":true,\"type\":\"pie\"}]},\"layout\":{\"autotypenumbers\":\"strict\",\"colorway\":[\"#636efa\",\"#EF553B\",\"#00cc96\",\"#ab63fa\",\"#FFA15A\",\"#19d3f3\",\"#FF6692\",\"#B6E880\",\"#FF97FF\",\"#FECB52\"],\"font\":{\"color\":\"#2a3f5f\"},\"hovermode\":\"closest\",\"hoverlabel\":{\"align\":\"left\"},\"paper_bgcolor\":\"white\",\"plot_bgcolor\":\"#E5ECF6\",\"polar\":{\"bgcolor\":\"#E5ECF6\",\"angularaxis\":{\"gridcolor\":\"white\",\"linecolor\":\"white\",\"ticks\":\"\"},\"radialaxis\":{\"gridcolor\":\"white\",\"linecolor\":\"white\",\"ticks\":\"\"}},\"ternary\":{\"bgcolor\":\"#E5ECF6\",\"aaxis\":{\"gridcolor\":\"white\",\"linecolor\":\"white\",\"ticks\":\"\"},\"baxis\":{\"gridcolor\":\"white\",\"linecolor\":\"white\",\"ticks\":\"\"},\"caxis\":{\"gridcolor\":\"white\",\"linecolor\":\"white\",\"ticks\":\"\"}},\"coloraxis\":{\"colorbar\":{\"outlinewidth\":0,\"ticks\":\"\"}},\"colorscale\":{\"sequential\":[[0.0,\"#0d0887\"],[0.1111111111111111,\"#46039f\"],[0.2222222222222222,\"#7201a8\"],[0.3333333333333333,\"#9c179e\"],[0.4444444444444444,\"#bd3786\"],[0.5555555555555556,\"#d8576b\"],[0.6666666666666666,\"#ed7953\"],[0.7777777777777778,\"#fb9f3a\"],[0.8888888888888888,\"#fdca26\"],[1.0,\"#f0f921\"]],\"sequentialminus\":[[0.0,\"#0d0887\"],[0.1111111111111111,\"#46039f\"],[0.2222222222222222,\"#7201a8\"],[0.3333333333333333,\"#9c179e\"],[0.4444444444444444,\"#bd3786\"],[0.5555555555555556,\"#d8576b\"],[0.6666666666666666,\"#ed7953\"],[0.7777777777777778,\"#fb9f3a\"],[0.8888888888888888,\"#fdca26\"],[1.0,\"#f0f921\"]],\"diverging\":[[0,\"#8e0152\"],[0.1,\"#c51b7d\"],[0.2,\"#de77ae\"],[0.3,\"#f1b6da\"],[0.4,\"#fde0ef\"],[0.5,\"#f7f7f7\"],[0.6,\"#e6f5d0\"],[0.7,\"#b8e186\"],[0.8,\"#7fbc41\"],[0.9,\"#4d9221\"],[1,\"#276419\"]]},\"xaxis\":{\"gridcolor\":\"white\",\"linecolor\":\"white\",\"ticks\":\"\",\"title\":{\"standoff\":15},\"zerolinecolor\":\"white\",\"automargin\":true,\"zerolinewidth\":2},\"yaxis\":{\"gridcolor\":\"white\",\"linecolor\":\"white\",\"ticks\":\"\",\"title\":{\"standoff\":15},\"zerolinecolor\":\"white\",\"automargin\":true,\"zerolinewidth\":2},\"scene\":{\"xaxis\":{\"backgroundcolor\":\"#E5ECF6\",\"gridcolor\":\"white\",\"linecolor\":\"white\",\"showbackground\":true,\"ticks\":\"\",\"zerolinecolor\":\"white\",\"gridwidth\":2},\"yaxis\":{\"backgroundcolor\":\"#E5ECF6\",\"gridcolor\":\"white\",\"linecolor\":\"white\",\"showbackground\":true,\"ticks\":\"\",\"zerolinecolor\":\"white\",\"gridwidth\":2},\"zaxis\":{\"backgroundcolor\":\"#E5ECF6\",\"gridcolor\":\"white\",\"linecolor\":\"white\",\"showbackground\":true,\"ticks\":\"\",\"zerolinecolor\":\"white\",\"gridwidth\":2}},\"shapedefaults\":{\"line\":{\"color\":\"#2a3f5f\"}},\"annotationdefaults\":{\"arrowcolor\":\"#2a3f5f\",\"arrowhead\":0,\"arrowwidth\":1},\"geo\":{\"bgcolor\":\"white\",\"landcolor\":\"#E5ECF6\",\"subunitcolor\":\"white\",\"showland\":true,\"showlakes\":true,\"lakecolor\":\"white\"},\"title\":{\"x\":0.05},\"mapbox\":{\"style\":\"light\"}}},\"title\":{\"text\":\"Objective value VS Time (s)\"},\"xaxis\":{\"title\":{\"text\":\"Time (s)\"}},\"yaxis\":{\"title\":{\"text\":\"Objective value\"}}},                        {\"responsive\": true}                    ).then(function(){\n",
       "                            \n",
       "var gd = document.getElementById('91564353-e996-453a-9199-f3e4450b9228');\n",
       "var x = new MutationObserver(function (mutations, observer) {{\n",
       "        var display = window.getComputedStyle(gd).display;\n",
       "        if (!display || display === 'none') {{\n",
       "            console.log([gd, 'removed!']);\n",
       "            Plotly.purge(gd);\n",
       "            observer.disconnect();\n",
       "        }}\n",
       "}});\n",
       "\n",
       "// Listen for the removal of the full notebook cells\n",
       "var notebookContainer = gd.closest('#notebook-container');\n",
       "if (notebookContainer) {{\n",
       "    x.observe(notebookContainer, {childList: true});\n",
       "}}\n",
       "\n",
       "// Listen for the clearing of the current output cell\n",
       "var outputEl = gd.closest('.output');\n",
       "if (outputEl) {{\n",
       "    x.observe(outputEl, {childList: true});\n",
       "}}\n",
       "\n",
       "                        })                };                });            </script>        </div>"
      ]
     },
     "metadata": {},
     "output_type": "display_data"
    }
   ],
   "source": [
    "solve_result = lahc_solver.solve(instance, n_iterations = 100)"
   ]
  },
  {
   "cell_type": "code",
   "execution_count": 37,
   "id": "c24ed907",
   "metadata": {
    "ExecuteTime": {
     "end_time": "2023-05-12T14:48:35.306478Z",
     "start_time": "2023-05-12T14:48:35.293279Z"
    }
   },
   "outputs": [
    {
     "data": {
      "text/plain": [
       "Objective : 1525\n",
       "\n",
       "Machine_ID | Job_schedule (job_id , start_time , completion_time) | Objective value\n",
       "\n",
       "Machine 0 : (46, 0, 18) -> (45, 18, 56) -> (32, 56, 76) -> (81, 76, 104) -> (47, 104, 127) -> (21, 127, 160) -> (94, 160, 181) -> (5, 181, 228) -> (69, 228, 251) -> (79, 251, 286) -> (28, 286, 337) -> (63, 337, 378) -> (85, 378, 396) -> (35, 396, 436) -> (3, 436, 455) -> (18, 455, 476) -> (7, 476, 509) -> (80, 509, 528) -> (58, 528, 564) -> (56, 564, 586) -> (15, 586, 630) -> (20, 630, 650) -> (99, 650, 674) -> (39, 674, 697) -> (16, 697, 717) -> (25, 717, 748) -> (38, 748, 776) -> (73, 776, 801) -> (37, 801, 823) -> (8, 823, 852) -> (10, 852, 900) -> (66, 900, 942) -> (72, 942, 966) -> (43, 966, 998) -> (59, 998, 1024) -> (93, 1024, 1054) -> (24, 1054, 1089) -> (49, 1089, 1121) -> (83, 1121, 1169) -> (6, 1169, 1210) -> (23, 1210, 1247) -> (88, 1247, 1270) -> (53, 1270, 1290) -> (30, 1290, 1321) -> (67, 1321, 1340) -> (87, 1340, 1368) -> (74, 1368, 1395) -> (36, 1395, 1418) -> (96, 1418, 1463) -> (68, 1463, 1483) -> (29, 1483, 1524) | Objective value: 1524\n",
       "\n",
       "####\n",
       "\n",
       "Machine 1 : (19, 0, 23) -> (44, 23, 68) -> (84, 68, 110) -> (89, 110, 147) -> (70, 147, 163) -> (78, 163, 186) -> (55, 186, 207) -> (2, 207, 225) -> (64, 225, 265) -> (13, 265, 320) -> (22, 320, 371) -> (34, 371, 416) -> (33, 416, 433) -> (17, 433, 478) -> (90, 478, 502) -> (14, 502, 531) -> (50, 531, 567) -> (86, 567, 588) -> (41, 588, 608) -> (51, 608, 645) -> (61, 645, 670) -> (31, 670, 691) -> (57, 691, 722) -> (92, 722, 775) -> (12, 775, 808) -> (42, 808, 850) -> (95, 850, 871) -> (26, 871, 894) -> (27, 894, 919) -> (71, 919, 943) -> (82, 943, 959) -> (98, 959, 1002) -> (9, 1002, 1037) -> (77, 1037, 1066) -> (91, 1066, 1081) -> (11, 1081, 1119) -> (48, 1119, 1142) -> (62, 1142, 1176) -> (4, 1176, 1206) -> (75, 1206, 1230) -> (76, 1230, 1262) -> (65, 1262, 1299) -> (40, 1299, 1340) -> (0, 1340, 1384) -> (1, 1384, 1409) -> (97, 1409, 1434) -> (52, 1434, 1466) -> (54, 1466, 1497) -> (60, 1497, 1525) | Objective value: 1525"
      ]
     },
     "execution_count": 37,
     "metadata": {},
     "output_type": "execute_result"
    }
   ],
   "source": [
    "solve_result.best_solution"
   ]
  },
  {
   "cell_type": "markdown",
   "id": "8e294700",
   "metadata": {},
   "source": [
    "# wiTi"
   ]
  },
  {
   "cell_type": "code",
   "execution_count": null,
   "id": "1348dfda",
   "metadata": {
    "ExecuteTime": {
     "end_time": "2023-03-23T15:37:28.498590Z",
     "start_time": "2023-03-23T15:37:28.486699Z"
    }
   },
   "outputs": [],
   "source": [
    "instance = pms_wiTi.RmridiSijkWiTi_Instance.generate_random(20, 2)"
   ]
  },
  {
   "cell_type": "code",
   "execution_count": null,
   "id": "749ee721",
   "metadata": {
    "ExecuteTime": {
     "end_time": "2023-03-23T15:37:28.986766Z",
     "start_time": "2023-03-23T15:37:28.975955Z"
    }
   },
   "outputs": [],
   "source": [
    "instance.to_txt(\"test_pm.txt\")"
   ]
  },
  {
   "cell_type": "code",
   "execution_count": null,
   "id": "5304559c",
   "metadata": {
    "ExecuteTime": {
     "end_time": "2023-03-23T15:37:29.559934Z",
     "start_time": "2023-03-23T15:37:29.548293Z"
    }
   },
   "outputs": [],
   "source": [
    "instance_2 = pms_wiTi.RmridiSijkWiTi_Instance.read_txt(\"test_pm.txt\")"
   ]
  },
  {
   "cell_type": "code",
   "execution_count": null,
   "id": "5b482a81",
   "metadata": {
    "ExecuteTime": {
     "end_time": "2023-03-23T15:37:31.540177Z",
     "start_time": "2023-03-23T15:37:31.528641Z"
    }
   },
   "outputs": [],
   "source": [
    "instance_2"
   ]
  },
  {
   "cell_type": "code",
   "execution_count": null,
   "id": "33ac1fab",
   "metadata": {
    "ExecuteTime": {
     "end_time": "2023-03-23T13:27:01.509264Z",
     "start_time": "2023-03-23T13:27:01.433363Z"
    }
   },
   "outputs": [],
   "source": [
    "solve_result = methods.Heuristics.grasp(instance)"
   ]
  },
  {
   "cell_type": "code",
   "execution_count": null,
   "id": "74314316",
   "metadata": {
    "ExecuteTime": {
     "end_time": "2023-03-23T13:27:01.950613Z",
     "start_time": "2023-03-23T13:27:01.936935Z"
    }
   },
   "outputs": [],
   "source": [
    "solve_result.best_solution"
   ]
  },
  {
   "cell_type": "code",
   "execution_count": null,
   "id": "7ccbc303",
   "metadata": {
    "ExecuteTime": {
     "end_time": "2023-03-23T13:24:34.921263Z",
     "start_time": "2023-03-23T13:24:34.327310Z"
    }
   },
   "outputs": [],
   "source": [
    "sol_lahc = methods.Metaheuristics.lahc(instance, n_iterations = 100).best_solution"
   ]
  },
  {
   "cell_type": "code",
   "execution_count": null,
   "id": "0a896ff2",
   "metadata": {
    "ExecuteTime": {
     "end_time": "2023-03-23T13:24:35.408056Z",
     "start_time": "2023-03-23T13:24:35.395217Z"
    }
   },
   "outputs": [],
   "source": [
    "sol_lahc"
   ]
  },
  {
   "cell_type": "code",
   "execution_count": null,
   "id": "b9a3951b",
   "metadata": {},
   "outputs": [],
   "source": []
  }
 ],
 "metadata": {
  "kernelspec": {
   "display_name": "Python 3 (ipykernel)",
   "language": "python",
   "name": "python3"
  },
  "language_info": {
   "codemirror_mode": {
    "name": "ipython",
    "version": 3
   },
   "file_extension": ".py",
   "mimetype": "text/x-python",
   "name": "python",
   "nbconvert_exporter": "python",
   "pygments_lexer": "ipython3",
   "version": "3.8.16"
  }
 },
 "nbformat": 4,
 "nbformat_minor": 5
}
