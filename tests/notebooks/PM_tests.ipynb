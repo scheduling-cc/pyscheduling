{
 "cells": [
  {
   "cell_type": "code",
   "execution_count": 1,
   "id": "4210e786",
   "metadata": {
    "ExecuteTime": {
     "end_time": "2023-05-22T13:33:05.634850Z",
     "start_time": "2023-05-22T13:33:05.414680Z"
    }
   },
   "outputs": [],
   "source": [
    "from pyscheduling.PMSP.ParallelMachines import Machine, Job\n",
    "import pyscheduling.PMSP.RmSijkCmax as pms\n",
    "import pyscheduling.PMSP.PM_methods as methods\n",
    "import pyscheduling.PMSP.RmridiSijkWiTi as pms_wiTi\n",
    "from pyscheduling.core.listeners import BaseListener, FileListener, CSVListener, PlotListener\n",
    "\n",
    "%load_ext autoreload\n",
    "%load_ext pycodestyle_magic\n",
    "%autoreload 2"
   ]
  },
  {
   "cell_type": "markdown",
   "id": "f2241998",
   "metadata": {},
   "source": [
    "## Rm | Sijk | Cmax"
   ]
  },
  {
   "cell_type": "code",
   "execution_count": 14,
   "id": "b1a42c0d",
   "metadata": {
    "ExecuteTime": {
     "end_time": "2023-05-22T13:41:59.154747Z",
     "start_time": "2023-05-22T13:41:59.027475Z"
    }
   },
   "outputs": [],
   "source": [
    "instance = pms.RmSijkCmax_Instance.generate_random(50, 2)"
   ]
  },
  {
   "cell_type": "code",
   "execution_count": 19,
   "id": "537ce7cb",
   "metadata": {
    "ExecuteTime": {
     "end_time": "2023-05-22T13:43:24.654559Z",
     "start_time": "2023-05-22T13:43:24.606268Z"
    }
   },
   "outputs": [],
   "source": [
    "lahc_solver = methods.Metaheuristics.LAHC()"
   ]
  },
  {
   "cell_type": "code",
   "execution_count": 20,
   "id": "f66b14ca",
   "metadata": {
    "ExecuteTime": {
     "end_time": "2023-05-22T13:43:25.178335Z",
     "start_time": "2023-05-22T13:43:25.167777Z"
    }
   },
   "outputs": [
    {
     "name": "stdout",
     "output_type": "stream",
     "text": [
      "FileListener(_total_time=0, _nb_sol=0, file_path='pmps_log.txt')\n",
      "CSVListener(_total_time=0, _nb_sol=0, file_path='pmsp_log.csv')\n",
      "PlotListener(_total_time=0, _nb_sol=0)\n"
     ]
    }
   ],
   "source": [
    "lahc_solver.attach_listeners( \n",
    "    FileListener(file_path = \"pmps_log.txt\"),\n",
    "    CSVListener(file_path= \"pmsp_log.csv\"),\n",
    "    PlotListener()\n",
    ")"
   ]
  },
  {
   "cell_type": "code",
   "execution_count": 22,
   "id": "c59673c2",
   "metadata": {
    "ExecuteTime": {
     "end_time": "2023-05-22T13:43:37.556687Z",
     "start_time": "2023-05-22T13:43:33.589938Z"
    }
   },
   "outputs": [
    {
     "data": {
      "text/html": [
       "        <script type=\"text/javascript\">\n",
       "        window.PlotlyConfig = {MathJaxConfig: 'local'};\n",
       "        if (window.MathJax && window.MathJax.Hub && window.MathJax.Hub.Config) {window.MathJax.Hub.Config({SVG: {font: \"STIX-Web\"}});}\n",
       "        if (typeof require !== 'undefined') {\n",
       "        require.undef(\"plotly\");\n",
       "        requirejs.config({\n",
       "            paths: {\n",
       "                'plotly': ['https://cdn.plot.ly/plotly-2.18.2.min']\n",
       "            }\n",
       "        });\n",
       "        require(['plotly'], function(Plotly) {\n",
       "            window._Plotly = Plotly;\n",
       "        });\n",
       "        }\n",
       "        </script>\n",
       "        "
      ]
     },
     "metadata": {},
     "output_type": "display_data"
    },
    {
     "data": {
      "application/vnd.plotly.v1+json": {
       "config": {
        "plotlyServerURL": "https://plot.ly"
       },
       "data": [
        {
         "line": {
          "color": "firebrick",
          "width": 4
         },
         "name": "Objective value",
         "type": "scatter",
         "x": [
          0.10501723299967125,
          0.14195094499882543,
          0.19891862100121216,
          0.2369427049998194,
          0.2742010699985258,
          0.31531986399932066,
          0.35317425199900754,
          0.3907261259992083,
          0.4277749020002375,
          0.46598295899821096,
          0.5038481800002046,
          0.5424071029992774,
          0.5804541549987334,
          0.6188000149995787,
          0.6573421569992206,
          0.6963455619988963,
          0.7366726930013101,
          0.7769988569998532,
          0.8179735970006732,
          0.857898338999803,
          0.8956669289982528,
          0.9350808829985908,
          0.9728561849988182,
          1.010204395999608,
          1.0493593889987096,
          1.0871696329995757,
          1.1243444620013179,
          1.1630078490015876,
          1.2002723020013946,
          1.237809816000663,
          1.2745013489984558,
          1.3116238010006782,
          1.3490124989984906,
          1.386393313001463,
          1.4229376020011841,
          1.461153797001316,
          1.500285497000732,
          1.53731381200123,
          1.5746520510001574,
          1.6123856189988146,
          1.652001749000192,
          1.695262092998746,
          1.732634269999835,
          1.7701512860003277,
          1.8076656379998894,
          1.8449500889983028,
          1.8821525319981447,
          1.9189896669995505,
          1.9565983430002234,
          1.9941307640001469,
          2.030858629001159,
          2.0676550669995777,
          2.104990578998695,
          2.141996959999233,
          2.17948064400116,
          2.2168601990015304,
          2.2547812279990467,
          2.29194243999882,
          2.3288947110013396,
          2.3658940979985346,
          2.4073625810015074,
          2.445339943998988,
          2.483294099998602,
          2.5214282000015373,
          2.5587140759998874,
          2.599446208001609,
          2.636780363998696,
          2.6787606149991916,
          2.7167013100006443,
          2.753972555998189,
          2.7925528320010926,
          2.8334761309997702,
          2.8707405099994503,
          2.907013961001212,
          2.943671771001391,
          2.9811314819999097,
          3.0165959799996926,
          3.0541869699991366,
          3.0913983969985566,
          3.127535416999308,
          3.1634449119992496,
          3.2004329960000177,
          3.2379455209993466,
          3.2743816199981666,
          3.3105849790008506,
          3.3470562219990825,
          3.3840313910004625,
          3.421667588998389,
          3.458093067001755,
          3.493749368000863,
          3.529744038998615,
          3.5697592819997226,
          3.6063268209982198,
          3.64278461199865,
          3.6813231880005333,
          3.7192431069997838,
          3.7571327539990307,
          3.794858656998258,
          3.831417249999504,
          3.8678170060011325
         ],
         "y": [
          809,
          820,
          808,
          814,
          807,
          809,
          811,
          806,
          812,
          815,
          796,
          805,
          822,
          802,
          804,
          804,
          804,
          806,
          804,
          805,
          820,
          810,
          802,
          810,
          812,
          802,
          808,
          802,
          802,
          807,
          820,
          821,
          819,
          808,
          809,
          809,
          820,
          814,
          806,
          815,
          807,
          822,
          805,
          807,
          804,
          806,
          802,
          811,
          819,
          813,
          804,
          826,
          808,
          813,
          813,
          815,
          831,
          810,
          811,
          798,
          814,
          835,
          831,
          822,
          808,
          804,
          806,
          810,
          794,
          793,
          802,
          794,
          794,
          812,
          802,
          821,
          814,
          799,
          796,
          798,
          793,
          795,
          822,
          797,
          799,
          800,
          806,
          830,
          807,
          816,
          805,
          803,
          812,
          819,
          810,
          822,
          809,
          845,
          825,
          807
         ]
        }
       ],
       "layout": {
        "template": {
         "data": {
          "bar": [
           {
            "error_x": {
             "color": "#2a3f5f"
            },
            "error_y": {
             "color": "#2a3f5f"
            },
            "marker": {
             "line": {
              "color": "#E5ECF6",
              "width": 0.5
             },
             "pattern": {
              "fillmode": "overlay",
              "size": 10,
              "solidity": 0.2
             }
            },
            "type": "bar"
           }
          ],
          "barpolar": [
           {
            "marker": {
             "line": {
              "color": "#E5ECF6",
              "width": 0.5
             },
             "pattern": {
              "fillmode": "overlay",
              "size": 10,
              "solidity": 0.2
             }
            },
            "type": "barpolar"
           }
          ],
          "carpet": [
           {
            "aaxis": {
             "endlinecolor": "#2a3f5f",
             "gridcolor": "white",
             "linecolor": "white",
             "minorgridcolor": "white",
             "startlinecolor": "#2a3f5f"
            },
            "baxis": {
             "endlinecolor": "#2a3f5f",
             "gridcolor": "white",
             "linecolor": "white",
             "minorgridcolor": "white",
             "startlinecolor": "#2a3f5f"
            },
            "type": "carpet"
           }
          ],
          "choropleth": [
           {
            "colorbar": {
             "outlinewidth": 0,
             "ticks": ""
            },
            "type": "choropleth"
           }
          ],
          "contour": [
           {
            "colorbar": {
             "outlinewidth": 0,
             "ticks": ""
            },
            "colorscale": [
             [
              0,
              "#0d0887"
             ],
             [
              0.1111111111111111,
              "#46039f"
             ],
             [
              0.2222222222222222,
              "#7201a8"
             ],
             [
              0.3333333333333333,
              "#9c179e"
             ],
             [
              0.4444444444444444,
              "#bd3786"
             ],
             [
              0.5555555555555556,
              "#d8576b"
             ],
             [
              0.6666666666666666,
              "#ed7953"
             ],
             [
              0.7777777777777778,
              "#fb9f3a"
             ],
             [
              0.8888888888888888,
              "#fdca26"
             ],
             [
              1,
              "#f0f921"
             ]
            ],
            "type": "contour"
           }
          ],
          "contourcarpet": [
           {
            "colorbar": {
             "outlinewidth": 0,
             "ticks": ""
            },
            "type": "contourcarpet"
           }
          ],
          "heatmap": [
           {
            "colorbar": {
             "outlinewidth": 0,
             "ticks": ""
            },
            "colorscale": [
             [
              0,
              "#0d0887"
             ],
             [
              0.1111111111111111,
              "#46039f"
             ],
             [
              0.2222222222222222,
              "#7201a8"
             ],
             [
              0.3333333333333333,
              "#9c179e"
             ],
             [
              0.4444444444444444,
              "#bd3786"
             ],
             [
              0.5555555555555556,
              "#d8576b"
             ],
             [
              0.6666666666666666,
              "#ed7953"
             ],
             [
              0.7777777777777778,
              "#fb9f3a"
             ],
             [
              0.8888888888888888,
              "#fdca26"
             ],
             [
              1,
              "#f0f921"
             ]
            ],
            "type": "heatmap"
           }
          ],
          "heatmapgl": [
           {
            "colorbar": {
             "outlinewidth": 0,
             "ticks": ""
            },
            "colorscale": [
             [
              0,
              "#0d0887"
             ],
             [
              0.1111111111111111,
              "#46039f"
             ],
             [
              0.2222222222222222,
              "#7201a8"
             ],
             [
              0.3333333333333333,
              "#9c179e"
             ],
             [
              0.4444444444444444,
              "#bd3786"
             ],
             [
              0.5555555555555556,
              "#d8576b"
             ],
             [
              0.6666666666666666,
              "#ed7953"
             ],
             [
              0.7777777777777778,
              "#fb9f3a"
             ],
             [
              0.8888888888888888,
              "#fdca26"
             ],
             [
              1,
              "#f0f921"
             ]
            ],
            "type": "heatmapgl"
           }
          ],
          "histogram": [
           {
            "marker": {
             "pattern": {
              "fillmode": "overlay",
              "size": 10,
              "solidity": 0.2
             }
            },
            "type": "histogram"
           }
          ],
          "histogram2d": [
           {
            "colorbar": {
             "outlinewidth": 0,
             "ticks": ""
            },
            "colorscale": [
             [
              0,
              "#0d0887"
             ],
             [
              0.1111111111111111,
              "#46039f"
             ],
             [
              0.2222222222222222,
              "#7201a8"
             ],
             [
              0.3333333333333333,
              "#9c179e"
             ],
             [
              0.4444444444444444,
              "#bd3786"
             ],
             [
              0.5555555555555556,
              "#d8576b"
             ],
             [
              0.6666666666666666,
              "#ed7953"
             ],
             [
              0.7777777777777778,
              "#fb9f3a"
             ],
             [
              0.8888888888888888,
              "#fdca26"
             ],
             [
              1,
              "#f0f921"
             ]
            ],
            "type": "histogram2d"
           }
          ],
          "histogram2dcontour": [
           {
            "colorbar": {
             "outlinewidth": 0,
             "ticks": ""
            },
            "colorscale": [
             [
              0,
              "#0d0887"
             ],
             [
              0.1111111111111111,
              "#46039f"
             ],
             [
              0.2222222222222222,
              "#7201a8"
             ],
             [
              0.3333333333333333,
              "#9c179e"
             ],
             [
              0.4444444444444444,
              "#bd3786"
             ],
             [
              0.5555555555555556,
              "#d8576b"
             ],
             [
              0.6666666666666666,
              "#ed7953"
             ],
             [
              0.7777777777777778,
              "#fb9f3a"
             ],
             [
              0.8888888888888888,
              "#fdca26"
             ],
             [
              1,
              "#f0f921"
             ]
            ],
            "type": "histogram2dcontour"
           }
          ],
          "mesh3d": [
           {
            "colorbar": {
             "outlinewidth": 0,
             "ticks": ""
            },
            "type": "mesh3d"
           }
          ],
          "parcoords": [
           {
            "line": {
             "colorbar": {
              "outlinewidth": 0,
              "ticks": ""
             }
            },
            "type": "parcoords"
           }
          ],
          "pie": [
           {
            "automargin": true,
            "type": "pie"
           }
          ],
          "scatter": [
           {
            "fillpattern": {
             "fillmode": "overlay",
             "size": 10,
             "solidity": 0.2
            },
            "type": "scatter"
           }
          ],
          "scatter3d": [
           {
            "line": {
             "colorbar": {
              "outlinewidth": 0,
              "ticks": ""
             }
            },
            "marker": {
             "colorbar": {
              "outlinewidth": 0,
              "ticks": ""
             }
            },
            "type": "scatter3d"
           }
          ],
          "scattercarpet": [
           {
            "marker": {
             "colorbar": {
              "outlinewidth": 0,
              "ticks": ""
             }
            },
            "type": "scattercarpet"
           }
          ],
          "scattergeo": [
           {
            "marker": {
             "colorbar": {
              "outlinewidth": 0,
              "ticks": ""
             }
            },
            "type": "scattergeo"
           }
          ],
          "scattergl": [
           {
            "marker": {
             "colorbar": {
              "outlinewidth": 0,
              "ticks": ""
             }
            },
            "type": "scattergl"
           }
          ],
          "scattermapbox": [
           {
            "marker": {
             "colorbar": {
              "outlinewidth": 0,
              "ticks": ""
             }
            },
            "type": "scattermapbox"
           }
          ],
          "scatterpolar": [
           {
            "marker": {
             "colorbar": {
              "outlinewidth": 0,
              "ticks": ""
             }
            },
            "type": "scatterpolar"
           }
          ],
          "scatterpolargl": [
           {
            "marker": {
             "colorbar": {
              "outlinewidth": 0,
              "ticks": ""
             }
            },
            "type": "scatterpolargl"
           }
          ],
          "scatterternary": [
           {
            "marker": {
             "colorbar": {
              "outlinewidth": 0,
              "ticks": ""
             }
            },
            "type": "scatterternary"
           }
          ],
          "surface": [
           {
            "colorbar": {
             "outlinewidth": 0,
             "ticks": ""
            },
            "colorscale": [
             [
              0,
              "#0d0887"
             ],
             [
              0.1111111111111111,
              "#46039f"
             ],
             [
              0.2222222222222222,
              "#7201a8"
             ],
             [
              0.3333333333333333,
              "#9c179e"
             ],
             [
              0.4444444444444444,
              "#bd3786"
             ],
             [
              0.5555555555555556,
              "#d8576b"
             ],
             [
              0.6666666666666666,
              "#ed7953"
             ],
             [
              0.7777777777777778,
              "#fb9f3a"
             ],
             [
              0.8888888888888888,
              "#fdca26"
             ],
             [
              1,
              "#f0f921"
             ]
            ],
            "type": "surface"
           }
          ],
          "table": [
           {
            "cells": {
             "fill": {
              "color": "#EBF0F8"
             },
             "line": {
              "color": "white"
             }
            },
            "header": {
             "fill": {
              "color": "#C8D4E3"
             },
             "line": {
              "color": "white"
             }
            },
            "type": "table"
           }
          ]
         },
         "layout": {
          "annotationdefaults": {
           "arrowcolor": "#2a3f5f",
           "arrowhead": 0,
           "arrowwidth": 1
          },
          "autotypenumbers": "strict",
          "coloraxis": {
           "colorbar": {
            "outlinewidth": 0,
            "ticks": ""
           }
          },
          "colorscale": {
           "diverging": [
            [
             0,
             "#8e0152"
            ],
            [
             0.1,
             "#c51b7d"
            ],
            [
             0.2,
             "#de77ae"
            ],
            [
             0.3,
             "#f1b6da"
            ],
            [
             0.4,
             "#fde0ef"
            ],
            [
             0.5,
             "#f7f7f7"
            ],
            [
             0.6,
             "#e6f5d0"
            ],
            [
             0.7,
             "#b8e186"
            ],
            [
             0.8,
             "#7fbc41"
            ],
            [
             0.9,
             "#4d9221"
            ],
            [
             1,
             "#276419"
            ]
           ],
           "sequential": [
            [
             0,
             "#0d0887"
            ],
            [
             0.1111111111111111,
             "#46039f"
            ],
            [
             0.2222222222222222,
             "#7201a8"
            ],
            [
             0.3333333333333333,
             "#9c179e"
            ],
            [
             0.4444444444444444,
             "#bd3786"
            ],
            [
             0.5555555555555556,
             "#d8576b"
            ],
            [
             0.6666666666666666,
             "#ed7953"
            ],
            [
             0.7777777777777778,
             "#fb9f3a"
            ],
            [
             0.8888888888888888,
             "#fdca26"
            ],
            [
             1,
             "#f0f921"
            ]
           ],
           "sequentialminus": [
            [
             0,
             "#0d0887"
            ],
            [
             0.1111111111111111,
             "#46039f"
            ],
            [
             0.2222222222222222,
             "#7201a8"
            ],
            [
             0.3333333333333333,
             "#9c179e"
            ],
            [
             0.4444444444444444,
             "#bd3786"
            ],
            [
             0.5555555555555556,
             "#d8576b"
            ],
            [
             0.6666666666666666,
             "#ed7953"
            ],
            [
             0.7777777777777778,
             "#fb9f3a"
            ],
            [
             0.8888888888888888,
             "#fdca26"
            ],
            [
             1,
             "#f0f921"
            ]
           ]
          },
          "colorway": [
           "#636efa",
           "#EF553B",
           "#00cc96",
           "#ab63fa",
           "#FFA15A",
           "#19d3f3",
           "#FF6692",
           "#B6E880",
           "#FF97FF",
           "#FECB52"
          ],
          "font": {
           "color": "#2a3f5f"
          },
          "geo": {
           "bgcolor": "white",
           "lakecolor": "white",
           "landcolor": "#E5ECF6",
           "showlakes": true,
           "showland": true,
           "subunitcolor": "white"
          },
          "hoverlabel": {
           "align": "left"
          },
          "hovermode": "closest",
          "mapbox": {
           "style": "light"
          },
          "paper_bgcolor": "white",
          "plot_bgcolor": "#E5ECF6",
          "polar": {
           "angularaxis": {
            "gridcolor": "white",
            "linecolor": "white",
            "ticks": ""
           },
           "bgcolor": "#E5ECF6",
           "radialaxis": {
            "gridcolor": "white",
            "linecolor": "white",
            "ticks": ""
           }
          },
          "scene": {
           "xaxis": {
            "backgroundcolor": "#E5ECF6",
            "gridcolor": "white",
            "gridwidth": 2,
            "linecolor": "white",
            "showbackground": true,
            "ticks": "",
            "zerolinecolor": "white"
           },
           "yaxis": {
            "backgroundcolor": "#E5ECF6",
            "gridcolor": "white",
            "gridwidth": 2,
            "linecolor": "white",
            "showbackground": true,
            "ticks": "",
            "zerolinecolor": "white"
           },
           "zaxis": {
            "backgroundcolor": "#E5ECF6",
            "gridcolor": "white",
            "gridwidth": 2,
            "linecolor": "white",
            "showbackground": true,
            "ticks": "",
            "zerolinecolor": "white"
           }
          },
          "shapedefaults": {
           "line": {
            "color": "#2a3f5f"
           }
          },
          "ternary": {
           "aaxis": {
            "gridcolor": "white",
            "linecolor": "white",
            "ticks": ""
           },
           "baxis": {
            "gridcolor": "white",
            "linecolor": "white",
            "ticks": ""
           },
           "bgcolor": "#E5ECF6",
           "caxis": {
            "gridcolor": "white",
            "linecolor": "white",
            "ticks": ""
           }
          },
          "title": {
           "x": 0.05
          },
          "xaxis": {
           "automargin": true,
           "gridcolor": "white",
           "linecolor": "white",
           "ticks": "",
           "title": {
            "standoff": 15
           },
           "zerolinecolor": "white",
           "zerolinewidth": 2
          },
          "yaxis": {
           "automargin": true,
           "gridcolor": "white",
           "linecolor": "white",
           "ticks": "",
           "title": {
            "standoff": 15
           },
           "zerolinecolor": "white",
           "zerolinewidth": 2
          }
         }
        },
        "title": {
         "text": "Objective value VS Time (s)"
        },
        "xaxis": {
         "title": {
          "text": "Time (s)"
         }
        },
        "yaxis": {
         "title": {
          "text": "Objective value"
         }
        }
       }
      },
      "text/html": [
       "<div>                            <div id=\"aa6539f3-1d76-4a48-a646-ddb733cdfcb6\" class=\"plotly-graph-div\" style=\"height:525px; width:100%;\"></div>            <script type=\"text/javascript\">                require([\"plotly\"], function(Plotly) {                    window.PLOTLYENV=window.PLOTLYENV || {};                                    if (document.getElementById(\"aa6539f3-1d76-4a48-a646-ddb733cdfcb6\")) {                    Plotly.newPlot(                        \"aa6539f3-1d76-4a48-a646-ddb733cdfcb6\",                        [{\"line\":{\"color\":\"firebrick\",\"width\":4},\"name\":\"Objective value\",\"x\":[0.10501723299967125,0.14195094499882543,0.19891862100121216,0.2369427049998194,0.2742010699985258,0.31531986399932066,0.35317425199900754,0.3907261259992083,0.4277749020002375,0.46598295899821096,0.5038481800002046,0.5424071029992774,0.5804541549987334,0.6188000149995787,0.6573421569992206,0.6963455619988963,0.7366726930013101,0.7769988569998532,0.8179735970006732,0.857898338999803,0.8956669289982528,0.9350808829985908,0.9728561849988182,1.010204395999608,1.0493593889987096,1.0871696329995757,1.1243444620013179,1.1630078490015876,1.2002723020013946,1.237809816000663,1.2745013489984558,1.3116238010006782,1.3490124989984906,1.386393313001463,1.4229376020011841,1.461153797001316,1.500285497000732,1.53731381200123,1.5746520510001574,1.6123856189988146,1.652001749000192,1.695262092998746,1.732634269999835,1.7701512860003277,1.8076656379998894,1.8449500889983028,1.8821525319981447,1.9189896669995505,1.9565983430002234,1.9941307640001469,2.030858629001159,2.0676550669995777,2.104990578998695,2.141996959999233,2.17948064400116,2.2168601990015304,2.2547812279990467,2.29194243999882,2.3288947110013396,2.3658940979985346,2.4073625810015074,2.445339943998988,2.483294099998602,2.5214282000015373,2.5587140759998874,2.599446208001609,2.636780363998696,2.6787606149991916,2.7167013100006443,2.753972555998189,2.7925528320010926,2.8334761309997702,2.8707405099994503,2.907013961001212,2.943671771001391,2.9811314819999097,3.0165959799996926,3.0541869699991366,3.0913983969985566,3.127535416999308,3.1634449119992496,3.2004329960000177,3.2379455209993466,3.2743816199981666,3.3105849790008506,3.3470562219990825,3.3840313910004625,3.421667588998389,3.458093067001755,3.493749368000863,3.529744038998615,3.5697592819997226,3.6063268209982198,3.64278461199865,3.6813231880005333,3.7192431069997838,3.7571327539990307,3.794858656998258,3.831417249999504,3.8678170060011325],\"y\":[809,820,808,814,807,809,811,806,812,815,796,805,822,802,804,804,804,806,804,805,820,810,802,810,812,802,808,802,802,807,820,821,819,808,809,809,820,814,806,815,807,822,805,807,804,806,802,811,819,813,804,826,808,813,813,815,831,810,811,798,814,835,831,822,808,804,806,810,794,793,802,794,794,812,802,821,814,799,796,798,793,795,822,797,799,800,806,830,807,816,805,803,812,819,810,822,809,845,825,807],\"type\":\"scatter\"}],                        {\"template\":{\"data\":{\"histogram2dcontour\":[{\"type\":\"histogram2dcontour\",\"colorbar\":{\"outlinewidth\":0,\"ticks\":\"\"},\"colorscale\":[[0.0,\"#0d0887\"],[0.1111111111111111,\"#46039f\"],[0.2222222222222222,\"#7201a8\"],[0.3333333333333333,\"#9c179e\"],[0.4444444444444444,\"#bd3786\"],[0.5555555555555556,\"#d8576b\"],[0.6666666666666666,\"#ed7953\"],[0.7777777777777778,\"#fb9f3a\"],[0.8888888888888888,\"#fdca26\"],[1.0,\"#f0f921\"]]}],\"choropleth\":[{\"type\":\"choropleth\",\"colorbar\":{\"outlinewidth\":0,\"ticks\":\"\"}}],\"histogram2d\":[{\"type\":\"histogram2d\",\"colorbar\":{\"outlinewidth\":0,\"ticks\":\"\"},\"colorscale\":[[0.0,\"#0d0887\"],[0.1111111111111111,\"#46039f\"],[0.2222222222222222,\"#7201a8\"],[0.3333333333333333,\"#9c179e\"],[0.4444444444444444,\"#bd3786\"],[0.5555555555555556,\"#d8576b\"],[0.6666666666666666,\"#ed7953\"],[0.7777777777777778,\"#fb9f3a\"],[0.8888888888888888,\"#fdca26\"],[1.0,\"#f0f921\"]]}],\"heatmap\":[{\"type\":\"heatmap\",\"colorbar\":{\"outlinewidth\":0,\"ticks\":\"\"},\"colorscale\":[[0.0,\"#0d0887\"],[0.1111111111111111,\"#46039f\"],[0.2222222222222222,\"#7201a8\"],[0.3333333333333333,\"#9c179e\"],[0.4444444444444444,\"#bd3786\"],[0.5555555555555556,\"#d8576b\"],[0.6666666666666666,\"#ed7953\"],[0.7777777777777778,\"#fb9f3a\"],[0.8888888888888888,\"#fdca26\"],[1.0,\"#f0f921\"]]}],\"heatmapgl\":[{\"type\":\"heatmapgl\",\"colorbar\":{\"outlinewidth\":0,\"ticks\":\"\"},\"colorscale\":[[0.0,\"#0d0887\"],[0.1111111111111111,\"#46039f\"],[0.2222222222222222,\"#7201a8\"],[0.3333333333333333,\"#9c179e\"],[0.4444444444444444,\"#bd3786\"],[0.5555555555555556,\"#d8576b\"],[0.6666666666666666,\"#ed7953\"],[0.7777777777777778,\"#fb9f3a\"],[0.8888888888888888,\"#fdca26\"],[1.0,\"#f0f921\"]]}],\"contourcarpet\":[{\"type\":\"contourcarpet\",\"colorbar\":{\"outlinewidth\":0,\"ticks\":\"\"}}],\"contour\":[{\"type\":\"contour\",\"colorbar\":{\"outlinewidth\":0,\"ticks\":\"\"},\"colorscale\":[[0.0,\"#0d0887\"],[0.1111111111111111,\"#46039f\"],[0.2222222222222222,\"#7201a8\"],[0.3333333333333333,\"#9c179e\"],[0.4444444444444444,\"#bd3786\"],[0.5555555555555556,\"#d8576b\"],[0.6666666666666666,\"#ed7953\"],[0.7777777777777778,\"#fb9f3a\"],[0.8888888888888888,\"#fdca26\"],[1.0,\"#f0f921\"]]}],\"surface\":[{\"type\":\"surface\",\"colorbar\":{\"outlinewidth\":0,\"ticks\":\"\"},\"colorscale\":[[0.0,\"#0d0887\"],[0.1111111111111111,\"#46039f\"],[0.2222222222222222,\"#7201a8\"],[0.3333333333333333,\"#9c179e\"],[0.4444444444444444,\"#bd3786\"],[0.5555555555555556,\"#d8576b\"],[0.6666666666666666,\"#ed7953\"],[0.7777777777777778,\"#fb9f3a\"],[0.8888888888888888,\"#fdca26\"],[1.0,\"#f0f921\"]]}],\"mesh3d\":[{\"type\":\"mesh3d\",\"colorbar\":{\"outlinewidth\":0,\"ticks\":\"\"}}],\"scatter\":[{\"fillpattern\":{\"fillmode\":\"overlay\",\"size\":10,\"solidity\":0.2},\"type\":\"scatter\"}],\"parcoords\":[{\"type\":\"parcoords\",\"line\":{\"colorbar\":{\"outlinewidth\":0,\"ticks\":\"\"}}}],\"scatterpolargl\":[{\"type\":\"scatterpolargl\",\"marker\":{\"colorbar\":{\"outlinewidth\":0,\"ticks\":\"\"}}}],\"bar\":[{\"error_x\":{\"color\":\"#2a3f5f\"},\"error_y\":{\"color\":\"#2a3f5f\"},\"marker\":{\"line\":{\"color\":\"#E5ECF6\",\"width\":0.5},\"pattern\":{\"fillmode\":\"overlay\",\"size\":10,\"solidity\":0.2}},\"type\":\"bar\"}],\"scattergeo\":[{\"type\":\"scattergeo\",\"marker\":{\"colorbar\":{\"outlinewidth\":0,\"ticks\":\"\"}}}],\"scatterpolar\":[{\"type\":\"scatterpolar\",\"marker\":{\"colorbar\":{\"outlinewidth\":0,\"ticks\":\"\"}}}],\"histogram\":[{\"marker\":{\"pattern\":{\"fillmode\":\"overlay\",\"size\":10,\"solidity\":0.2}},\"type\":\"histogram\"}],\"scattergl\":[{\"type\":\"scattergl\",\"marker\":{\"colorbar\":{\"outlinewidth\":0,\"ticks\":\"\"}}}],\"scatter3d\":[{\"type\":\"scatter3d\",\"line\":{\"colorbar\":{\"outlinewidth\":0,\"ticks\":\"\"}},\"marker\":{\"colorbar\":{\"outlinewidth\":0,\"ticks\":\"\"}}}],\"scattermapbox\":[{\"type\":\"scattermapbox\",\"marker\":{\"colorbar\":{\"outlinewidth\":0,\"ticks\":\"\"}}}],\"scatterternary\":[{\"type\":\"scatterternary\",\"marker\":{\"colorbar\":{\"outlinewidth\":0,\"ticks\":\"\"}}}],\"scattercarpet\":[{\"type\":\"scattercarpet\",\"marker\":{\"colorbar\":{\"outlinewidth\":0,\"ticks\":\"\"}}}],\"carpet\":[{\"aaxis\":{\"endlinecolor\":\"#2a3f5f\",\"gridcolor\":\"white\",\"linecolor\":\"white\",\"minorgridcolor\":\"white\",\"startlinecolor\":\"#2a3f5f\"},\"baxis\":{\"endlinecolor\":\"#2a3f5f\",\"gridcolor\":\"white\",\"linecolor\":\"white\",\"minorgridcolor\":\"white\",\"startlinecolor\":\"#2a3f5f\"},\"type\":\"carpet\"}],\"table\":[{\"cells\":{\"fill\":{\"color\":\"#EBF0F8\"},\"line\":{\"color\":\"white\"}},\"header\":{\"fill\":{\"color\":\"#C8D4E3\"},\"line\":{\"color\":\"white\"}},\"type\":\"table\"}],\"barpolar\":[{\"marker\":{\"line\":{\"color\":\"#E5ECF6\",\"width\":0.5},\"pattern\":{\"fillmode\":\"overlay\",\"size\":10,\"solidity\":0.2}},\"type\":\"barpolar\"}],\"pie\":[{\"automargin\":true,\"type\":\"pie\"}]},\"layout\":{\"autotypenumbers\":\"strict\",\"colorway\":[\"#636efa\",\"#EF553B\",\"#00cc96\",\"#ab63fa\",\"#FFA15A\",\"#19d3f3\",\"#FF6692\",\"#B6E880\",\"#FF97FF\",\"#FECB52\"],\"font\":{\"color\":\"#2a3f5f\"},\"hovermode\":\"closest\",\"hoverlabel\":{\"align\":\"left\"},\"paper_bgcolor\":\"white\",\"plot_bgcolor\":\"#E5ECF6\",\"polar\":{\"bgcolor\":\"#E5ECF6\",\"angularaxis\":{\"gridcolor\":\"white\",\"linecolor\":\"white\",\"ticks\":\"\"},\"radialaxis\":{\"gridcolor\":\"white\",\"linecolor\":\"white\",\"ticks\":\"\"}},\"ternary\":{\"bgcolor\":\"#E5ECF6\",\"aaxis\":{\"gridcolor\":\"white\",\"linecolor\":\"white\",\"ticks\":\"\"},\"baxis\":{\"gridcolor\":\"white\",\"linecolor\":\"white\",\"ticks\":\"\"},\"caxis\":{\"gridcolor\":\"white\",\"linecolor\":\"white\",\"ticks\":\"\"}},\"coloraxis\":{\"colorbar\":{\"outlinewidth\":0,\"ticks\":\"\"}},\"colorscale\":{\"sequential\":[[0.0,\"#0d0887\"],[0.1111111111111111,\"#46039f\"],[0.2222222222222222,\"#7201a8\"],[0.3333333333333333,\"#9c179e\"],[0.4444444444444444,\"#bd3786\"],[0.5555555555555556,\"#d8576b\"],[0.6666666666666666,\"#ed7953\"],[0.7777777777777778,\"#fb9f3a\"],[0.8888888888888888,\"#fdca26\"],[1.0,\"#f0f921\"]],\"sequentialminus\":[[0.0,\"#0d0887\"],[0.1111111111111111,\"#46039f\"],[0.2222222222222222,\"#7201a8\"],[0.3333333333333333,\"#9c179e\"],[0.4444444444444444,\"#bd3786\"],[0.5555555555555556,\"#d8576b\"],[0.6666666666666666,\"#ed7953\"],[0.7777777777777778,\"#fb9f3a\"],[0.8888888888888888,\"#fdca26\"],[1.0,\"#f0f921\"]],\"diverging\":[[0,\"#8e0152\"],[0.1,\"#c51b7d\"],[0.2,\"#de77ae\"],[0.3,\"#f1b6da\"],[0.4,\"#fde0ef\"],[0.5,\"#f7f7f7\"],[0.6,\"#e6f5d0\"],[0.7,\"#b8e186\"],[0.8,\"#7fbc41\"],[0.9,\"#4d9221\"],[1,\"#276419\"]]},\"xaxis\":{\"gridcolor\":\"white\",\"linecolor\":\"white\",\"ticks\":\"\",\"title\":{\"standoff\":15},\"zerolinecolor\":\"white\",\"automargin\":true,\"zerolinewidth\":2},\"yaxis\":{\"gridcolor\":\"white\",\"linecolor\":\"white\",\"ticks\":\"\",\"title\":{\"standoff\":15},\"zerolinecolor\":\"white\",\"automargin\":true,\"zerolinewidth\":2},\"scene\":{\"xaxis\":{\"backgroundcolor\":\"#E5ECF6\",\"gridcolor\":\"white\",\"linecolor\":\"white\",\"showbackground\":true,\"ticks\":\"\",\"zerolinecolor\":\"white\",\"gridwidth\":2},\"yaxis\":{\"backgroundcolor\":\"#E5ECF6\",\"gridcolor\":\"white\",\"linecolor\":\"white\",\"showbackground\":true,\"ticks\":\"\",\"zerolinecolor\":\"white\",\"gridwidth\":2},\"zaxis\":{\"backgroundcolor\":\"#E5ECF6\",\"gridcolor\":\"white\",\"linecolor\":\"white\",\"showbackground\":true,\"ticks\":\"\",\"zerolinecolor\":\"white\",\"gridwidth\":2}},\"shapedefaults\":{\"line\":{\"color\":\"#2a3f5f\"}},\"annotationdefaults\":{\"arrowcolor\":\"#2a3f5f\",\"arrowhead\":0,\"arrowwidth\":1},\"geo\":{\"bgcolor\":\"white\",\"landcolor\":\"#E5ECF6\",\"subunitcolor\":\"white\",\"showland\":true,\"showlakes\":true,\"lakecolor\":\"white\"},\"title\":{\"x\":0.05},\"mapbox\":{\"style\":\"light\"}}},\"title\":{\"text\":\"Objective value VS Time (s)\"},\"xaxis\":{\"title\":{\"text\":\"Time (s)\"}},\"yaxis\":{\"title\":{\"text\":\"Objective value\"}}},                        {\"responsive\": true}                    ).then(function(){\n",
       "                            \n",
       "var gd = document.getElementById('aa6539f3-1d76-4a48-a646-ddb733cdfcb6');\n",
       "var x = new MutationObserver(function (mutations, observer) {{\n",
       "        var display = window.getComputedStyle(gd).display;\n",
       "        if (!display || display === 'none') {{\n",
       "            console.log([gd, 'removed!']);\n",
       "            Plotly.purge(gd);\n",
       "            observer.disconnect();\n",
       "        }}\n",
       "}});\n",
       "\n",
       "// Listen for the removal of the full notebook cells\n",
       "var notebookContainer = gd.closest('#notebook-container');\n",
       "if (notebookContainer) {{\n",
       "    x.observe(notebookContainer, {childList: true});\n",
       "}}\n",
       "\n",
       "// Listen for the clearing of the current output cell\n",
       "var outputEl = gd.closest('.output');\n",
       "if (outputEl) {{\n",
       "    x.observe(outputEl, {childList: true});\n",
       "}}\n",
       "\n",
       "                        })                };                });            </script>        </div>"
      ]
     },
     "metadata": {},
     "output_type": "display_data"
    }
   ],
   "source": [
    "solve_result = lahc_solver.solve(instance, n_iterations = 100)"
   ]
  },
  {
   "cell_type": "code",
   "execution_count": 11,
   "id": "c24ed907",
   "metadata": {
    "ExecuteTime": {
     "end_time": "2023-05-22T13:34:51.895272Z",
     "start_time": "2023-05-22T13:34:51.884501Z"
    }
   },
   "outputs": [
    {
     "data": {
      "text/plain": [
       "3.1790781659983622"
      ]
     },
     "execution_count": 11,
     "metadata": {},
     "output_type": "execute_result"
    }
   ],
   "source": [
    "solve_result.time_to_best"
   ]
  },
  {
   "cell_type": "markdown",
   "id": "8e294700",
   "metadata": {},
   "source": [
    "# wiTi"
   ]
  },
  {
   "cell_type": "code",
   "execution_count": null,
   "id": "1348dfda",
   "metadata": {
    "ExecuteTime": {
     "end_time": "2023-03-23T15:37:28.498590Z",
     "start_time": "2023-03-23T15:37:28.486699Z"
    }
   },
   "outputs": [],
   "source": [
    "instance = pms_wiTi.RmridiSijkWiTi_Instance.generate_random(20, 2)"
   ]
  },
  {
   "cell_type": "code",
   "execution_count": null,
   "id": "749ee721",
   "metadata": {
    "ExecuteTime": {
     "end_time": "2023-03-23T15:37:28.986766Z",
     "start_time": "2023-03-23T15:37:28.975955Z"
    }
   },
   "outputs": [],
   "source": [
    "instance.to_txt(\"test_pm.txt\")"
   ]
  },
  {
   "cell_type": "code",
   "execution_count": null,
   "id": "5304559c",
   "metadata": {
    "ExecuteTime": {
     "end_time": "2023-03-23T15:37:29.559934Z",
     "start_time": "2023-03-23T15:37:29.548293Z"
    }
   },
   "outputs": [],
   "source": [
    "instance_2 = pms_wiTi.RmridiSijkWiTi_Instance.read_txt(\"test_pm.txt\")"
   ]
  },
  {
   "cell_type": "code",
   "execution_count": null,
   "id": "5b482a81",
   "metadata": {
    "ExecuteTime": {
     "end_time": "2023-03-23T15:37:31.540177Z",
     "start_time": "2023-03-23T15:37:31.528641Z"
    }
   },
   "outputs": [],
   "source": [
    "instance_2"
   ]
  },
  {
   "cell_type": "code",
   "execution_count": null,
   "id": "33ac1fab",
   "metadata": {
    "ExecuteTime": {
     "end_time": "2023-03-23T13:27:01.509264Z",
     "start_time": "2023-03-23T13:27:01.433363Z"
    }
   },
   "outputs": [],
   "source": [
    "solve_result = methods.Heuristics.grasp(instance)"
   ]
  },
  {
   "cell_type": "code",
   "execution_count": null,
   "id": "74314316",
   "metadata": {
    "ExecuteTime": {
     "end_time": "2023-03-23T13:27:01.950613Z",
     "start_time": "2023-03-23T13:27:01.936935Z"
    }
   },
   "outputs": [],
   "source": [
    "solve_result.best_solution"
   ]
  },
  {
   "cell_type": "code",
   "execution_count": null,
   "id": "7ccbc303",
   "metadata": {
    "ExecuteTime": {
     "end_time": "2023-03-23T13:24:34.921263Z",
     "start_time": "2023-03-23T13:24:34.327310Z"
    }
   },
   "outputs": [],
   "source": [
    "sol_lahc = methods.Metaheuristics.lahc(instance, n_iterations = 100).best_solution"
   ]
  },
  {
   "cell_type": "code",
   "execution_count": null,
   "id": "0a896ff2",
   "metadata": {
    "ExecuteTime": {
     "end_time": "2023-03-23T13:24:35.408056Z",
     "start_time": "2023-03-23T13:24:35.395217Z"
    }
   },
   "outputs": [],
   "source": [
    "sol_lahc"
   ]
  },
  {
   "cell_type": "code",
   "execution_count": null,
   "id": "b9a3951b",
   "metadata": {},
   "outputs": [],
   "source": []
  }
 ],
 "metadata": {
  "kernelspec": {
   "display_name": "Python 3 (ipykernel)",
   "language": "python",
   "name": "python3"
  },
  "language_info": {
   "codemirror_mode": {
    "name": "ipython",
    "version": 3
   },
   "file_extension": ".py",
   "mimetype": "text/x-python",
   "name": "python",
   "nbconvert_exporter": "python",
   "pygments_lexer": "ipython3",
   "version": "3.8.16"
  }
 },
 "nbformat": 4,
 "nbformat_minor": 5
}
