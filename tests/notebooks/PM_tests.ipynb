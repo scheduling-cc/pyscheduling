{
 "cells": [
  {
   "cell_type": "code",
   "execution_count": 1,
   "id": "4210e786",
   "metadata": {
    "ExecuteTime": {
     "end_time": "2023-05-12T14:18:32.169429Z",
     "start_time": "2023-05-12T14:18:31.944842Z"
    }
   },
   "outputs": [],
   "source": [
    "from pyscheduling.PMSP.ParallelMachines import Machine, Job\n",
    "import pyscheduling.PMSP.RmSijkCmax as pms\n",
    "import pyscheduling.PMSP.PM_methods as methods\n",
    "import pyscheduling.PMSP.RmridiSijkWiTi as pms_wiTi\n",
    "from pyscheduling.core.listeners import BaseListener, FileListener\n",
    "\n",
    "%load_ext autoreload\n",
    "%load_ext pycodestyle_magic\n",
    "%autoreload 2"
   ]
  },
  {
   "cell_type": "markdown",
   "id": "f2241998",
   "metadata": {},
   "source": [
    "## Rm | Sijk | Cmax"
   ]
  },
  {
   "cell_type": "code",
   "execution_count": 27,
   "id": "b1a42c0d",
   "metadata": {
    "ExecuteTime": {
     "end_time": "2023-05-12T14:44:56.701241Z",
     "start_time": "2023-05-12T14:44:56.550090Z"
    }
   },
   "outputs": [],
   "source": [
    "instance = pms.RmSijkCmax_Instance.generate_random(100, 2)"
   ]
  },
  {
   "cell_type": "code",
   "execution_count": 34,
   "id": "537ce7cb",
   "metadata": {
    "ExecuteTime": {
     "end_time": "2023-05-12T14:48:05.794795Z",
     "start_time": "2023-05-12T14:48:05.570935Z"
    }
   },
   "outputs": [],
   "source": [
    "lahc_solver = methods.Metaheuristics.LAHC()"
   ]
  },
  {
   "cell_type": "code",
   "execution_count": 35,
   "id": "f66b14ca",
   "metadata": {
    "ExecuteTime": {
     "end_time": "2023-05-12T14:48:05.914464Z",
     "start_time": "2023-05-12T14:48:05.901219Z"
    }
   },
   "outputs": [],
   "source": [
    "lahc_solver.attach_listeners( FileListener(file_path = \"pmsp_log.txt\") )"
   ]
  },
  {
   "cell_type": "code",
   "execution_count": null,
   "id": "c59673c2",
   "metadata": {
    "ExecuteTime": {
     "start_time": "2023-05-12T14:48:06.273Z"
    }
   },
   "outputs": [],
   "source": [
    "solve_result = lahc_solver.solve(instance, n_iterations = 100)"
   ]
  },
  {
   "cell_type": "code",
   "execution_count": null,
   "id": "c24ed907",
   "metadata": {
    "ExecuteTime": {
     "start_time": "2023-05-12T14:48:06.648Z"
    }
   },
   "outputs": [],
   "source": [
    "solve_result.best_solution"
   ]
  },
  {
   "cell_type": "markdown",
   "id": "8e294700",
   "metadata": {},
   "source": [
    "# wiTi"
   ]
  },
  {
   "cell_type": "code",
   "execution_count": null,
   "id": "1348dfda",
   "metadata": {
    "ExecuteTime": {
     "end_time": "2023-03-23T15:37:28.498590Z",
     "start_time": "2023-03-23T15:37:28.486699Z"
    }
   },
   "outputs": [],
   "source": [
    "instance = pms_wiTi.RmridiSijkWiTi_Instance.generate_random(20, 2)"
   ]
  },
  {
   "cell_type": "code",
   "execution_count": null,
   "id": "749ee721",
   "metadata": {
    "ExecuteTime": {
     "end_time": "2023-03-23T15:37:28.986766Z",
     "start_time": "2023-03-23T15:37:28.975955Z"
    }
   },
   "outputs": [],
   "source": [
    "instance.to_txt(\"test_pm.txt\")"
   ]
  },
  {
   "cell_type": "code",
   "execution_count": null,
   "id": "5304559c",
   "metadata": {
    "ExecuteTime": {
     "end_time": "2023-03-23T15:37:29.559934Z",
     "start_time": "2023-03-23T15:37:29.548293Z"
    }
   },
   "outputs": [],
   "source": [
    "instance_2 = pms_wiTi.RmridiSijkWiTi_Instance.read_txt(\"test_pm.txt\")"
   ]
  },
  {
   "cell_type": "code",
   "execution_count": null,
   "id": "5b482a81",
   "metadata": {
    "ExecuteTime": {
     "end_time": "2023-03-23T15:37:31.540177Z",
     "start_time": "2023-03-23T15:37:31.528641Z"
    }
   },
   "outputs": [],
   "source": [
    "instance_2"
   ]
  },
  {
   "cell_type": "code",
   "execution_count": null,
   "id": "33ac1fab",
   "metadata": {
    "ExecuteTime": {
     "end_time": "2023-03-23T13:27:01.509264Z",
     "start_time": "2023-03-23T13:27:01.433363Z"
    }
   },
   "outputs": [],
   "source": [
    "solve_result = methods.Heuristics.grasp(instance)"
   ]
  },
  {
   "cell_type": "code",
   "execution_count": null,
   "id": "74314316",
   "metadata": {
    "ExecuteTime": {
     "end_time": "2023-03-23T13:27:01.950613Z",
     "start_time": "2023-03-23T13:27:01.936935Z"
    }
   },
   "outputs": [],
   "source": [
    "solve_result.best_solution"
   ]
  },
  {
   "cell_type": "code",
   "execution_count": null,
   "id": "7ccbc303",
   "metadata": {
    "ExecuteTime": {
     "end_time": "2023-03-23T13:24:34.921263Z",
     "start_time": "2023-03-23T13:24:34.327310Z"
    }
   },
   "outputs": [],
   "source": [
    "sol_lahc = methods.Metaheuristics.lahc(instance, n_iterations = 100).best_solution"
   ]
  },
  {
   "cell_type": "code",
   "execution_count": null,
   "id": "0a896ff2",
   "metadata": {
    "ExecuteTime": {
     "end_time": "2023-03-23T13:24:35.408056Z",
     "start_time": "2023-03-23T13:24:35.395217Z"
    }
   },
   "outputs": [],
   "source": [
    "sol_lahc"
   ]
  },
  {
   "cell_type": "code",
   "execution_count": null,
   "id": "b9a3951b",
   "metadata": {},
   "outputs": [],
   "source": []
  }
 ],
 "metadata": {
  "kernelspec": {
   "display_name": "Python 3 (ipykernel)",
   "language": "python",
   "name": "python3"
  },
  "language_info": {
   "codemirror_mode": {
    "name": "ipython",
    "version": 3
   },
   "file_extension": ".py",
   "mimetype": "text/x-python",
   "name": "python",
   "nbconvert_exporter": "python",
   "pygments_lexer": "ipython3",
   "version": "3.8.16"
  }
 },
 "nbformat": 4,
 "nbformat_minor": 5
}
