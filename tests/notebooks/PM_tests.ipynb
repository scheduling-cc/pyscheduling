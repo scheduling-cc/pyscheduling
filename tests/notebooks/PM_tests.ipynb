{
 "cells": [
  {
   "cell_type": "code",
   "execution_count": 72,
   "id": "4210e786",
   "metadata": {
    "ExecuteTime": {
     "end_time": "2023-05-17T14:30:57.435142Z",
     "start_time": "2023-05-17T14:30:57.421380Z"
    }
   },
   "outputs": [
    {
     "name": "stdout",
     "output_type": "stream",
     "text": [
      "The autoreload extension is already loaded. To reload it, use:\n",
      "  %reload_ext autoreload\n",
      "The pycodestyle_magic extension is already loaded. To reload it, use:\n",
      "  %reload_ext pycodestyle_magic\n"
     ]
    }
   ],
   "source": [
    "from pyscheduling.PMSP.ParallelMachines import Machine, Job\n",
    "import pyscheduling.PMSP.RmSijkCmax as pms\n",
    "import pyscheduling.PMSP.PM_methods as methods\n",
    "import pyscheduling.PMSP.RmridiSijkWiTi as pms_wiTi\n",
    "from pyscheduling.core.listeners import BaseListener, FileListener, CSVListener\n",
    "\n",
    "%load_ext autoreload\n",
    "%load_ext pycodestyle_magic\n",
    "%autoreload 2"
   ]
  },
  {
   "cell_type": "markdown",
   "id": "f2241998",
   "metadata": {},
   "source": [
    "## Rm | Sijk | Cmax"
   ]
  },
  {
   "cell_type": "code",
   "execution_count": 81,
   "id": "b1a42c0d",
   "metadata": {
    "ExecuteTime": {
     "end_time": "2023-05-17T14:40:35.182600Z",
     "start_time": "2023-05-17T14:40:34.523334Z"
    }
   },
   "outputs": [],
   "source": [
    "instance = pms.RmSijkCmax_Instance.generate_random(100, 2)"
   ]
  },
  {
   "cell_type": "code",
   "execution_count": 82,
   "id": "537ce7cb",
   "metadata": {
    "ExecuteTime": {
     "end_time": "2023-05-17T14:40:35.195735Z",
     "start_time": "2023-05-17T14:40:35.184438Z"
    }
   },
   "outputs": [],
   "source": [
    "lahc_solver = methods.Metaheuristics.LAHC()"
   ]
  },
  {
   "cell_type": "code",
   "execution_count": 83,
   "id": "f66b14ca",
   "metadata": {
    "ExecuteTime": {
     "end_time": "2023-05-17T14:40:36.020939Z",
     "start_time": "2023-05-17T14:40:36.009615Z"
    }
   },
   "outputs": [],
   "source": [
    "lahc_solver.attach_listeners( [FileListener(file_path=\"pmsp_log.txt\"), CSVListener(file_path = \"pmsp_log.csv\")] )"
   ]
  },
  {
   "cell_type": "code",
   "execution_count": null,
   "id": "c59673c2",
   "metadata": {
    "ExecuteTime": {
     "start_time": "2023-05-17T14:40:36.492Z"
    }
   },
   "outputs": [],
   "source": [
    "solve_result = lahc_solver.solve(instance, n_iterations = 100)"
   ]
  },
  {
   "cell_type": "code",
   "execution_count": 37,
   "id": "c24ed907",
   "metadata": {
    "ExecuteTime": {
     "end_time": "2023-05-12T14:48:35.306478Z",
     "start_time": "2023-05-12T14:48:35.293279Z"
    }
   },
   "outputs": [
    {
     "data": {
      "text/plain": [
       "Objective : 1525\n",
       "\n",
       "Machine_ID | Job_schedule (job_id , start_time , completion_time) | Objective value\n",
       "\n",
       "Machine 0 : (46, 0, 18) -> (45, 18, 56) -> (32, 56, 76) -> (81, 76, 104) -> (47, 104, 127) -> (21, 127, 160) -> (94, 160, 181) -> (5, 181, 228) -> (69, 228, 251) -> (79, 251, 286) -> (28, 286, 337) -> (63, 337, 378) -> (85, 378, 396) -> (35, 396, 436) -> (3, 436, 455) -> (18, 455, 476) -> (7, 476, 509) -> (80, 509, 528) -> (58, 528, 564) -> (56, 564, 586) -> (15, 586, 630) -> (20, 630, 650) -> (99, 650, 674) -> (39, 674, 697) -> (16, 697, 717) -> (25, 717, 748) -> (38, 748, 776) -> (73, 776, 801) -> (37, 801, 823) -> (8, 823, 852) -> (10, 852, 900) -> (66, 900, 942) -> (72, 942, 966) -> (43, 966, 998) -> (59, 998, 1024) -> (93, 1024, 1054) -> (24, 1054, 1089) -> (49, 1089, 1121) -> (83, 1121, 1169) -> (6, 1169, 1210) -> (23, 1210, 1247) -> (88, 1247, 1270) -> (53, 1270, 1290) -> (30, 1290, 1321) -> (67, 1321, 1340) -> (87, 1340, 1368) -> (74, 1368, 1395) -> (36, 1395, 1418) -> (96, 1418, 1463) -> (68, 1463, 1483) -> (29, 1483, 1524) | Objective value: 1524\n",
       "\n",
       "####\n",
       "\n",
       "Machine 1 : (19, 0, 23) -> (44, 23, 68) -> (84, 68, 110) -> (89, 110, 147) -> (70, 147, 163) -> (78, 163, 186) -> (55, 186, 207) -> (2, 207, 225) -> (64, 225, 265) -> (13, 265, 320) -> (22, 320, 371) -> (34, 371, 416) -> (33, 416, 433) -> (17, 433, 478) -> (90, 478, 502) -> (14, 502, 531) -> (50, 531, 567) -> (86, 567, 588) -> (41, 588, 608) -> (51, 608, 645) -> (61, 645, 670) -> (31, 670, 691) -> (57, 691, 722) -> (92, 722, 775) -> (12, 775, 808) -> (42, 808, 850) -> (95, 850, 871) -> (26, 871, 894) -> (27, 894, 919) -> (71, 919, 943) -> (82, 943, 959) -> (98, 959, 1002) -> (9, 1002, 1037) -> (77, 1037, 1066) -> (91, 1066, 1081) -> (11, 1081, 1119) -> (48, 1119, 1142) -> (62, 1142, 1176) -> (4, 1176, 1206) -> (75, 1206, 1230) -> (76, 1230, 1262) -> (65, 1262, 1299) -> (40, 1299, 1340) -> (0, 1340, 1384) -> (1, 1384, 1409) -> (97, 1409, 1434) -> (52, 1434, 1466) -> (54, 1466, 1497) -> (60, 1497, 1525) | Objective value: 1525"
      ]
     },
     "execution_count": 37,
     "metadata": {},
     "output_type": "execute_result"
    }
   ],
   "source": [
    "solve_result.best_solution"
   ]
  },
  {
   "cell_type": "markdown",
   "id": "8e294700",
   "metadata": {},
   "source": [
    "# wiTi"
   ]
  },
  {
   "cell_type": "code",
   "execution_count": null,
   "id": "1348dfda",
   "metadata": {
    "ExecuteTime": {
     "end_time": "2023-03-23T15:37:28.498590Z",
     "start_time": "2023-03-23T15:37:28.486699Z"
    }
   },
   "outputs": [],
   "source": [
    "instance = pms_wiTi.RmridiSijkWiTi_Instance.generate_random(20, 2)"
   ]
  },
  {
   "cell_type": "code",
   "execution_count": null,
   "id": "749ee721",
   "metadata": {
    "ExecuteTime": {
     "end_time": "2023-03-23T15:37:28.986766Z",
     "start_time": "2023-03-23T15:37:28.975955Z"
    }
   },
   "outputs": [],
   "source": [
    "instance.to_txt(\"test_pm.txt\")"
   ]
  },
  {
   "cell_type": "code",
   "execution_count": null,
   "id": "5304559c",
   "metadata": {
    "ExecuteTime": {
     "end_time": "2023-03-23T15:37:29.559934Z",
     "start_time": "2023-03-23T15:37:29.548293Z"
    }
   },
   "outputs": [],
   "source": [
    "instance_2 = pms_wiTi.RmridiSijkWiTi_Instance.read_txt(\"test_pm.txt\")"
   ]
  },
  {
   "cell_type": "code",
   "execution_count": null,
   "id": "5b482a81",
   "metadata": {
    "ExecuteTime": {
     "end_time": "2023-03-23T15:37:31.540177Z",
     "start_time": "2023-03-23T15:37:31.528641Z"
    }
   },
   "outputs": [],
   "source": [
    "instance_2"
   ]
  },
  {
   "cell_type": "code",
   "execution_count": null,
   "id": "33ac1fab",
   "metadata": {
    "ExecuteTime": {
     "end_time": "2023-03-23T13:27:01.509264Z",
     "start_time": "2023-03-23T13:27:01.433363Z"
    }
   },
   "outputs": [],
   "source": [
    "solve_result = methods.Heuristics.grasp(instance)"
   ]
  },
  {
   "cell_type": "code",
   "execution_count": null,
   "id": "74314316",
   "metadata": {
    "ExecuteTime": {
     "end_time": "2023-03-23T13:27:01.950613Z",
     "start_time": "2023-03-23T13:27:01.936935Z"
    }
   },
   "outputs": [],
   "source": [
    "solve_result.best_solution"
   ]
  },
  {
   "cell_type": "code",
   "execution_count": null,
   "id": "7ccbc303",
   "metadata": {
    "ExecuteTime": {
     "end_time": "2023-03-23T13:24:34.921263Z",
     "start_time": "2023-03-23T13:24:34.327310Z"
    }
   },
   "outputs": [],
   "source": [
    "sol_lahc = methods.Metaheuristics.lahc(instance, n_iterations = 100).best_solution"
   ]
  },
  {
   "cell_type": "code",
   "execution_count": null,
   "id": "0a896ff2",
   "metadata": {
    "ExecuteTime": {
     "end_time": "2023-03-23T13:24:35.408056Z",
     "start_time": "2023-03-23T13:24:35.395217Z"
    }
   },
   "outputs": [],
   "source": [
    "sol_lahc"
   ]
  },
  {
   "cell_type": "code",
   "execution_count": null,
   "id": "b9a3951b",
   "metadata": {},
   "outputs": [],
   "source": []
  }
 ],
 "metadata": {
  "kernelspec": {
   "display_name": "Python 3 (ipykernel)",
   "language": "python",
   "name": "python3"
  },
  "language_info": {
   "codemirror_mode": {
    "name": "ipython",
    "version": 3
   },
   "file_extension": ".py",
   "mimetype": "text/x-python",
   "name": "python",
   "nbconvert_exporter": "python",
   "pygments_lexer": "ipython3",
   "version": "3.8.16"
  }
 },
 "nbformat": 4,
 "nbformat_minor": 5
}
