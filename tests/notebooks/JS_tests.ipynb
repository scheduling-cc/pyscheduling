{
 "cells": [
  {
   "cell_type": "code",
   "execution_count": 1,
   "id": "574f0e46",
   "metadata": {
    "ExecuteTime": {
     "end_time": "2023-03-23T17:08:35.180945Z",
     "start_time": "2023-03-23T17:08:34.734475Z"
    }
   },
   "outputs": [],
   "source": [
    "import pyscheduling.JS.JmCmax as jm_cmax\n",
    "import pyscheduling.JS.JmriwiTi as jm_wiTi\n",
    "import pyscheduling.JS.JmridiSijkwiTi as jms_wiTi\n",
    "import pyscheduling.JS.JmriSijkwiCi as jm_wiCi\n",
    "from pyscheduling.JS.JobShop import Job, JobShopSolution, NeighbourhoodGeneration\n",
    "from pyscheduling.Problem import Objective\n",
    "import pyscheduling.JS.JS_methods as js_methods\n",
    "\n",
    "%load_ext autoreload\n",
    "%load_ext pycodestyle_magic\n",
    "%autoreload 2"
   ]
  },
  {
   "cell_type": "markdown",
   "id": "7e42ff72",
   "metadata": {},
   "source": [
    "## Jm | Cmax"
   ]
  },
  {
   "cell_type": "code",
   "execution_count": null,
   "id": "2b859c8d",
   "metadata": {
    "ExecuteTime": {
     "end_time": "2023-03-23T16:57:07.560104Z",
     "start_time": "2023-03-23T16:57:07.548854Z"
    }
   },
   "outputs": [],
   "source": [
    "instance = jm_cmax.JmCmax_Instance.generate_random(10,2)"
   ]
  },
  {
   "cell_type": "code",
   "execution_count": null,
   "id": "ec38460c",
   "metadata": {
    "ExecuteTime": {
     "end_time": "2023-03-23T16:57:08.191965Z",
     "start_time": "2023-03-23T16:57:08.179605Z"
    }
   },
   "outputs": [],
   "source": [
    "instance.P"
   ]
  },
  {
   "cell_type": "code",
   "execution_count": null,
   "id": "0b44d6d0",
   "metadata": {
    "ExecuteTime": {
     "end_time": "2023-03-23T16:57:08.424547Z",
     "start_time": "2023-03-23T16:57:08.413335Z"
    }
   },
   "outputs": [],
   "source": [
    "instance.to_txt(\"test_js.txt\")"
   ]
  },
  {
   "cell_type": "code",
   "execution_count": null,
   "id": "a7820a1d",
   "metadata": {
    "ExecuteTime": {
     "end_time": "2023-03-23T16:57:08.887086Z",
     "start_time": "2023-03-23T16:57:08.874529Z"
    }
   },
   "outputs": [],
   "source": [
    "instance_2 = jm_cmax.JmCmax_Instance.read_txt(\"test_js.txt\")"
   ]
  },
  {
   "cell_type": "code",
   "execution_count": null,
   "id": "6376befc",
   "metadata": {
    "ExecuteTime": {
     "end_time": "2023-03-23T16:57:09.356601Z",
     "start_time": "2023-03-23T16:57:09.341743Z"
    }
   },
   "outputs": [],
   "source": [
    "instance_2.P"
   ]
  },
  {
   "cell_type": "code",
   "execution_count": null,
   "id": "605b83be",
   "metadata": {
    "ExecuteTime": {
     "end_time": "2023-03-23T16:45:14.415625Z",
     "start_time": "2023-03-23T16:45:14.404015Z"
    }
   },
   "outputs": [],
   "source": [
    "rule = lambda instance, job_tuple: instance.P[job_tuple[0]][job_tuple[1][0]]"
   ]
  },
  {
   "cell_type": "code",
   "execution_count": null,
   "id": "4b172cb5",
   "metadata": {
    "ExecuteTime": {
     "end_time": "2023-03-23T16:45:14.899751Z",
     "start_time": "2023-03-23T16:45:14.878626Z"
    }
   },
   "outputs": [],
   "source": [
    "sol = js_methods.Heuristics.dispatch_heuristic(instance, rule).best_solution"
   ]
  },
  {
   "cell_type": "code",
   "execution_count": null,
   "id": "10e5999b",
   "metadata": {
    "ExecuteTime": {
     "end_time": "2023-03-23T16:45:15.418700Z",
     "start_time": "2023-03-23T16:45:15.396403Z"
    }
   },
   "outputs": [],
   "source": [
    "sol.is_valid()"
   ]
  },
  {
   "cell_type": "code",
   "execution_count": null,
   "id": "c19bc744",
   "metadata": {
    "ExecuteTime": {
     "end_time": "2023-03-23T16:45:17.520124Z",
     "start_time": "2023-03-23T16:45:17.507853Z"
    }
   },
   "outputs": [],
   "source": [
    "sol.machines[0].job_schedule"
   ]
  },
  {
   "cell_type": "code",
   "execution_count": null,
   "id": "a9451395",
   "metadata": {
    "ExecuteTime": {
     "end_time": "2023-03-23T16:45:25.130585Z",
     "start_time": "2023-03-23T16:45:25.117323Z"
    }
   },
   "outputs": [],
   "source": [
    "# Sans compute\n",
    "sol.job_schedule"
   ]
  },
  {
   "cell_type": "code",
   "execution_count": null,
   "id": "67ca8a57",
   "metadata": {
    "ExecuteTime": {
     "end_time": "2023-02-22T13:25:50.147761Z",
     "start_time": "2023-02-22T13:25:50.130178Z"
    }
   },
   "outputs": [],
   "source": [
    "instance.P"
   ]
  },
  {
   "cell_type": "code",
   "execution_count": null,
   "id": "d8e624d0",
   "metadata": {
    "ExecuteTime": {
     "end_time": "2023-02-22T14:50:09.075462Z",
     "start_time": "2023-02-22T14:50:08.870261Z"
    }
   },
   "outputs": [],
   "source": [
    "# BIBA\n",
    "sol_biba = js_methods.Heuristics.BIBA(instance).best_solution"
   ]
  },
  {
   "cell_type": "code",
   "execution_count": null,
   "id": "5e79e267",
   "metadata": {
    "ExecuteTime": {
     "end_time": "2023-02-22T14:50:13.063751Z",
     "start_time": "2023-02-22T14:50:13.052415Z"
    }
   },
   "outputs": [],
   "source": [
    "sol_biba.objective_value"
   ]
  },
  {
   "cell_type": "code",
   "execution_count": null,
   "id": "c1c0e5ef",
   "metadata": {
    "ExecuteTime": {
     "end_time": "2023-02-22T14:50:19.657539Z",
     "start_time": "2023-02-22T14:50:19.643507Z"
    }
   },
   "outputs": [],
   "source": [
    "sol_biba.is_valid()"
   ]
  },
  {
   "cell_type": "code",
   "execution_count": null,
   "id": "e379254e",
   "metadata": {
    "ExecuteTime": {
     "end_time": "2023-02-22T14:50:27.324379Z",
     "start_time": "2023-02-22T14:50:27.311311Z"
    }
   },
   "outputs": [],
   "source": [
    "sol_biba.compute_objective_graph()"
   ]
  },
  {
   "cell_type": "code",
   "execution_count": null,
   "id": "43c0c546",
   "metadata": {
    "ExecuteTime": {
     "end_time": "2023-02-06T16:23:40.325047Z",
     "start_time": "2023-02-06T16:23:40.312551Z"
    }
   },
   "outputs": [],
   "source": [
    "sol.is_feasible()"
   ]
  },
  {
   "cell_type": "code",
   "execution_count": null,
   "id": "fed2f6ba",
   "metadata": {
    "ExecuteTime": {
     "end_time": "2023-02-06T16:23:42.326936Z",
     "start_time": "2023-02-06T16:23:42.314831Z"
    }
   },
   "outputs": [],
   "source": [
    "sol.compute_objective_graph()"
   ]
  },
  {
   "cell_type": "code",
   "execution_count": null,
   "id": "86455de9",
   "metadata": {
    "ExecuteTime": {
     "end_time": "2023-02-06T16:25:48.487026Z",
     "start_time": "2023-02-06T16:25:48.030347Z"
    }
   },
   "outputs": [],
   "source": [
    "# GRASP\n",
    "sol = js_methods.Heuristics.grasp(instance).best_solution"
   ]
  },
  {
   "cell_type": "code",
   "execution_count": null,
   "id": "0bd4a237",
   "metadata": {
    "ExecuteTime": {
     "end_time": "2023-02-06T16:25:49.328676Z",
     "start_time": "2023-02-06T16:25:49.316278Z"
    }
   },
   "outputs": [],
   "source": [
    "sol.objective_value"
   ]
  },
  {
   "cell_type": "code",
   "execution_count": null,
   "id": "c990d560",
   "metadata": {
    "ExecuteTime": {
     "end_time": "2023-02-06T16:25:55.747694Z",
     "start_time": "2023-02-06T16:25:55.733878Z"
    }
   },
   "outputs": [],
   "source": [
    "sol.is_feasible()"
   ]
  },
  {
   "cell_type": "code",
   "execution_count": null,
   "id": "920af403",
   "metadata": {
    "ExecuteTime": {
     "end_time": "2023-02-06T16:25:56.836387Z",
     "start_time": "2023-02-06T16:25:56.821164Z"
    }
   },
   "outputs": [],
   "source": [
    "sol.compute_objective_graph()"
   ]
  },
  {
   "cell_type": "code",
   "execution_count": null,
   "id": "ca7d2535",
   "metadata": {
    "ExecuteTime": {
     "end_time": "2023-02-06T16:26:36.291934Z",
     "start_time": "2023-02-06T16:26:36.279207Z"
    }
   },
   "outputs": [],
   "source": [
    "sol.compute_objective()"
   ]
  },
  {
   "cell_type": "markdown",
   "id": "e0d657bf",
   "metadata": {},
   "source": [
    "## Jm| ri, di, Sijk | wiTi"
   ]
  },
  {
   "cell_type": "code",
   "execution_count": null,
   "id": "04a325e7",
   "metadata": {
    "ExecuteTime": {
     "end_time": "2023-03-23T17:03:45.531810Z",
     "start_time": "2023-03-23T17:03:45.521227Z"
    }
   },
   "outputs": [],
   "source": [
    "instance = jms_wiTi.JmridiSijkwiTi_Instance.generate_random(10,2)"
   ]
  },
  {
   "cell_type": "code",
   "execution_count": null,
   "id": "b624e13f",
   "metadata": {
    "ExecuteTime": {
     "end_time": "2023-03-23T17:03:49.456271Z",
     "start_time": "2023-03-23T17:03:49.440735Z"
    }
   },
   "outputs": [],
   "source": [
    "instance"
   ]
  },
  {
   "cell_type": "code",
   "execution_count": null,
   "id": "542290ff",
   "metadata": {
    "ExecuteTime": {
     "end_time": "2023-03-23T17:04:26.011469Z",
     "start_time": "2023-03-23T17:04:26.000226Z"
    }
   },
   "outputs": [],
   "source": [
    "instance.to_txt(\"test_js.txt\")"
   ]
  },
  {
   "cell_type": "code",
   "execution_count": null,
   "id": "6bb3d62f",
   "metadata": {
    "ExecuteTime": {
     "end_time": "2023-03-23T17:08:17.786186Z",
     "start_time": "2023-03-23T17:08:16.633384Z"
    }
   },
   "outputs": [],
   "source": [
    "instance_2 = jms_wiTi.JmridiSijkwiTi_Instance.read_txt(\"test_js.txt\")"
   ]
  },
  {
   "cell_type": "code",
   "execution_count": null,
   "id": "513975a3",
   "metadata": {
    "ExecuteTime": {
     "end_time": "2023-03-23T17:08:19.218684Z",
     "start_time": "2023-03-23T17:08:19.205947Z"
    }
   },
   "outputs": [],
   "source": [
    "instance_2"
   ]
  },
  {
   "cell_type": "code",
   "execution_count": null,
   "id": "2118d479",
   "metadata": {
    "ExecuteTime": {
     "end_time": "2023-02-22T16:14:07.561119Z",
     "start_time": "2023-02-22T16:14:02.875314Z"
    }
   },
   "outputs": [],
   "source": [
    "sol_biba = js_methods.Heuristics.BIBA(instance).best_solution"
   ]
  },
  {
   "cell_type": "code",
   "execution_count": null,
   "id": "3a5b3ae1",
   "metadata": {
    "ExecuteTime": {
     "end_time": "2023-02-22T16:14:07.602806Z",
     "start_time": "2023-02-22T16:14:07.562839Z"
    }
   },
   "outputs": [],
   "source": [
    "sol_biba.compute_objective()"
   ]
  },
  {
   "cell_type": "code",
   "execution_count": null,
   "id": "c3d51315",
   "metadata": {
    "ExecuteTime": {
     "end_time": "2023-02-22T16:22:46.200260Z",
     "start_time": "2023-02-22T16:22:46.182349Z"
    }
   },
   "outputs": [],
   "source": [
    "sol_biba.compute_objective_graph(recompute_distances=True)"
   ]
  },
  {
   "cell_type": "code",
   "execution_count": null,
   "id": "741ed84b",
   "metadata": {
    "ExecuteTime": {
     "end_time": "2023-02-22T16:22:59.080011Z",
     "start_time": "2023-02-22T16:22:59.067230Z"
    }
   },
   "outputs": [],
   "source": [
    "sol_biba.graph.jobs_times"
   ]
  },
  {
   "cell_type": "code",
   "execution_count": null,
   "id": "7e42e246",
   "metadata": {
    "ExecuteTime": {
     "end_time": "2023-02-22T16:23:39.335753Z",
     "start_time": "2023-02-22T16:23:39.322790Z"
    }
   },
   "outputs": [],
   "source": [
    "instance.R[0]"
   ]
  },
  {
   "cell_type": "code",
   "execution_count": null,
   "id": "117f7cd1",
   "metadata": {
    "ExecuteTime": {
     "end_time": "2023-02-22T16:24:44.531333Z",
     "start_time": "2023-02-22T16:24:44.518966Z"
    }
   },
   "outputs": [],
   "source": [
    "instance.S[1][0][1] + 121"
   ]
  },
  {
   "cell_type": "code",
   "execution_count": null,
   "id": "f2f58a3d",
   "metadata": {
    "ExecuteTime": {
     "end_time": "2023-02-22T16:24:17.396221Z",
     "start_time": "2023-02-22T16:24:17.382988Z"
    }
   },
   "outputs": [],
   "source": [
    "53 + 39"
   ]
  },
  {
   "cell_type": "code",
   "execution_count": null,
   "id": "c64ff41f",
   "metadata": {
    "ExecuteTime": {
     "end_time": "2023-02-22T16:26:46.794432Z",
     "start_time": "2023-02-22T16:26:46.781481Z"
    }
   },
   "outputs": [],
   "source": [
    "list(sol_biba.graph.DG.__dict__)"
   ]
  },
  {
   "cell_type": "code",
   "execution_count": null,
   "id": "19f8bcee",
   "metadata": {
    "ExecuteTime": {
     "end_time": "2023-02-22T16:28:07.233552Z",
     "start_time": "2023-02-22T16:28:07.220603Z"
    }
   },
   "outputs": [],
   "source": [
    "dict(sol_biba.graph.DG.edges)"
   ]
  },
  {
   "cell_type": "code",
   "execution_count": null,
   "id": "0ebe5ae4",
   "metadata": {
    "ExecuteTime": {
     "end_time": "2023-02-22T16:30:09.588344Z",
     "start_time": "2023-02-22T16:30:09.571853Z"
    }
   },
   "outputs": [],
   "source": [
    "instance.to_txt(\"triangular_graph_error_instance.txt\")"
   ]
  },
  {
   "cell_type": "code",
   "execution_count": null,
   "id": "293febde",
   "metadata": {
    "ExecuteTime": {
     "end_time": "2023-02-22T16:30:38.794847Z",
     "start_time": "2023-02-22T16:30:38.782677Z"
    }
   },
   "outputs": [],
   "source": [
    "instance.S[1][1][1]"
   ]
  },
  {
   "cell_type": "code",
   "execution_count": null,
   "id": "12bdaa3a",
   "metadata": {
    "ExecuteTime": {
     "end_time": "2023-02-22T16:43:59.065846Z",
     "start_time": "2023-02-22T16:43:59.054031Z"
    }
   },
   "outputs": [],
   "source": [
    "instance = jms_wiTi.JmridiSijkwiTi_Instance.read_txt(\"triangular_graph_error_instance.txt\")"
   ]
  },
  {
   "cell_type": "code",
   "execution_count": null,
   "id": "ea687c86",
   "metadata": {
    "ExecuteTime": {
     "end_time": "2023-02-22T16:44:01.311062Z",
     "start_time": "2023-02-22T16:44:01.298959Z"
    }
   },
   "outputs": [],
   "source": [
    "instance"
   ]
  },
  {
   "cell_type": "markdown",
   "id": "d9f84210",
   "metadata": {
    "ExecuteTime": {
     "end_time": "2023-02-22T16:46:01.334627Z",
     "start_time": "2023-02-22T16:46:01.323948Z"
    }
   },
   "source": [
    "## Jm| ri, Sijk | wiCi"
   ]
  },
  {
   "cell_type": "code",
   "execution_count": 2,
   "id": "f435f8a3",
   "metadata": {
    "ExecuteTime": {
     "end_time": "2023-03-23T17:08:37.596359Z",
     "start_time": "2023-03-23T17:08:37.581098Z"
    }
   },
   "outputs": [],
   "source": [
    "instance = jm_wiCi.JmriSijkwiCi_Instance.generate_random(20,2)"
   ]
  },
  {
   "cell_type": "code",
   "execution_count": 3,
   "id": "5cbc3d2c",
   "metadata": {
    "ExecuteTime": {
     "end_time": "2023-03-23T17:08:45.643451Z",
     "start_time": "2023-03-23T17:08:45.630761Z"
    }
   },
   "outputs": [],
   "source": [
    "instance.to_txt(\"test_js.txt\")"
   ]
  },
  {
   "cell_type": "code",
   "execution_count": 4,
   "id": "d9c03915",
   "metadata": {
    "ExecuteTime": {
     "end_time": "2023-03-23T17:09:03.174704Z",
     "start_time": "2023-03-23T17:09:03.158170Z"
    }
   },
   "outputs": [],
   "source": [
    "instance_2 = jm_wiCi.JmriSijkwiCi_Instance.read_txt(\"test_js.txt\")"
   ]
  },
  {
   "cell_type": "code",
   "execution_count": null,
   "id": "88f252b6",
   "metadata": {
    "ExecuteTime": {
     "end_time": "2023-03-20T15:22:58.795433Z",
     "start_time": "2023-03-20T15:22:58.766875Z"
    }
   },
   "outputs": [],
   "source": [
    "sol_biba = js_methods.Heuristics.BIBA(instance).best_solution"
   ]
  },
  {
   "cell_type": "code",
   "execution_count": null,
   "id": "fbfde36f",
   "metadata": {
    "ExecuteTime": {
     "end_time": "2023-02-23T19:04:43.148378Z",
     "start_time": "2023-02-23T19:04:43.120576Z"
    }
   },
   "outputs": [],
   "source": [
    "sol_biba.is_valid()"
   ]
  },
  {
   "cell_type": "code",
   "execution_count": null,
   "id": "7b0a969b",
   "metadata": {
    "ExecuteTime": {
     "end_time": "2023-02-23T19:52:40.280288Z",
     "start_time": "2023-02-23T19:52:40.266579Z"
    }
   },
   "outputs": [],
   "source": [
    "sol_biba.objective_value"
   ]
  },
  {
   "cell_type": "code",
   "execution_count": null,
   "id": "c5a99c4e",
   "metadata": {
    "ExecuteTime": {
     "end_time": "2023-02-23T19:52:36.072175Z",
     "start_time": "2023-02-23T19:52:36.022783Z"
    }
   },
   "outputs": [],
   "source": [
    "new_sol = NeighbourhoodGeneration.deconstruct_construct(sol_biba, d=0.25)"
   ]
  },
  {
   "cell_type": "code",
   "execution_count": null,
   "id": "d96a045c",
   "metadata": {
    "ExecuteTime": {
     "end_time": "2023-02-23T19:52:36.437154Z",
     "start_time": "2023-02-23T19:52:36.418137Z"
    }
   },
   "outputs": [],
   "source": [
    "new_sol.is_valid()"
   ]
  },
  {
   "cell_type": "code",
   "execution_count": null,
   "id": "7f670ed2",
   "metadata": {
    "ExecuteTime": {
     "end_time": "2023-02-23T19:52:37.694830Z",
     "start_time": "2023-02-23T19:52:37.681452Z"
    }
   },
   "outputs": [],
   "source": [
    "new_sol.objective_value"
   ]
  },
  {
   "cell_type": "code",
   "execution_count": null,
   "id": "6c140ea2",
   "metadata": {
    "ExecuteTime": {
     "end_time": "2023-02-23T19:59:34.123965Z",
     "start_time": "2023-02-23T19:59:34.094710Z"
    }
   },
   "outputs": [],
   "source": [
    "new_random_sol = NeighbourhoodGeneration.random_neighbour(sol_biba)"
   ]
  },
  {
   "cell_type": "code",
   "execution_count": 5,
   "id": "8903bc4b",
   "metadata": {
    "ExecuteTime": {
     "end_time": "2023-03-23T17:09:25.061048Z",
     "start_time": "2023-03-23T17:09:25.050111Z"
    }
   },
   "outputs": [],
   "source": [
    "my_str = \"js_test.txt\""
   ]
  },
  {
   "cell_type": "code",
   "execution_count": 6,
   "id": "96966c3e",
   "metadata": {
    "ExecuteTime": {
     "end_time": "2023-03-23T17:09:36.453050Z",
     "start_time": "2023-03-23T17:09:36.441777Z"
    }
   },
   "outputs": [],
   "source": [
    "from pathlib import Path"
   ]
  },
  {
   "cell_type": "code",
   "execution_count": 8,
   "id": "9e231498",
   "metadata": {
    "ExecuteTime": {
     "end_time": "2023-03-23T17:09:47.412891Z",
     "start_time": "2023-03-23T17:09:47.402491Z"
    }
   },
   "outputs": [],
   "source": [
    "my_path = Path(my_str)"
   ]
  },
  {
   "cell_type": "code",
   "execution_count": 9,
   "id": "6b4eb329",
   "metadata": {
    "ExecuteTime": {
     "end_time": "2023-03-23T17:09:56.474986Z",
     "start_time": "2023-03-23T17:09:56.464290Z"
    }
   },
   "outputs": [],
   "source": [
    "my_path_2 = Path(my_path)"
   ]
  },
  {
   "cell_type": "code",
   "execution_count": 13,
   "id": "afa94c71",
   "metadata": {
    "ExecuteTime": {
     "end_time": "2023-03-23T17:10:09.094112Z",
     "start_time": "2023-03-23T17:10:09.081158Z"
    }
   },
   "outputs": [
    {
     "data": {
      "text/plain": [
       "False"
      ]
     },
     "execution_count": 13,
     "metadata": {},
     "output_type": "execute_result"
    }
   ],
   "source": [
    "my_path_2.exists()"
   ]
  }
 ],
 "metadata": {
  "kernelspec": {
   "display_name": "Python 3 (ipykernel)",
   "language": "python",
   "name": "python3"
  },
  "language_info": {
   "codemirror_mode": {
    "name": "ipython",
    "version": 3
   },
   "file_extension": ".py",
   "mimetype": "text/x-python",
   "name": "python",
   "nbconvert_exporter": "python",
   "pygments_lexer": "ipython3",
   "version": "3.8.16"
  }
 },
 "nbformat": 4,
 "nbformat_minor": 5
}
