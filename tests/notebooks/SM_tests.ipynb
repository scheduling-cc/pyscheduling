{
 "cells": [
  {
   "cell_type": "code",
   "execution_count": 29,
   "id": "00ebbf30",
   "metadata": {
    "ExecuteTime": {
     "end_time": "2023-03-23T13:03:04.409496Z",
     "start_time": "2023-03-23T13:03:04.382474Z"
    }
   },
   "outputs": [
    {
     "name": "stdout",
     "output_type": "stream",
     "text": [
      "The autoreload extension is already loaded. To reload it, use:\n",
      "  %reload_ext autoreload\n",
      "The pycodestyle_magic extension is already loaded. To reload it, use:\n",
      "  %reload_ext pycodestyle_magic\n"
     ]
    }
   ],
   "source": [
    "import pyscheduling.SMSP.risijCmax as sm_cmax\n",
    "import pyscheduling.SMSP.riwiCi as sm_ci\n",
    "import pyscheduling.SMSP.risijwiFi as sm_fi\n",
    "import pyscheduling.SMSP.SM_methods as sm_methods\n",
    "import pyscheduling.SMSP.SingleMachine as sm\n",
    "import pyscheduling.SMSP.risijwiTi as sm_ti\n",
    "\n",
    "import pyscheduling.Problem as Problem\n",
    "\n",
    "%load_ext autoreload\n",
    "%load_ext pycodestyle_magic\n",
    "%autoreload 2"
   ]
  },
  {
   "cell_type": "markdown",
   "id": "d2a59a15",
   "metadata": {},
   "source": [
    "## New problem risijwiCi"
   ]
  },
  {
   "cell_type": "code",
   "execution_count": null,
   "id": "52ba9614",
   "metadata": {
    "ExecuteTime": {
     "end_time": "2023-03-22T14:42:23.805705Z",
     "start_time": "2023-03-22T14:42:23.779759Z"
    }
   },
   "outputs": [],
   "source": [
    "instance = sm.risijwiCi_Instance.generate_random(40, Wmax=2)"
   ]
  },
  {
   "cell_type": "code",
   "execution_count": null,
   "id": "abaeb64a",
   "metadata": {
    "ExecuteTime": {
     "end_time": "2022-10-29T08:17:20.690430Z",
     "start_time": "2022-10-29T08:17:20.674499Z"
    }
   },
   "outputs": [],
   "source": [
    "results_dict = {}\n",
    "for rule_number in range(4):\n",
    "    obj = sm.Heuristics.list_heuristic(instance, rule_number, False).best_solution.objective_value\n",
    "    obj_reverse = sm.Heuristics.list_heuristic(instance, rule_number, True).best_solution.objective_value\n",
    "    \n",
    "    results_dict[f'Rule_{rule_number}'] = obj\n",
    "    results_dict[f'Rule_{rule_number}-reverse'] = obj_reverse \n",
    "    \n",
    "print(results_dict)"
   ]
  },
  {
   "cell_type": "code",
   "execution_count": null,
   "id": "dd7aa6f6",
   "metadata": {
    "ExecuteTime": {
     "end_time": "2022-10-29T08:17:23.051698Z",
     "start_time": "2022-10-29T08:17:22.515260Z"
    }
   },
   "outputs": [],
   "source": [
    "solve_result_grasp = sm_methods.Heuristics.grasp(instance, 0, 0.2, 5)"
   ]
  },
  {
   "cell_type": "code",
   "execution_count": null,
   "id": "ec8cde43",
   "metadata": {
    "ExecuteTime": {
     "end_time": "2022-10-29T08:17:28.473602Z",
     "start_time": "2022-10-29T08:17:28.358623Z"
    }
   },
   "outputs": [],
   "source": [
    "solve_result_biba = sm_methods.Heuristics.BIBA(instance)"
   ]
  },
  {
   "cell_type": "code",
   "execution_count": null,
   "id": "23af33af",
   "metadata": {
    "ExecuteTime": {
     "end_time": "2022-10-29T08:17:28.738975Z",
     "start_time": "2022-10-29T08:17:28.719665Z"
    }
   },
   "outputs": [],
   "source": [
    "solve_result_list = sm.Heuristics.list_heuristic(instance, rule_number=1)"
   ]
  },
  {
   "cell_type": "code",
   "execution_count": null,
   "id": "d82de077",
   "metadata": {
    "ExecuteTime": {
     "end_time": "2022-10-29T08:17:37.289842Z",
     "start_time": "2022-10-29T08:17:29.210434Z"
    }
   },
   "outputs": [],
   "source": [
    "solve_result_lahc = sm_methods.Metaheuristics.lahc(instance, **{\"time_limit_factor\":0.2})"
   ]
  },
  {
   "cell_type": "code",
   "execution_count": null,
   "id": "23d1dd8a",
   "metadata": {
    "ExecuteTime": {
     "end_time": "2022-10-29T08:17:45.318507Z",
     "start_time": "2022-10-29T08:17:37.292691Z"
    }
   },
   "outputs": [],
   "source": [
    "solve_result_sa = sm_methods.Metaheuristics.SA(instance, **{\"time_limit_factor\":0.2})"
   ]
  },
  {
   "cell_type": "code",
   "execution_count": null,
   "id": "9c941174",
   "metadata": {
    "ExecuteTime": {
     "end_time": "2022-10-29T08:17:45.336864Z",
     "start_time": "2022-10-29T08:17:45.320482Z"
    }
   },
   "outputs": [],
   "source": [
    "print(solve_result_lahc.best_solution)"
   ]
  },
  {
   "cell_type": "markdown",
   "id": "a51ec207",
   "metadata": {},
   "source": [
    "## Old problem riwiCi"
   ]
  },
  {
   "cell_type": "code",
   "execution_count": 19,
   "id": "319e00ec",
   "metadata": {
    "ExecuteTime": {
     "end_time": "2023-03-23T12:56:27.146382Z",
     "start_time": "2023-03-23T12:56:24.024545Z"
    }
   },
   "outputs": [],
   "source": [
    "instance = sm_ci.riwiCi_Instance.generate_random(10)"
   ]
  },
  {
   "cell_type": "code",
   "execution_count": 20,
   "id": "d41a7be6",
   "metadata": {
    "ExecuteTime": {
     "end_time": "2023-03-23T12:56:29.616843Z",
     "start_time": "2023-03-23T12:56:29.604760Z"
    }
   },
   "outputs": [
    {
     "data": {
      "text/plain": [
       "riwiCi_Instance(name='Unknown', P=[16, 19, 34, 32, 11, 34, 31, 18, 30, 25], W=[2, 2, 2, 2, 2, 1, 1, 1, 2, 2], R=[160, 163, 21, 107, 139, 151, 177, 81, 30, 19])"
      ]
     },
     "execution_count": 20,
     "metadata": {},
     "output_type": "execute_result"
    }
   ],
   "source": [
    "instance"
   ]
  },
  {
   "cell_type": "code",
   "execution_count": null,
   "id": "0a0d44c6",
   "metadata": {
    "ExecuteTime": {
     "end_time": "2022-10-27T14:51:52.923567Z",
     "start_time": "2022-10-27T14:51:52.877039Z"
    }
   },
   "outputs": [],
   "source": [
    "solve_result = sm_methods.Heuristics_Cmax.grasp(instance, 0.5, 0.5, 5)"
   ]
  },
  {
   "cell_type": "code",
   "execution_count": null,
   "id": "9685221c",
   "metadata": {
    "ExecuteTime": {
     "end_time": "2022-10-27T14:52:01.056746Z",
     "start_time": "2022-10-27T14:52:01.028477Z"
    }
   },
   "outputs": [],
   "source": [
    "%%timeit\n",
    "solve_result_1 = sm_ci.Heuristics.WSAPT(instance)"
   ]
  },
  {
   "cell_type": "code",
   "execution_count": null,
   "id": "76c9d655",
   "metadata": {
    "ExecuteTime": {
     "end_time": "2022-10-23T14:24:01.109487Z",
     "start_time": "2022-10-23T14:23:54.227298Z"
    }
   },
   "outputs": [],
   "source": [
    "%%timeit\n",
    "rule = lambda instance, job_id : float(instance.W[job_id])/float(instance.P[job_id])\n",
    "filter_fun = lambda instance, ci, job_id : instance.R[job_id]<=ci\n",
    "solve_result_2 = sm_methods.Heuristics.dynamic_dispatch_rule(instance,rule, filter_fun, reverse=True)"
   ]
  },
  {
   "cell_type": "code",
   "execution_count": null,
   "id": "cba94430",
   "metadata": {
    "ExecuteTime": {
     "end_time": "2022-10-23T14:22:40.735092Z",
     "start_time": "2022-10-23T14:22:40.716170Z"
    }
   },
   "outputs": [],
   "source": [
    "print(solve_result_1)\n",
    "print(solve_result_2)"
   ]
  },
  {
   "cell_type": "markdown",
   "id": "f87ed343",
   "metadata": {},
   "source": [
    "## Refactored compute_objective methods"
   ]
  },
  {
   "cell_type": "code",
   "execution_count": 27,
   "id": "cf625da2",
   "metadata": {
    "ExecuteTime": {
     "end_time": "2023-03-23T13:02:23.179573Z",
     "start_time": "2023-03-23T13:02:23.169408Z"
    }
   },
   "outputs": [],
   "source": [
    "instance = sm_cmax.risijCmax_Instance.generate_random(5)"
   ]
  },
  {
   "cell_type": "code",
   "execution_count": 28,
   "id": "0b249254",
   "metadata": {
    "ExecuteTime": {
     "end_time": "2023-03-23T13:02:24.552895Z",
     "start_time": "2023-03-23T13:02:24.540614Z"
    }
   },
   "outputs": [
    {
     "data": {
      "text/plain": [
       "risijCmax_Instance(name='Unknown', P=[48, 15, 35, 28, 46], R=[45, 137, 115, 18, 127], S=[[25, 20, 15, 25, 9], [8, 18, 21, 23, 16], [19, 21, 14, 13, 11], [24, 13, 24, 17, 10], [19, 9, 17, 22, 10]])"
      ]
     },
     "execution_count": 28,
     "metadata": {},
     "output_type": "execute_result"
    }
   ],
   "source": [
    "instance"
   ]
  },
  {
   "cell_type": "code",
   "execution_count": null,
   "id": "b444758d",
   "metadata": {
    "ExecuteTime": {
     "end_time": "2023-03-20T21:16:06.877302Z",
     "start_time": "2023-03-20T21:16:06.865030Z"
    }
   },
   "outputs": [],
   "source": [
    "Problem.Constraints.sorting_dict"
   ]
  },
  {
   "cell_type": "code",
   "execution_count": null,
   "id": "5ca663bd",
   "metadata": {
    "ExecuteTime": {
     "end_time": "2023-03-20T20:56:18.889138Z",
     "start_time": "2023-03-20T20:56:18.872251Z"
    }
   },
   "outputs": [],
   "source": [
    "instance.to_txt(\"tst.txt\")"
   ]
  },
  {
   "cell_type": "code",
   "execution_count": null,
   "id": "f3968e3a",
   "metadata": {
    "ExecuteTime": {
     "end_time": "2022-11-21T14:51:04.185009Z",
     "start_time": "2022-11-21T14:51:04.113755Z"
    }
   },
   "outputs": [],
   "source": [
    "lahc_sol = sm_methods.Metaheuristics.lahc(instance, n_iterations=10)"
   ]
  },
  {
   "cell_type": "code",
   "execution_count": null,
   "id": "07db58cd",
   "metadata": {
    "ExecuteTime": {
     "end_time": "2022-11-19T21:58:05.189376Z",
     "start_time": "2022-11-19T21:58:05.175476Z"
    }
   },
   "outputs": [],
   "source": [
    "lahc_sol.best_solution.machine.job_schedule"
   ]
  },
  {
   "cell_type": "code",
   "execution_count": null,
   "id": "7b766396",
   "metadata": {
    "ExecuteTime": {
     "end_time": "2022-11-21T14:51:31.076326Z",
     "start_time": "2022-11-21T14:51:31.065740Z"
    }
   },
   "outputs": [],
   "source": [
    "lahc_sol.best_solution.is_valid()"
   ]
  },
  {
   "cell_type": "code",
   "execution_count": null,
   "id": "4eb48399",
   "metadata": {
    "ExecuteTime": {
     "end_time": "2022-11-19T21:58:24.465522Z",
     "start_time": "2022-11-19T21:58:24.450742Z"
    }
   },
   "outputs": [],
   "source": [
    "19 + instance.S[8][14], instance.R[14], instance.P[14]"
   ]
  },
  {
   "cell_type": "code",
   "execution_count": null,
   "id": "785d592a",
   "metadata": {
    "ExecuteTime": {
     "end_time": "2022-11-21T14:51:35.436827Z",
     "start_time": "2022-11-21T14:51:35.417969Z"
    }
   },
   "outputs": [],
   "source": [
    "biba_sol = sm_methods.Heuristics.BIBA(instance)"
   ]
  },
  {
   "cell_type": "code",
   "execution_count": null,
   "id": "0fad403f",
   "metadata": {
    "ExecuteTime": {
     "end_time": "2022-11-21T14:51:36.100008Z",
     "start_time": "2022-11-21T14:51:36.088811Z"
    }
   },
   "outputs": [],
   "source": [
    "biba_sol.best_solution.objective_value"
   ]
  },
  {
   "cell_type": "markdown",
   "id": "996bf5df",
   "metadata": {
    "ExecuteTime": {
     "end_time": "2022-11-21T15:46:25.066340Z",
     "start_time": "2022-11-21T15:46:21.473513Z"
    }
   },
   "source": [
    "## wiFi objective"
   ]
  },
  {
   "cell_type": "code",
   "execution_count": null,
   "id": "6db4865b",
   "metadata": {
    "ExecuteTime": {
     "end_time": "2022-11-21T16:36:07.686233Z",
     "start_time": "2022-11-21T16:36:07.675656Z"
    }
   },
   "outputs": [],
   "source": [
    "instance = sm_fi.risijwiFi_Instance.generate_random(20)"
   ]
  },
  {
   "cell_type": "code",
   "execution_count": null,
   "id": "a4528eb5",
   "metadata": {
    "ExecuteTime": {
     "end_time": "2022-11-21T16:36:08.236053Z",
     "start_time": "2022-11-21T16:36:08.222390Z"
    }
   },
   "outputs": [],
   "source": [
    "instance"
   ]
  },
  {
   "cell_type": "code",
   "execution_count": null,
   "id": "dac991e4",
   "metadata": {
    "ExecuteTime": {
     "end_time": "2022-11-21T16:40:59.709135Z",
     "start_time": "2022-11-21T16:40:59.688982Z"
    }
   },
   "outputs": [],
   "source": [
    "biba_sol = sm_methods.Heuristics.BIBA(instance)"
   ]
  },
  {
   "cell_type": "code",
   "execution_count": null,
   "id": "83b93289",
   "metadata": {
    "ExecuteTime": {
     "end_time": "2022-11-21T16:41:04.492571Z",
     "start_time": "2022-11-21T16:41:04.481375Z"
    }
   },
   "outputs": [],
   "source": [
    "biba_sol.best_solution"
   ]
  },
  {
   "cell_type": "code",
   "execution_count": null,
   "id": "f5514a13",
   "metadata": {
    "ExecuteTime": {
     "end_time": "2022-11-21T16:41:06.259521Z",
     "start_time": "2022-11-21T16:41:06.165683Z"
    }
   },
   "outputs": [],
   "source": [
    "lahc_sol = sm_methods.Metaheuristics.lahc(instance, n_iterations=10)"
   ]
  },
  {
   "cell_type": "code",
   "execution_count": null,
   "id": "d3d7b85d",
   "metadata": {
    "ExecuteTime": {
     "end_time": "2022-11-21T16:36:24.211162Z",
     "start_time": "2022-11-21T16:36:24.200070Z"
    }
   },
   "outputs": [],
   "source": [
    "lahc_sol.all_solutions"
   ]
  },
  {
   "cell_type": "code",
   "execution_count": null,
   "id": "6af7db84",
   "metadata": {
    "ExecuteTime": {
     "end_time": "2022-11-21T16:41:50.532168Z",
     "start_time": "2022-11-21T16:41:50.513901Z"
    }
   },
   "outputs": [],
   "source": [
    "LS = sm.SM_LocalSearch()\n",
    "new_sol = LS.improve(biba_sol.best_solution)"
   ]
  },
  {
   "cell_type": "markdown",
   "id": "2ce49eb5",
   "metadata": {},
   "source": [
    "# wiTi"
   ]
  },
  {
   "cell_type": "code",
   "execution_count": 37,
   "id": "ad17da22",
   "metadata": {
    "ExecuteTime": {
     "end_time": "2023-03-23T13:07:00.151948Z",
     "start_time": "2023-03-23T13:07:00.141364Z"
    }
   },
   "outputs": [],
   "source": [
    "instance = sm_ti.risijwiTi_Instance.generate_random(5)"
   ]
  },
  {
   "cell_type": "code",
   "execution_count": 38,
   "id": "6def91be",
   "metadata": {
    "ExecuteTime": {
     "end_time": "2023-03-23T13:07:02.303456Z",
     "start_time": "2023-03-23T13:07:02.288530Z"
    }
   },
   "outputs": [
    {
     "data": {
      "text/plain": [
       "risijwiTi_Instance(name='Unknown', n=5, P=[31, 40, 21, 39, 13], W=[4, 2, 2, 3, 3], R=[28, 107, 16, 52, 14], D=[198, 175, 199, 175, 190], S=[[13, 15, 7, 10, 8], [14, 13, 11, 10, 8], [9, 6, 21, 18, 18], [9, 21, 15, 9, 15], [14, 20, 10, 17, 9]])"
      ]
     },
     "execution_count": 38,
     "metadata": {},
     "output_type": "execute_result"
    }
   ],
   "source": [
    "instance"
   ]
  }
 ],
 "metadata": {
  "kernelspec": {
   "display_name": "Python 3 (ipykernel)",
   "language": "python",
   "name": "python3"
  },
  "language_info": {
   "codemirror_mode": {
    "name": "ipython",
    "version": 3
   },
   "file_extension": ".py",
   "mimetype": "text/x-python",
   "name": "python",
   "nbconvert_exporter": "python",
   "pygments_lexer": "ipython3",
   "version": "3.8.16"
  }
 },
 "nbformat": 4,
 "nbformat_minor": 5
}
