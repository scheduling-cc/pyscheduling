{
 "cells": [
  {
   "cell_type": "code",
   "execution_count": 30,
   "metadata": {},
   "outputs": [
    {
     "name": "stdout",
     "output_type": "stream",
     "text": [
      "The autoreload extension is already loaded. To reload it, use:\n",
      "  %reload_ext autoreload\n"
     ]
    }
   ],
   "source": [
    "%load_ext autoreload\n",
    "%autoreload 2\n",
    "import pyscheduling_cc.FS.FmCmax as fs"
   ]
  },
  {
   "cell_type": "code",
   "execution_count": 31,
   "metadata": {},
   "outputs": [],
   "source": [
    "instance = fs.FmCmax_Instance.generate_random(5,2)\n",
    "instance.to_txt(\"deleteMe.txt\")"
   ]
  },
  {
   "cell_type": "code",
   "execution_count": 32,
   "metadata": {},
   "outputs": [
    {
     "name": "stdout",
     "output_type": "stream",
     "text": [
      "Objective : 324\n",
      "Jobs sequence : 0\t1\t2\t3\t4\n",
      "Machine_ID | Job_schedule (job_id , start_time , completion_time) | Completion_time\n",
      "(0, 0, 42) : (1, 42, 89) : (2, 89, 166) : (3, 166, 217) : (4, 217, 264) | 264\n",
      "(0, 42, 95) : (1, 95, 154) : (2, 166, 208) : (3, 217, 271) : (4, 271, 324) | 324\n"
     ]
    }
   ],
   "source": [
    "solution = fs.FlowShop.FlowShopSolution(instance)\n",
    "jobs_list = [i for i in range(solution.instance.n)]\n",
    "solution.job_schedule = jobs_list\n",
    "solution.cmax()\n",
    "print(solution)"
   ]
  },
  {
   "cell_type": "code",
   "execution_count": 33,
   "metadata": {},
   "outputs": [
    {
     "name": "stdout",
     "output_type": "stream",
     "text": [
      "Search stopped with status : FEASIBLE\n",
      " Solution is : \n",
      " Objective : 306\n",
      "Jobs sequence : 0\t1\t4\t3\t2\n",
      "Machine_ID | Job_schedule (job_id , start_time , completion_time) | Completion_time\n",
      "(0, 0, 42) : (1, 42, 89) : (4, 89, 136) : (3, 136, 187) : (2, 187, 264) | 264\n",
      "(0, 42, 95) : (1, 95, 154) : (4, 154, 207) : (3, 207, 261) : (2, 264, 306) | 306 \n",
      "Runtime is : 6.700000017190177e-05s \n",
      "time to best is : -1s \n",
      "\n"
     ]
    }
   ],
   "source": [
    "solution = fs.Heuristics.slope(instance)\n",
    "print(solution)"
   ]
  }
 ],
 "metadata": {
  "kernelspec": {
   "display_name": "Python 3.9.12 ('pyscheduling')",
   "language": "python",
   "name": "python3"
  },
  "language_info": {
   "codemirror_mode": {
    "name": "ipython",
    "version": 3
   },
   "file_extension": ".py",
   "mimetype": "text/x-python",
   "name": "python",
   "nbconvert_exporter": "python",
   "pygments_lexer": "ipython3",
   "version": "3.9.12"
  },
  "orig_nbformat": 4,
  "vscode": {
   "interpreter": {
    "hash": "5680f738cc3aa8dc0f2caa6f4f7f94524a25cee02af6591b567881b90e17c616"
   }
  }
 },
 "nbformat": 4,
 "nbformat_minor": 2
}
