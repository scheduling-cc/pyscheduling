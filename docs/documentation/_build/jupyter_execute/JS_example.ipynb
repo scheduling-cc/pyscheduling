{
 "cells": [
  {
   "cell_type": "markdown",
   "metadata": {},
   "source": [
    "We start by importing the corresponding jobshop problem module as following :"
   ]
  },
  {
   "cell_type": "code",
   "execution_count": 1,
   "metadata": {},
   "outputs": [],
   "source": [
    "%load_ext autoreload\n",
    "%autoreload 2\n",
    "import pyscheduling_cc.JS.JmCmax as js"
   ]
  },
  {
   "cell_type": "markdown",
   "metadata": {},
   "source": [
    "This is an example of instance to test on :"
   ]
  },
  {
   "cell_type": "code",
   "execution_count": 2,
   "metadata": {},
   "outputs": [],
   "source": [
    "f = open(\"deleteMe.txt\",'w')\n",
    "f.write(\"3 4\\n0\\t10\\t1\\t8\\t2\\t4\\n1\\t8\\t0\\t3\\t3\\t5\\t2\\t6\\n0\\t4\\t1\\t7\\t3\\t3\")\n",
    "f.close()"
   ]
  },
  {
   "cell_type": "markdown",
   "metadata": {},
   "source": [
    "Next, we have to read the instance from the text file created above as follows in the next code cell.\n",
    "\n",
    "We obviously can randomly generate the instance as well."
   ]
  },
  {
   "cell_type": "code",
   "execution_count": 3,
   "metadata": {},
   "outputs": [
    {
     "name": "stdout",
     "output_type": "stream",
     "text": [
      "[[(0, 10), (1, 8), (2, 4)], [(1, 8), (0, 3), (3, 5), (2, 6)], [(0, 4), (1, 7), (3, 3)]]\n"
     ]
    }
   ],
   "source": [
    "instance = js.JmCmax_Instance.read_txt(\"deleteMe.txt\")\n",
    "print(instance.P)\n"
   ]
  },
  {
   "cell_type": "markdown",
   "metadata": {},
   "source": [
    "Finally, we use one of the implemented methods which are found in either **Heuristics** or **Metaheuristics** classes as following :\n"
   ]
  },
  {
   "cell_type": "code",
   "execution_count": 4,
   "metadata": {},
   "outputs": [
    {
     "name": "stdout",
     "output_type": "stream",
     "text": [
      "Objective : 28\n",
      "Machine_ID | Job_schedule (job_id , start_time , completion_time) | Completion_time\n",
      "1 | (0, 0, 10) : (1, 10, 13) : (2, 13, 17) | 17\n",
      "2 | (1, 0, 8) : (0, 10, 18) : (2, 18, 25) | 25\n",
      "3 | (0, 18, 22) : (1, 22, 28) | 28\n",
      "4 | (1, 13, 18) : (2, 25, 28) | 28\n"
     ]
    }
   ],
   "source": [
    "solution = js.Heuristics.shifting_bottleneck(instance)\n",
    "print(solution)"
   ]
  }
 ],
 "metadata": {
  "kernelspec": {
   "display_name": "Python 3.9.12 ('pyscheduling')",
   "language": "python",
   "name": "python3"
  },
  "language_info": {
   "codemirror_mode": {
    "name": "ipython",
    "version": 3
   },
   "file_extension": ".py",
   "mimetype": "text/x-python",
   "name": "python",
   "nbconvert_exporter": "python",
   "pygments_lexer": "ipython3",
   "version": "3.9.12"
  },
  "vscode": {
   "interpreter": {
    "hash": "5680f738cc3aa8dc0f2caa6f4f7f94524a25cee02af6591b567881b90e17c616"
   }
  }
 },
 "nbformat": 4,
 "nbformat_minor": 2
}