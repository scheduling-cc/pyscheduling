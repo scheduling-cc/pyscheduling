{
 "cells": [
  {
   "cell_type": "code",
   "execution_count": 31,
   "metadata": {
    "ExecuteTime": {
     "end_time": "2022-07-21T15:05:02.377758Z",
     "start_time": "2022-07-21T15:05:01.824449Z"
    }
   },
   "outputs": [
    {
     "name": "stdout",
     "output_type": "stream",
     "text": [
      "The autoreload extension is already loaded. To reload it, use:\n",
      "  %reload_ext autoreload\n"
     ]
    },
    {
     "name": "stderr",
     "output_type": "stream",
     "text": [
      "[autoreload of pyscheduling_cc.RmriSijkCmax failed: Traceback (most recent call last):\n",
      "  File \"/home/athmani/anaconda3/envs/pyscheduling/lib/python3.9/site-packages/IPython/extensions/autoreload.py\", line 257, in check\n",
      "    superreload(m, reload, self.old_objects)\n",
      "  File \"/home/athmani/anaconda3/envs/pyscheduling/lib/python3.9/site-packages/IPython/extensions/autoreload.py\", line 455, in superreload\n",
      "    module = reload(module)\n",
      "  File \"/home/athmani/anaconda3/envs/pyscheduling/lib/python3.9/importlib/__init__.py\", line 169, in reload\n",
      "    _bootstrap._exec(spec, module)\n",
      "  File \"<frozen importlib._bootstrap>\", line 613, in _exec\n",
      "  File \"<frozen importlib._bootstrap_external>\", line 846, in exec_module\n",
      "  File \"<frozen importlib._bootstrap_external>\", line 983, in get_code\n",
      "  File \"<frozen importlib._bootstrap_external>\", line 913, in source_to_code\n",
      "  File \"<frozen importlib._bootstrap>\", line 228, in _call_with_frames_removed\n",
      "  File \"/home/athmani/Workspace/SchedulingCC/PySchedulingCC/src/pyscheduling_cc/RmriSijkCmax.py\", line 1\n",
      "    <<<<<<< HEAD\n",
      "    ^\n",
      "SyntaxError: invalid syntax\n",
      "]\n"
     ]
    }
   ],
   "source": [
    "%load_ext autoreload\n",
    "%autoreload 2\n",
    "\n",
    "import pyscheduling_cc as pyscheduling\n",
    "import pyscheduling_cc.ParallelMachines as pmsp\n",
    "import pyscheduling_cc.RmSijkCmax as pmsp_sijk\n",
    "import pyscheduling_cc.RmriSijkCmax as pmsp_ri"
   ]
  },
  {
   "cell_type": "code",
   "execution_count": 32,
   "metadata": {
    "ExecuteTime": {
     "end_time": "2022-07-21T15:05:03.342572Z",
     "start_time": "2022-07-21T15:05:02.379513Z"
    }
   },
   "outputs": [
    {
     "name": "stdout",
     "output_type": "stream",
     "text": [
      "Search stopped with status : FEASIBLE\n",
      " Solution is : \n",
      " Cmax : 2743\n",
      "Machine_ID | Job_schedule (job_id , start_time , completion_time) | Completion_time\n",
      "1 | (0, 0, 83) : (8, 83, 273) : (20, 273, 463) : (27, 463, 653) : (39, 653, 843) : (53, 843, 1033) : (62, 1033, 1223) : (70, 1223, 1413) : (80, 1413, 1603) : (90, 1603, 1793) : (101, 1793, 1983) : (112, 1983, 2173) : (124, 2173, 2363) : (131, 2363, 2553) : (139, 2553, 2743) | 2743\n",
      "2 | (1, 0, 83) : (13, 83, 273) : (22, 273, 463) : (30, 463, 653) : (41, 653, 843) : (50, 843, 1033) : (59, 1033, 1223) : (71, 1223, 1413) : (81, 1413, 1603) : (91, 1603, 1793) : (95, 1793, 1983) : (110, 1983, 2173) : (115, 2173, 2363) : (128, 2363, 2553) : (140, 2553, 2743) | 2743\n",
      "3 | (2, 0, 83) : (10, 83, 273) : (16, 273, 463) : (32, 463, 653) : (42, 653, 843) : (47, 843, 1033) : (61, 1033, 1223) : (72, 1223, 1413) : (82, 1413, 1603) : (93, 1603, 1793) : (102, 1793, 1983) : (108, 1983, 2173) : (123, 2173, 2363) : (130, 2363, 2553) : (142, 2553, 2743) | 2743\n",
      "4 | (3, 0, 83) : (14, 83, 273) : (23, 273, 463) : (31, 463, 653) : (44, 653, 843) : (52, 843, 1033) : (63, 1033, 1223) : (74, 1223, 1413) : (83, 1413, 1603) : (94, 1603, 1793) : (105, 1793, 1983) : (113, 1983, 2173) : (125, 2173, 2363) : (134, 2363, 2553) : (141, 2553, 2743) | 2743\n",
      "5 | (149, 0, 83) : (11, 83, 273) : (24, 273, 463) : (33, 463, 653) : (43, 653, 843) : (54, 843, 1033) : (66, 1033, 1223) : (73, 1223, 1413) : (84, 1413, 1603) : (98, 1603, 1793) : (106, 1793, 1983) : (114, 1983, 2173) : (121, 2173, 2363) : (133, 2363, 2553) : (148, 2553, 2743) | 2743\n",
      "6 | (5, 0, 83) : (15, 83, 273) : (25, 273, 463) : (38, 463, 653) : (48, 653, 843) : (56, 843, 1033) : (68, 1033, 1223) : (77, 1223, 1413) : (88, 1413, 1603) : (96, 1603, 1793) : (103, 1793, 1983) : (117, 1983, 2173) : (122, 2173, 2363) : (136, 2363, 2553) : (146, 2553, 2743) | 2743\n",
      "7 | (6, 0, 83) : (19, 83, 273) : (26, 273, 463) : (36, 463, 653) : (45, 653, 843) : (55, 843, 1033) : (69, 1033, 1223) : (75, 1223, 1413) : (89, 1413, 1603) : (99, 1603, 1793) : (109, 1793, 1983) : (111, 1983, 2173) : (126, 2173, 2363) : (135, 2363, 2553) : (144, 2553, 2743) | 2743\n",
      "8 | (7, 0, 83) : (17, 83, 273) : (29, 273, 463) : (35, 463, 653) : (51, 653, 843) : (57, 843, 1033) : (65, 1033, 1223) : (76, 1223, 1413) : (85, 1413, 1603) : (92, 1603, 1793) : (116, 1793, 1983) : (118, 1983, 2173) : (127, 2173, 2363) : (137, 2363, 2553) : (147, 2553, 2743) | 2743\n",
      "9 | (9, 0, 83) : (21, 83, 273) : (28, 273, 463) : (37, 463, 653) : (46, 653, 843) : (58, 843, 1033) : (64, 1033, 1223) : (79, 1223, 1413) : (86, 1413, 1603) : (97, 1603, 1793) : (104, 1793, 1983) : (119, 1983, 2173) : (129, 2173, 2363) : (143, 2363, 2553) : (145, 2553, 2743) | 2743\n",
      "10 | (12, 0, 83) : (18, 83, 273) : (34, 273, 463) : (40, 463, 653) : (49, 653, 843) : (60, 843, 1033) : (67, 1033, 1223) : (78, 1223, 1413) : (87, 1413, 1603) : (100, 1603, 1793) : (107, 1793, 1983) : (120, 1983, 2173) : (132, 2173, 2363) : (138, 2363, 2553) : (4, 2553, 2743) | 2743 \n",
      "Runtime is : 0.033796114003052935s \n",
      "time to best is : -1s \n",
      "\n"
     ]
    }
   ],
   "source": [
    "instance = pmsp_sijk.RmSijkCmax_Instance.generate_random(150,10)\n",
    "solver = pyscheduling.Problem.Solver(pmsp_sijk.Heuristics.constructive)\n",
    "solve_result = solver.solve(instance)\n",
    "LSOperator = pmsp.PM_LocalSearch()\n",
    "LSOperator.improve(solve_result.best_solution)\n",
    "print(solve_result)"
   ]
  },
  {
   "cell_type": "code",
   "execution_count": 33,
   "metadata": {},
   "outputs": [
    {
     "name": "stdout",
     "output_type": "stream",
     "text": [
      "Set parameter TimeLimit to value 30\n",
      "Set parameter Threads to value 1\n",
      "Search stopped with status : FEASIBLE\n",
      " Solution is : \n",
      " Cmax : 1088\n",
      "Machine_ID | Job_schedule (job_id , start_time , completion_time) | Completion_time\n",
      "1 | (11, 134, 192) : (21, 192, 267) : (17, 267, 363) : (29, 363, 452) : (1, 452, 541) : (7, 541, 644) : (20, 644, 765) : (38, 765, 878) : (32, 878, 958) : (35, 958, 1068) | 1068\n",
      "2 | (4, 57, 129) : (26, 129, 250) : (9, 250, 344) : (5, 344, 477) : (31, 477, 564) : (24, 564, 708) : (39, 708, 826) : (13, 826, 942) : (8, 942, 1088) | 1088\n",
      "3 | (15, 38, 65) : (33, 89, 197) : (25, 197, 303) : (18, 303, 434) : (10, 434, 517) : (37, 517, 607) : (0, 607, 711) : (22, 711, 847) : (19, 847, 956) : (36, 956, 1074) | 1074\n",
      "4 | (16, 11, 56) : (2, 97, 176) : (27, 176, 295) : (28, 295, 434) : (14, 434, 551) : (3, 551, 631) : (12, 631, 720) : (23, 720, 802) : (6, 802, 894) : (30, 894, 988) : (34, 988, 1081) | 1081 \n",
      "Runtime is : 30.007874965667725s \n",
      "time to best is : 7.741637945175171s \n",
      "\n"
     ]
    }
   ],
   "source": [
    "instance = pmsp_ri.RmriSijkCmax_Instance.generate_random(40,4)\n",
    "#solver = pyscheduling.Problem.Solver(pmsp_ri.ExactSolvers.CSP)\n",
    "solve_result = pmsp_ri.ExactSolvers.milp(instance, **{\"time_limit\": 30})\n",
    "print(solve_result)"
   ]
  },
  {
   "cell_type": "code",
   "execution_count": null,
   "metadata": {},
   "outputs": [],
   "source": []
  }
 ],
 "metadata": {
  "kernelspec": {
   "display_name": "Python 3.9.12 ('pyscheduling')",
   "language": "python",
   "name": "python3"
  },
  "language_info": {
   "codemirror_mode": {
    "name": "ipython",
    "version": 3
   },
   "file_extension": ".py",
   "mimetype": "text/x-python",
   "name": "python",
   "nbconvert_exporter": "python",
   "pygments_lexer": "ipython3",
   "version": "3.9.12"
  },
  "vscode": {
   "interpreter": {
    "hash": "fa7cdbb78ab82d427a6b02c171e3c48e0658c2b720f18feff16576a8f3200f32"
   }
  }
 },
 "nbformat": 4,
 "nbformat_minor": 4
}
