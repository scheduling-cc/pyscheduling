{
 "cells": [
  {
   "cell_type": "code",
   "execution_count": 16,
   "metadata": {
    "ExecuteTime": {
     "end_time": "2022-07-21T15:05:02.377758Z",
     "start_time": "2022-07-21T15:05:01.824449Z"
    }
   },
   "outputs": [
    {
     "name": "stdout",
     "output_type": "stream",
     "text": [
      "The autoreload extension is already loaded. To reload it, use:\n",
      "  %reload_ext autoreload\n"
     ]
    }
   ],
   "source": [
    "%load_ext autoreload\n",
    "%autoreload 2\n",
    "\n",
    "import pyscheduling_cc as pyscheduling\n",
    "import pyscheduling_cc.ParallelMachines as pmsp\n",
    "import pyscheduling_cc.RmSijkCmax as pmsp_sijk\n",
    "import pyscheduling_cc.RmriSijkCmax as pmsp_ri"
   ]
  },
  {
   "cell_type": "code",
   "execution_count": 17,
   "metadata": {
    "ExecuteTime": {
     "end_time": "2022-07-21T15:05:03.342572Z",
     "start_time": "2022-07-21T15:05:02.379513Z"
    }
   },
   "outputs": [
    {
     "name": "stdout",
     "output_type": "stream",
     "text": [
      "Search stopped with status : FEASIBLE\n",
      " Solution is : \n",
      " Cmax : 997\n",
      "Machine_ID | Job_schedule (job_id , start_time , completion_time) | Completion_time\n",
      "1 | (0, 0, 27) : (92, 27, 108) : (12, 108, 168) : (36, 168, 232) : (104, 232, 293) : (113, 293, 354) : (38, 354, 416) : (46, 416, 479) : (53, 479, 542) : (121, 542, 607) : (126, 607, 675) : (149, 675, 737) : (117, 737, 807) : (16, 807, 888) : (109, 888, 973) | 973\n",
      "2 | (142, 0, 39) : (84, 39, 100) : (76, 100, 159) : (99, 159, 218) : (128, 218, 277) : (25, 277, 337) : (130, 337, 398) : (71, 398, 460) : (100, 460, 523) : (139, 523, 586) : (8, 586, 650) : (127, 650, 716) : (145, 716, 782) : (135, 782, 849) : (70, 849, 920) : (146, 920, 997) | 997\n",
      "3 | (115, 0, 38) : (10, 38, 97) : (68, 97, 156) : (20, 156, 215) : (54, 215, 274) : (17, 274, 341) : (18, 341, 403) : (93, 403, 465) : (13, 465, 531) : (81, 531, 599) : (34, 599, 668) : (80, 668, 738) : (50, 738, 809) : (59, 809, 869) : (144, 869, 938) | 938\n",
      "4 | (96, 0, 39) : (40, 39, 101) : (133, 101, 166) : (77, 166, 225) : (94, 225, 284) : (21, 284, 344) : (30, 344, 405) : (32, 405, 467) : (120, 467, 530) : (148, 530, 593) : (3, 593, 658) : (19, 658, 724) : (52, 724, 790) : (6, 790, 849) : (48, 849, 917) : (98, 917, 996) | 996\n",
      "5 | (105, 0, 30) : (44, 30, 90) : (45, 90, 149) : (27, 149, 209) : (110, 209, 270) : (143, 270, 331) : (140, 331, 393) : (56, 393, 457) : (90, 457, 523) : (11, 523, 582) : (112, 582, 644) : (1, 644, 711) : (14, 711, 779) : (23, 779, 848) : (119, 848, 911) : (101, 911, 996) | 996\n",
      "6 | (124, 0, 56) : (107, 56, 120) : (88, 120, 179) : (89, 179, 245) : (29, 245, 307) : (75, 307, 368) : (26, 368, 430) : (31, 430, 493) : (63, 493, 556) : (86, 556, 619) : (102, 619, 682) : (15, 682, 748) : (122, 748, 816) : (39, 816, 886) : (116, 886, 958) | 958\n",
      "7 | (108, 0, 49) : (58, 49, 110) : (55, 110, 174) : (57, 174, 237) : (73, 237, 299) : (131, 299, 358) : (87, 358, 421) : (114, 421, 489) : (62, 489, 558) : (85, 558, 629) : (69, 629, 702) : (134, 702, 777) : (97, 777, 854) | 854\n",
      "8 | (61, 0, 27) : (24, 27, 97) : (132, 97, 163) : (51, 163, 226) : (141, 226, 289) : (33, 289, 354) : (41, 354, 421) : (64, 421, 491) : (43, 491, 564) : (111, 564, 639) : (125, 639, 716) : (66, 716, 779) : (83, 779, 851) : (123, 851, 915) : (82, 915, 993) | 993\n",
      "9 | (91, 0, 34) : (5, 34, 95) : (37, 95, 154) : (47, 154, 213) : (118, 213, 272) : (22, 272, 332) : (147, 332, 393) : (2, 393, 455) : (138, 455, 519) : (65, 519, 585) : (74, 585, 652) : (136, 652, 720) : (7, 720, 783) : (72, 783, 852) : (67, 852, 927) | 927\n",
      "10 | (49, 0, 37) : (95, 37, 102) : (103, 102, 161) : (4, 161, 221) : (35, 221, 282) : (137, 282, 343) : (9, 343, 405) : (60, 405, 469) : (79, 469, 535) : (28, 535, 603) : (106, 603, 674) : (42, 674, 747) : (78, 747, 808) : (129, 808, 890) | 890 \n",
      "Runtime is : 0.03931307198945433s \n",
      "time to best is : -1s \n",
      "\n"
     ]
    }
   ],
   "source": [
    "instance = pmsp_sijk.RmSijkCmax_Instance.generate_random(150,10)\n",
    "solver = pyscheduling.Problem.Solver(pmsp_sijk.Heuristics.constructive)\n",
    "solve_result = solver.solve(instance)\n",
    "LSOperator = pmsp.PM_LocalSearch()\n",
    "LSOperator.improve(solve_result.best_solution)\n",
    "print(solve_result)"
   ]
  },
  {
   "cell_type": "code",
   "execution_count": 30,
   "metadata": {},
   "outputs": [
    {
     "name": "stdout",
     "output_type": "stream",
     "text": [
      "Set parameter TimeLimit to value 30\n",
      "Set parameter Threads to value 1\n",
      "Search stopped with status : FEASIBLE\n",
      " Solution is : \n",
      " Cmax : 3372\n",
      "Machine_ID | Job_schedule (job_id , start_time , completion_time) | Completion_time\n",
      "1 | (14, 53, 142) : (7, 142, 499) : (2, 499, 855) : (1, 855, 1213) : (5, 1213, 1569) : (24, 1569, 1926) : (15, 1926, 2286) : (4, 2286, 2649) : (23, 2649, 3007) : (32, 3007, 3364) | 3364\n",
      "2 | (36, 38, 129) : (19, 155, 516) : (38, 516, 877) : (34, 877, 1233) : (9, 1233, 1590) : (31, 1590, 1946) : (17, 1946, 2303) : (16, 2303, 2660) : (0, 2660, 3016) : (11, 3016, 3372) | 3372\n",
      "3 | (33, 23, 113) : (10, 113, 474) : (13, 474, 831) : (18, 831, 1188) : (20, 1188, 1545) : (37, 1545, 1904) : (21, 1904, 2266) : (6, 2266, 2622) : (35, 2622, 2980) : (12, 2980, 3344) | 3344\n",
      "4 | (3, 59, 148) : (39, 148, 505) : (30, 505, 861) : (8, 861, 1218) : (29, 1218, 1578) : (22, 1578, 1938) : (27, 1938, 2299) : (25, 2299, 2655) : (26, 2655, 3011) : (28, 3011, 3372) | 3372 \n",
      "Runtime is : 30.00454807281494s \n",
      "time to best is : 29.568671226501465s \n",
      "\n"
     ]
    }
   ],
   "source": [
    "instance = pmsp_ri.RmriSijkCmax_Instance.generate_random(40,4)\n",
    "#solver = pyscheduling.Problem.Solver(pmsp_ri.ExactSolvers.CSP)\n",
    "solve_result = pmsp_ri.ExactSolvers.milp(instance, **{\"time_limit\": 30})\n",
    "print(solve_result)"
   ]
  },
  {
   "cell_type": "code",
   "execution_count": null,
   "metadata": {},
   "outputs": [],
   "source": []
  }
 ],
 "metadata": {
  "kernelspec": {
   "display_name": "Python 3.9.12 ('pyscheduling')",
   "language": "python",
   "name": "python3"
  },
  "language_info": {
   "codemirror_mode": {
    "name": "ipython",
    "version": 3
   },
   "file_extension": ".py",
   "mimetype": "text/x-python",
   "name": "python",
   "nbconvert_exporter": "python",
   "pygments_lexer": "ipython3",
   "version": "3.9.12"
  },
  "vscode": {
   "interpreter": {
    "hash": "fa7cdbb78ab82d427a6b02c171e3c48e0658c2b720f18feff16576a8f3200f32"
   }
  }
 },
 "nbformat": 4,
 "nbformat_minor": 4
}
