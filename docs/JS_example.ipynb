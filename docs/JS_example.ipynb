{
 "cells": [
  {
   "cell_type": "code",
   "execution_count": 232,
   "metadata": {},
   "outputs": [
    {
     "name": "stdout",
     "output_type": "stream",
     "text": [
      "The autoreload extension is already loaded. To reload it, use:\n",
      "  %reload_ext autoreload\n"
     ]
    }
   ],
   "source": [
    "%load_ext autoreload\n",
    "%autoreload 2\n",
    "import pyscheduling_cc.JS.JmCmax as js\n",
    "import pyscheduling_cc.SMSP.riPrecLmax as Lmax"
   ]
  },
  {
   "cell_type": "code",
   "execution_count": 162,
   "metadata": {},
   "outputs": [],
   "source": [
    "f = open(\"deleteMe.txt\",'w')\n",
    "f.write(\"3 4\\n1\\t10\\t2\\t8\\t3\\t4\\n2\\t8\\t1\\t3\\t4\\t5\\t3\\t6\\n1\\t4\\t2\\t7\\t4\\t3\")\n",
    "f.close()"
   ]
  },
  {
   "cell_type": "code",
   "execution_count": 180,
   "metadata": {},
   "outputs": [
    {
     "name": "stdout",
     "output_type": "stream",
     "text": [
      "[[(0, 10), (1, 8), (2, 4)], [(1, 8), (0, 3), (3, 5), (2, 6)], [(0, 4), (1, 7), (3, 3)]]\n"
     ]
    }
   ],
   "source": [
    "instance = js.JmCmax_Instance.read_txt(\"deleteMe.txt\")\n",
    "print(instance.P)\n"
   ]
  },
  {
   "cell_type": "code",
   "execution_count": 183,
   "metadata": {},
   "outputs": [],
   "source": [
    "graph = js.JobShop.Graph(instance.P)"
   ]
  },
  {
   "cell_type": "code",
   "execution_count": 184,
   "metadata": {},
   "outputs": [
    {
     "name": "stdout",
     "output_type": "stream",
     "text": [
      "[((-1, 0), 0), ((0, -1), 0), ((0, 0), 10), ((1, 0), 8), ((2, 0), 4), ((1, 1), 8), ((0, 1), 3), ((3, 1), 5), ((2, 1), 6), ((0, 2), 4), ((1, 2), 7), ((3, 2), 3)]\n",
      "{((-1, 0), (0, 0)): 0, ((0, 0), (1, 0)): 10, ((1, 0), (2, 0)): 8, ((2, 0), (0, -1)): 4, ((-1, 0), (1, 1)): 0, ((1, 1), (0, 1)): 8, ((0, 1), (3, 1)): 3, ((3, 1), (2, 1)): 5, ((2, 1), (0, -1)): 6, ((-1, 0), (0, 2)): 0, ((0, 2), (1, 2)): 4, ((1, 2), (3, 2)): 7, ((3, 2), (0, -1)): 3}\n"
     ]
    }
   ],
   "source": [
    "print(graph.vertices)\n",
    "print(graph.edges)"
   ]
  },
  {
   "cell_type": "code",
   "execution_count": 186,
   "metadata": {},
   "outputs": [
    {
     "name": "stdout",
     "output_type": "stream",
     "text": [
      "[(0, 0), (0, 1), (0, 2)]\n"
     ]
    }
   ],
   "source": [
    "print(graph.get_operations_on_machine(0))"
   ]
  },
  {
   "cell_type": "code",
   "execution_count": 208,
   "metadata": {},
   "outputs": [
    {
     "name": "stdout",
     "output_type": "stream",
     "text": [
      "{((-1, 0), (0, 0)): 0, ((0, 0), (1, 0)): 10, ((1, 0), (2, 0)): 8, ((2, 0), (0, -1)): 4, ((-1, 0), (1, 1)): 0, ((1, 1), (0, 1)): 8, ((0, 1), (3, 1)): 3, ((3, 1), (2, 1)): 5, ((2, 1), (0, -1)): 6, ((-1, 0), (0, 2)): 0, ((0, 2), (1, 2)): 4, ((1, 2), (3, 2)): 7, ((3, 2), (0, -1)): 3}\n"
     ]
    }
   ],
   "source": [
    "print(graph.edges)"
   ]
  },
  {
   "cell_type": "code",
   "execution_count": 234,
   "metadata": {},
   "outputs": [
    {
     "name": "stdout",
     "output_type": "stream",
     "text": [
      "22\n",
      "[Job(id=0, start_time=0, end_time=10), Job(id=1, start_time=10, end_time=13), Job(id=2, start_time=13, end_time=17)]\n",
      "5\n"
     ]
    }
   ],
   "source": [
    "Cmax = graph.critical_path()\n",
    "Lmax_instance = graph.generate_riPrecLmax(0,Cmax)\n",
    "BB = Lmax.BB(Lmax_instance)\n",
    "BB.solve()\n",
    "print(BB.best_solution)\n",
    "print(BB.objective_value)"
   ]
  },
  {
   "cell_type": "code",
   "execution_count": 274,
   "metadata": {},
   "outputs": [
    {
     "name": "stdout",
     "output_type": "stream",
     "text": [
      "Objective : 28\n",
      "Machine_ID | Job_schedule (job_id , start_time , completion_time) | Completion_time\n",
      "1 | (0, 0, 10) : (1, 10, 13) : (2, 13, 17) | 17\n",
      "2 | (1, 0, 8) : (0, 10, 18) : (2, 18, 25) | 25\n",
      "3 | (0, 18, 22) : (1, 22, 28) | 28\n",
      "4 | (1, 13, 18) : (2, 25, 28) | 28\n"
     ]
    }
   ],
   "source": [
    "solution = js.Heuristics.shifting_bottleneck(instance)\n",
    "print(solution)"
   ]
  }
 ],
 "metadata": {
  "kernelspec": {
   "display_name": "Python 3.9.12 ('pyscheduling')",
   "language": "python",
   "name": "python3"
  },
  "language_info": {
   "codemirror_mode": {
    "name": "ipython",
    "version": 3
   },
   "file_extension": ".py",
   "mimetype": "text/x-python",
   "name": "python",
   "nbconvert_exporter": "python",
   "pygments_lexer": "ipython3",
   "version": "3.9.12"
  },
  "orig_nbformat": 4,
  "vscode": {
   "interpreter": {
    "hash": "5680f738cc3aa8dc0f2caa6f4f7f94524a25cee02af6591b567881b90e17c616"
   }
  }
 },
 "nbformat": 4,
 "nbformat_minor": 2
}
