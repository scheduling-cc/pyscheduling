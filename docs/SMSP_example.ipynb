{
 "cells": [
  {
   "cell_type": "code",
   "execution_count": 1,
   "metadata": {},
   "outputs": [],
   "source": [
    "%load_ext autoreload\n",
    "%autoreload 2\n",
    "import pyscheduling_cc.SMSP.wiCi as smsp\n",
    "import pyscheduling_cc.SMSP.riwiCi as smsp_ri"
   ]
  },
  {
   "cell_type": "code",
   "execution_count": 102,
   "metadata": {},
   "outputs": [
    {
     "name": "stdout",
     "output_type": "stream",
     "text": [
      "Search stopped with status : OPTIMAL\n",
      " Solution is : \n",
      " Cmax : 81079\n",
      "Job_schedule (job_id , start_time , completion_time) | Completion_time\n",
      "(0, 0, 75) : (11, 75, 150) : (13, 150, 233) : (8, 233, 309) : (15, 309, 400) : (18, 400, 490) : (6, 490, 579) : (1, 579, 677) : (3, 677, 764) : (14, 764, 857) : (12, 857, 935) : (9, 935, 1030) : (7, 1030, 1126) : (19, 1126, 1207) : (17, 1207, 1284) : (5, 1284, 1372) : (2, 1372, 1461) : (4, 1461, 1546) : (10, 1546, 1632) : (16, 1632, 1719) | 81079 \n",
      "Runtime is : 0.00010060000022349413s \n",
      "time to best is : -1s \n",
      "\n"
     ]
    }
   ],
   "source": [
    "instance = smsp.wiCi_Instance.generate_random(20,Wmax=10)\n",
    "instance.to_txt(\"deleteMe.txt\")\n",
    "solution = smsp.Heuristics.WSPT(instance)\n",
    "print(solution)"
   ]
  },
  {
   "cell_type": "code",
   "execution_count": 253,
   "metadata": {},
   "outputs": [
    {
     "name": "stdout",
     "output_type": "stream",
     "text": [
      "Heuristic 1 gives the best solution in  0.71  of the instances\n",
      "Heuristic 2 gives the best solution in  0.41  of the instances\n"
     ]
    }
   ],
   "source": [
    "number_of_trials = 100\n",
    "heuristic_1_score = 0\n",
    "heuristic_2_score = 0\n",
    "for _ in range(number_of_trials):\n",
    "    instance = smsp_ri.riwiCi_Instance.generate_random(50,Wmax=10,Pmin=50)\n",
    "    objective_value_1 = smsp_ri.Heuristics.WSECi(instance).best_solution.objective_value\n",
    "    objective_value_2 = smsp_ri.Heuristics.WSAPT(instance).best_solution.objective_value\n",
    "    if objective_value_1<objective_value_2:\n",
    "        heuristic_1_score += 1\n",
    "    elif objective_value_2<objective_value_1:\n",
    "        heuristic_2_score += 1\n",
    "    else:\n",
    "        heuristic_1_score += 1\n",
    "        heuristic_2_score += 1\n",
    "print(\"Heuristic 1 gives the best solution in \",float(heuristic_1_score/number_of_trials),\" of the instances\")\n",
    "print(\"Heuristic 2 gives the best solution in \",float(heuristic_2_score/number_of_trials),\" of the instances\")"
   ]
  },
  {
   "cell_type": "code",
   "execution_count": 294,
   "metadata": {},
   "outputs": [
    {
     "name": "stdout",
     "output_type": "stream",
     "text": [
      "It improves the solution at an average rate of  0.00536\n"
     ]
    }
   ],
   "source": [
    "sum_improve_rate = 0\n",
    "number_of_trials = 100\n",
    "number_of_improvements = 10\n",
    "for _ in range(number_of_trials):\n",
    "    instance = smsp_ri.riwiCi_Instance.generate_random(50,Wmax=10,Pmin=50,Pmax=300)\n",
    "    solution = smsp_ri.Heuristics.WSECi(instance).best_solution\n",
    "    objective_value_1 = solution.objective_value\n",
    "    for __ in range(number_of_improvements) : solution = smsp_ri.SingleMachine.SM_LocalSearch._intra_insertion(solution)\n",
    "    objective_value_2 = solution.objective_value\n",
    "    improve_rate = float(objective_value_1-objective_value_2)/float(objective_value_1)\n",
    "    sum_improve_rate += improve_rate\n",
    "average_improve_rate = round(sum_improve_rate / number_of_trials,5)\n",
    "print(\"It improves the solution at an average rate of \",average_improve_rate)"
   ]
  },
  {
   "cell_type": "code",
   "execution_count": 308,
   "metadata": {},
   "outputs": [
    {
     "name": "stdout",
     "output_type": "stream",
     "text": [
      "179533\n",
      "126866\n"
     ]
    }
   ],
   "source": [
    "instance = smsp_ri.riwiCi_Instance.generate_random(50,Wmax=10)\n",
    "solution = smsp_ri.Heuristics.list_heuristic(instance).best_solution\n",
    "print(solution.objective_value)\n",
    "LS = smsp_ri.SingleMachine.SM_LocalSearch()\n",
    "solution = LS.improve(solution)\n",
    "print(solution.objective_value)"
   ]
  },
  {
   "cell_type": "code",
   "execution_count": 361,
   "metadata": {},
   "outputs": [
    {
     "name": "stdout",
     "output_type": "stream",
     "text": [
      "273311\n",
      "269955\n",
      "improved best\n",
      "improved best\n",
      "improved best\n",
      "268105\n"
     ]
    }
   ],
   "source": [
    "instance = smsp_ri.riwiCi_Instance.generate_random(50,Pmin=50,Wmax=10)\n",
    "solution = smsp_ri.Heuristics.WSECi(instance)\n",
    "print(solution.best_solution.objective_value)\n",
    "solution = smsp.SingleMachine.SM_LocalSearch._intra_insertion(solution.best_solution)\n",
    "print(solution.objective_value)\n",
    "#solution = smsp_ri.Metaheuristics.lahc(instance,Nb_iter=100)\n",
    "#print(solution.best_solution.objective_value)\n",
    "solution = smsp_ri.Metaheuristics.iterative_LS(instance,Nb_iter=100)\n",
    "print(solution.best_solution.objective_value)"
   ]
  },
  {
   "cell_type": "code",
   "execution_count": 6,
   "metadata": {},
   "outputs": [
    {
     "name": "stdout",
     "output_type": "stream",
     "text": [
      "Logging to file: csp_log.txt\n",
      "================================\n",
      "Number of characters 0\n",
      "Search stopped with status : FEASIBLE\n",
      " Solution is : \n",
      " Cmax : 93591\n",
      "Job_schedule (job_id , start_time , completion_time) | Completion_time\n",
      "(0, 1, 2) : (43, 3, 5) : (36, 5, 8) : (49, 8, 13) : (17, 13, 18) : (30, 18, 24) : (21, 24, 36) : (39, 36, 44) : (14, 44, 55) : (35, 55, 65) : (8, 65, 76) : (3, 76, 92) : (42, 92, 105) : (25, 105, 127) : (47, 127, 154) : (10, 154, 169) : (33, 169, 199) : (9, 199, 209) : (34, 209, 233) : (5, 233, 248) : (2, 248, 260) : (26, 260, 289) : (27, 289, 314) : (37, 314, 352) : (45, 352, 370) : (12, 370, 412) : (40, 412, 445) : (31, 445, 488) : (18, 488, 528) : (23, 528, 533) : (48, 533, 580) : (15, 580, 617) : (44, 617, 655) : (29, 655, 688) : (13, 688, 699) : (24, 699, 716) : (11, 716, 757) : (22, 757, 805) : (32, 805, 835) : (16, 835, 883) : (20, 883, 908) : (7, 908, 933) : (38, 933, 981) : (19, 981, 1015) : (28, 1015, 1050) : (46, 1050, 1086) : (41, 1086, 1122) : (4, 1122, 1164) : (6, 1164, 1188) : (1, 1188, 1216) | 93591 \n",
      "Runtime is : 10.08s \n",
      "time to best is : 0.02s \n",
      "\n"
     ]
    }
   ],
   "source": [
    "instance = smsp_ri.riwiCi_Instance.generate_random(50,Wmax=10,Pmin=1, Pmax=50)\n",
    "csp_solve_result = smsp_ri.ExactSolvers.csp(instance, **{\"log_path\": \"csp_log.txt\" ,\"time_limit\": 10})\n",
    "print(csp_solve_result)"
   ]
  },
  {
   "cell_type": "code",
   "execution_count": 9,
   "metadata": {},
   "outputs": [
    {
     "name": "stdout",
     "output_type": "stream",
     "text": [
      "Search stopped with status : FEASIBLE\n",
      " Solution is : \n",
      " Cmax : 37325\n",
      "Job_schedule (job_id , start_time , completion_time) | Completion_time\n",
      "(12, 0, 17) : (14, 17, 22) : (17, 22, 47) : (13, 47, 69) : (9, 69, 95) : (8, 95, 141) : (1, 141, 193) : (0, 193, 240) : (7, 240, 279) : (18, 279, 358) : (15, 358, 449) : (4, 449, 532) : (5, 532, 574) : (10, 574, 648) : (19, 648, 708) : (11, 708, 785) : (2, 785, 832) : (6, 832, 849) : (3, 849, 897) : (16, 897, 959) | 37325 \n",
      "Runtime is : 30s \n",
      "time to best is : 0.01s \n",
      "\n"
     ]
    }
   ],
   "source": [
    "instance = smsp.wiCi_Instance.generate_random(20,Wmax=10)\n",
    "csp_solve_result = smsp.ExactSolvers.csp(instance, **{\"time_limit\": 30})\n",
    "print(csp_solve_result)"
   ]
  },
  {
   "cell_type": "code",
   "execution_count": 10,
   "metadata": {},
   "outputs": [
    {
     "name": "stdout",
     "output_type": "stream",
     "text": [
      "Search stopped with status : OPTIMAL\n",
      " Solution is : \n",
      " Cmax : 37325\n",
      "Job_schedule (job_id , start_time , completion_time) | Completion_time\n",
      "(12, 0, 17) : (14, 17, 22) : (17, 22, 47) : (13, 47, 69) : (9, 69, 95) : (8, 95, 141) : (1, 141, 193) : (0, 193, 240) : (7, 240, 279) : (18, 279, 358) : (15, 358, 449) : (4, 449, 532) : (5, 532, 574) : (10, 574, 648) : (19, 648, 708) : (11, 708, 785) : (2, 785, 832) : (6, 832, 849) : (3, 849, 897) : (16, 897, 959) | 37325 \n",
      "Runtime is : 5.3800991736352444e-05s \n",
      "time to best is : -1s \n",
      "\n"
     ]
    }
   ],
   "source": [
    "solution = smsp.Heuristics.WSPT(instance)\n",
    "print(solution)"
   ]
  },
  {
   "cell_type": "code",
   "execution_count": null,
   "metadata": {},
   "outputs": [],
   "source": []
  }
 ],
 "metadata": {
  "kernelspec": {
   "display_name": "Python 3.9.12 ('pyscheduling')",
   "language": "python",
   "name": "python3"
  },
  "language_info": {
   "codemirror_mode": {
    "name": "ipython",
    "version": 3
   },
   "file_extension": ".py",
   "mimetype": "text/x-python",
   "name": "python",
   "nbconvert_exporter": "python",
   "pygments_lexer": "ipython3",
   "version": "3.9.12"
  },
  "orig_nbformat": 4,
  "vscode": {
   "interpreter": {
    "hash": "5680f738cc3aa8dc0f2caa6f4f7f94524a25cee02af6591b567881b90e17c616"
   }
  }
 },
 "nbformat": 4,
 "nbformat_minor": 2
}
