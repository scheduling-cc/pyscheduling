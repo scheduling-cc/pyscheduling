{
 "cells": [
  {
   "cell_type": "code",
   "execution_count": 51,
   "metadata": {},
   "outputs": [
    {
     "name": "stdout",
     "output_type": "stream",
     "text": [
      "The autoreload extension is already loaded. To reload it, use:\n",
      "  %reload_ext autoreload\n"
     ]
    }
   ],
   "source": [
    "%load_ext autoreload\n",
    "%autoreload 2\n",
    "import pyscheduling_cc.SMSP.wiCi as smsp\n",
    "import pyscheduling_cc.SMSP.riwiCi as smsp_ri"
   ]
  },
  {
   "cell_type": "code",
   "execution_count": 53,
   "metadata": {},
   "outputs": [
    {
     "name": "stdout",
     "output_type": "stream",
     "text": [
      "(0, 0, 99) : (1, 99, 198) | 1782\n"
     ]
    },
    {
     "data": {
      "image/png": "[encoded data removed]",
      "text/plain": [
       "<Figure size 432x288 with 1 Axes>"
      ]
     },
     "metadata": {
      "needs_background": "light"
     },
     "output_type": "display_data"
    }
   ],
   "source": [
    "instance = smsp.wiCi_Instance.generate_random(20,Wmax=10)\n",
    "instance.to_txt(\"deleteMe.txt\")\n",
    "solution = smsp.wiCi_Solution(instance)\n",
    "solution.machine.job_schedule.append(smsp.SingleMachine.Job(0,0,0))\n",
    "solution.machine.job_schedule.append(smsp.SingleMachine.Job(1,0,0))\n",
    "solution.machine.total_weighted_completion_time(solution.instance)\n",
    "print(solution.machine)\n",
    "solution.plot()\n"
   ]
  },
  {
   "cell_type": "code",
   "execution_count": 82,
   "metadata": {},
   "outputs": [
    {
     "name": "stdout",
     "output_type": "stream",
     "text": [
      "(0, 54, 113) : (1, 113, 144) | 1141\n"
     ]
    },
    {
     "data": {
      "image/png": "[encoded data removed]",
      "text/plain": [
       "<Figure size 432x288 with 1 Axes>"
      ]
     },
     "metadata": {
      "needs_background": "light"
     },
     "output_type": "display_data"
    }
   ],
   "source": [
    "instance = smsp_ri.riwiCi_Instance.generate_random(20,Wmax=10)\n",
    "instance.to_txt(\"deleteMe.txt\")\n",
    "solution = smsp.wiCi_Solution(instance)\n",
    "solution.machine.job_schedule.append(smsp.SingleMachine.Job(0,0,0))\n",
    "solution.machine.job_schedule.append(smsp.SingleMachine.Job(1,0,0))\n",
    "solution.machine.total_weighted_completion_time(solution.instance)\n",
    "print(solution.machine)\n",
    "solution.plot()"
   ]
  }
 ],
 "metadata": {
  "kernelspec": {
   "display_name": "Python 3.9.12 ('pyscheduling')",
   "language": "python",
   "name": "python3"
  },
  "language_info": {
   "codemirror_mode": {
    "name": "ipython",
    "version": 3
   },
   "file_extension": ".py",
   "mimetype": "text/x-python",
   "name": "python",
   "nbconvert_exporter": "python",
   "pygments_lexer": "ipython3",
   "version": "3.9.12"
  },
  "orig_nbformat": 4,
  "vscode": {
   "interpreter": {
    "hash": "5680f738cc3aa8dc0f2caa6f4f7f94524a25cee02af6591b567881b90e17c616"
   }
  }
 },
 "nbformat": 4,
 "nbformat_minor": 2
}
