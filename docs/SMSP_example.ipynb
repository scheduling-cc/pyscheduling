{
 "cells": [
  {
   "cell_type": "code",
   "execution_count": 2,
   "metadata": {},
   "outputs": [],
   "source": [
    "%load_ext autoreload\n",
    "%autoreload 2\n",
    "import pyscheduling_cc.SMSP.wiCi as smsp"
   ]
  },
  {
   "cell_type": "code",
   "execution_count": 43,
   "metadata": {},
   "outputs": [
    {
     "name": "stdout",
     "output_type": "stream",
     "text": [
      "(0, 0, 94) : (1, 94, 188) | 1316\n",
      "1692\n",
      "(0, 0, 94) : (2, 94, 188) | 1692\n"
     ]
    }
   ],
   "source": [
    "instance = smsp.wiCi_Instance.generate_random(20,Wmax=10)\n",
    "instance.to_txt(\"deleteMe.txt\")\n",
    "solution = smsp.wiCi_Solution(instance)\n",
    "solution.machine.job_schedule.append(smsp.SingleMachine.Job(0,0,0))\n",
    "solution.machine.job_schedule.append(smsp.SingleMachine.Job(1,0,0))\n",
    "solution.machine.total_weighted_completion_time(solution.instance)\n",
    "print(solution.machine)\n",
    "print(solution.machine.completion_time_remove_insert(1,2,1,solution.instance))\n",
    "solution.machine.job_schedule.pop(1)\n",
    "solution.machine.job_schedule.append(smsp.SingleMachine.Job(2,0,0))\n",
    "solution.machine.total_weighted_completion_time(solution.instance)\n",
    "print(solution.machine)\n"
   ]
  }
 ],
 "metadata": {
  "kernelspec": {
   "display_name": "Python 3.9.12 ('pyscheduling')",
   "language": "python",
   "name": "python3"
  },
  "language_info": {
   "codemirror_mode": {
    "name": "ipython",
    "version": 3
   },
   "file_extension": ".py",
   "mimetype": "text/x-python",
   "name": "python",
   "nbconvert_exporter": "python",
   "pygments_lexer": "ipython3",
   "version": "3.9.12"
  },
  "orig_nbformat": 4,
  "vscode": {
   "interpreter": {
    "hash": "5680f738cc3aa8dc0f2caa6f4f7f94524a25cee02af6591b567881b90e17c616"
   }
  }
 },
 "nbformat": 4,
 "nbformat_minor": 2
}
