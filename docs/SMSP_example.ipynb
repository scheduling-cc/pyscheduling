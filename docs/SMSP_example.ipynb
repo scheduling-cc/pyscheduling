{
 "cells": [
  {
   "cell_type": "code",
   "execution_count": 1,
   "metadata": {},
   "outputs": [],
   "source": [
    "%load_ext autoreload\n",
    "%autoreload 2\n",
    "import pyscheduling_cc.SMSP.wiCi as smsp\n",
    "import pyscheduling_cc.SMSP.riwiCi as smsp_ri"
   ]
  },
  {
   "cell_type": "code",
   "execution_count": 102,
   "metadata": {},
   "outputs": [
    {
     "name": "stdout",
     "output_type": "stream",
     "text": [
      "Search stopped with status : OPTIMAL\n",
      " Solution is : \n",
      " Cmax : 81079\n",
      "Job_schedule (job_id , start_time , completion_time) | Completion_time\n",
      "(0, 0, 75) : (11, 75, 150) : (13, 150, 233) : (8, 233, 309) : (15, 309, 400) : (18, 400, 490) : (6, 490, 579) : (1, 579, 677) : (3, 677, 764) : (14, 764, 857) : (12, 857, 935) : (9, 935, 1030) : (7, 1030, 1126) : (19, 1126, 1207) : (17, 1207, 1284) : (5, 1284, 1372) : (2, 1372, 1461) : (4, 1461, 1546) : (10, 1546, 1632) : (16, 1632, 1719) | 81079 \n",
      "Runtime is : 0.00010060000022349413s \n",
      "time to best is : -1s \n",
      "\n"
     ]
    }
   ],
   "source": [
    "instance = smsp.wiCi_Instance.generate_random(20,Wmax=10)\n",
    "instance.to_txt(\"deleteMe.txt\")\n",
    "solution = smsp.Heuristics.WSPT(instance)\n",
    "print(solution)"
   ]
  },
  {
   "cell_type": "code",
   "execution_count": 233,
   "metadata": {},
   "outputs": [
    {
     "name": "stdout",
     "output_type": "stream",
     "text": [
      "Heuristic 1 gives the best solution in  0.7  of the instances\n",
      "Heuristic 2 gives the best solution in  0.56  of the instances\n"
     ]
    }
   ],
   "source": [
    "number_of_trials = 100\n",
    "heuristic_1_score = 0\n",
    "heuristic_2_score = 0\n",
    "for _ in range(number_of_trials):\n",
    "    instance = smsp_ri.riwiCi_Instance.generate_random(50,Wmax=10,Pmin=50)\n",
    "    objective_value_1 = smsp_ri.Heuristics.WSECi(instance).best_solution.objective_value\n",
    "    objective_value_2 = smsp_ri.Heuristics.WSAPT(instance).best_solution.objective_value\n",
    "    if objective_value_1<objective_value_2:\n",
    "        heuristic_1_score += 1\n",
    "    elif objective_value_2<objective_value_1:\n",
    "        heuristic_2_score += 1\n",
    "    else:\n",
    "        heuristic_1_score += 1\n",
    "        heuristic_2_score += 1\n",
    "print(\"Heuristic 1 gives the best solution in \",float(heuristic_1_score/number_of_trials),\" of the instances\")\n",
    "print(\"Heuristic 2 gives the best solution in \",float(heuristic_2_score/number_of_trials),\" of the instances\")"
   ]
  },
  {
   "cell_type": "code",
   "execution_count": 240,
   "metadata": {},
   "outputs": [
    {
     "name": "stdout",
     "output_type": "stream",
     "text": [
      "Cmax : 344358\n",
      "Job_schedule (job_id , start_time , completion_time) | Completion_time\n",
      "(6, 0, 52) : (12, 52, 102) : (35, 102, 153) : (0, 153, 230) : (45, 230, 301) : (23, 301, 361) : (21, 361, 420) : (33, 420, 501) : (40, 501, 554) : (47, 554, 611) : (18, 611, 664) : (9, 664, 715) : (16, 715, 785) : (31, 785, 835) : (4, 835, 916) : (44, 916, 988) : (5, 988, 1044) : (27, 1044, 1095) : (49, 1095, 1146) : (17, 1146, 1199) : (30, 1199, 1264) : (10, 1264, 1323) : (29, 1323, 1381) : (43, 1381, 1447) : (11, 1447, 1498) : (48, 1498, 1568) : (25, 1568, 1642) : (34, 1642, 1706) : (39, 1706, 1759) : (14, 1759, 1829) : (37, 1829, 1891) : (38, 1891, 1967) : (8, 1967, 2019) : (15, 2019, 2090) : (36, 2090, 2144) : (24, 2144, 2209) : (19, 2209, 2290) : (2, 2290, 2356) : (1, 2356, 2415) : (26, 2415, 2477) : (46, 2477, 2542) : (41, 2542, 2607) : (3, 2607, 2682) : (13, 2682, 2749) : (32, 2749, 2829) : (28, 2829, 2905) : (20, 2905, 2983) : (42, 2983, 3063) : (22, 3063, 3140) : (7, 3140, 3220) | 344358\n"
     ]
    }
   ],
   "source": [
    "instance = smsp_ri.riwiCi_Instance.generate_random(50,Wmax=10,Pmin=50)\n",
    "solution = smsp_ri.Heuristics.list_heuristic(instance).best_solution\n",
    "print(solution)"
   ]
  },
  {
   "cell_type": "code",
   "execution_count": 6,
   "metadata": {},
   "outputs": [
    {
     "name": "stdout",
     "output_type": "stream",
     "text": [
      "Logging to file: csp_log.txt\n",
      "================================\n",
      "Number of characters 0\n",
      "Search stopped with status : FEASIBLE\n",
      " Solution is : \n",
      " Cmax : 93591\n",
      "Job_schedule (job_id , start_time , completion_time) | Completion_time\n",
      "(0, 1, 2) : (43, 3, 5) : (36, 5, 8) : (49, 8, 13) : (17, 13, 18) : (30, 18, 24) : (21, 24, 36) : (39, 36, 44) : (14, 44, 55) : (35, 55, 65) : (8, 65, 76) : (3, 76, 92) : (42, 92, 105) : (25, 105, 127) : (47, 127, 154) : (10, 154, 169) : (33, 169, 199) : (9, 199, 209) : (34, 209, 233) : (5, 233, 248) : (2, 248, 260) : (26, 260, 289) : (27, 289, 314) : (37, 314, 352) : (45, 352, 370) : (12, 370, 412) : (40, 412, 445) : (31, 445, 488) : (18, 488, 528) : (23, 528, 533) : (48, 533, 580) : (15, 580, 617) : (44, 617, 655) : (29, 655, 688) : (13, 688, 699) : (24, 699, 716) : (11, 716, 757) : (22, 757, 805) : (32, 805, 835) : (16, 835, 883) : (20, 883, 908) : (7, 908, 933) : (38, 933, 981) : (19, 981, 1015) : (28, 1015, 1050) : (46, 1050, 1086) : (41, 1086, 1122) : (4, 1122, 1164) : (6, 1164, 1188) : (1, 1188, 1216) | 93591 \n",
      "Runtime is : 10.08s \n",
      "time to best is : 0.02s \n",
      "\n"
     ]
    }
   ],
   "source": [
    "instance = smsp_ri.riwiCi_Instance.generate_random(50,Wmax=10,Pmin=1, Pmax=50)\n",
    "csp_solve_result = smsp_ri.ExactSolvers.csp(instance, **{\"log_path\": \"csp_log.txt\" ,\"time_limit\": 10})\n",
    "print(csp_solve_result)"
   ]
  },
  {
   "cell_type": "code",
   "execution_count": 9,
   "metadata": {},
   "outputs": [
    {
     "name": "stdout",
     "output_type": "stream",
     "text": [
      "Search stopped with status : FEASIBLE\n",
      " Solution is : \n",
      " Cmax : 37325\n",
      "Job_schedule (job_id , start_time , completion_time) | Completion_time\n",
      "(12, 0, 17) : (14, 17, 22) : (17, 22, 47) : (13, 47, 69) : (9, 69, 95) : (8, 95, 141) : (1, 141, 193) : (0, 193, 240) : (7, 240, 279) : (18, 279, 358) : (15, 358, 449) : (4, 449, 532) : (5, 532, 574) : (10, 574, 648) : (19, 648, 708) : (11, 708, 785) : (2, 785, 832) : (6, 832, 849) : (3, 849, 897) : (16, 897, 959) | 37325 \n",
      "Runtime is : 30s \n",
      "time to best is : 0.01s \n",
      "\n"
     ]
    }
   ],
   "source": [
    "instance = smsp.wiCi_Instance.generate_random(20,Wmax=10)\n",
    "csp_solve_result = smsp.ExactSolvers.csp(instance, **{\"time_limit\": 30})\n",
    "print(csp_solve_result)"
   ]
  },
  {
   "cell_type": "code",
   "execution_count": 10,
   "metadata": {},
   "outputs": [
    {
     "name": "stdout",
     "output_type": "stream",
     "text": [
      "Search stopped with status : OPTIMAL\n",
      " Solution is : \n",
      " Cmax : 37325\n",
      "Job_schedule (job_id , start_time , completion_time) | Completion_time\n",
      "(12, 0, 17) : (14, 17, 22) : (17, 22, 47) : (13, 47, 69) : (9, 69, 95) : (8, 95, 141) : (1, 141, 193) : (0, 193, 240) : (7, 240, 279) : (18, 279, 358) : (15, 358, 449) : (4, 449, 532) : (5, 532, 574) : (10, 574, 648) : (19, 648, 708) : (11, 708, 785) : (2, 785, 832) : (6, 832, 849) : (3, 849, 897) : (16, 897, 959) | 37325 \n",
      "Runtime is : 5.3800991736352444e-05s \n",
      "time to best is : -1s \n",
      "\n"
     ]
    }
   ],
   "source": [
    "solution = smsp.Heuristics.WSPT(instance)\n",
    "print(solution)"
   ]
  },
  {
   "cell_type": "code",
   "execution_count": null,
   "metadata": {},
   "outputs": [],
   "source": []
  }
 ],
 "metadata": {
  "kernelspec": {
   "display_name": "Python 3.9.12 ('pyscheduling')",
   "language": "python",
   "name": "python3"
  },
  "language_info": {
   "codemirror_mode": {
    "name": "ipython",
    "version": 3
   },
   "file_extension": ".py",
   "mimetype": "text/x-python",
   "name": "python",
   "nbconvert_exporter": "python",
   "pygments_lexer": "ipython3",
   "version": "3.9.12"
  },
  "orig_nbformat": 4,
  "vscode": {
   "interpreter": {
    "hash": "5680f738cc3aa8dc0f2caa6f4f7f94524a25cee02af6591b567881b90e17c616"
   }
  }
 },
 "nbformat": 4,
 "nbformat_minor": 2
}
