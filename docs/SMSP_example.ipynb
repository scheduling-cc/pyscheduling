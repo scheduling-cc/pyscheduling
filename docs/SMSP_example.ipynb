{
 "cells": [
  {
   "cell_type": "code",
   "execution_count": 51,
   "metadata": {},
   "outputs": [
    {
     "name": "stdout",
     "output_type": "stream",
     "text": [
      "The autoreload extension is already loaded. To reload it, use:\n",
      "  %reload_ext autoreload\n"
     ]
    }
   ],
   "source": [
    "%load_ext autoreload\n",
    "%autoreload 2\n",
    "import pyscheduling_cc.SMSP.wiCi as smsp\n",
    "import pyscheduling_cc.SMSP.riwiCi as smsp_ri"
   ]
  },
  {
   "cell_type": "code",
   "execution_count": 102,
   "metadata": {},
   "outputs": [
    {
     "name": "stdout",
     "output_type": "stream",
     "text": [
      "Search stopped with status : OPTIMAL\n",
      " Solution is : \n",
      " Cmax : 81079\n",
      "Job_schedule (job_id , start_time , completion_time) | Completion_time\n",
      "(0, 0, 75) : (11, 75, 150) : (13, 150, 233) : (8, 233, 309) : (15, 309, 400) : (18, 400, 490) : (6, 490, 579) : (1, 579, 677) : (3, 677, 764) : (14, 764, 857) : (12, 857, 935) : (9, 935, 1030) : (7, 1030, 1126) : (19, 1126, 1207) : (17, 1207, 1284) : (5, 1284, 1372) : (2, 1372, 1461) : (4, 1461, 1546) : (10, 1546, 1632) : (16, 1632, 1719) | 81079 \n",
      "Runtime is : 0.00010060000022349413s \n",
      "time to best is : -1s \n",
      "\n"
     ]
    }
   ],
   "source": [
    "instance = smsp.wiCi_Instance.generate_random(20,Wmax=10)\n",
    "instance.to_txt(\"deleteMe.txt\")\n",
    "solution = smsp.Heuristics.WSPT(instance)\n",
    "print(solution)"
   ]
  },
  {
   "cell_type": "code",
   "execution_count": 218,
   "metadata": {},
   "outputs": [
    {
     "name": "stdout",
     "output_type": "stream",
     "text": [
      "Heuristic 1 gives the best solution in  0.72  of the instances\n",
      "Heuristic 2 gives the best solution in  0.52  of the instances\n"
     ]
    }
   ],
   "source": [
    "number_of_trials = 100\n",
    "heuristic_1_score = 0\n",
    "heuristic_2_score = 0\n",
    "for _ in range(number_of_trials):\n",
    "    instance = smsp_ri.riwiCi_Instance.generate_random(50,Wmax=10)\n",
    "    objective_value_1 = smsp_ri.Heuristics.heuristic_1(instance).best_solution.objective_value\n",
    "    objective_value_2 = smsp_ri.Heuristics.heuristic_2(instance).best_solution.objective_value\n",
    "    if objective_value_1<objective_value_2:\n",
    "        heuristic_1_score += 1\n",
    "    elif objective_value_2<objective_value_1:\n",
    "        heuristic_2_score += 1\n",
    "    else:\n",
    "        heuristic_1_score += 1\n",
    "        heuristic_2_score += 1\n",
    "print(\"Heuristic 1 gives the best solution in \",float(heuristic_1_score/number_of_trials),\" of the instances\")\n",
    "print(\"Heuristic 2 gives the best solution in \",float(heuristic_2_score/number_of_trials),\" of the instances\")"
   ]
  }
 ],
 "metadata": {
  "kernelspec": {
   "display_name": "Python 3.9.12 ('pyscheduling')",
   "language": "python",
   "name": "python3"
  },
  "language_info": {
   "codemirror_mode": {
    "name": "ipython",
    "version": 3
   },
   "file_extension": ".py",
   "mimetype": "text/x-python",
   "name": "python",
   "nbconvert_exporter": "python",
   "pygments_lexer": "ipython3",
   "version": "3.9.12"
  },
  "orig_nbformat": 4,
  "vscode": {
   "interpreter": {
    "hash": "5680f738cc3aa8dc0f2caa6f4f7f94524a25cee02af6591b567881b90e17c616"
   }
  }
 },
 "nbformat": 4,
 "nbformat_minor": 2
}
