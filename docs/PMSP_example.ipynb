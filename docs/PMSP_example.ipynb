{
 "cells": [
  {
   "cell_type": "markdown",
   "metadata": {},
   "source": [
    "# pyscheduling_cc\n",
    "**pyscheduling_cc** is a python open-source package designed to solve scheduling problems.\n",
    "\n",
    "The package is rich in methods which can be general or problem-specific in order to optimize several objective functions.\n",
    "\n",
    "---"
   ]
  },
  {
   "cell_type": "markdown",
   "metadata": {},
   "source": [
    "## Import the package"
   ]
  },
  {
   "cell_type": "markdown",
   "metadata": {},
   "source": [
    "We start by importing the module corresponding to the problem we want to tackle"
   ]
  },
  {
   "cell_type": "code",
   "execution_count": 176,
   "metadata": {
    "ExecuteTime": {
     "end_time": "2022-07-21T15:05:02.377758Z",
     "start_time": "2022-07-21T15:05:01.824449Z"
    }
   },
   "outputs": [
    {
     "name": "stdout",
     "output_type": "stream",
     "text": [
      "The autoreload extension is already loaded. To reload it, use:\n",
      "  %reload_ext autoreload\n"
     ]
    }
   ],
   "source": [
    "%load_ext autoreload\n",
    "%autoreload 2\n",
    "import pyscheduling_cc.RmSijkCmax as pmsp_sijk\n",
    "import pyscheduling_cc.RmriSijkCmax as pmsp_riSijk"
   ]
  },
  {
   "cell_type": "markdown",
   "metadata": {},
   "source": [
    "## Instance generation\n"
   ]
  },
  {
   "cell_type": "markdown",
   "metadata": {},
   "source": [
    "We have 2 options to generate an instance:\n",
    "1. By importing it from a text file.\n",
    "2. By randomly generating it."
   ]
  },
  {
   "cell_type": "markdown",
   "metadata": {},
   "source": [
    "### Importing an instance"
   ]
  },
  {
   "cell_type": "markdown",
   "metadata": {},
   "source": [
    "There is a single argument necessary to pass to the function : The path of the instance's text file.\n",
    "\n",
    "In case of a missing file, the function raises an error."
   ]
  },
  {
   "cell_type": "code",
   "execution_count": 177,
   "metadata": {},
   "outputs": [],
   "source": [
    "instance = pmsp_sijk.RmSijkCmax_Instance.read_txt(\"Instance.txt\")"
   ]
  },
  {
   "cell_type": "markdown",
   "metadata": {},
   "source": [
    "### Random generation of an instance"
   ]
  },
  {
   "cell_type": "markdown",
   "metadata": {},
   "source": [
    "2 arguments are mandatory to pass to the function :\n",
    "- Number of jobs\n",
    "- Number of machines\n",
    "\n",
    "\n",
    "We can customize the random generation by passing multiple other parameters such as :\n",
    "- Minimal and/or maximal processing time\n",
    "- Minimal and/or maximal setup time\n",
    "- Release time factor\n",
    "- Setup time factor\n",
    "- Generation protocol, by default we use VALLADA\n",
    "- Generation probabilistic law, by default we use the uniform law"
   ]
  },
  {
   "cell_type": "code",
   "execution_count": 181,
   "metadata": {
    "ExecuteTime": {
     "end_time": "2022-07-21T15:05:03.342572Z",
     "start_time": "2022-07-21T15:05:02.379513Z"
    }
   },
   "outputs": [],
   "source": [
    "instance = pmsp_sijk.RmSijkCmax_Instance.generate_random(20,4)"
   ]
  },
  {
   "cell_type": "markdown",
   "metadata": {},
   "source": [
    "## Solving an instance"
   ]
  },
  {
   "cell_type": "markdown",
   "metadata": {},
   "source": [
    "There are 2 methods to use to solve a given instance :\n",
    "- **Heuristics** : Usually greedy algorithms used to find an inital solution to the problem. They are found in the **Heuristics** class of the imported module.\n",
    "\n",
    "- **Metaheuristics** : More complicated algorithm designed to find very good solutions if given enough time. They are found in the **Metaheuristics** class of the imported module"
   ]
  },
  {
   "cell_type": "markdown",
   "metadata": {},
   "source": [
    "### Heuristics"
   ]
  },
  {
   "cell_type": "markdown",
   "metadata": {},
   "source": [
    "Heuristics of the concerned problem are found in the **Heuristics** class of the imported module.\n",
    "\n",
    "As being static methods of the mentioned class, we can call heuristics as follows :"
   ]
  },
  {
   "cell_type": "code",
   "execution_count": 179,
   "metadata": {},
   "outputs": [
    {
     "name": "stdout",
     "output_type": "stream",
     "text": [
      "Search stopped with status : FEASIBLE\n",
      " Solution is : \n",
      " Cmax : 908\n",
      "Machine_ID | Job_schedule (job_id , start_time , completion_time) | Completion_time\n",
      "1 | (16, 0, 51) : (12, 51, 225) : (6, 225, 407) : (8, 407, 591) : (14, 591, 796) | 796\n",
      "2 | (18, 0, 53) : (19, 53, 230) : (3, 230, 419) : (17, 419, 621) : (1, 621, 836) | 836\n",
      "3 | (11, 0, 53) : (9, 53, 236) : (2, 236, 429) : (10, 429, 632) : (4, 632, 908) | 908\n",
      "4 | (13, 0, 53) : (0, 53, 228) : (5, 228, 406) : (15, 406, 592) : (7, 592, 841) | 841 \n",
      "Runtime is : 0.0004628000024240464s \n",
      "time to best is : -1s \n",
      "\n"
     ]
    }
   ],
   "source": [
    "solve_result = pmsp_sijk.Heuristics.constructive(instance)\n",
    "print(solve_result)"
   ]
  },
  {
   "cell_type": "markdown",
   "metadata": {},
   "source": [
    "### Metaheuristics"
   ]
  },
  {
   "cell_type": "markdown",
   "metadata": {},
   "source": [
    "Metaheuristics of the concerned problem are found in the **Metaheuristics** class of the imported module.\n",
    "\n",
    "As being static methods of the mentioned class, we can call metaheuristics as follows :"
   ]
  },
  {
   "cell_type": "code",
   "execution_count": 169,
   "metadata": {},
   "outputs": [
    {
     "name": "stdout",
     "output_type": "stream",
     "text": [
      "Search stopped with status : FEASIBLE\n",
      " Solution is : \n",
      " Cmax : 526\n",
      "Machine_ID | Job_schedule (job_id , start_time , completion_time) | Completion_time\n",
      "1 | (3, 0, 46) : (6, 46, 154) : (12, 154, 268) : (18, 268, 381) : (0, 381, 521) | 521\n",
      "2 | (5, 0, 52) : (2, 52, 159) : (15, 159, 267) : (11, 267, 385) : (4, 385, 504) | 504\n",
      "3 | (14, 0, 59) : (17, 59, 180) : (8, 180, 290) : (9, 290, 397) : (10, 397, 526) | 526\n",
      "4 | (1, 0, 54) : (7, 54, 166) : (16, 166, 290) : (19, 290, 396) : (13, 396, 514) | 514 \n",
      "Runtime is : 12.959037700005865s \n",
      "time to best is : -1s \n",
      "\n"
     ]
    }
   ],
   "source": [
    "solve_result = pmsp_sijk.Metaheuristics.antColony(instance)\n",
    "print(solve_result)"
   ]
  },
  {
   "cell_type": "markdown",
   "metadata": {},
   "source": [
    "We can pass any eventual arguments compatible to the metaheuristic used in order to customize the solving process.\n",
    "\n",
    "In the following, we specify the number of iterations of the metaheuristic to limit its execution time :"
   ]
  },
  {
   "cell_type": "code",
   "execution_count": 180,
   "metadata": {},
   "outputs": [
    {
     "name": "stdout",
     "output_type": "stream",
     "text": [
      "Search stopped with status : FEASIBLE\n",
      " Solution is : \n",
      " Cmax : 837\n",
      "Machine_ID | Job_schedule (job_id , start_time , completion_time) | Completion_time\n",
      "1 | (6, 0, 56) : (12, 56, 236) : (8, 236, 419) : (16, 419, 587) : (14, 587, 771) | 771\n",
      "2 | (1, 0, 67) : (18, 67, 243) : (3, 243, 424) : (17, 424, 626) : (19, 626, 819) | 819\n",
      "3 | (10, 0, 62) : (9, 62, 247) : (2, 247, 440) : (11, 440, 618) : (4, 618, 837) | 837\n",
      "4 | (13, 0, 53) : (0, 53, 228) : (15, 228, 417) : (5, 417, 602) : (7, 602, 811) | 811 \n",
      "Runtime is : 0.058584999991580844s \n",
      "time to best is : 0.011164099996676669s \n",
      "\n"
     ]
    }
   ],
   "source": [
    "solve_result = pmsp_sijk.Metaheuristics.lahc(instance,Nb_iter=10)\n",
    "print(solve_result)"
   ]
  },
  {
   "cell_type": "markdown",
   "metadata": {},
   "source": [
    "### General solver"
   ]
  },
  {
   "cell_type": "markdown",
   "metadata": {},
   "source": [
    "There is a more general way to use the heuristics and metaheuristics without distinction by using the **Solver** class.\n",
    "\n",
    "We pass the wanted method as a parameter to create a Solver instance which works with this given method. Then, to use the solver, we call its solve() method which takes an instance of the problem as a parameter and any eventual arguments compatible to the method used in order to customize the solving process\n",
    "\n",
    "\n",
    "\n",
    "The above code can transform into the following :"
   ]
  },
  {
   "cell_type": "code",
   "execution_count": 173,
   "metadata": {},
   "outputs": [
    {
     "name": "stdout",
     "output_type": "stream",
     "text": [
      "Search stopped with status : FEASIBLE\n",
      " Solution is : \n",
      " Cmax : 1209\n",
      "Machine_ID | Job_schedule (job_id , start_time , completion_time) | Completion_time\n",
      "1 | (0, 0, 75) : (16, 75, 330) : (15, 330, 590) : (8, 590, 858) : (19, 858, 1132) | 1132\n",
      "2 | (12, 0, 75) : (18, 75, 336) : (9, 336, 601) : (5, 601, 866) : (13, 866, 1154) | 1154\n",
      "3 | (2, 0, 76) : (6, 76, 334) : (11, 334, 592) : (1, 592, 851) : (3, 851, 1118) | 1118\n",
      "4 | (10, 0, 77) : (7, 77, 343) : (17, 343, 618) : (4, 618, 898) : (14, 898, 1209) | 1209 \n",
      "Runtime is : 0.00029520000680349767s \n",
      "time to best is : -1s \n",
      "\n"
     ]
    }
   ],
   "source": [
    "solver = pmsp_sijk.Solver(pmsp_sijk.Heuristics.constructive)\n",
    "solve_result = solver.solve(instance)\n",
    "print(solve_result)"
   ]
  },
  {
   "cell_type": "code",
   "execution_count": null,
   "metadata": {},
   "outputs": [],
   "source": [
    "solver = pmsp_sijk.Solver(pmsp_sijk.Metaheuristics.lahc)\n",
    "solve_result = solver.solve(instance)\n",
    "print(solve_result)"
   ]
  }
 ],
 "metadata": {
  "kernelspec": {
   "display_name": "Python 3.9.12 ('pyscheduling')",
   "language": "python",
   "name": "python3"
  },
  "language_info": {
   "codemirror_mode": {
    "name": "ipython",
    "version": 3
   },
   "file_extension": ".py",
   "mimetype": "text/x-python",
   "name": "python",
   "nbconvert_exporter": "python",
   "pygments_lexer": "ipython3",
   "version": "3.9.12"
  },
  "vscode": {
   "interpreter": {
    "hash": "5680f738cc3aa8dc0f2caa6f4f7f94524a25cee02af6591b567881b90e17c616"
   }
  }
 },
 "nbformat": 4,
 "nbformat_minor": 4
}
