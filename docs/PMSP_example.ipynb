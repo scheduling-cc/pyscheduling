{
 "cells": [
  {
   "cell_type": "markdown",
   "metadata": {},
   "source": [
    "# pyscheduling_cc\n",
    "\n",
    "\n",
    "**pyscheduling_cc** is a python open-source package designed to solve scheduling problems.\n",
    "\n",
    "The package is rich in methods which can be general or problem-specific in order to optimize several objective functions.\n",
    "\n",
    "---"
   ]
  },
  {
   "cell_type": "markdown",
   "metadata": {},
   "source": [
    "# Single Machine Scheduling"
   ]
  },
  {
   "cell_type": "markdown",
   "metadata": {},
   "source": [
    "# Parallel Machines Scheduling"
   ]
  },
  {
   "cell_type": "markdown",
   "metadata": {},
   "source": [
    "## Import the package"
   ]
  },
  {
   "cell_type": "markdown",
   "metadata": {},
   "source": [
    "We start by importing the module corresponding to the problem we want to tackle"
   ]
  },
  {
   "cell_type": "code",
   "execution_count": 34,
   "metadata": {
    "ExecuteTime": {
     "end_time": "2022-07-21T15:05:02.377758Z",
     "start_time": "2022-07-21T15:05:01.824449Z"
    }
   },
   "outputs": [],
   "source": [
    "#%load_ext autoreload\n",
    "#%autoreload 2\n",
    "import pyscheduling_cc.PMSP.RmSijkCmax as pmsp_sijk"
   ]
  },
  {
   "cell_type": "markdown",
   "metadata": {},
   "source": [
    "## Instance generation\n"
   ]
  },
  {
   "cell_type": "markdown",
   "metadata": {},
   "source": [
    "We have 2 options to generate an instance:\n",
    "1. By importing it from a text file.\n",
    "2. By randomly generating it."
   ]
  },
  {
   "cell_type": "markdown",
   "metadata": {},
   "source": [
    "### Importing an instance"
   ]
  },
  {
   "cell_type": "markdown",
   "metadata": {},
   "source": [
    "There is a single argument necessary to pass to the function : The path of the instance's text file.\n",
    "\n",
    "In case of a missing file, the function raises an error."
   ]
  },
  {
   "cell_type": "code",
   "execution_count": 177,
   "metadata": {},
   "outputs": [],
   "source": [
    "instance = pmsp_sijk.RmSijkCmax_Instance.read_txt(\"Instance.txt\")"
   ]
  },
  {
   "cell_type": "markdown",
   "metadata": {},
   "source": [
    "### Random generation of an instance"
   ]
  },
  {
   "cell_type": "markdown",
   "metadata": {},
   "source": [
    "2 arguments are mandatory to pass to the function :\n",
    "- Number of jobs\n",
    "- Number of machines\n",
    "\n",
    "\n",
    "We can customize the random generation by passing multiple other parameters such as :\n",
    "- Minimal and/or maximal processing time\n",
    "- Minimal and/or maximal setup time\n",
    "- Release time factor\n",
    "- Setup time factor\n",
    "- Generation protocol, by default we use VALLADA\n",
    "- Generation probabilistic law, by default we use the uniform law"
   ]
  },
  {
   "cell_type": "code",
   "execution_count": 35,
   "metadata": {
    "ExecuteTime": {
     "end_time": "2022-07-21T15:05:03.342572Z",
     "start_time": "2022-07-21T15:05:02.379513Z"
    }
   },
   "outputs": [],
   "source": [
    "instance = pmsp_sijk.RmSijkCmax_Instance.generate_random(20,4)"
   ]
  },
  {
   "cell_type": "markdown",
   "metadata": {},
   "source": [
    "## Solving an instance"
   ]
  },
  {
   "cell_type": "markdown",
   "metadata": {},
   "source": [
    "There are 2 methods to use to solve a given instance :\n",
    "- **Heuristics** : Usually greedy algorithms used to find an inital solution to the problem. They are found in the **Heuristics** class of the imported module.\n",
    "\n",
    "- **Metaheuristics** : More complicated algorithm designed to find very good solutions if given enough time. They are found in the **Metaheuristics** class of the imported module"
   ]
  },
  {
   "cell_type": "markdown",
   "metadata": {},
   "source": [
    "### Heuristics"
   ]
  },
  {
   "cell_type": "markdown",
   "metadata": {},
   "source": [
    "Heuristics of the concerned problem are found in the **Heuristics** class of the imported module.\n",
    "\n",
    "As being static methods of the mentioned class, we can call heuristics as follows :"
   ]
  },
  {
   "cell_type": "code",
   "execution_count": 14,
   "metadata": {},
   "outputs": [
    {
     "name": "stdout",
     "output_type": "stream",
     "text": [
      "Search stopped with status : FEASIBLE\n",
      " Solution is : \n",
      " Cmax : 1085\n",
      "Machine_ID | Job_schedule (job_id , start_time , completion_time) | Completion_time\n",
      "1 | (4, 0, 67) : (7, 67, 289) : (8, 289, 513) : (19, 513, 737) : (14, 737, 965) | 965\n",
      "2 | (1, 0, 70) : (15, 70, 301) : (10, 301, 534) : (12, 534, 771) : (17, 771, 1033) | 1033\n",
      "3 | (0, 0, 70) : (13, 70, 301) : (6, 301, 537) : (9, 537, 786) : (5, 786, 1045) | 1045\n",
      "4 | (3, 0, 68) : (16, 68, 296) : (11, 296, 542) : (2, 542, 802) : (18, 802, 1085) | 1085 \n",
      "Runtime is : 0.0003008999999565276s \n",
      "time to best is : -1s \n",
      "\n"
     ]
    }
   ],
   "source": [
    "solve_result = pmsp_sijk.Heuristics.constructive(instance)\n",
    "print(solve_result)"
   ]
  },
  {
   "cell_type": "markdown",
   "metadata": {},
   "source": [
    "### Metaheuristics"
   ]
  },
  {
   "cell_type": "markdown",
   "metadata": {},
   "source": [
    "Metaheuristics of the concerned problem are found in the **Metaheuristics** class of the imported module.\n",
    "\n",
    "As being static methods of the mentioned class, we can call metaheuristics as follows :"
   ]
  },
  {
   "cell_type": "code",
   "execution_count": 15,
   "metadata": {},
   "outputs": [
    {
     "name": "stdout",
     "output_type": "stream",
     "text": [
      "Search stopped with status : FEASIBLE\n",
      " Solution is : \n",
      " Cmax : 1044\n",
      "Machine_ID | Job_schedule (job_id , start_time , completion_time) | Completion_time\n",
      "1 | (9, 0, 81) : (4, 81, 308) : (8, 308, 530) : (17, 530, 778) : (19, 778, 1003) | 1003\n",
      "2 | (15, 0, 70) : (1, 70, 301) : (12, 301, 534) : (10, 534, 771) : (6, 771, 1021) | 1021\n",
      "3 | (14, 0, 78) : (0, 78, 311) : (18, 311, 567) : (13, 567, 803) : (5, 803, 1044) | 1044\n",
      "4 | (3, 0, 68) : (16, 68, 296) : (11, 296, 542) : (7, 542, 771) : (2, 771, 1011) | 1011 \n",
      "Runtime is : 13.203260600000021s \n",
      "time to best is : -1s \n",
      "\n"
     ]
    }
   ],
   "source": [
    "solve_result = pmsp_sijk.Metaheuristics.antColony(instance)\n",
    "print(solve_result)"
   ]
  },
  {
   "cell_type": "markdown",
   "metadata": {},
   "source": [
    "We can pass any eventual arguments compatible to the metaheuristic used in order to customize the solving process.\n",
    "\n",
    "In the following, we specify the number of iterations of the metaheuristic to limit its execution time :"
   ]
  },
  {
   "cell_type": "code",
   "execution_count": 17,
   "metadata": {},
   "outputs": [
    {
     "name": "stdout",
     "output_type": "stream",
     "text": [
      "Search stopped with status : FEASIBLE\n",
      " Solution is : \n",
      " Cmax : 1025\n",
      "Machine_ID | Job_schedule (job_id , start_time , completion_time) | Completion_time\n",
      "1 | (17, 0, 79) : (14, 79, 312) : (19, 312, 539) : (8, 539, 763) : (9, 763, 1001) | 1001\n",
      "2 | (12, 0, 72) : (1, 72, 303) : (15, 303, 534) : (10, 534, 767) : (18, 767, 1025) | 1025\n",
      "3 | (5, 0, 79) : (13, 79, 313) : (6, 313, 549) : (4, 549, 786) : (0, 786, 1017) | 1017\n",
      "4 | (2, 0, 79) : (16, 79, 314) : (3, 314, 540) : (7, 540, 766) : (11, 766, 1009) | 1009 \n",
      "Runtime is : 0.05309039999997367s \n",
      "time to best is : 0.053089199999931225s \n",
      "\n"
     ]
    }
   ],
   "source": [
    "solve_result = pmsp..Metaheuristics.lahc(instance,Nb_iter=10)\n",
    "print(solve_result)"
   ]
  },
  {
   "cell_type": "markdown",
   "metadata": {},
   "source": [
    "### General solver"
   ]
  },
  {
   "cell_type": "markdown",
   "metadata": {},
   "source": [
    "There is a more general way to use the heuristics and metaheuristics without distinction by using the **Solver** class.\n",
    "\n",
    "We pass the wanted method as a parameter to create a Solver instance which works with this given method. Then, to use the solver, we call its solve() method which takes an instance of the problem as a parameter and any eventual arguments compatible to the method used in order to customize the solving process\n",
    "\n",
    "\n",
    "\n",
    "The above code can transform into the following :"
   ]
  },
  {
   "cell_type": "code",
   "execution_count": 173,
   "metadata": {},
   "outputs": [
    {
     "name": "stdout",
     "output_type": "stream",
     "text": [
      "Search stopped with status : FEASIBLE\n",
      " Solution is : \n",
      " Cmax : 1209\n",
      "Machine_ID | Job_schedule (job_id , start_time , completion_time) | Completion_time\n",
      "1 | (0, 0, 75) : (16, 75, 330) : (15, 330, 590) : (8, 590, 858) : (19, 858, 1132) | 1132\n",
      "2 | (12, 0, 75) : (18, 75, 336) : (9, 336, 601) : (5, 601, 866) : (13, 866, 1154) | 1154\n",
      "3 | (2, 0, 76) : (6, 76, 334) : (11, 334, 592) : (1, 592, 851) : (3, 851, 1118) | 1118\n",
      "4 | (10, 0, 77) : (7, 77, 343) : (17, 343, 618) : (4, 618, 898) : (14, 898, 1209) | 1209 \n",
      "Runtime is : 0.00029520000680349767s \n",
      "time to best is : -1s \n",
      "\n"
     ]
    }
   ],
   "source": [
    "solver = pmsp_sijk.Solver(pmsp_sijk.Heuristics.constructive)\n",
    "solve_result = solver.solve(instance)\n",
    "print(solve_result)"
   ]
  },
  {
   "cell_type": "code",
   "execution_count": null,
   "metadata": {},
   "outputs": [],
   "source": [
    "solver = pmsp_sijk.Solver(pmsp_sijk.Metaheuristics.lahc)\n",
    "solve_result = solver.solve(instance)\n",
    "print(solve_result)"
   ]
  }
 ],
 "metadata": {
  "kernelspec": {
   "display_name": "Python 3.9.12 ('pyscheduling')",
   "language": "python",
   "name": "python3"
  },
  "language_info": {
   "codemirror_mode": {
    "name": "ipython",
    "version": 3
   },
   "file_extension": ".py",
   "mimetype": "text/x-python",
   "name": "python",
   "nbconvert_exporter": "python",
   "pygments_lexer": "ipython3",
   "version": "3.9.12"
  },
  "vscode": {
   "interpreter": {
    "hash": "5680f738cc3aa8dc0f2caa6f4f7f94524a25cee02af6591b567881b90e17c616"
   }
  }
 },
 "nbformat": 4,
 "nbformat_minor": 4
}
