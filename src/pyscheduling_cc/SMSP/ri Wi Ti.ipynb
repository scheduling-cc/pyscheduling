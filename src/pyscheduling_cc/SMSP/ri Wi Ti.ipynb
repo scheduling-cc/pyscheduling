{
 "cells": [
  {
   "cell_type": "code",
   "execution_count": 1,
   "id": "a460572a",
   "metadata": {
    "ExecuteTime": {
     "end_time": "2022-08-04T14:36:18.510359Z",
     "start_time": "2022-08-04T14:36:17.898241Z"
    }
   },
   "outputs": [],
   "source": [
    "import pyscheduling_cc.SMSP.riwiTi as smsp_riT\n",
    "from pyscheduling_cc.SMSP.SingleMachine import Job\n",
    "\n",
    "from docplex.cp.model import CpoModel\n",
    "from docplex.cp.solver.cpo_callback import CpoCallback\n",
    "from docplex.cp.expression import INTERVAL_MAX"
   ]
  },
  {
   "cell_type": "code",
   "execution_count": 2,
   "id": "8fd24f4f",
   "metadata": {
    "ExecuteTime": {
     "end_time": "2022-08-04T14:36:19.355148Z",
     "start_time": "2022-08-04T14:36:19.350472Z"
    }
   },
   "outputs": [],
   "source": [
    "def csp_transform_solution(msol, E_i, instance, objective):\n",
    "\n",
    "    sol = instance.create_solution()\n",
    "    k_tasks = []\n",
    "    for i in range(instance.n):\n",
    "        start = msol[E_i[i]][0]\n",
    "        end = msol[E_i[i]][1]\n",
    "        k_tasks.append(Job(i,start,end))\n",
    "\n",
    "        k_tasks = sorted(k_tasks, key= lambda x: x[1])\n",
    "        sol.machine.job_schedule = k_tasks\n",
    "\n",
    "    if objective == \"wiCi\":\n",
    "        sol.wiCi()\n",
    "    elif objective == \"wiTi\":\n",
    "        sol.objective_value = sol.machine.total_weighted_lateness(instance)\n",
    "    return sol"
   ]
  },
  {
   "cell_type": "code",
   "execution_count": 3,
   "id": "af39c15d",
   "metadata": {
    "ExecuteTime": {
     "end_time": "2022-08-04T14:36:20.137594Z",
     "start_time": "2022-08-04T14:36:20.134634Z"
    }
   },
   "outputs": [],
   "source": [
    "instance = smsp_riT.riwiTi_Instance.generate_random(20,Wmax=6)\n",
    "E = range(instance.n)"
   ]
  },
  {
   "cell_type": "code",
   "execution_count": 4,
   "id": "179b8fd1",
   "metadata": {
    "ExecuteTime": {
     "end_time": "2022-08-04T14:36:20.783698Z",
     "start_time": "2022-08-04T14:36:20.775754Z"
    }
   },
   "outputs": [],
   "source": [
    "# Construct the model\n",
    "model = CpoModel(\"smspModel\")\n",
    "objective = \"wiTi\"\n",
    "\n",
    "# Jobs interval_vars including the release date and processing times constraints\n",
    "E_i = []\n",
    "for i in E:\n",
    "    start_period = (instance.R[i], INTERVAL_MAX) if hasattr(instance, 'R') else (0, INTERVAL_MAX)\n",
    "    job_i = model.interval_var( start = start_period,\n",
    "                                size = instance.P[i], optional= False, name=f'E[{i}]')\n",
    "    E_i.append(job_i)\n",
    "\n",
    "# Sequential execution on the machine\n",
    "machine_sequence = model.sequence_var( E_i, list(E) )\n",
    "model.add( model.no_overlap(machine_sequence) )\n",
    "\n",
    "# Define the objective \n",
    "if objective == \"wiCi\":\n",
    "    model.add(model.minimize( sum( instance.W[i] * model.end_of(E_i[i]) for i in E ) )) # sum_{i in E} wi * ci\n",
    "elif objective == \"cmax\":\n",
    "    model.add(model.minimize( max( model.end_of(E_i[i]) for i in E ) )) # max_{i in E} ci \n",
    "elif objective == \"wiTi\":\n",
    "    model.add( model.minimize( \n",
    "        sum( instance.W[i] * model.max(model.end_of(E_i[i]) - instance.D[i], 0) for i in E ) # sum_{i in E} wi * Ti\n",
    "    ))"
   ]
  },
  {
   "cell_type": "code",
   "execution_count": 5,
   "id": "4891d521",
   "metadata": {
    "ExecuteTime": {
     "end_time": "2022-08-04T14:36:31.692704Z",
     "start_time": "2022-08-04T14:36:21.629383Z"
    }
   },
   "outputs": [
    {
     "name": "stdout",
     "output_type": "stream",
     "text": [
      " ! --------------------------------------------------- CP Optimizer 20.1.0.0 --\n",
      " ! Minimization problem - 21 variables, 1 constraint\n",
      " ! TimeLimit            = 30\n",
      " ! Workers              = 1\n",
      " ! LogPeriod            = 1000000\n",
      " ! RelativeOptimalityTolerance = 0\n",
      " ! Initial process time : 0.02s (0.02s extraction + 0.00s propagation)\n",
      " !  . Log search space  : 86.4 (before), 86.4 (after)\n",
      " !  . Memory usage      : 443.8 kB (before), 443.8 kB (after)\n",
      " ! Using sequential search.\n",
      " ! ----------------------------------------------------------------------------\n",
      " !          Best Branches  Non-fixed            Branch decision\n",
      "                        0         21                 -\n",
      " + New bound is 0\n",
      " *           725       41  0.02s               (gap is 100.0%)\n",
      " *           554      115  0.02s               (gap is 100.0%)\n",
      " *           476      285  0.02s               (gap is 100.0%)\n",
      "             476     2802          3        F        -\n",
      " + New bound is 61 (gap is 87.18%)\n",
      "             476     2802          3                 -\n",
      " + New bound is 155.9998 (gap is 67.23%)\n",
      " *           449     3156  0.04s               (gap is 65.26%)\n",
      " *           382     3179  0.04s               (gap is 59.16%)\n",
      " *           376     3275  0.04s               (gap is 58.51%)\n",
      " *           367     3346  0.04s               (gap is 57.49%)\n",
      " *           364     3692  0.04s               (gap is 57.14%)\n",
      " *           363     3722  0.04s               (gap is 57.02%)\n",
      " ! Using failure-directed search.\n",
      " *           360    17018  0.24s               (gap is 56.67%)\n",
      " *           348    17058  0.24s               (gap is 55.17%)\n",
      "             348     665k          1        F    71 <= startOf(E[15])\n",
      " + New bound is 167 (gap is 52.01%)\n",
      "             348     667k          1        F    60 >= startOf(E[15])\n",
      " + New bound is 179 (gap is 48.56%)\n",
      "             348     667k          1        F    51 <= startOf(E[8])\n",
      " + New bound is 199 (gap is 42.82%)\n",
      "             348     667k          1            200 <= startOf(E[19])\n",
      " + New bound is 236 (gap is 32.18%)\n",
      "             348     667k          1            196 <= startOf(E[19])\n",
      " + New bound is 240 (gap is 31.03%)\n",
      "             348     667k          1        F    57 <= startOf(E[11])\n",
      " + New bound is 266 (gap is 23.56%)\n",
      " ! Time = 10.04s, Average fail depth = 11, Memory usage = 1.2 MB\n",
      " ! Current bound is 266 (gap is 23.56%)\n",
      " !          Best Branches  Non-fixed            Branch decision\n",
      "             348     667k          1            166 <= startOf(E[19])\n",
      " + New bound is 270 (gap is 22.41%)\n",
      "             348     667k          1            165 <= startOf(E[19])\n",
      " + New bound is 271 (gap is 22.13%)\n",
      "             348     667k          1            161 <= startOf(E[19])\n",
      " + New bound is 275 (gap is 20.98%)\n",
      "             348     667k          1            153 <= startOf(E[19])\n",
      " + New bound is 283 (gap is 18.68%)\n",
      "             348     667k          1             60 >= startOf(E[15])\n",
      " + New bound is 285 (gap is 18.10%)\n",
      "             348     667k          1            142 <= startOf(E[7])\n",
      " + New bound is 287 (gap is 17.53%)\n",
      "             348     667k          1            147 <= startOf(E[19])\n",
      " + New bound is 289 (gap is 16.95%)\n",
      "             348     667k          1             84 <= startOf(E[3])\n",
      " + New bound is 291 (gap is 16.38%)\n",
      "             348     667k          1        F    36 <= startOf(E[11])\n",
      " + New bound is 348 (gap is 0.00%)\n",
      " ! ----------------------------------------------------------------------------\n",
      " ! Search completed, 11 solutions found.\n",
      " ! Best objective         : 348 (optimal - effective tol. is 0)\n",
      " ! Best bound             : 348\n",
      " ! ----------------------------------------------------------------------------\n",
      " ! Number of branches     : 667588\n",
      " ! Number of fails        : 377937\n",
      " ! Total memory usage     : 1.2 MB (1.2 MB CP Optimizer + 0.0 MB Concert)\n",
      " ! Time spent in solve    : 10.04s (10.02s engine + 0.02s extraction)\n",
      " ! Search speed (br. / s) : 66625.5\n",
      " ! ----------------------------------------------------------------------------\n"
     ]
    }
   ],
   "source": [
    "msol = model.solve(LogVerbosity=\"Normal\", Workers=1, TimeLimit=30, LogPeriod=1000000,\n",
    "                   log_output=True, trace_log=True, add_log_to_solution=True, RelativeOptimalityTolerance=0)"
   ]
  },
  {
   "cell_type": "code",
   "execution_count": 6,
   "id": "9b3542cb",
   "metadata": {
    "ExecuteTime": {
     "end_time": "2022-08-04T14:36:37.841197Z",
     "start_time": "2022-08-04T14:36:37.837550Z"
    }
   },
   "outputs": [],
   "source": [
    "sol = csp_transform_solution(msol, E_i, instance, objective)"
   ]
  },
  {
   "cell_type": "code",
   "execution_count": 7,
   "id": "98f166c1",
   "metadata": {
    "ExecuteTime": {
     "end_time": "2022-08-04T14:36:38.200995Z",
     "start_time": "2022-08-04T14:36:38.196681Z"
    }
   },
   "outputs": [
    {
     "name": "stdout",
     "output_type": "stream",
     "text": [
      "Cmax : 348\n",
      "Job_schedule (job_id , start_time , completion_time) | Completion_time\n",
      "(2, 0, 1) : (16, 1, 4) : (18, 4, 6) : (1, 6, 13) : (12, 13, 19) : (3, 19, 21) : (5, 21, 28) : (6, 28, 31) : (17, 31, 38) : (8, 38, 42) : (9, 42, 49) : (13, 49, 58) : (10, 58, 62) : (0, 62, 70) : (7, 70, 75) : (15, 75, 81) : (11, 81, 89) : (19, 89, 97) : (14, 97, 106) : (4, 106, 115) | 348\n"
     ]
    }
   ],
   "source": [
    "print(sol)"
   ]
  },
  {
   "cell_type": "code",
   "execution_count": 11,
   "id": "07d57396",
   "metadata": {
    "ExecuteTime": {
     "end_time": "2022-08-04T14:38:00.751812Z",
     "start_time": "2022-08-04T14:38:00.748084Z"
    }
   },
   "outputs": [
    {
     "name": "stdout",
     "output_type": "stream",
     "text": [
      "Search stopped with status : FEASIBLE\n",
      " Solution is : \n",
      " Cmax : 437\n",
      "Job_schedule (job_id , start_time , completion_time) | Completion_time\n",
      "(18, 3, 5) : (16, 5, 8) : (12, 8, 14) : (6, 14, 17) : (3, 17, 19) : (2, 19, 20) : (1, 20, 27) : (5, 27, 34) : (9, 34, 41) : (8, 41, 45) : (13, 45, 54) : (17, 54, 61) : (10, 61, 65) : (0, 65, 73) : (7, 73, 78) : (15, 78, 84) : (11, 84, 92) : (19, 92, 100) : (14, 100, 109) : (4, 109, 118) | 437 \n",
      "Runtime is : 0.00034176098415628076s \n",
      "time to best is : -1s \n",
      "\n"
     ]
    }
   ],
   "source": [
    "solve_result = smsp_riT.Heuristics.ACT_WSECi(instance)\n",
    "print(solve_result)"
   ]
  },
  {
   "cell_type": "code",
   "execution_count": null,
   "id": "16b14abc",
   "metadata": {},
   "outputs": [],
   "source": []
  }
 ],
 "metadata": {
  "kernelspec": {
   "display_name": "Python 3 (ipykernel)",
   "language": "python",
   "name": "python3"
  },
  "language_info": {
   "codemirror_mode": {
    "name": "ipython",
    "version": 3
   },
   "file_extension": ".py",
   "mimetype": "text/x-python",
   "name": "python",
   "nbconvert_exporter": "python",
   "pygments_lexer": "ipython3",
   "version": "3.9.12"
  }
 },
 "nbformat": 4,
 "nbformat_minor": 5
}
