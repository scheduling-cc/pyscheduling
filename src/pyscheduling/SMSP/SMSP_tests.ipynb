{
 "cells": [
  {
   "cell_type": "code",
   "execution_count": 22,
   "id": "cafdbaa5",
   "metadata": {
    "ExecuteTime": {
     "end_time": "2022-10-27T15:08:00.348226Z",
     "start_time": "2022-10-27T15:07:57.500677Z"
    }
   },
   "outputs": [
    {
     "name": "stdout",
     "output_type": "stream",
     "text": [
      "The autoreload extension is already loaded. To reload it, use:\n",
      "  %reload_ext autoreload\n",
      "The pycodestyle_magic extension is already loaded. To reload it, use:\n",
      "  %reload_ext pycodestyle_magic\n"
     ]
    }
   ],
   "source": [
    "import pyscheduling.SMSP.risijwiCi as sm\n",
    "import pyscheduling.SMSP.riwiCi as sm_ci\n",
    "import pyscheduling.SMSP.SM_Methods as sm_methods\n",
    "\n",
    "%load_ext autoreload\n",
    "%load_ext pycodestyle_magic\n",
    "%autoreload 2"
   ]
  },
  {
   "cell_type": "markdown",
   "id": "121bc534",
   "metadata": {},
   "source": [
    "## New problem risijwiCi"
   ]
  },
  {
   "cell_type": "code",
   "execution_count": 43,
   "id": "e01acf77",
   "metadata": {
    "ExecuteTime": {
     "end_time": "2022-10-27T15:11:01.659553Z",
     "start_time": "2022-10-27T15:11:01.594967Z"
    }
   },
   "outputs": [],
   "source": [
    "instance = sm.risijwiCi_Instance.generate_random(100)"
   ]
  },
  {
   "cell_type": "code",
   "execution_count": 44,
   "id": "79749124",
   "metadata": {
    "ExecuteTime": {
     "end_time": "2022-10-27T15:11:42.972282Z",
     "start_time": "2022-10-27T15:11:03.213549Z"
    }
   },
   "outputs": [],
   "source": [
    "solve_result_grasp = sm_methods.Heuristics.grasp(instance, 0, 0.2, 5)"
   ]
  },
  {
   "cell_type": "code",
   "execution_count": 45,
   "id": "8c284e61",
   "metadata": {
    "ExecuteTime": {
     "end_time": "2022-10-27T15:11:53.110602Z",
     "start_time": "2022-10-27T15:11:45.158917Z"
    }
   },
   "outputs": [],
   "source": [
    "solve_result_biba = sm_methods.Heuristics.BIBA(instance)"
   ]
  },
  {
   "cell_type": "code",
   "execution_count": 46,
   "id": "b8ddce77",
   "metadata": {
    "ExecuteTime": {
     "end_time": "2022-10-27T15:11:54.706149Z",
     "start_time": "2022-10-27T15:11:54.662486Z"
    }
   },
   "outputs": [],
   "source": [
    "solve_result_list = sm.Heuristics.list_heuristic(instance, rule_number=1)"
   ]
  },
  {
   "cell_type": "code",
   "execution_count": 49,
   "id": "b0e2ef43",
   "metadata": {
    "ExecuteTime": {
     "end_time": "2022-10-27T15:12:21.586585Z",
     "start_time": "2022-10-27T15:12:21.558370Z"
    }
   },
   "outputs": [
    {
     "name": "stdout",
     "output_type": "stream",
     "text": [
      "Objective : 633267\n",
      "Job_schedule (job_id , start_time , completion_time) | objective\n",
      "(1, 0, 99) : (98, 268, 321) : (30, 334, 339) : (44, 349, 355) : (6, 468, 558) : (42, 682, 688) : (70, 703, 721) : (83, 758, 778) : (0, 806, 808) : (15, 865, 914) : (22, 1069, 1153) : (54, 1214, 1238) : (39, 1269, 1272) : (14, 1350, 1391) : (29, 1450, 1457) : (48, 1485, 1560) : (58, 1715, 1799) : (7, 1949, 1953) : (28, 1966, 1995) : (36, 2015, 2020) : (40, 2082, 2119) : (79, 2183, 2190) : (12, 2202, 2208) : (46, 2255, 2302) : (37, 2392, 2434) : (74, 2514, 2551) : (34, 2620, 2644) : (60, 2682, 2695) : (80, 2825, 2897) : (87, 2956, 2985) : (53, 3050, 3114) : (82, 3230, 3281) : (26, 3416, 3511) : (20, 3623, 3649) : (69, 3706, 3761) : (88, 3900, 3972) : (5, 4102, 4140) : (17, 4269, 4344) : (59, 4491, 4541) : (94, 4598, 4622) : (18, 4672, 4702) : (23, 4761, 4787) : (3, 4840, 4876) : (92, 4936, 4959) : (65, 5041, 5085) : (63, 5158, 5191) : (91, 5250, 5279) : (2, 5395, 5456) : (10, 5617, 5700) : (25, 5862, 5942) : (76, 6089, 6134) : (66, 6220, 6259) : (81, 6343, 6433) : (85, 6545, 6601) : (32, 6694, 6721) : (43, 6788, 6833) : (84, 6943, 7022) : (31, 7101, 7124) : (38, 7170, 7196) : (93, 7262, 7300) : (24, 7372, 7398) : (73, 7450, 7482) : (77, 7547, 7600) : (19, 7706, 7761) : (72, 7875, 7938) : (75, 8077, 8161) : (96, 8293, 8339) : (35, 8433, 8486) : (97, 8572, 8613) : (4, 8708, 8765) : (62, 8885, 8955) : (67, 9088, 9148) : (90, 9257, 9293) : (61, 9372, 9427) : (21, 9566, 9638) : (49, 9766, 9808) : (13, 9901, 9963) : (9, 10082, 10140) : (50, 10285, 10359) : (64, 10530, 10618) : (99, 10704, 10746) : (55, 10830, 10880) : (33, 10983, 11059) : (56, 11188, 11230) : (78, 11314, 11371) : (27, 11481, 11530) : (86, 11626, 11674) : (51, 11773, 11850) : (11, 12028, 12125) : (47, 12277, 12339) : (8, 12487, 12572) : (52, 12726, 12796) : (68, 12927, 12987) : (45, 13118, 13185) : (71, 13322, 13405) : (41, 13555, 13627) : (16, 13769, 13840) : (57, 14029, 14124) : (95, 14301, 14387) : (89, 14571, 14669) | 633267\n"
     ]
    }
   ],
   "source": [
    "print(solve_result_list.best_solution)"
   ]
  },
  {
   "cell_type": "markdown",
   "id": "77b0b778",
   "metadata": {},
   "source": [
    "## Old problem riwiCi"
   ]
  },
  {
   "cell_type": "code",
   "execution_count": 17,
   "id": "7980986f",
   "metadata": {
    "ExecuteTime": {
     "end_time": "2022-10-27T14:51:51.190758Z",
     "start_time": "2022-10-27T14:51:51.161855Z"
    }
   },
   "outputs": [],
   "source": [
    "instance = sm_ci.riwiCi_Instance.generate_random(10)"
   ]
  },
  {
   "cell_type": "code",
   "execution_count": 18,
   "id": "4b8ad7ac",
   "metadata": {
    "ExecuteTime": {
     "end_time": "2022-10-27T14:51:52.923567Z",
     "start_time": "2022-10-27T14:51:52.877039Z"
    }
   },
   "outputs": [],
   "source": [
    "solve_result = sm_methods.Heuristics_Cmax.grasp(instance, 0.5, 0.5, 5)"
   ]
  },
  {
   "cell_type": "code",
   "execution_count": 19,
   "id": "9ddfb1bb",
   "metadata": {
    "ExecuteTime": {
     "end_time": "2022-10-27T14:52:01.056746Z",
     "start_time": "2022-10-27T14:52:01.028477Z"
    }
   },
   "outputs": [],
   "source": [
    "%%timeit\n",
    "solve_result_1 = sm_ci.Heuristics.WSAPT(instance)"
   ]
  },
  {
   "cell_type": "code",
   "execution_count": 40,
   "id": "fa67d98c",
   "metadata": {
    "ExecuteTime": {
     "end_time": "2022-10-23T14:24:01.109487Z",
     "start_time": "2022-10-23T14:23:54.227298Z"
    }
   },
   "outputs": [
    {
     "name": "stdout",
     "output_type": "stream",
     "text": [
      "84.6 µs ± 910 ns per loop (mean ± std. dev. of 7 runs, 10,000 loops each)\n"
     ]
    }
   ],
   "source": [
    "%%timeit\n",
    "rule = lambda instance, job_id : float(instance.W[job_id])/float(instance.P[job_id])\n",
    "filter_fun = lambda instance, ci, job_id : instance.R[job_id]<=ci\n",
    "solve_result_2 = sm_methods.Heuristics.dynamic_dispatch_rule(instance,rule, filter_fun, reverse=True)"
   ]
  },
  {
   "cell_type": "code",
   "execution_count": 31,
   "id": "dc1b0000",
   "metadata": {
    "ExecuteTime": {
     "end_time": "2022-10-23T14:22:40.735092Z",
     "start_time": "2022-10-23T14:22:40.716170Z"
    }
   },
   "outputs": [
    {
     "name": "stdout",
     "output_type": "stream",
     "text": [
      "Search stopped with status : FEASIBLE\n",
      " Solution is : \n",
      " Objective : 2055\n",
      "Job_schedule (job_id , start_time , completion_time) | objective\n",
      "(6, 0, 2) : (0, 7, 66) : (5, 66, 88) : (7, 88, 113) : (9, 113, 152) : (1, 152, 195) : (8, 195, 255) : (2, 255, 317) : (4, 317, 387) : (3, 387, 480) | 2055 \n",
      "Runtime is : 6.069301161915064e-05s \n",
      "time to best is : -1s \n",
      "\n",
      "Search stopped with status : FEASIBLE\n",
      " Solution is : \n",
      " Objective : 2055\n",
      "Job_schedule (job_id , start_time , completion_time) | objective\n",
      "(6, 0, 2) : (0, 7, 66) : (5, 66, 88) : (7, 88, 113) : (9, 113, 152) : (1, 152, 195) : (8, 195, 255) : (2, 255, 317) : (4, 317, 387) : (3, 387, 480) | 2055 \n",
      "Runtime is : 0.0002623129985295236s \n",
      "time to best is : -1s \n",
      "\n"
     ]
    }
   ],
   "source": [
    "print(solve_result_1)\n",
    "print(solve_result_2)"
   ]
  }
 ],
 "metadata": {
  "kernelspec": {
   "display_name": "Python 3 (ipykernel)",
   "language": "python",
   "name": "python3"
  },
  "language_info": {
   "codemirror_mode": {
    "name": "ipython",
    "version": 3
   },
   "file_extension": ".py",
   "mimetype": "text/x-python",
   "name": "python",
   "nbconvert_exporter": "python",
   "pygments_lexer": "ipython3",
   "version": "3.9.12"
  }
 },
 "nbformat": 4,
 "nbformat_minor": 5
}
