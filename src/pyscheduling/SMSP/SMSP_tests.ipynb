{
 "cells": [
  {
   "cell_type": "code",
   "execution_count": 19,
   "id": "00ebbf30",
   "metadata": {
    "ExecuteTime": {
     "end_time": "2022-11-19T21:57:59.324008Z",
     "start_time": "2022-11-19T21:57:58.198262Z"
    }
   },
   "outputs": [
    {
     "name": "stdout",
     "output_type": "stream",
     "text": [
      "The autoreload extension is already loaded. To reload it, use:\n",
      "  %reload_ext autoreload\n",
      "The pycodestyle_magic extension is already loaded. To reload it, use:\n",
      "  %reload_ext pycodestyle_magic\n"
     ]
    }
   ],
   "source": [
    "import pyscheduling.SMSP.risijwiCi as sm\n",
    "import pyscheduling.SMSP.risijCmax as sm_cmax\n",
    "import pyscheduling.SMSP.riwiCi as sm_ci\n",
    "import pyscheduling.SMSP.SM_Methods as sm_methods\n",
    "\n",
    "%load_ext autoreload\n",
    "%load_ext pycodestyle_magic\n",
    "%autoreload 2"
   ]
  },
  {
   "cell_type": "markdown",
   "id": "d2a59a15",
   "metadata": {},
   "source": [
    "## New problem risijwiCi"
   ]
  },
  {
   "cell_type": "code",
   "execution_count": 2,
   "id": "52ba9614",
   "metadata": {
    "ExecuteTime": {
     "end_time": "2022-10-29T08:17:19.389116Z",
     "start_time": "2022-10-29T08:17:19.372703Z"
    }
   },
   "outputs": [],
   "source": [
    "instance = sm.risijwiCi_Instance.generate_random(40, Wmax=2)"
   ]
  },
  {
   "cell_type": "code",
   "execution_count": 3,
   "id": "abaeb64a",
   "metadata": {
    "ExecuteTime": {
     "end_time": "2022-10-29T08:17:20.690430Z",
     "start_time": "2022-10-29T08:17:20.674499Z"
    }
   },
   "outputs": [
    {
     "name": "stdout",
     "output_type": "stream",
     "text": [
      "{'Rule_0': 116707, 'Rule_0-reverse': 158641, 'Rule_1': 178602, 'Rule_1-reverse': 89481, 'Rule_2': 174794, 'Rule_2-reverse': 91357, 'Rule_3': 167930, 'Rule_3-reverse': 104192}\n"
     ]
    }
   ],
   "source": [
    "results_dict = {}\n",
    "for rule_number in range(4):\n",
    "    obj = sm.Heuristics.list_heuristic(instance, rule_number, False).best_solution.objective_value\n",
    "    obj_reverse = sm.Heuristics.list_heuristic(instance, rule_number, True).best_solution.objective_value\n",
    "    \n",
    "    results_dict[f'Rule_{rule_number}'] = obj\n",
    "    results_dict[f'Rule_{rule_number}-reverse'] = obj_reverse \n",
    "    \n",
    "print(results_dict)"
   ]
  },
  {
   "cell_type": "code",
   "execution_count": 4,
   "id": "dd7aa6f6",
   "metadata": {
    "ExecuteTime": {
     "end_time": "2022-10-29T08:17:23.051698Z",
     "start_time": "2022-10-29T08:17:22.515260Z"
    }
   },
   "outputs": [],
   "source": [
    "solve_result_grasp = sm_methods.Heuristics.grasp(instance, 0, 0.2, 5)"
   ]
  },
  {
   "cell_type": "code",
   "execution_count": 5,
   "id": "ec8cde43",
   "metadata": {
    "ExecuteTime": {
     "end_time": "2022-10-29T08:17:28.473602Z",
     "start_time": "2022-10-29T08:17:28.358623Z"
    }
   },
   "outputs": [],
   "source": [
    "solve_result_biba = sm_methods.Heuristics.BIBA(instance)"
   ]
  },
  {
   "cell_type": "code",
   "execution_count": 6,
   "id": "23af33af",
   "metadata": {
    "ExecuteTime": {
     "end_time": "2022-10-29T08:17:28.738975Z",
     "start_time": "2022-10-29T08:17:28.719665Z"
    }
   },
   "outputs": [],
   "source": [
    "solve_result_list = sm.Heuristics.list_heuristic(instance, rule_number=1)"
   ]
  },
  {
   "cell_type": "code",
   "execution_count": 7,
   "id": "d82de077",
   "metadata": {
    "ExecuteTime": {
     "end_time": "2022-10-29T08:17:37.289842Z",
     "start_time": "2022-10-29T08:17:29.210434Z"
    }
   },
   "outputs": [],
   "source": [
    "solve_result_lahc = sm_methods.Metaheuristics.lahc(instance, **{\"time_limit_factor\":0.2})"
   ]
  },
  {
   "cell_type": "code",
   "execution_count": 8,
   "id": "23d1dd8a",
   "metadata": {
    "ExecuteTime": {
     "end_time": "2022-10-29T08:17:45.318507Z",
     "start_time": "2022-10-29T08:17:37.292691Z"
    }
   },
   "outputs": [],
   "source": [
    "solve_result_sa = sm_methods.Metaheuristics.SA(instance, **{\"time_limit_factor\":0.2})"
   ]
  },
  {
   "cell_type": "code",
   "execution_count": 9,
   "id": "9c941174",
   "metadata": {
    "ExecuteTime": {
     "end_time": "2022-10-29T08:17:45.336864Z",
     "start_time": "2022-10-29T08:17:45.320482Z"
    }
   },
   "outputs": [
    {
     "name": "stdout",
     "output_type": "stream",
     "text": [
      "Objective : 82015\n",
      "Job_schedule (job_id , start_time , completion_time) | objective\n",
      "(19, 2, 13) : (16, 41, 59) : (15, 81, 91) : (29, 118, 132) : (26, 168, 194) : (20, 225, 236) : (0, 258, 284) : (27, 313, 326) : (22, 363, 397) : (18, 445, 461) : (7, 508, 543) : (3, 594, 619) : (2, 652, 663) : (17, 688, 720) : (36, 748, 760) : (30, 785, 809) : (8, 859, 886) : (1, 939, 965) : (23, 1011, 1031) : (9, 1071, 1091) : (4, 1117, 1128) : (11, 1153, 1192) : (33, 1274, 1319) : (10, 1355, 1373) : (37, 1412, 1454) : (28, 1483, 1497) : (35, 1525, 1560) : (14, 1621, 1643) : (39, 1693, 1740) : (21, 1788, 1812) : (12, 1871, 1920) : (13, 1983, 2006) : (6, 2052, 2075) : (5, 2135, 2184) : (31, 2267, 2302) : (25, 2365, 2394) : (24, 2448, 2474) : (32, 2526, 2554) : (34, 2622, 2657) : (38, 2746, 2794) | 82015\n"
     ]
    }
   ],
   "source": [
    "print(solve_result_lahc.best_solution)"
   ]
  },
  {
   "cell_type": "markdown",
   "id": "a51ec207",
   "metadata": {},
   "source": [
    "## Old problem riwiCi"
   ]
  },
  {
   "cell_type": "code",
   "execution_count": 17,
   "id": "319e00ec",
   "metadata": {
    "ExecuteTime": {
     "end_time": "2022-10-27T14:51:51.190758Z",
     "start_time": "2022-10-27T14:51:51.161855Z"
    }
   },
   "outputs": [],
   "source": [
    "instance = sm_ci.riwiCi_Instance.generate_random(10)"
   ]
  },
  {
   "cell_type": "code",
   "execution_count": 18,
   "id": "0a0d44c6",
   "metadata": {
    "ExecuteTime": {
     "end_time": "2022-10-27T14:51:52.923567Z",
     "start_time": "2022-10-27T14:51:52.877039Z"
    }
   },
   "outputs": [],
   "source": [
    "solve_result = sm_methods.Heuristics_Cmax.grasp(instance, 0.5, 0.5, 5)"
   ]
  },
  {
   "cell_type": "code",
   "execution_count": 19,
   "id": "9685221c",
   "metadata": {
    "ExecuteTime": {
     "end_time": "2022-10-27T14:52:01.056746Z",
     "start_time": "2022-10-27T14:52:01.028477Z"
    }
   },
   "outputs": [],
   "source": [
    "%%timeit\n",
    "solve_result_1 = sm_ci.Heuristics.WSAPT(instance)"
   ]
  },
  {
   "cell_type": "code",
   "execution_count": 40,
   "id": "76c9d655",
   "metadata": {
    "ExecuteTime": {
     "end_time": "2022-10-23T14:24:01.109487Z",
     "start_time": "2022-10-23T14:23:54.227298Z"
    }
   },
   "outputs": [
    {
     "name": "stdout",
     "output_type": "stream",
     "text": [
      "84.6 µs ± 910 ns per loop (mean ± std. dev. of 7 runs, 10,000 loops each)\n"
     ]
    }
   ],
   "source": [
    "%%timeit\n",
    "rule = lambda instance, job_id : float(instance.W[job_id])/float(instance.P[job_id])\n",
    "filter_fun = lambda instance, ci, job_id : instance.R[job_id]<=ci\n",
    "solve_result_2 = sm_methods.Heuristics.dynamic_dispatch_rule(instance,rule, filter_fun, reverse=True)"
   ]
  },
  {
   "cell_type": "code",
   "execution_count": 31,
   "id": "cba94430",
   "metadata": {
    "ExecuteTime": {
     "end_time": "2022-10-23T14:22:40.735092Z",
     "start_time": "2022-10-23T14:22:40.716170Z"
    }
   },
   "outputs": [
    {
     "name": "stdout",
     "output_type": "stream",
     "text": [
      "Search stopped with status : FEASIBLE\n",
      " Solution is : \n",
      " Objective : 2055\n",
      "Job_schedule (job_id , start_time , completion_time) | objective\n",
      "(6, 0, 2) : (0, 7, 66) : (5, 66, 88) : (7, 88, 113) : (9, 113, 152) : (1, 152, 195) : (8, 195, 255) : (2, 255, 317) : (4, 317, 387) : (3, 387, 480) | 2055 \n",
      "Runtime is : 6.069301161915064e-05s \n",
      "time to best is : -1s \n",
      "\n",
      "Search stopped with status : FEASIBLE\n",
      " Solution is : \n",
      " Objective : 2055\n",
      "Job_schedule (job_id , start_time , completion_time) | objective\n",
      "(6, 0, 2) : (0, 7, 66) : (5, 66, 88) : (7, 88, 113) : (9, 113, 152) : (1, 152, 195) : (8, 195, 255) : (2, 255, 317) : (4, 317, 387) : (3, 387, 480) | 2055 \n",
      "Runtime is : 0.0002623129985295236s \n",
      "time to best is : -1s \n",
      "\n"
     ]
    }
   ],
   "source": [
    "print(solve_result_1)\n",
    "print(solve_result_2)"
   ]
  },
  {
   "cell_type": "markdown",
   "id": "ef3479b3",
   "metadata": {},
   "source": [
    "## Refactored compute_objective methods"
   ]
  },
  {
   "cell_type": "code",
   "execution_count": 49,
   "id": "ce6f0f9a",
   "metadata": {
    "ExecuteTime": {
     "end_time": "2022-11-21T14:51:00.268904Z",
     "start_time": "2022-11-21T14:51:00.257009Z"
    }
   },
   "outputs": [],
   "source": [
    "instance = sm_cmax.risijCmax_Instance.generate_random(20)"
   ]
  },
  {
   "cell_type": "code",
   "execution_count": 50,
   "id": "501e6c84",
   "metadata": {
    "ExecuteTime": {
     "end_time": "2022-11-21T14:51:04.185009Z",
     "start_time": "2022-11-21T14:51:04.113755Z"
    }
   },
   "outputs": [
    {
     "name": "stdout",
     "output_type": "stream",
     "text": [
      "Calling LEJ_neighbour\n",
      "Applying LEJ insert\n",
      "Calling LEJ_neighbour\n",
      "Applying LEJ swap\n",
      "Calling LEJ_neighbour\n",
      "Applying LEJ swap\n",
      "Calling LEJ_neighbour\n",
      "Applying LEJ insert\n",
      "Calling LEJ_neighbour\n",
      "Applying LEJ swap\n",
      "Calling LEJ_neighbour\n",
      "Applying LEJ swap\n",
      "Calling LEJ_neighbour\n",
      "Applying LEJ swap\n",
      "Calling LEJ_neighbour\n",
      "Applying LEJ insert\n",
      "Calling LEJ_neighbour\n",
      "Applying LEJ swap\n",
      "Calling LEJ_neighbour\n",
      "Applying LEJ insert\n"
     ]
    }
   ],
   "source": [
    "lahc_sol = sm_methods.Metaheuristics.lahc(instance, n_iterations=10)"
   ]
  },
  {
   "cell_type": "code",
   "execution_count": 22,
   "id": "28bf6b39",
   "metadata": {
    "ExecuteTime": {
     "end_time": "2022-11-19T21:58:05.189376Z",
     "start_time": "2022-11-19T21:58:05.175476Z"
    }
   },
   "outputs": [
    {
     "data": {
      "text/plain": [
       "[Job(id=12, start_time=14, end_time=43),\n",
       " Job(id=3, start_time=43, end_time=88),\n",
       " Job(id=0, start_time=88, end_time=163),\n",
       " Job(id=13, start_time=163, end_time=281),\n",
       " Job(id=8, start_time=281, end_time=329),\n",
       " Job(id=15, start_time=329, end_time=421),\n",
       " Job(id=5, start_time=421, end_time=524),\n",
       " Job(id=18, start_time=524, end_time=588),\n",
       " Job(id=10, start_time=588, end_time=628),\n",
       " Job(id=7, start_time=628, end_time=701),\n",
       " Job(id=9, start_time=701, end_time=798),\n",
       " Job(id=14, start_time=798, end_time=888),\n",
       " Job(id=19, start_time=888, end_time=988),\n",
       " Job(id=17, start_time=988, end_time=1091),\n",
       " Job(id=4, start_time=1091, end_time=1217),\n",
       " Job(id=6, start_time=1217, end_time=1323),\n",
       " Job(id=11, start_time=1323, end_time=1403),\n",
       " Job(id=16, start_time=1403, end_time=1510),\n",
       " Job(id=2, start_time=1510, end_time=1563),\n",
       " Job(id=1, start_time=1563, end_time=1656)]"
      ]
     },
     "execution_count": 22,
     "metadata": {},
     "output_type": "execute_result"
    }
   ],
   "source": [
    "lahc_sol.best_solution.machine.job_schedule"
   ]
  },
  {
   "cell_type": "code",
   "execution_count": 52,
   "id": "d10eecc0",
   "metadata": {
    "ExecuteTime": {
     "end_time": "2022-11-21T14:51:31.076326Z",
     "start_time": "2022-11-21T14:51:31.065740Z"
    }
   },
   "outputs": [
    {
     "data": {
      "text/plain": [
       "True"
      ]
     },
     "execution_count": 52,
     "metadata": {},
     "output_type": "execute_result"
    }
   ],
   "source": [
    "lahc_sol.best_solution.is_valid()"
   ]
  },
  {
   "cell_type": "code",
   "execution_count": 24,
   "id": "98aa27f2",
   "metadata": {
    "ExecuteTime": {
     "end_time": "2022-11-19T21:58:24.465522Z",
     "start_time": "2022-11-19T21:58:24.450742Z"
    }
   },
   "outputs": [
    {
     "data": {
      "text/plain": [
       "(90, 39, 39)"
      ]
     },
     "execution_count": 24,
     "metadata": {},
     "output_type": "execute_result"
    }
   ],
   "source": [
    "19 + instance.S[8][14], instance.R[14], instance.P[14]"
   ]
  },
  {
   "cell_type": "code",
   "execution_count": 53,
   "id": "1e04cc02",
   "metadata": {
    "ExecuteTime": {
     "end_time": "2022-11-21T14:51:35.436827Z",
     "start_time": "2022-11-21T14:51:35.417969Z"
    }
   },
   "outputs": [],
   "source": [
    "biba_sol = sm_methods.Heuristics.BIBA(instance)"
   ]
  },
  {
   "cell_type": "code",
   "execution_count": 54,
   "id": "d976d7fd",
   "metadata": {
    "ExecuteTime": {
     "end_time": "2022-11-21T14:51:36.100008Z",
     "start_time": "2022-11-21T14:51:36.088811Z"
    }
   },
   "outputs": [
    {
     "data": {
      "text/plain": [
       "1364"
      ]
     },
     "execution_count": 54,
     "metadata": {},
     "output_type": "execute_result"
    }
   ],
   "source": [
    "biba_sol.best_solution.objective_value"
   ]
  },
  {
   "cell_type": "code",
   "execution_count": null,
   "id": "91dc8c92",
   "metadata": {},
   "outputs": [],
   "source": []
  }
 ],
 "metadata": {
  "kernelspec": {
   "display_name": "Python 3 (ipykernel)",
   "language": "python",
   "name": "python3"
  },
  "language_info": {
   "codemirror_mode": {
    "name": "ipython",
    "version": 3
   },
   "file_extension": ".py",
   "mimetype": "text/x-python",
   "name": "python",
   "nbconvert_exporter": "python",
   "pygments_lexer": "ipython3",
   "version": "3.9.12"
  }
 },
 "nbformat": 4,
 "nbformat_minor": 5
}
