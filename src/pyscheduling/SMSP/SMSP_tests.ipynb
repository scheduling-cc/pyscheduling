{
 "cells": [
  {
   "cell_type": "code",
   "execution_count": 33,
   "id": "cafdbaa5",
   "metadata": {
    "ExecuteTime": {
     "end_time": "2022-10-28T13:43:13.330162Z",
     "start_time": "2022-10-28T13:43:11.845529Z"
    }
   },
   "outputs": [
    {
     "name": "stdout",
     "output_type": "stream",
     "text": [
      "The autoreload extension is already loaded. To reload it, use:\n",
      "  %reload_ext autoreload\n",
      "The pycodestyle_magic extension is already loaded. To reload it, use:\n",
      "  %reload_ext pycodestyle_magic\n"
     ]
    }
   ],
   "source": [
    "import pyscheduling.SMSP.risijwiCi as sm\n",
    "import pyscheduling.SMSP.riwiCi as sm_ci\n",
    "import pyscheduling.SMSP.SM_Methods as sm_methods\n",
    "\n",
    "%load_ext autoreload\n",
    "%load_ext pycodestyle_magic\n",
    "%autoreload 2"
   ]
  },
  {
   "cell_type": "markdown",
   "id": "de38e5d0",
   "metadata": {},
   "source": [
    "## New problem risijwiCi"
   ]
  },
  {
   "cell_type": "code",
   "execution_count": 34,
   "id": "e01acf77",
   "metadata": {
    "ExecuteTime": {
     "end_time": "2022-10-28T13:43:14.134950Z",
     "start_time": "2022-10-28T13:43:14.106042Z"
    }
   },
   "outputs": [],
   "source": [
    "instance = sm.risijwiCi_Instance.generate_random(40, Wmax=2)"
   ]
  },
  {
   "cell_type": "code",
   "execution_count": 28,
   "id": "86a9fd6e",
   "metadata": {
    "ExecuteTime": {
     "end_time": "2022-10-28T13:12:31.157805Z",
     "start_time": "2022-10-28T13:12:30.685283Z"
    }
   },
   "outputs": [
    {
     "name": "stdout",
     "output_type": "stream",
     "text": [
      "{'Rule_0': 137458, 'Rule_0-reverse': 173867, 'Rule_1': 202864, 'Rule_1-reverse': 111767, 'Rule_2': 196509, 'Rule_2-reverse': 109573, 'Rule_3': 184029, 'Rule_3-reverse': 125023}\n"
     ]
    }
   ],
   "source": [
    "results_dict = {}\n",
    "for rule_number in range(4):\n",
    "    obj = sm.Heuristics.list_heuristic(instance, rule_number, False).best_solution.objective_value\n",
    "    obj_reverse = sm.Heuristics.list_heuristic(instance, rule_number, True).best_solution.objective_value\n",
    "    \n",
    "    results_dict[f'Rule_{rule_number}'] = obj\n",
    "    results_dict[f'Rule_{rule_number}-reverse'] = obj_reverse \n",
    "    \n",
    "print(results_dict)"
   ]
  },
  {
   "cell_type": "code",
   "execution_count": 40,
   "id": "ad636b5e",
   "metadata": {
    "ExecuteTime": {
     "end_time": "2022-10-28T13:48:49.623989Z",
     "start_time": "2022-10-28T13:48:48.922433Z"
    }
   },
   "outputs": [],
   "source": [
    "solve_result_grasp = sm_methods.Heuristics.grasp(instance, 0, 0.2, 5)"
   ]
  },
  {
   "cell_type": "code",
   "execution_count": 41,
   "id": "396fb7c7",
   "metadata": {
    "ExecuteTime": {
     "end_time": "2022-10-28T13:48:49.908844Z",
     "start_time": "2022-10-28T13:48:49.628302Z"
    }
   },
   "outputs": [],
   "source": [
    "solve_result_biba = sm_methods.Heuristics.BIBA(instance)"
   ]
  },
  {
   "cell_type": "code",
   "execution_count": 42,
   "id": "b8ddce77",
   "metadata": {
    "ExecuteTime": {
     "end_time": "2022-10-28T13:48:49.935754Z",
     "start_time": "2022-10-28T13:48:49.911469Z"
    }
   },
   "outputs": [],
   "source": [
    "solve_result_list = sm.Heuristics.list_heuristic(instance, rule_number=1)"
   ]
  },
  {
   "cell_type": "code",
   "execution_count": 53,
   "id": "72d87c31",
   "metadata": {
    "ExecuteTime": {
     "end_time": "2022-10-28T13:51:56.959457Z",
     "start_time": "2022-10-28T13:51:48.912468Z"
    }
   },
   "outputs": [],
   "source": [
    "solve_result_lahc = sm_methods.Metaheuristics.lahc(instance, **{\"time_limit_factor\":0.2})"
   ]
  },
  {
   "cell_type": "code",
   "execution_count": 54,
   "id": "947571f5",
   "metadata": {
    "ExecuteTime": {
     "end_time": "2022-10-28T13:52:05.027583Z",
     "start_time": "2022-10-28T13:51:56.961866Z"
    }
   },
   "outputs": [],
   "source": [
    "solve_result_sa = sm_methods.Metaheuristics.SA(instance, **{\"time_limit_factor\":0.2})"
   ]
  },
  {
   "cell_type": "code",
   "execution_count": 55,
   "id": "b0e2ef43",
   "metadata": {
    "ExecuteTime": {
     "end_time": "2022-10-28T13:52:05.052592Z",
     "start_time": "2022-10-28T13:52:05.030572Z"
    }
   },
   "outputs": [
    {
     "name": "stdout",
     "output_type": "stream",
     "text": [
      "Objective : 82027\n",
      "Job_schedule (job_id , start_time , completion_time) | objective\n",
      "(14, 0, 13) : (30, 33, 43) : (21, 65, 78) : (31, 105, 119) : (25, 147, 165) : (20, 201, 232) : (17, 255, 266) : (10, 300, 333) : (7, 358, 368) : (24, 391, 428) : (12, 496, 529) : (5, 549, 559) : (13, 581, 601) : (8, 645, 693) : (16, 772, 811) : (36, 850, 862) : (6, 897, 941) : (9, 983, 997) : (27, 1035, 1081) : (22, 1152, 1186) : (4, 1257, 1298) : (3, 1327, 1338) : (18, 1369, 1390) : (11, 1439, 1482) : (39, 1566, 1608) : (33, 1698, 1746) : (37, 1822, 1858) : (0, 1905, 1923) : (26, 1965, 2001) : (2, 2051, 2074) : (35, 2128, 2176) : (34, 2262, 2305) : (29, 2381, 2412) : (32, 2454, 2474) : (19, 2519, 2560) : (1, 2642, 2686) : (15, 2769, 2807) : (38, 2881, 2917) : (23, 2989, 3026) : (28, 3109, 3153) | 82027\n"
     ]
    }
   ],
   "source": [
    "print(solve_result_lahc.best_solution)"
   ]
  },
  {
   "cell_type": "markdown",
   "id": "c1da7386",
   "metadata": {},
   "source": [
    "## Old problem riwiCi"
   ]
  },
  {
   "cell_type": "code",
   "execution_count": 17,
   "id": "7980986f",
   "metadata": {
    "ExecuteTime": {
     "end_time": "2022-10-27T14:51:51.190758Z",
     "start_time": "2022-10-27T14:51:51.161855Z"
    }
   },
   "outputs": [],
   "source": [
    "instance = sm_ci.riwiCi_Instance.generate_random(10)"
   ]
  },
  {
   "cell_type": "code",
   "execution_count": 18,
   "id": "db5630f5",
   "metadata": {
    "ExecuteTime": {
     "end_time": "2022-10-27T14:51:52.923567Z",
     "start_time": "2022-10-27T14:51:52.877039Z"
    }
   },
   "outputs": [],
   "source": [
    "solve_result = sm_methods.Heuristics_Cmax.grasp(instance, 0.5, 0.5, 5)"
   ]
  },
  {
   "cell_type": "code",
   "execution_count": 19,
   "id": "9ddfb1bb",
   "metadata": {
    "ExecuteTime": {
     "end_time": "2022-10-27T14:52:01.056746Z",
     "start_time": "2022-10-27T14:52:01.028477Z"
    }
   },
   "outputs": [],
   "source": [
    "%%timeit\n",
    "solve_result_1 = sm_ci.Heuristics.WSAPT(instance)"
   ]
  },
  {
   "cell_type": "code",
   "execution_count": 40,
   "id": "fa67d98c",
   "metadata": {
    "ExecuteTime": {
     "end_time": "2022-10-23T14:24:01.109487Z",
     "start_time": "2022-10-23T14:23:54.227298Z"
    }
   },
   "outputs": [
    {
     "name": "stdout",
     "output_type": "stream",
     "text": [
      "84.6 µs ± 910 ns per loop (mean ± std. dev. of 7 runs, 10,000 loops each)\n"
     ]
    }
   ],
   "source": [
    "%%timeit\n",
    "rule = lambda instance, job_id : float(instance.W[job_id])/float(instance.P[job_id])\n",
    "filter_fun = lambda instance, ci, job_id : instance.R[job_id]<=ci\n",
    "solve_result_2 = sm_methods.Heuristics.dynamic_dispatch_rule(instance,rule, filter_fun, reverse=True)"
   ]
  },
  {
   "cell_type": "code",
   "execution_count": 31,
   "id": "dc1b0000",
   "metadata": {
    "ExecuteTime": {
     "end_time": "2022-10-23T14:22:40.735092Z",
     "start_time": "2022-10-23T14:22:40.716170Z"
    }
   },
   "outputs": [
    {
     "name": "stdout",
     "output_type": "stream",
     "text": [
      "Search stopped with status : FEASIBLE\n",
      " Solution is : \n",
      " Objective : 2055\n",
      "Job_schedule (job_id , start_time , completion_time) | objective\n",
      "(6, 0, 2) : (0, 7, 66) : (5, 66, 88) : (7, 88, 113) : (9, 113, 152) : (1, 152, 195) : (8, 195, 255) : (2, 255, 317) : (4, 317, 387) : (3, 387, 480) | 2055 \n",
      "Runtime is : 6.069301161915064e-05s \n",
      "time to best is : -1s \n",
      "\n",
      "Search stopped with status : FEASIBLE\n",
      " Solution is : \n",
      " Objective : 2055\n",
      "Job_schedule (job_id , start_time , completion_time) | objective\n",
      "(6, 0, 2) : (0, 7, 66) : (5, 66, 88) : (7, 88, 113) : (9, 113, 152) : (1, 152, 195) : (8, 195, 255) : (2, 255, 317) : (4, 317, 387) : (3, 387, 480) | 2055 \n",
      "Runtime is : 0.0002623129985295236s \n",
      "time to best is : -1s \n",
      "\n"
     ]
    }
   ],
   "source": [
    "print(solve_result_1)\n",
    "print(solve_result_2)"
   ]
  }
 ],
 "metadata": {
  "kernelspec": {
   "display_name": "Python 3 (ipykernel)",
   "language": "python",
   "name": "python3"
  },
  "language_info": {
   "codemirror_mode": {
    "name": "ipython",
    "version": 3
   },
   "file_extension": ".py",
   "mimetype": "text/x-python",
   "name": "python",
   "nbconvert_exporter": "python",
   "pygments_lexer": "ipython3",
   "version": "3.9.12"
  }
 },
 "nbformat": 4,
 "nbformat_minor": 5
}
