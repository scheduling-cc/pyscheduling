{
 "cells": [
  {
   "cell_type": "code",
   "execution_count": 80,
   "id": "00ebbf30",
   "metadata": {
    "ExecuteTime": {
     "end_time": "2022-11-21T16:19:01.422670Z",
     "start_time": "2022-11-21T16:19:01.411230Z"
    }
   },
   "outputs": [
    {
     "name": "stdout",
     "output_type": "stream",
     "text": [
      "The autoreload extension is already loaded. To reload it, use:\n",
      "  %reload_ext autoreload\n",
      "The pycodestyle_magic extension is already loaded. To reload it, use:\n",
      "  %reload_ext pycodestyle_magic\n"
     ]
    }
   ],
   "source": [
    "import pyscheduling.SMSP.risijCmax as sm_cmax\n",
    "import pyscheduling.SMSP.riwiCi as sm_ci\n",
    "import pyscheduling.SMSP.risijwiFi as sm_fi\n",
    "import pyscheduling.SMSP.SM_Methods as sm_methods\n",
    "import pyscheduling.SMSP.SingleMachine as sm\n",
    "\n",
    "%load_ext autoreload\n",
    "%load_ext pycodestyle_magic\n",
    "%autoreload 2"
   ]
  },
  {
   "cell_type": "markdown",
   "id": "d2a59a15",
   "metadata": {},
   "source": [
    "## New problem risijwiCi"
   ]
  },
  {
   "cell_type": "code",
   "execution_count": 2,
   "id": "52ba9614",
   "metadata": {
    "ExecuteTime": {
     "end_time": "2022-10-29T08:17:19.389116Z",
     "start_time": "2022-10-29T08:17:19.372703Z"
    }
   },
   "outputs": [],
   "source": [
    "instance = sm.risijwiCi_Instance.generate_random(40, Wmax=2)"
   ]
  },
  {
   "cell_type": "code",
   "execution_count": 3,
   "id": "abaeb64a",
   "metadata": {
    "ExecuteTime": {
     "end_time": "2022-10-29T08:17:20.690430Z",
     "start_time": "2022-10-29T08:17:20.674499Z"
    }
   },
   "outputs": [
    {
     "name": "stdout",
     "output_type": "stream",
     "text": [
      "{'Rule_0': 116707, 'Rule_0-reverse': 158641, 'Rule_1': 178602, 'Rule_1-reverse': 89481, 'Rule_2': 174794, 'Rule_2-reverse': 91357, 'Rule_3': 167930, 'Rule_3-reverse': 104192}\n"
     ]
    }
   ],
   "source": [
    "results_dict = {}\n",
    "for rule_number in range(4):\n",
    "    obj = sm.Heuristics.list_heuristic(instance, rule_number, False).best_solution.objective_value\n",
    "    obj_reverse = sm.Heuristics.list_heuristic(instance, rule_number, True).best_solution.objective_value\n",
    "    \n",
    "    results_dict[f'Rule_{rule_number}'] = obj\n",
    "    results_dict[f'Rule_{rule_number}-reverse'] = obj_reverse \n",
    "    \n",
    "print(results_dict)"
   ]
  },
  {
   "cell_type": "code",
   "execution_count": 4,
   "id": "dd7aa6f6",
   "metadata": {
    "ExecuteTime": {
     "end_time": "2022-10-29T08:17:23.051698Z",
     "start_time": "2022-10-29T08:17:22.515260Z"
    }
   },
   "outputs": [],
   "source": [
    "solve_result_grasp = sm_methods.Heuristics.grasp(instance, 0, 0.2, 5)"
   ]
  },
  {
   "cell_type": "code",
   "execution_count": 5,
   "id": "ec8cde43",
   "metadata": {
    "ExecuteTime": {
     "end_time": "2022-10-29T08:17:28.473602Z",
     "start_time": "2022-10-29T08:17:28.358623Z"
    }
   },
   "outputs": [],
   "source": [
    "solve_result_biba = sm_methods.Heuristics.BIBA(instance)"
   ]
  },
  {
   "cell_type": "code",
   "execution_count": 6,
   "id": "23af33af",
   "metadata": {
    "ExecuteTime": {
     "end_time": "2022-10-29T08:17:28.738975Z",
     "start_time": "2022-10-29T08:17:28.719665Z"
    }
   },
   "outputs": [],
   "source": [
    "solve_result_list = sm.Heuristics.list_heuristic(instance, rule_number=1)"
   ]
  },
  {
   "cell_type": "code",
   "execution_count": 7,
   "id": "d82de077",
   "metadata": {
    "ExecuteTime": {
     "end_time": "2022-10-29T08:17:37.289842Z",
     "start_time": "2022-10-29T08:17:29.210434Z"
    }
   },
   "outputs": [],
   "source": [
    "solve_result_lahc = sm_methods.Metaheuristics.lahc(instance, **{\"time_limit_factor\":0.2})"
   ]
  },
  {
   "cell_type": "code",
   "execution_count": 8,
   "id": "23d1dd8a",
   "metadata": {
    "ExecuteTime": {
     "end_time": "2022-10-29T08:17:45.318507Z",
     "start_time": "2022-10-29T08:17:37.292691Z"
    }
   },
   "outputs": [],
   "source": [
    "solve_result_sa = sm_methods.Metaheuristics.SA(instance, **{\"time_limit_factor\":0.2})"
   ]
  },
  {
   "cell_type": "code",
   "execution_count": 9,
   "id": "9c941174",
   "metadata": {
    "ExecuteTime": {
     "end_time": "2022-10-29T08:17:45.336864Z",
     "start_time": "2022-10-29T08:17:45.320482Z"
    }
   },
   "outputs": [
    {
     "name": "stdout",
     "output_type": "stream",
     "text": [
      "Objective : 82015\n",
      "Job_schedule (job_id , start_time , completion_time) | objective\n",
      "(19, 2, 13) : (16, 41, 59) : (15, 81, 91) : (29, 118, 132) : (26, 168, 194) : (20, 225, 236) : (0, 258, 284) : (27, 313, 326) : (22, 363, 397) : (18, 445, 461) : (7, 508, 543) : (3, 594, 619) : (2, 652, 663) : (17, 688, 720) : (36, 748, 760) : (30, 785, 809) : (8, 859, 886) : (1, 939, 965) : (23, 1011, 1031) : (9, 1071, 1091) : (4, 1117, 1128) : (11, 1153, 1192) : (33, 1274, 1319) : (10, 1355, 1373) : (37, 1412, 1454) : (28, 1483, 1497) : (35, 1525, 1560) : (14, 1621, 1643) : (39, 1693, 1740) : (21, 1788, 1812) : (12, 1871, 1920) : (13, 1983, 2006) : (6, 2052, 2075) : (5, 2135, 2184) : (31, 2267, 2302) : (25, 2365, 2394) : (24, 2448, 2474) : (32, 2526, 2554) : (34, 2622, 2657) : (38, 2746, 2794) | 82015\n"
     ]
    }
   ],
   "source": [
    "print(solve_result_lahc.best_solution)"
   ]
  },
  {
   "cell_type": "markdown",
   "id": "a51ec207",
   "metadata": {},
   "source": [
    "## Old problem riwiCi"
   ]
  },
  {
   "cell_type": "code",
   "execution_count": 17,
   "id": "319e00ec",
   "metadata": {
    "ExecuteTime": {
     "end_time": "2022-10-27T14:51:51.190758Z",
     "start_time": "2022-10-27T14:51:51.161855Z"
    }
   },
   "outputs": [],
   "source": [
    "instance = sm_ci.riwiCi_Instance.generate_random(10)"
   ]
  },
  {
   "cell_type": "code",
   "execution_count": 18,
   "id": "0a0d44c6",
   "metadata": {
    "ExecuteTime": {
     "end_time": "2022-10-27T14:51:52.923567Z",
     "start_time": "2022-10-27T14:51:52.877039Z"
    }
   },
   "outputs": [],
   "source": [
    "solve_result = sm_methods.Heuristics_Cmax.grasp(instance, 0.5, 0.5, 5)"
   ]
  },
  {
   "cell_type": "code",
   "execution_count": 19,
   "id": "9685221c",
   "metadata": {
    "ExecuteTime": {
     "end_time": "2022-10-27T14:52:01.056746Z",
     "start_time": "2022-10-27T14:52:01.028477Z"
    }
   },
   "outputs": [],
   "source": [
    "%%timeit\n",
    "solve_result_1 = sm_ci.Heuristics.WSAPT(instance)"
   ]
  },
  {
   "cell_type": "code",
   "execution_count": 40,
   "id": "76c9d655",
   "metadata": {
    "ExecuteTime": {
     "end_time": "2022-10-23T14:24:01.109487Z",
     "start_time": "2022-10-23T14:23:54.227298Z"
    }
   },
   "outputs": [
    {
     "name": "stdout",
     "output_type": "stream",
     "text": [
      "84.6 µs ± 910 ns per loop (mean ± std. dev. of 7 runs, 10,000 loops each)\n"
     ]
    }
   ],
   "source": [
    "%%timeit\n",
    "rule = lambda instance, job_id : float(instance.W[job_id])/float(instance.P[job_id])\n",
    "filter_fun = lambda instance, ci, job_id : instance.R[job_id]<=ci\n",
    "solve_result_2 = sm_methods.Heuristics.dynamic_dispatch_rule(instance,rule, filter_fun, reverse=True)"
   ]
  },
  {
   "cell_type": "code",
   "execution_count": 31,
   "id": "cba94430",
   "metadata": {
    "ExecuteTime": {
     "end_time": "2022-10-23T14:22:40.735092Z",
     "start_time": "2022-10-23T14:22:40.716170Z"
    }
   },
   "outputs": [
    {
     "name": "stdout",
     "output_type": "stream",
     "text": [
      "Search stopped with status : FEASIBLE\n",
      " Solution is : \n",
      " Objective : 2055\n",
      "Job_schedule (job_id , start_time , completion_time) | objective\n",
      "(6, 0, 2) : (0, 7, 66) : (5, 66, 88) : (7, 88, 113) : (9, 113, 152) : (1, 152, 195) : (8, 195, 255) : (2, 255, 317) : (4, 317, 387) : (3, 387, 480) | 2055 \n",
      "Runtime is : 6.069301161915064e-05s \n",
      "time to best is : -1s \n",
      "\n",
      "Search stopped with status : FEASIBLE\n",
      " Solution is : \n",
      " Objective : 2055\n",
      "Job_schedule (job_id , start_time , completion_time) | objective\n",
      "(6, 0, 2) : (0, 7, 66) : (5, 66, 88) : (7, 88, 113) : (9, 113, 152) : (1, 152, 195) : (8, 195, 255) : (2, 255, 317) : (4, 317, 387) : (3, 387, 480) | 2055 \n",
      "Runtime is : 0.0002623129985295236s \n",
      "time to best is : -1s \n",
      "\n"
     ]
    }
   ],
   "source": [
    "print(solve_result_1)\n",
    "print(solve_result_2)"
   ]
  },
  {
   "cell_type": "markdown",
   "id": "3bcc30a9",
   "metadata": {},
   "source": [
    "## Refactored compute_objective methods"
   ]
  },
  {
   "cell_type": "code",
   "execution_count": 49,
   "id": "9bdf8201",
   "metadata": {
    "ExecuteTime": {
     "end_time": "2022-11-21T14:51:00.268904Z",
     "start_time": "2022-11-21T14:51:00.257009Z"
    }
   },
   "outputs": [],
   "source": [
    "instance = sm_cmax.risijCmax_Instance.generate_random(20)"
   ]
  },
  {
   "cell_type": "code",
   "execution_count": 50,
   "id": "6e6a1dc2",
   "metadata": {
    "ExecuteTime": {
     "end_time": "2022-11-21T14:51:04.185009Z",
     "start_time": "2022-11-21T14:51:04.113755Z"
    }
   },
   "outputs": [
    {
     "name": "stdout",
     "output_type": "stream",
     "text": [
      "Calling LEJ_neighbour\n",
      "Applying LEJ insert\n",
      "Calling LEJ_neighbour\n",
      "Applying LEJ swap\n",
      "Calling LEJ_neighbour\n",
      "Applying LEJ swap\n",
      "Calling LEJ_neighbour\n",
      "Applying LEJ insert\n",
      "Calling LEJ_neighbour\n",
      "Applying LEJ swap\n",
      "Calling LEJ_neighbour\n",
      "Applying LEJ swap\n",
      "Calling LEJ_neighbour\n",
      "Applying LEJ swap\n",
      "Calling LEJ_neighbour\n",
      "Applying LEJ insert\n",
      "Calling LEJ_neighbour\n",
      "Applying LEJ swap\n",
      "Calling LEJ_neighbour\n",
      "Applying LEJ insert\n"
     ]
    }
   ],
   "source": [
    "lahc_sol = sm_methods.Metaheuristics.lahc(instance, n_iterations=10)"
   ]
  },
  {
   "cell_type": "code",
   "execution_count": 22,
   "id": "47c716aa",
   "metadata": {
    "ExecuteTime": {
     "end_time": "2022-11-19T21:58:05.189376Z",
     "start_time": "2022-11-19T21:58:05.175476Z"
    }
   },
   "outputs": [
    {
     "data": {
      "text/plain": [
       "[Job(id=12, start_time=14, end_time=43),\n",
       " Job(id=3, start_time=43, end_time=88),\n",
       " Job(id=0, start_time=88, end_time=163),\n",
       " Job(id=13, start_time=163, end_time=281),\n",
       " Job(id=8, start_time=281, end_time=329),\n",
       " Job(id=15, start_time=329, end_time=421),\n",
       " Job(id=5, start_time=421, end_time=524),\n",
       " Job(id=18, start_time=524, end_time=588),\n",
       " Job(id=10, start_time=588, end_time=628),\n",
       " Job(id=7, start_time=628, end_time=701),\n",
       " Job(id=9, start_time=701, end_time=798),\n",
       " Job(id=14, start_time=798, end_time=888),\n",
       " Job(id=19, start_time=888, end_time=988),\n",
       " Job(id=17, start_time=988, end_time=1091),\n",
       " Job(id=4, start_time=1091, end_time=1217),\n",
       " Job(id=6, start_time=1217, end_time=1323),\n",
       " Job(id=11, start_time=1323, end_time=1403),\n",
       " Job(id=16, start_time=1403, end_time=1510),\n",
       " Job(id=2, start_time=1510, end_time=1563),\n",
       " Job(id=1, start_time=1563, end_time=1656)]"
      ]
     },
     "execution_count": 22,
     "metadata": {},
     "output_type": "execute_result"
    }
   ],
   "source": [
    "lahc_sol.best_solution.machine.job_schedule"
   ]
  },
  {
   "cell_type": "code",
   "execution_count": 52,
   "id": "4e00acf9",
   "metadata": {
    "ExecuteTime": {
     "end_time": "2022-11-21T14:51:31.076326Z",
     "start_time": "2022-11-21T14:51:31.065740Z"
    }
   },
   "outputs": [
    {
     "data": {
      "text/plain": [
       "True"
      ]
     },
     "execution_count": 52,
     "metadata": {},
     "output_type": "execute_result"
    }
   ],
   "source": [
    "lahc_sol.best_solution.is_valid()"
   ]
  },
  {
   "cell_type": "code",
   "execution_count": 24,
   "id": "9bf3a1af",
   "metadata": {
    "ExecuteTime": {
     "end_time": "2022-11-19T21:58:24.465522Z",
     "start_time": "2022-11-19T21:58:24.450742Z"
    }
   },
   "outputs": [
    {
     "data": {
      "text/plain": [
       "(90, 39, 39)"
      ]
     },
     "execution_count": 24,
     "metadata": {},
     "output_type": "execute_result"
    }
   ],
   "source": [
    "19 + instance.S[8][14], instance.R[14], instance.P[14]"
   ]
  },
  {
   "cell_type": "code",
   "execution_count": 53,
   "id": "d73372b0",
   "metadata": {
    "ExecuteTime": {
     "end_time": "2022-11-21T14:51:35.436827Z",
     "start_time": "2022-11-21T14:51:35.417969Z"
    }
   },
   "outputs": [],
   "source": [
    "biba_sol = sm_methods.Heuristics.BIBA(instance)"
   ]
  },
  {
   "cell_type": "code",
   "execution_count": 54,
   "id": "96e92007",
   "metadata": {
    "ExecuteTime": {
     "end_time": "2022-11-21T14:51:36.100008Z",
     "start_time": "2022-11-21T14:51:36.088811Z"
    }
   },
   "outputs": [
    {
     "data": {
      "text/plain": [
       "1364"
      ]
     },
     "execution_count": 54,
     "metadata": {},
     "output_type": "execute_result"
    }
   ],
   "source": [
    "biba_sol.best_solution.objective_value"
   ]
  },
  {
   "cell_type": "markdown",
   "id": "67a95f65",
   "metadata": {
    "ExecuteTime": {
     "end_time": "2022-11-21T15:46:25.066340Z",
     "start_time": "2022-11-21T15:46:21.473513Z"
    }
   },
   "source": [
    "## wiFi objective"
   ]
  },
  {
   "cell_type": "code",
   "execution_count": 120,
   "id": "9488117b",
   "metadata": {
    "ExecuteTime": {
     "end_time": "2022-11-21T16:36:07.686233Z",
     "start_time": "2022-11-21T16:36:07.675656Z"
    }
   },
   "outputs": [],
   "source": [
    "instance = sm_fi.risijwiFi_Instance.generate_random(20)"
   ]
  },
  {
   "cell_type": "code",
   "execution_count": 121,
   "id": "b3b72fb1",
   "metadata": {
    "ExecuteTime": {
     "end_time": "2022-11-21T16:36:08.236053Z",
     "start_time": "2022-11-21T16:36:08.222390Z"
    }
   },
   "outputs": [
    {
     "data": {
      "text/plain": [
       "risijwiFi_Instance(n=20)\n",
       "(instance_name=)\n",
       "(P=[15, 20, 31, 37, 21, 18, 21, 29, 22, 18, 15, 49, 19, 49, 25, 40, 16, 17, 35, 49])\n",
       "(W=[1, 2, 1, 1, 1, 2, 2, 2, 2, 2, 2, 1, 1, 1, 2, 1, 2, 1, 1, 2])\n",
       "(R=[21, 24, 60, 12, 27, 16, 4, 35, 3, 20, 9, 11, 16, 22, 22, 77, 21, 24, 46, 21])\n",
       "(S=[[0, 35, 46, 47, 31, 31, 40, 31, 39, 33, 30, 74, 31, 46, 49, 39, 30, 33, 34, 33], [32, 0, 53, 51, 40, 39, 40, 56, 41, 37, 30, 67, 38, 70, 44, 41, 35, 35, 56, 60], [39, 48, 0, 62, 43, 47, 53, 60, 55, 37, 59, 94, 47, 74, 58, 68, 45, 57, 67, 70], [43, 70, 63, 0, 53, 37, 73, 58, 45, 56, 72, 84, 55, 84, 50, 74, 69, 53, 70, 75], [38, 40, 46, 69, 0, 37, 42, 52, 42, 39, 37, 78, 39, 61, 44, 48, 33, 37, 53, 44], [33, 37, 40, 71, 39, 0, 40, 44, 40, 36, 33, 67, 37, 48, 36, 41, 33, 34, 65, 51], [34, 40, 44, 62, 42, 36, 0, 48, 42, 39, 32, 79, 38, 65, 48, 78, 32, 35, 60, 72], [31, 56, 61, 59, 47, 56, 49, 0, 44, 53, 33, 70, 43, 58, 57, 75, 55, 56, 58, 76], [40, 43, 60, 63, 43, 38, 42, 44, 0, 40, 36, 85, 39, 52, 47, 61, 36, 35, 50, 52], [31, 36, 37, 69, 40, 36, 36, 53, 39, 0, 33, 50, 36, 38, 36, 62, 32, 35, 61, 43], [30, 37, 39, 43, 30, 35, 37, 43, 37, 30, 0, 73, 31, 90, 31, 58, 31, 31, 54, 59], [45, 56, 79, 90, 71, 95, 67, 88, 82, 64, 59, 0, 40, 98, 91, 96, 79, 77, 90, 98], [30, 38, 54, 57, 40, 36, 39, 52, 41, 36, 32, 46, 0, 80, 38, 44, 37, 37, 53, 96], [38, 90, 80, 77, 82, 52, 62, 82, 86, 87, 81, 98, 40, 0, 77, 89, 89, 74, 72, 98], [37, 47, 59, 68, 47, 39, 45, 50, 47, 45, 41, 87, 41, 83, 0, 69, 45, 36, 53, 74], [57, 50, 79, 78, 69, 37, 63, 72, 52, 70, 48, 80, 54, 83, 59, 0, 34, 43, 70, 96], [31, 37, 52, 70, 40, 32, 38, 40, 36, 35, 31, 52, 35, 92, 35, 55, 0, 33, 32, 49], [30, 39, 42, 36, 36, 34, 39, 44, 39, 34, 33, 90, 36, 39, 46, 68, 33, 0, 67, 89], [64, 68, 64, 73, 53, 55, 44, 60, 60, 58, 65, 73, 51, 87, 57, 78, 45, 47, 0, 85], [36, 46, 81, 79, 97, 41, 42, 69, 73, 81, 77, 98, 86, 98, 81, 82, 49, 67, 88, 0]])"
      ]
     },
     "execution_count": 121,
     "metadata": {},
     "output_type": "execute_result"
    }
   ],
   "source": [
    "instance"
   ]
  },
  {
   "cell_type": "code",
   "execution_count": 129,
   "id": "0a4629fd",
   "metadata": {
    "ExecuteTime": {
     "end_time": "2022-11-21T16:40:59.709135Z",
     "start_time": "2022-11-21T16:40:59.688982Z"
    }
   },
   "outputs": [],
   "source": [
    "biba_sol = sm_methods.Heuristics.BIBA(instance)"
   ]
  },
  {
   "cell_type": "code",
   "execution_count": 130,
   "id": "710ecab3",
   "metadata": {
    "ExecuteTime": {
     "end_time": "2022-11-21T16:41:04.492571Z",
     "start_time": "2022-11-21T16:41:04.481375Z"
    }
   },
   "outputs": [
    {
     "data": {
      "text/plain": [
       "Objective : 14597\n",
       "Job_schedule (job_id , start_time , completion_time) | objective\n",
       "(6, 4, 25) : (10, 25, 72) : (9, 72, 120) : (16, 120, 168) : (14, 168, 228) : (5, 228, 285) : (1, 285, 342) : (8, 342, 405) : (17, 405, 457) : (7, 457, 530) : (0, 530, 576) : (4, 576, 628) : (19, 628, 721) : (2, 721, 833) : (12, 833, 899) : (15, 899, 983) : (18, 983, 1088) : (3, 1088, 1198) : (11, 1198, 1331) : (13, 1331, 1478) | 14597"
      ]
     },
     "execution_count": 130,
     "metadata": {},
     "output_type": "execute_result"
    }
   ],
   "source": [
    "biba_sol.best_solution"
   ]
  },
  {
   "cell_type": "code",
   "execution_count": 131,
   "id": "e0371335",
   "metadata": {
    "ExecuteTime": {
     "end_time": "2022-11-21T16:41:06.259521Z",
     "start_time": "2022-11-21T16:41:06.165683Z"
    }
   },
   "outputs": [
    {
     "name": "stdout",
     "output_type": "stream",
     "text": [
      "Objective : 14440\n",
      "Job_schedule (job_id , start_time , completion_time) | objective\n",
      "(6, 4, 25) : (16, 25, 73) : (1, 73, 130) : (10, 130, 175) : (9, 175, 223) : (14, 223, 284) : (5, 284, 341) : (8, 341, 403) : (7, 403, 476) : (4, 476, 544) : (19, 544, 637) : (0, 637, 688) : (18, 688, 757) : (12, 757, 827) : (17, 827, 881) : (3, 881, 954) : (2, 954, 1048) : (15, 1048, 1156) : (11, 1156, 1285) : (13, 1285, 1432) | 14440\n"
     ]
    }
   ],
   "source": [
    "lahc_sol = sm_methods.Metaheuristics.lahc(instance, n_iterations=10)"
   ]
  },
  {
   "cell_type": "code",
   "execution_count": 127,
   "id": "39721a63",
   "metadata": {
    "ExecuteTime": {
     "end_time": "2022-11-21T16:36:24.211162Z",
     "start_time": "2022-11-21T16:36:24.200070Z"
    }
   },
   "outputs": [
    {
     "data": {
      "text/plain": [
       "[Objective : 14440\n",
       " Job_schedule (job_id , start_time , completion_time) | objective\n",
       " (6, 4, 25) : (16, 25, 73) : (1, 73, 130) : (10, 130, 175) : (9, 175, 223) : (14, 223, 284) : (5, 284, 341) : (8, 341, 403) : (7, 403, 476) : (4, 476, 544) : (19, 544, 637) : (0, 637, 688) : (18, 688, 757) : (12, 757, 827) : (17, 827, 881) : (3, 881, 954) : (2, 954, 1048) : (15, 1048, 1156) : (11, 1156, 1285) : (13, 1285, 1432) | 14440,\n",
       " Objective : 14713\n",
       " Job_schedule (job_id , start_time , completion_time) | objective\n",
       " (8, 3, 25) : (16, 25, 77) : (5, 77, 127) : (1, 127, 184) : (10, 184, 229) : (9, 229, 277) : (14, 277, 338) : (0, 338, 390) : (7, 390, 450) : (12, 450, 512) : (17, 512, 566) : (6, 566, 626) : (2, 626, 701) : (4, 701, 765) : (19, 765, 858) : (15, 858, 980) : (18, 980, 1085) : (3, 1085, 1195) : (13, 1195, 1328) : (11, 1328, 1475) | 14713]"
      ]
     },
     "execution_count": 127,
     "metadata": {},
     "output_type": "execute_result"
    }
   ],
   "source": [
    "lahc_sol.all_solutions"
   ]
  },
  {
   "cell_type": "code",
   "execution_count": 132,
   "id": "d07344a0",
   "metadata": {
    "ExecuteTime": {
     "end_time": "2022-11-21T16:41:50.532168Z",
     "start_time": "2022-11-21T16:41:50.513901Z"
    }
   },
   "outputs": [],
   "source": [
    "LS = sm.SM_LocalSearch()\n",
    "new_sol = LS.improve(biba_sol.best_solution)"
   ]
  },
  {
   "cell_type": "code",
   "execution_count": null,
   "id": "33379da7",
   "metadata": {},
   "outputs": [],
   "source": []
  }
 ],
 "metadata": {
  "kernelspec": {
   "display_name": "Python 3 (ipykernel)",
   "language": "python",
   "name": "python3"
  },
  "language_info": {
   "codemirror_mode": {
    "name": "ipython",
    "version": 3
   },
   "file_extension": ".py",
   "mimetype": "text/x-python",
   "name": "python",
   "nbconvert_exporter": "python",
   "pygments_lexer": "ipython3",
   "version": "3.9.12"
  }
 },
 "nbformat": 4,
 "nbformat_minor": 5
}
