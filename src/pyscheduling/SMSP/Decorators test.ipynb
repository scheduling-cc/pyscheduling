{
 "cells": [
  {
   "cell_type": "code",
   "execution_count": 1,
   "id": "cafdbaa5",
   "metadata": {
    "ExecuteTime": {
     "end_time": "2022-10-17T19:27:03.969060Z",
     "start_time": "2022-10-17T19:27:03.487333Z"
    }
   },
   "outputs": [],
   "source": [
    "from pyscheduling.SMSP.sijwiCi import sijwiCi_Instance\n",
    "\n",
    "%load_ext autoreload\n",
    "%load_ext pycodestyle_magic\n",
    "%autoreload 2"
   ]
  },
  {
   "cell_type": "code",
   "execution_count": 2,
   "id": "e01acf77",
   "metadata": {
    "ExecuteTime": {
     "end_time": "2022-10-17T19:27:03.985022Z",
     "start_time": "2022-10-17T19:27:03.970743Z"
    }
   },
   "outputs": [],
   "source": [
    "instance = sijwiCi_Instance.generate_random(10)"
   ]
  },
  {
   "cell_type": "code",
   "execution_count": 3,
   "id": "da22dc5e",
   "metadata": {
    "ExecuteTime": {
     "end_time": "2022-10-17T19:27:04.229656Z",
     "start_time": "2022-10-17T19:27:04.215600Z"
    }
   },
   "outputs": [],
   "source": [
    "import pyscheduling.SMSP.risijwiTi as smsp"
   ]
  },
  {
   "cell_type": "code",
   "execution_count": 4,
   "id": "1250d910",
   "metadata": {
    "ExecuteTime": {
     "end_time": "2022-10-17T19:27:04.245610Z",
     "start_time": "2022-10-17T19:27:04.232235Z"
    }
   },
   "outputs": [],
   "source": [
    "instance = smsp.risijwiTi_Instance.generate_random(10)"
   ]
  },
  {
   "cell_type": "code",
   "execution_count": 5,
   "id": "eb87ae88",
   "metadata": {
    "ExecuteTime": {
     "end_time": "2022-10-17T19:27:04.262159Z",
     "start_time": "2022-10-17T19:27:04.248941Z"
    }
   },
   "outputs": [
    {
     "name": "stdout",
     "output_type": "stream",
     "text": [
      "Search stopped with status : FEASIBLE\n",
      " Solution is : \n",
      " Objective : 2966\n",
      "Job_schedule (job_id , start_time , completion_time) | objective\n",
      "(2, 0, 3) : (8, 3, 13) : (4, 13, 33) : (6, 44, 255) : (3, 255, 394) : (0, 394, 492) : (5, 492, 623) : (7, 623, 766) : (1, 766, 939) : (9, 939, 1132) | 2966 \n",
      "Runtime is : 0.00016063300427049398s \n",
      "time to best is : -1s \n",
      "\n"
     ]
    }
   ],
   "source": [
    "solution = smsp.Heuristics.ACTS_WSECi(instance)\n",
    "print(solution)"
   ]
  },
  {
   "cell_type": "code",
   "execution_count": 6,
   "id": "8d8d935f",
   "metadata": {
    "ExecuteTime": {
     "end_time": "2022-10-17T19:27:04.277986Z",
     "start_time": "2022-10-17T19:27:04.264677Z"
    }
   },
   "outputs": [
    {
     "name": "stdout",
     "output_type": "stream",
     "text": [
      "risijwiTi_Instance(n=10)\n",
      "(instance_name=)\n",
      "(P=[35, 62, 3, 25, 9, 47, 75, 49, 4, 66])\n",
      "(W=[1, 1, 1, 1, 1, 1, 1, 1, 1, 1])\n",
      "(R=[1, 92, 0, 46, 3, 40, 44, 66, 2, 111])\n",
      "(D=[161, 337, 97, 253, 107, 232, 131, 269, 134, 252])\n",
      "(S=[[0, 114, 50, 66, 49, 84, 91, 81, 47, 98], [114, 0, 54, 54, 19, 116, 143, 102, 61, 127], [24, 37, 0, 38, 7, 24, 140, 76, 6, 89], [63, 58, 7, 0, 35, 71, 115, 70, 27, 73], [47, 119, 17, 29, 0, 83, 136, 49, 14, 54], [74, 104, 47, 92, 86, 0, 99, 94, 32, 108], [118, 140, 137, 114, 27, 139, 0, 135, 99, 132], [83, 111, 81, 51, 83, 96, 125, 0, 85, 131], [52, 60, 7, 28, 11, 45, 30, 65, 0, 121], [110, 124, 72, 106, 99, 107, 145, 127, 121, 0]])\n"
     ]
    }
   ],
   "source": [
    "print(instance)"
   ]
  },
  {
   "cell_type": "code",
   "execution_count": 7,
   "id": "0dd933b3",
   "metadata": {
    "ExecuteTime": {
     "end_time": "2022-10-17T19:27:15.881534Z",
     "start_time": "2022-10-17T19:27:15.748742Z"
    }
   },
   "outputs": [
    {
     "data": {
      "image/png": "[encoded data removed]",
      "text/plain": [
       "<Figure size 640x480 with 1 Axes>"
      ]
     },
     "metadata": {},
     "output_type": "display_data"
    }
   ],
   "source": [
    "solution.best_solution.plot()"
   ]
  },
  {
   "cell_type": "code",
   "execution_count": null,
   "id": "3fc43c1e",
   "metadata": {},
   "outputs": [],
   "source": []
  }
 ],
 "metadata": {
  "kernelspec": {
   "display_name": "Python 3 (ipykernel)",
   "language": "python",
   "name": "python3"
  },
  "language_info": {
   "codemirror_mode": {
    "name": "ipython",
    "version": 3
   },
   "file_extension": ".py",
   "mimetype": "text/x-python",
   "name": "python",
   "nbconvert_exporter": "python",
   "pygments_lexer": "ipython3",
   "version": "3.9.12"
  }
 },
 "nbformat": 4,
 "nbformat_minor": 5
}
