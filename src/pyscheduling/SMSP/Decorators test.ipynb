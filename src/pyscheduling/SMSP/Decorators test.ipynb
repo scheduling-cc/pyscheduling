{
 "cells": [
  {
   "cell_type": "code",
   "execution_count": 1,
   "id": "cafdbaa5",
   "metadata": {
    "ExecuteTime": {
     "end_time": "2022-10-17T20:58:28.637433Z",
     "start_time": "2022-10-17T20:58:28.187253Z"
    }
   },
   "outputs": [
    {
     "name": "stdout",
     "output_type": "stream",
     "text": [
      "__init__ test: False\n"
     ]
    }
   ],
   "source": [
    "from pyscheduling.SMSP.sijwiCi import sijwiCi_Instance\n",
    "\n",
    "%load_ext autoreload\n",
    "%load_ext pycodestyle_magic\n",
    "%autoreload 2"
   ]
  },
  {
   "cell_type": "code",
   "execution_count": 2,
   "id": "e01acf77",
   "metadata": {
    "ExecuteTime": {
     "end_time": "2022-10-17T20:58:29.004431Z",
     "start_time": "2022-10-17T20:58:28.990535Z"
    }
   },
   "outputs": [],
   "source": [
    "instance = sijwiCi_Instance.generate_random(10)"
   ]
  },
  {
   "cell_type": "code",
   "execution_count": 3,
   "id": "0c5f70ce",
   "metadata": {
    "ExecuteTime": {
     "end_time": "2022-10-17T20:58:29.531308Z",
     "start_time": "2022-10-17T20:58:29.516999Z"
    }
   },
   "outputs": [
    {
     "name": "stdout",
     "output_type": "stream",
     "text": [
      "__init__ test: False\n"
     ]
    }
   ],
   "source": [
    "import pyscheduling.SMSP.risijwiTi as smsp"
   ]
  },
  {
   "cell_type": "code",
   "execution_count": null,
   "id": "3b56fdd6",
   "metadata": {
    "ExecuteTime": {
     "end_time": "2022-10-17T19:27:04.245610Z",
     "start_time": "2022-10-17T19:27:04.232235Z"
    }
   },
   "outputs": [],
   "source": [
    "instance = smsp.risijwiTi_Instance.generate_random(10)"
   ]
  },
  {
   "cell_type": "code",
   "execution_count": null,
   "id": "43e0530b",
   "metadata": {
    "ExecuteTime": {
     "end_time": "2022-10-17T19:27:04.262159Z",
     "start_time": "2022-10-17T19:27:04.248941Z"
    }
   },
   "outputs": [],
   "source": [
    "solution = smsp.Heuristics.ACTS_WSECi(instance)\n",
    "print(solution)"
   ]
  },
  {
   "cell_type": "code",
   "execution_count": null,
   "id": "b8ddce77",
   "metadata": {
    "ExecuteTime": {
     "end_time": "2022-10-17T19:27:04.277986Z",
     "start_time": "2022-10-17T19:27:04.264677Z"
    }
   },
   "outputs": [],
   "source": [
    "print(instance)"
   ]
  },
  {
   "cell_type": "code",
   "execution_count": null,
   "id": "3848ad1a",
   "metadata": {
    "ExecuteTime": {
     "end_time": "2022-10-17T19:27:15.881534Z",
     "start_time": "2022-10-17T19:27:15.748742Z"
    }
   },
   "outputs": [],
   "source": [
    "solution.best_solution.plot()"
   ]
  },
  {
   "cell_type": "code",
   "execution_count": null,
   "id": "9ddfb1bb",
   "metadata": {},
   "outputs": [],
   "source": []
  }
 ],
 "metadata": {
  "kernelspec": {
   "display_name": "Python 3 (ipykernel)",
   "language": "python",
   "name": "python3"
  },
  "language_info": {
   "codemirror_mode": {
    "name": "ipython",
    "version": 3
   },
   "file_extension": ".py",
   "mimetype": "text/x-python",
   "name": "python",
   "nbconvert_exporter": "python",
   "pygments_lexer": "ipython3",
   "version": "3.9.12"
  }
 },
 "nbformat": 4,
 "nbformat_minor": 5
}
