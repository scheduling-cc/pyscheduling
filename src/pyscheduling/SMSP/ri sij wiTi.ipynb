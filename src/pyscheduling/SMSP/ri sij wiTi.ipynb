{
 "cells": [
  {
   "cell_type": "code",
   "execution_count": 192,
   "id": "a460572a",
   "metadata": {
    "ExecuteTime": {
     "end_time": "2022-08-09T12:56:44.562554Z",
     "start_time": "2022-08-09T12:56:44.559261Z"
    }
   },
   "outputs": [],
   "source": [
    "import pyscheduling.SMSP.risijwiTi as smsp_risijT\n",
    "from pyscheduling.SMSP.SingleMachine import Job\n",
    "\n",
    "from docplex.cp.model import CpoModel\n",
    "from docplex.cp.solver.cpo_callback import CpoCallback\n",
    "from docplex.cp.expression import INTERVAL_MAX"
   ]
  },
  {
   "cell_type": "code",
   "execution_count": 193,
   "id": "8fd24f4f",
   "metadata": {
    "ExecuteTime": {
     "end_time": "2022-08-09T12:56:45.839606Z",
     "start_time": "2022-08-09T12:56:45.833512Z"
    }
   },
   "outputs": [],
   "source": [
    "def csp_transform_solution(msol, E_i, instance, objective):\n",
    "\n",
    "    sol = instance.create_solution()\n",
    "    k_tasks = []\n",
    "    for i in range(instance.n):\n",
    "        start = msol[E_i[i]][0]\n",
    "        end = msol[E_i[i]][1]\n",
    "        k_tasks.append(Job(i,start,end))\n",
    "\n",
    "        k_tasks = sorted(k_tasks, key= lambda x: x[1])\n",
    "        sol.machine.job_schedule = k_tasks\n",
    "\n",
    "    if objective == \"wiCi\":\n",
    "        sol.wiCi()\n",
    "    elif objective == \"wiTi\":\n",
    "        sol.wiTi()\n",
    "    return sol"
   ]
  },
  {
   "cell_type": "code",
   "execution_count": 208,
   "id": "af39c15d",
   "metadata": {
    "ExecuteTime": {
     "end_time": "2022-08-09T13:22:21.995748Z",
     "start_time": "2022-08-09T13:22:21.990700Z"
    }
   },
   "outputs": [],
   "source": [
    "instance = smsp_risijT.risijwiTi_Instance.generate_random(15,Wmax=4)\n",
    "E = range(instance.n)\n",
    "\n",
    "# Build transition matrix if setup is included\n",
    "trans_matrix = None\n",
    "if hasattr(instance, 'S'):\n",
    "    trans_matrix = [0 for i in range(instance.n + 1)\n",
    "                for j in range(instance.n + 1)]\n",
    "    for i in range(instance.n):\n",
    "        # Setup of the first job\n",
    "        trans_matrix[i+1] = instance.S[i][i]\n",
    "        for j in range(instance.n):\n",
    "            if i != j:\n",
    "                # Setup between i and j\n",
    "                trans_matrix[(i+1)*(instance.n+1) + j +\n",
    "                         1] = instance.S[i][j]"
   ]
  },
  {
   "cell_type": "code",
   "execution_count": 209,
   "id": "179b8fd1",
   "metadata": {
    "ExecuteTime": {
     "end_time": "2022-08-09T13:22:23.198848Z",
     "start_time": "2022-08-09T13:22:23.185969Z"
    }
   },
   "outputs": [],
   "source": [
    "# Construct the model\n",
    "model = CpoModel(\"smspModel\")\n",
    "objective = \"wiTi\"\n",
    "\n",
    "# Jobs interval_vars including the release date and processing times constraints\n",
    "E_i, S_i, iv_array, types_array = [], [], [], []\n",
    "for i in E:\n",
    "    start_period = (instance.R[i], INTERVAL_MAX) if hasattr(instance, 'R') else (0, INTERVAL_MAX)\n",
    "    job_i = model.interval_var( start = start_period,\n",
    "                                size = instance.P[i], optional= False, name=f'E[{i}]')\n",
    "    E_i.append(job_i)\n",
    "    \n",
    "    # Arrays for sequence variable\n",
    "    iv_array.append(job_i)\n",
    "    types_array.append(i)\n",
    "    \n",
    "    # Add setup task if setup is included\n",
    "    if hasattr(instance, 'S'):\n",
    "        # Setup can only start after the release of job_i\n",
    "        setup_task = model.interval_var(start=start_period,\n",
    "                                        optional=False, name=f'S[{i}]')\n",
    "        S_i.append(setup_task)\n",
    "        \n",
    "        # Arrays for sequence variable\n",
    "        iv_array.append(setup_task)\n",
    "        types_array.append(0)\n",
    "        \n",
    "        # Processing of job i starts right after its setup\n",
    "        model.add((model.end_at_start(setup_task, job_i)\n",
    "                               ).set_name(f'SP[{i}]'))\n",
    "        \n",
    "# Sequential execution on the machine\n",
    "machine_sequence = model.sequence_var( iv_array, types_array )\n",
    "model.add( model.no_overlap(machine_sequence) )\n",
    "\n",
    "# Add the setup constraint\n",
    "if hasattr(instance, 'S'):\n",
    "    for i in E:\n",
    "        # Setup time size\n",
    "        dep = S_i[i]\n",
    "\n",
    "        model.add((model.size_of(dep) ==\n",
    "                   model.element(trans_matrix,\n",
    "                                 (model.type_of_prev(\n",
    "                       machine_sequence, dep, -1, 0) + 1) * (instance.n+1)\n",
    "            + i + 1)).set_name(f'Dep[{i},{j}]')\n",
    "        )\n",
    "\n",
    "# Define the objective \n",
    "if objective == \"wiCi\":\n",
    "    model.add(model.minimize( sum( instance.W[i] * model.end_of(E_i[i]) for i in E ) )) # sum_{i in E} wi * ci\n",
    "elif objective == \"cmax\":\n",
    "    model.add(model.minimize( max( model.end_of(E_i[i]) for i in E ) )) # max_{i in E} ci \n",
    "elif objective == \"wiTi\":\n",
    "    model.add( model.minimize( \n",
    "        sum( instance.W[i] * model.max(model.end_of(E_i[i]) - instance.D[i], 0) for i in E ) # sum_{i in E} wi * Ti\n",
    "    ))"
   ]
  },
  {
   "cell_type": "code",
   "execution_count": 210,
   "id": "4891d521",
   "metadata": {
    "ExecuteTime": {
     "end_time": "2022-08-09T13:22:56.231045Z",
     "start_time": "2022-08-09T13:22:26.124621Z"
    }
   },
   "outputs": [
    {
     "name": "stdout",
     "output_type": "stream",
     "text": [
      " ! --------------------------------------------------- CP Optimizer 20.1.0.0 --\n",
      " ! Minimization problem - 31 variables, 31 constraints\n",
      " ! TimeLimit            = 30\n",
      " ! Workers              = 1\n",
      " ! LogPeriod            = 1000000\n",
      " ! RelativeOptimalityTolerance = 0\n",
      " ! Initial process time : 0.02s (0.02s extraction + 0.00s propagation)\n",
      " !  . Log search space  : 220.8 (before), 220.8 (after)\n",
      " !  . Memory usage      : 574.9 kB (before), 574.9 kB (after)\n",
      " ! Using sequential search.\n",
      " ! ----------------------------------------------------------------------------\n",
      " !          Best Branches  Non-fixed            Branch decision\n",
      "                        0         31                 -\n",
      " + New bound is 0\n",
      " *         28868    38771  0.25s               (gap is 100.0%)\n",
      " *         26008    58069  0.38s               (gap is 100.0%)\n",
      " *         24602    61709  0.43s               (gap is 100.0%)\n",
      " *         20818    62514  0.45s               (gap is 100.0%)\n",
      " *         19468    65318  0.50s               (gap is 100.0%)\n",
      " *         19007    65517  0.52s               (gap is 100.0%)\n",
      " *         18123    65781  0.52s               (gap is 100.0%)\n",
      " *         18080    83898  0.86s               (gap is 100.0%)\n",
      " *         17973    86169  1.00s               (gap is 100.0%)\n",
      " *         17777    89823  1.15s               (gap is 100.0%)\n",
      " *         17687    89930  1.15s               (gap is 100.0%)\n",
      " *         15870    90952  1.20s               (gap is 100.0%)\n",
      " ! Using failure-directed search.\n",
      " ! ----------------------------------------------------------------------------\n",
      " ! Search terminated by limit, 12 solutions found.\n",
      " ! Best objective         : 15870 (gap is 100.0%)\n",
      " ! Best bound             : 0\n",
      " ! ----------------------------------------------------------------------------\n",
      " ! Number of branches     : 924993\n",
      " ! Number of fails        : 914228\n",
      " ! Total memory usage     : 1.6 MB (1.6 MB CP Optimizer + 0.1 MB Concert)\n",
      " ! Time spent in solve    : 30.09s (30.08s engine + 0.02s extraction)\n",
      " ! Search speed (br. / s) : 30761.3\n",
      " ! ----------------------------------------------------------------------------\n"
     ]
    }
   ],
   "source": [
    "msol = model.solve(LogVerbosity=\"Normal\", Workers=1, TimeLimit=30, LogPeriod=1000000,\n",
    "                   log_output=True, trace_log=True, add_log_to_solution=True, RelativeOptimalityTolerance=0)"
   ]
  },
  {
   "cell_type": "code",
   "execution_count": 167,
   "id": "2203353e",
   "metadata": {
    "ExecuteTime": {
     "end_time": "2022-08-09T12:04:28.019753Z",
     "start_time": "2022-08-09T12:04:28.016439Z"
    }
   },
   "outputs": [
    {
     "name": "stdout",
     "output_type": "stream",
     "text": [
      "S[3]: (start=35, end=35, size=0, length=0)\n",
      "E[3]: (start=35, end=41, size=6, length=6)\n",
      "S[2]: (start=42, end=49, size=7, length=7)\n",
      "E[2]: (start=49, end=57, size=8, length=8)\n",
      "S[1]: (start=57, end=66, size=9, length=9)\n",
      "E[1]: (start=66, end=135, size=69, length=69)\n",
      "S[5]: (start=135, end=216, size=81, length=81)\n",
      "E[5]: (start=216, end=281, size=65, length=65)\n",
      "S[6]: (start=281, end=325, size=44, length=44)\n",
      "E[6]: (start=325, end=362, size=37, length=37)\n",
      "S[4]: (start=362, end=402, size=40, length=40)\n",
      "E[4]: (start=402, end=435, size=33, length=33)\n",
      "S[0]: (start=435, end=474, size=39, length=39)\n",
      "E[0]: (start=474, end=508, size=34, length=34)\n"
     ]
    }
   ],
   "source": [
    "print(\"\\n\".join(map(str,msol[machine_sequence][::])))"
   ]
  },
  {
   "cell_type": "code",
   "execution_count": 185,
   "id": "2652bb0d",
   "metadata": {
    "ExecuteTime": {
     "end_time": "2022-08-09T12:31:32.951206Z",
     "start_time": "2022-08-09T12:31:32.947039Z"
    }
   },
   "outputs": [
    {
     "data": {
      "text/plain": [
       "[34, 69, 8, 6, 33, 65, 37]"
      ]
     },
     "execution_count": 185,
     "metadata": {},
     "output_type": "execute_result"
    }
   ],
   "source": [
    "instance.P"
   ]
  },
  {
   "cell_type": "code",
   "execution_count": 183,
   "id": "f990e433",
   "metadata": {
    "ExecuteTime": {
     "end_time": "2022-08-09T12:30:56.697817Z",
     "start_time": "2022-08-09T12:30:56.693620Z"
    }
   },
   "outputs": [
    {
     "data": {
      "text/plain": [
       "[218, 40, 42, 33, 177, 57, 211]"
      ]
     },
     "execution_count": 183,
     "metadata": {},
     "output_type": "execute_result"
    }
   ],
   "source": [
    "instance.R"
   ]
  },
  {
   "cell_type": "code",
   "execution_count": 191,
   "id": "1f6cb628",
   "metadata": {
    "ExecuteTime": {
     "end_time": "2022-08-09T12:36:23.162605Z",
     "start_time": "2022-08-09T12:36:23.158256Z"
    }
   },
   "outputs": [
    {
     "data": {
      "text/plain": [
       "[309, 196, 117, 61, 328, 236, 361]"
      ]
     },
     "execution_count": 191,
     "metadata": {},
     "output_type": "execute_result"
    }
   ],
   "source": [
    "instance.D"
   ]
  },
  {
   "cell_type": "code",
   "execution_count": 186,
   "id": "e21c4b46",
   "metadata": {
    "ExecuteTime": {
     "end_time": "2022-08-09T12:31:43.991622Z",
     "start_time": "2022-08-09T12:31:43.986984Z"
    }
   },
   "outputs": [
    {
     "name": "stdout",
     "output_type": "stream",
     "text": [
      "IV- Setup: IntervalVarValue(start=57, end=66, size=9) Proc: IntervalVarValue(start=66, end=135, size=69)\n",
      "Trans_matrix:  9\n",
      "S[2, 1] = 9\n"
     ]
    }
   ],
   "source": [
    "i,j = ( 2, 1 )\n",
    "print(\"IV- Setup:\", msol[S_i[j]] , \"Proc:\", msol[E_i[j]])\n",
    "print(\"Trans_matrix: \",trans_matrix[(i+1) * (instance.n+1) + j + 1])\n",
    "print(f\"S[{i}, {j}] = {instance.S[i][j]}\")"
   ]
  },
  {
   "cell_type": "code",
   "execution_count": 212,
   "id": "9b3542cb",
   "metadata": {
    "ExecuteTime": {
     "end_time": "2022-08-09T13:24:06.523586Z",
     "start_time": "2022-08-09T13:24:06.520545Z"
    }
   },
   "outputs": [],
   "source": [
    "sol = csp_transform_solution(msol, E_i, instance, objective)"
   ]
  },
  {
   "cell_type": "code",
   "execution_count": 213,
   "id": "98f166c1",
   "metadata": {
    "ExecuteTime": {
     "end_time": "2022-08-09T13:24:07.044750Z",
     "start_time": "2022-08-09T13:24:07.041398Z"
    }
   },
   "outputs": [
    {
     "name": "stdout",
     "output_type": "stream",
     "text": [
      "17363\n"
     ]
    }
   ],
   "source": [
    "sol.wiTi()\n",
    "print(sol.machine.total_weighted_lateness(sol.instance))"
   ]
  },
  {
   "cell_type": "code",
   "execution_count": 190,
   "id": "c61a0163",
   "metadata": {
    "ExecuteTime": {
     "end_time": "2022-08-09T12:34:31.752005Z",
     "start_time": "2022-08-09T12:34:31.748168Z"
    }
   },
   "outputs": [],
   "source": [
    "instance.to_txt(\"example_instance.txt\")"
   ]
  },
  {
   "cell_type": "code",
   "execution_count": 189,
   "id": "19292c05",
   "metadata": {
    "ExecuteTime": {
     "end_time": "2022-08-09T12:34:19.098623Z",
     "start_time": "2022-08-09T12:34:19.095577Z"
    }
   },
   "outputs": [],
   "source": [
    "sol.to_txt(\"example_sol.txt\")"
   ]
  },
  {
   "cell_type": "code",
   "execution_count": 169,
   "id": "f2a41d7a",
   "metadata": {
    "ExecuteTime": {
     "end_time": "2022-08-09T12:05:17.439021Z",
     "start_time": "2022-08-09T12:05:17.434391Z"
    }
   },
   "outputs": [
    {
     "data": {
      "text/plain": [
       "[309, 196, 117, 61, 328, 236, 361]"
      ]
     },
     "execution_count": 169,
     "metadata": {},
     "output_type": "execute_result"
    }
   ],
   "source": [
    "instance.D"
   ]
  },
  {
   "cell_type": "code",
   "execution_count": 211,
   "id": "07d57396",
   "metadata": {
    "ExecuteTime": {
     "end_time": "2022-08-09T13:23:06.632365Z",
     "start_time": "2022-08-09T13:23:06.628620Z"
    }
   },
   "outputs": [
    {
     "name": "stdout",
     "output_type": "stream",
     "text": [
      "Search stopped with status : FEASIBLE\n",
      " Solution is : \n",
      " Cmax : 8180\n",
      "Job_schedule (job_id , start_time , completion_time) | Completion_time\n",
      "(12, 32, 41) : (6, 41, 70) : (10, 70, 92) : (2, 92, 146) : (8, 146, 251) : (11, 251, 365) : (0, 365, 506) : (3, 506, 589) : (13, 589, 638) : (14, 638, 853) : (7, 853, 1079) : (5, 1079, 1302) : (9, 1302, 1447) : (1, 1447, 1629) : (4, 1629, 1859) | 8180 \n",
      "Runtime is : 0.00036701600765809417s \n",
      "time to best is : -1s \n",
      "\n"
     ]
    }
   ],
   "source": [
    "solve_result = smsp_risijT.Heuristics.ACTS_WSECi(instance)\n",
    "print(solve_result)"
   ]
  },
  {
   "cell_type": "code",
   "execution_count": null,
   "id": "16b14abc",
   "metadata": {},
   "outputs": [],
   "source": []
  }
 ],
 "metadata": {
  "kernelspec": {
   "display_name": "Python 3 (ipykernel)",
   "language": "python",
   "name": "python3"
  },
  "language_info": {
   "codemirror_mode": {
    "name": "ipython",
    "version": 3
   },
   "file_extension": ".py",
   "mimetype": "text/x-python",
   "name": "python",
   "nbconvert_exporter": "python",
   "pygments_lexer": "ipython3",
   "version": "3.9.12"
  }
 },
 "nbformat": 4,
 "nbformat_minor": 5
}
