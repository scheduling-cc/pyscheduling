{
 "cells": [
  {
   "cell_type": "code",
   "execution_count": 13,
   "id": "2903ce76",
   "metadata": {
    "ExecuteTime": {
     "end_time": "2022-12-08T17:03:35.904571Z",
     "start_time": "2022-12-08T17:03:35.818482Z"
    }
   },
   "outputs": [
    {
     "name": "stdout",
     "output_type": "stream",
     "text": [
      "The autoreload extension is already loaded. To reload it, use:\n",
      "  %reload_ext autoreload\n",
      "The pycodestyle_magic extension is already loaded. To reload it, use:\n",
      "  %reload_ext pycodestyle_magic\n"
     ]
    }
   ],
   "source": [
    "from pyscheduling.FS import FlowShop\n",
    "from pyscheduling.FS import FmSijkCmax\n",
    "from pyscheduling.FS import FS_Methods as methods\n",
    "\n",
    "%load_ext autoreload\n",
    "%load_ext pycodestyle_magic\n",
    "%autoreload 2"
   ]
  },
  {
   "cell_type": "code",
   "execution_count": 152,
   "id": "1c5eba96",
   "metadata": {
    "ExecuteTime": {
     "end_time": "2022-12-09T14:27:46.901885Z",
     "start_time": "2022-12-09T14:27:46.891077Z"
    }
   },
   "outputs": [],
   "source": [
    "instance = FmSijkCmax.FmSijkCmax_Instance.generate_random(5, 2)"
   ]
  },
  {
   "cell_type": "code",
   "execution_count": 162,
   "id": "00a3bb58",
   "metadata": {
    "ExecuteTime": {
     "end_time": "2022-12-09T14:31:34.950548Z",
     "start_time": "2022-12-09T14:31:33.352273Z"
    }
   },
   "outputs": [],
   "source": [
    "best_sol = methods.Heuristics.BIBA(instance).best_solution"
   ]
  },
  {
   "cell_type": "code",
   "execution_count": 163,
   "id": "653c0013",
   "metadata": {
    "ExecuteTime": {
     "end_time": "2022-12-09T14:31:35.460156Z",
     "start_time": "2022-12-09T14:31:35.446049Z"
    }
   },
   "outputs": [
    {
     "data": {
      "text/plain": [
       "777"
      ]
     },
     "execution_count": 163,
     "metadata": {},
     "output_type": "execute_result"
    }
   ],
   "source": [
    "best_sol.objective_value"
   ]
  },
  {
   "cell_type": "code",
   "execution_count": 164,
   "id": "9fef354f",
   "metadata": {
    "ExecuteTime": {
     "end_time": "2022-12-09T14:31:36.183155Z",
     "start_time": "2022-12-09T14:31:36.172083Z"
    }
   },
   "outputs": [
    {
     "name": "stdout",
     "output_type": "stream",
     "text": [
      "1 3\n"
     ]
    }
   ],
   "source": [
    "sol = FlowShop.NeighbourhoodGeneration.random_insert(best_sol, force_improve=False, inplace=False)"
   ]
  },
  {
   "cell_type": "code",
   "execution_count": 165,
   "id": "d85ec509",
   "metadata": {
    "ExecuteTime": {
     "end_time": "2022-12-09T14:31:37.234621Z",
     "start_time": "2022-12-09T14:31:37.222501Z"
    }
   },
   "outputs": [
    {
     "data": {
      "text/plain": [
       "(Job(id=4, start_time=47, end_time=248),\n",
       " Job(id=0, start_time=312, end_time=576))"
      ]
     },
     "execution_count": 165,
     "metadata": {},
     "output_type": "execute_result"
    }
   ],
   "source": [
    "best_sol.job_schedule[1], best_sol.job_schedule[3]"
   ]
  },
  {
   "cell_type": "code",
   "execution_count": 166,
   "id": "c2224441",
   "metadata": {
    "ExecuteTime": {
     "end_time": "2022-12-09T14:31:38.258967Z",
     "start_time": "2022-12-09T14:31:38.247460Z"
    }
   },
   "outputs": [
    {
     "data": {
      "text/plain": [
       "767"
      ]
     },
     "execution_count": 166,
     "metadata": {},
     "output_type": "execute_result"
    }
   ],
   "source": [
    "sol.objective_value"
   ]
  },
  {
   "cell_type": "code",
   "execution_count": 167,
   "id": "975255a5",
   "metadata": {
    "ExecuteTime": {
     "end_time": "2022-12-09T14:31:42.281680Z",
     "start_time": "2022-12-09T14:31:42.270003Z"
    }
   },
   "outputs": [
    {
     "data": {
      "text/plain": [
       "(Job(id=2, start_time=47, end_time=250),\n",
       " Job(id=4, start_time=307, end_time=595))"
      ]
     },
     "execution_count": 167,
     "metadata": {},
     "output_type": "execute_result"
    }
   ],
   "source": [
    "sol.job_schedule[1], sol.job_schedule[3]"
   ]
  },
  {
   "cell_type": "code",
   "execution_count": 170,
   "id": "368db153",
   "metadata": {
    "ExecuteTime": {
     "end_time": "2022-12-09T14:32:16.196732Z",
     "start_time": "2022-12-09T14:32:16.186012Z"
    }
   },
   "outputs": [
    {
     "data": {
      "text/plain": [
       "[Job(id=1, start_time=0, end_time=103),\n",
       " Job(id=4, start_time=47, end_time=248),\n",
       " Job(id=2, start_time=180, end_time=398),\n",
       " Job(id=0, start_time=312, end_time=576),\n",
       " Job(id=3, start_time=446, end_time=777)]"
      ]
     },
     "execution_count": 170,
     "metadata": {},
     "output_type": "execute_result"
    }
   ],
   "source": [
    "best_sol.job_schedule"
   ]
  },
  {
   "cell_type": "code",
   "execution_count": 171,
   "id": "37082553",
   "metadata": {
    "ExecuteTime": {
     "end_time": "2022-12-09T14:32:19.462245Z",
     "start_time": "2022-12-09T14:32:19.450639Z"
    }
   },
   "outputs": [
    {
     "data": {
      "text/plain": [
       "[Job(id=1, start_time=0, end_time=103),\n",
       " Job(id=2, start_time=47, end_time=250),\n",
       " Job(id=0, start_time=173, end_time=428),\n",
       " Job(id=4, start_time=307, end_time=595),\n",
       " Job(id=3, start_time=444, end_time=767)]"
      ]
     },
     "execution_count": 171,
     "metadata": {},
     "output_type": "execute_result"
    }
   ],
   "source": [
    "sol.job_schedule"
   ]
  },
  {
   "cell_type": "code",
   "execution_count": 172,
   "id": "7a138876",
   "metadata": {
    "ExecuteTime": {
     "end_time": "2022-12-09T14:44:36.840466Z",
     "start_time": "2022-12-09T14:44:34.266688Z"
    }
   },
   "outputs": [
    {
     "data": {
      "text/plain": [
       "[[54, 83], [47, 56], [53, 60], [52, 79], [56, 61]]"
      ]
     },
     "execution_count": 172,
     "metadata": {},
     "output_type": "execute_result"
    }
   ],
   "source": [
    "instance.P"
   ]
  },
  {
   "cell_type": "code",
   "execution_count": 173,
   "id": "69d4d577",
   "metadata": {
    "ExecuteTime": {
     "end_time": "2022-12-09T14:45:27.198564Z",
     "start_time": "2022-12-09T14:45:27.187099Z"
    }
   },
   "outputs": [],
   "source": [
    "my_rule = lambda instance, job_id: sum(instance.P[job_id][m_id] for m_id in range(instance.m)) / instance.m\n",
    "rule_sol = methods.Heuristics.dispatch_heuristic(instance, rule = my_rule, reverse=False ).best_solution"
   ]
  },
  {
   "cell_type": "code",
   "execution_count": 177,
   "id": "7282d45c",
   "metadata": {
    "ExecuteTime": {
     "end_time": "2022-12-09T14:46:17.690028Z",
     "start_time": "2022-12-09T14:46:17.678139Z"
    }
   },
   "outputs": [
    {
     "data": {
      "text/plain": [
       "778"
      ]
     },
     "execution_count": 177,
     "metadata": {},
     "output_type": "execute_result"
    }
   ],
   "source": [
    "rule_sol.objective_value"
   ]
  },
  {
   "cell_type": "code",
   "execution_count": 193,
   "id": "23097244",
   "metadata": {
    "ExecuteTime": {
     "end_time": "2022-12-09T14:54:03.786558Z",
     "start_time": "2022-12-09T14:54:03.773553Z"
    }
   },
   "outputs": [],
   "source": [
    "grasp_sol_result = methods.Heuristics.grasp(instance, 0.5, 0.5, 5)"
   ]
  },
  {
   "cell_type": "code",
   "execution_count": 194,
   "id": "ca8767c6",
   "metadata": {
    "ExecuteTime": {
     "end_time": "2022-12-09T14:54:04.037805Z",
     "start_time": "2022-12-09T14:54:04.023227Z"
    }
   },
   "outputs": [
    {
     "data": {
      "text/plain": [
       "759"
      ]
     },
     "execution_count": 194,
     "metadata": {},
     "output_type": "execute_result"
    }
   ],
   "source": [
    "grasp_sol_result.best_solution.objective_value"
   ]
  },
  {
   "cell_type": "code",
   "execution_count": null,
   "id": "c7bb0650",
   "metadata": {},
   "outputs": [],
   "source": []
  }
 ],
 "metadata": {
  "kernelspec": {
   "display_name": "Python 3 (ipykernel)",
   "language": "python",
   "name": "python3"
  },
  "language_info": {
   "codemirror_mode": {
    "name": "ipython",
    "version": 3
   },
   "file_extension": ".py",
   "mimetype": "text/x-python",
   "name": "python",
   "nbconvert_exporter": "python",
   "pygments_lexer": "ipython3",
   "version": "3.9.12"
  }
 },
 "nbformat": 4,
 "nbformat_minor": 5
}
