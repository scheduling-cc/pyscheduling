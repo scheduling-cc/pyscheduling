{
 "cells": [
  {
   "cell_type": "code",
   "execution_count": 13,
   "id": "445a20e7",
   "metadata": {
    "ExecuteTime": {
     "end_time": "2022-12-08T17:03:35.904571Z",
     "start_time": "2022-12-08T17:03:35.818482Z"
    }
   },
   "outputs": [
    {
     "name": "stdout",
     "output_type": "stream",
     "text": [
      "The autoreload extension is already loaded. To reload it, use:\n",
      "  %reload_ext autoreload\n",
      "The pycodestyle_magic extension is already loaded. To reload it, use:\n",
      "  %reload_ext pycodestyle_magic\n"
     ]
    }
   ],
   "source": [
    "from pyscheduling.FS import FlowShop\n",
    "from pyscheduling.FS import FmSijkCmax\n",
    "from pyscheduling.FS import FS_Methods as methods\n",
    "\n",
    "%load_ext autoreload\n",
    "%load_ext pycodestyle_magic\n",
    "%autoreload 2"
   ]
  },
  {
   "cell_type": "code",
   "execution_count": 152,
   "id": "1b1cf389",
   "metadata": {
    "ExecuteTime": {
     "end_time": "2022-12-09T14:27:46.901885Z",
     "start_time": "2022-12-09T14:27:46.891077Z"
    }
   },
   "outputs": [],
   "source": [
    "instance = FmSijkCmax.FmSijkCmax_Instance.generate_random(5, 2)"
   ]
  },
  {
   "cell_type": "code",
   "execution_count": 162,
   "id": "72c5325d",
   "metadata": {
    "ExecuteTime": {
     "end_time": "2022-12-09T14:31:34.950548Z",
     "start_time": "2022-12-09T14:31:33.352273Z"
    }
   },
   "outputs": [],
   "source": [
    "best_sol = methods.Heuristics.BIBA(instance).best_solution"
   ]
  },
  {
   "cell_type": "code",
   "execution_count": 163,
   "id": "d5a69ff4",
   "metadata": {
    "ExecuteTime": {
     "end_time": "2022-12-09T14:31:35.460156Z",
     "start_time": "2022-12-09T14:31:35.446049Z"
    }
   },
   "outputs": [
    {
     "data": {
      "text/plain": [
       "777"
      ]
     },
     "execution_count": 163,
     "metadata": {},
     "output_type": "execute_result"
    }
   ],
   "source": [
    "best_sol.objective_value"
   ]
  },
  {
   "cell_type": "code",
   "execution_count": 164,
   "id": "fbd1139e",
   "metadata": {
    "ExecuteTime": {
     "end_time": "2022-12-09T14:31:36.183155Z",
     "start_time": "2022-12-09T14:31:36.172083Z"
    }
   },
   "outputs": [
    {
     "name": "stdout",
     "output_type": "stream",
     "text": [
      "1 3\n"
     ]
    }
   ],
   "source": [
    "sol = FlowShop.NeighbourhoodGeneration.random_insert(best_sol, force_improve=False, inplace=False)"
   ]
  },
  {
   "cell_type": "code",
   "execution_count": 165,
   "id": "c0a2e600",
   "metadata": {
    "ExecuteTime": {
     "end_time": "2022-12-09T14:31:37.234621Z",
     "start_time": "2022-12-09T14:31:37.222501Z"
    }
   },
   "outputs": [
    {
     "data": {
      "text/plain": [
       "(Job(id=4, start_time=47, end_time=248),\n",
       " Job(id=0, start_time=312, end_time=576))"
      ]
     },
     "execution_count": 165,
     "metadata": {},
     "output_type": "execute_result"
    }
   ],
   "source": [
    "best_sol.job_schedule[1], best_sol.job_schedule[3]"
   ]
  },
  {
   "cell_type": "code",
   "execution_count": 166,
   "id": "239f5256",
   "metadata": {
    "ExecuteTime": {
     "end_time": "2022-12-09T14:31:38.258967Z",
     "start_time": "2022-12-09T14:31:38.247460Z"
    }
   },
   "outputs": [
    {
     "data": {
      "text/plain": [
       "767"
      ]
     },
     "execution_count": 166,
     "metadata": {},
     "output_type": "execute_result"
    }
   ],
   "source": [
    "sol.objective_value"
   ]
  },
  {
   "cell_type": "code",
   "execution_count": 167,
   "id": "2d48959c",
   "metadata": {
    "ExecuteTime": {
     "end_time": "2022-12-09T14:31:42.281680Z",
     "start_time": "2022-12-09T14:31:42.270003Z"
    }
   },
   "outputs": [
    {
     "data": {
      "text/plain": [
       "(Job(id=2, start_time=47, end_time=250),\n",
       " Job(id=4, start_time=307, end_time=595))"
      ]
     },
     "execution_count": 167,
     "metadata": {},
     "output_type": "execute_result"
    }
   ],
   "source": [
    "sol.job_schedule[1], sol.job_schedule[3]"
   ]
  },
  {
   "cell_type": "code",
   "execution_count": 170,
   "id": "50a3b00e",
   "metadata": {
    "ExecuteTime": {
     "end_time": "2022-12-09T14:32:16.196732Z",
     "start_time": "2022-12-09T14:32:16.186012Z"
    }
   },
   "outputs": [
    {
     "data": {
      "text/plain": [
       "[Job(id=1, start_time=0, end_time=103),\n",
       " Job(id=4, start_time=47, end_time=248),\n",
       " Job(id=2, start_time=180, end_time=398),\n",
       " Job(id=0, start_time=312, end_time=576),\n",
       " Job(id=3, start_time=446, end_time=777)]"
      ]
     },
     "execution_count": 170,
     "metadata": {},
     "output_type": "execute_result"
    }
   ],
   "source": [
    "best_sol.job_schedule"
   ]
  },
  {
   "cell_type": "code",
   "execution_count": 171,
   "id": "d008e291",
   "metadata": {
    "ExecuteTime": {
     "end_time": "2022-12-09T14:32:19.462245Z",
     "start_time": "2022-12-09T14:32:19.450639Z"
    }
   },
   "outputs": [
    {
     "data": {
      "text/plain": [
       "[Job(id=1, start_time=0, end_time=103),\n",
       " Job(id=2, start_time=47, end_time=250),\n",
       " Job(id=0, start_time=173, end_time=428),\n",
       " Job(id=4, start_time=307, end_time=595),\n",
       " Job(id=3, start_time=444, end_time=767)]"
      ]
     },
     "execution_count": 171,
     "metadata": {},
     "output_type": "execute_result"
    }
   ],
   "source": [
    "sol.job_schedule"
   ]
  },
  {
   "cell_type": "code",
   "execution_count": 172,
   "id": "38ee2ace",
   "metadata": {
    "ExecuteTime": {
     "end_time": "2022-12-09T14:44:36.840466Z",
     "start_time": "2022-12-09T14:44:34.266688Z"
    }
   },
   "outputs": [
    {
     "data": {
      "text/plain": [
       "[[54, 83], [47, 56], [53, 60], [52, 79], [56, 61]]"
      ]
     },
     "execution_count": 172,
     "metadata": {},
     "output_type": "execute_result"
    }
   ],
   "source": [
    "instance.P"
   ]
  },
  {
   "cell_type": "code",
   "execution_count": 173,
   "id": "67940e37",
   "metadata": {
    "ExecuteTime": {
     "end_time": "2022-12-09T14:45:27.198564Z",
     "start_time": "2022-12-09T14:45:27.187099Z"
    }
   },
   "outputs": [],
   "source": [
    "my_rule = lambda instance, job_id: sum(instance.P[job_id][m_id] for m_id in range(instance.m)) / instance.m\n",
    "rule_sol = methods.Heuristics.dispatch_heuristic(instance, rule = my_rule, reverse=False ).best_solution"
   ]
  },
  {
   "cell_type": "code",
   "execution_count": 175,
   "id": "d406c0b7",
   "metadata": {
    "ExecuteTime": {
     "end_time": "2022-12-09T14:45:34.809562Z",
     "start_time": "2022-12-09T14:45:34.795841Z"
    }
   },
   "outputs": [
    {
     "data": {
      "text/plain": [
       "[Job(id=1, start_time=0, end_time=103),\n",
       " Job(id=2, start_time=47, end_time=250),\n",
       " Job(id=4, start_time=173, end_time=401),\n",
       " Job(id=3, start_time=308, end_time=573),\n",
       " Job(id=0, start_time=442, end_time=778)]"
      ]
     },
     "execution_count": 175,
     "metadata": {},
     "output_type": "execute_result"
    }
   ],
   "source": [
    "rule_sol.job_schedule"
   ]
  },
  {
   "cell_type": "code",
   "execution_count": null,
   "id": "06dac32e",
   "metadata": {},
   "outputs": [],
   "source": []
  }
 ],
 "metadata": {
  "kernelspec": {
   "display_name": "Python 3 (ipykernel)",
   "language": "python",
   "name": "python3"
  },
  "language_info": {
   "codemirror_mode": {
    "name": "ipython",
    "version": 3
   },
   "file_extension": ".py",
   "mimetype": "text/x-python",
   "name": "python",
   "nbconvert_exporter": "python",
   "pygments_lexer": "ipython3",
   "version": "3.9.12"
  }
 },
 "nbformat": 4,
 "nbformat_minor": 5
}
