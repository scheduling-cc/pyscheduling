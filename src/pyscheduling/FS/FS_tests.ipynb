{
 "cells": [
  {
   "cell_type": "code",
   "execution_count": 21,
   "id": "2903ce76",
   "metadata": {
    "ExecuteTime": {
     "end_time": "2023-02-15T14:34:25.377501Z",
     "start_time": "2023-02-15T14:34:25.361570Z"
    }
   },
   "outputs": [
    {
     "name": "stdout",
     "output_type": "stream",
     "text": [
      "The autoreload extension is already loaded. To reload it, use:\n",
      "  %reload_ext autoreload\n",
      "The pycodestyle_magic extension is already loaded. To reload it, use:\n",
      "  %reload_ext pycodestyle_magic\n"
     ]
    }
   ],
   "source": [
    "from pyscheduling.FS import FlowShop\n",
    "from pyscheduling.FS import FmSijkCmax\n",
    "from pyscheduling.FS import FS_Methods as methods\n",
    "from pyscheduling.FS import FmriSijkwiFi as wifi\n",
    "from pyscheduling.FS import FmridiSijkwiTi as witi\n",
    "\n",
    "%load_ext autoreload\n",
    "%load_ext pycodestyle_magic\n",
    "%autoreload 2"
   ]
  },
  {
   "cell_type": "code",
   "execution_count": 152,
   "id": "1c5eba96",
   "metadata": {
    "ExecuteTime": {
     "end_time": "2022-12-09T14:27:46.901885Z",
     "start_time": "2022-12-09T14:27:46.891077Z"
    }
   },
   "outputs": [],
   "source": [
    "instance = FmSijkCmax.FmSijkCmax_Instance.generate_random(5, 2)"
   ]
  },
  {
   "cell_type": "code",
   "execution_count": 162,
   "id": "00a3bb58",
   "metadata": {
    "ExecuteTime": {
     "end_time": "2022-12-09T14:31:34.950548Z",
     "start_time": "2022-12-09T14:31:33.352273Z"
    }
   },
   "outputs": [],
   "source": [
    "best_sol = methods.Heuristics.BIBA(instance).best_solution"
   ]
  },
  {
   "cell_type": "code",
   "execution_count": 163,
   "id": "653c0013",
   "metadata": {
    "ExecuteTime": {
     "end_time": "2022-12-09T14:31:35.460156Z",
     "start_time": "2022-12-09T14:31:35.446049Z"
    }
   },
   "outputs": [
    {
     "data": {
      "text/plain": [
       "777"
      ]
     },
     "execution_count": 163,
     "metadata": {},
     "output_type": "execute_result"
    }
   ],
   "source": [
    "best_sol.objective_value"
   ]
  },
  {
   "cell_type": "code",
   "execution_count": 164,
   "id": "9fef354f",
   "metadata": {
    "ExecuteTime": {
     "end_time": "2022-12-09T14:31:36.183155Z",
     "start_time": "2022-12-09T14:31:36.172083Z"
    }
   },
   "outputs": [
    {
     "name": "stdout",
     "output_type": "stream",
     "text": [
      "1 3\n"
     ]
    }
   ],
   "source": [
    "sol = FlowShop.NeighbourhoodGeneration.random_insert(best_sol, force_improve=False, inplace=False)"
   ]
  },
  {
   "cell_type": "code",
   "execution_count": 165,
   "id": "d85ec509",
   "metadata": {
    "ExecuteTime": {
     "end_time": "2022-12-09T14:31:37.234621Z",
     "start_time": "2022-12-09T14:31:37.222501Z"
    }
   },
   "outputs": [
    {
     "data": {
      "text/plain": [
       "(Job(id=4, start_time=47, end_time=248),\n",
       " Job(id=0, start_time=312, end_time=576))"
      ]
     },
     "execution_count": 165,
     "metadata": {},
     "output_type": "execute_result"
    }
   ],
   "source": [
    "best_sol.job_schedule[1], best_sol.job_schedule[3]"
   ]
  },
  {
   "cell_type": "code",
   "execution_count": 166,
   "id": "c2224441",
   "metadata": {
    "ExecuteTime": {
     "end_time": "2022-12-09T14:31:38.258967Z",
     "start_time": "2022-12-09T14:31:38.247460Z"
    }
   },
   "outputs": [
    {
     "data": {
      "text/plain": [
       "767"
      ]
     },
     "execution_count": 166,
     "metadata": {},
     "output_type": "execute_result"
    }
   ],
   "source": [
    "sol.objective_value"
   ]
  },
  {
   "cell_type": "code",
   "execution_count": 167,
   "id": "975255a5",
   "metadata": {
    "ExecuteTime": {
     "end_time": "2022-12-09T14:31:42.281680Z",
     "start_time": "2022-12-09T14:31:42.270003Z"
    }
   },
   "outputs": [
    {
     "data": {
      "text/plain": [
       "(Job(id=2, start_time=47, end_time=250),\n",
       " Job(id=4, start_time=307, end_time=595))"
      ]
     },
     "execution_count": 167,
     "metadata": {},
     "output_type": "execute_result"
    }
   ],
   "source": [
    "sol.job_schedule[1], sol.job_schedule[3]"
   ]
  },
  {
   "cell_type": "code",
   "execution_count": 170,
   "id": "368db153",
   "metadata": {
    "ExecuteTime": {
     "end_time": "2022-12-09T14:32:16.196732Z",
     "start_time": "2022-12-09T14:32:16.186012Z"
    }
   },
   "outputs": [
    {
     "data": {
      "text/plain": [
       "[Job(id=1, start_time=0, end_time=103),\n",
       " Job(id=4, start_time=47, end_time=248),\n",
       " Job(id=2, start_time=180, end_time=398),\n",
       " Job(id=0, start_time=312, end_time=576),\n",
       " Job(id=3, start_time=446, end_time=777)]"
      ]
     },
     "execution_count": 170,
     "metadata": {},
     "output_type": "execute_result"
    }
   ],
   "source": [
    "best_sol.job_schedule"
   ]
  },
  {
   "cell_type": "code",
   "execution_count": 171,
   "id": "37082553",
   "metadata": {
    "ExecuteTime": {
     "end_time": "2022-12-09T14:32:19.462245Z",
     "start_time": "2022-12-09T14:32:19.450639Z"
    }
   },
   "outputs": [
    {
     "data": {
      "text/plain": [
       "[Job(id=1, start_time=0, end_time=103),\n",
       " Job(id=2, start_time=47, end_time=250),\n",
       " Job(id=0, start_time=173, end_time=428),\n",
       " Job(id=4, start_time=307, end_time=595),\n",
       " Job(id=3, start_time=444, end_time=767)]"
      ]
     },
     "execution_count": 171,
     "metadata": {},
     "output_type": "execute_result"
    }
   ],
   "source": [
    "sol.job_schedule"
   ]
  },
  {
   "cell_type": "code",
   "execution_count": 172,
   "id": "7a138876",
   "metadata": {
    "ExecuteTime": {
     "end_time": "2022-12-09T14:44:36.840466Z",
     "start_time": "2022-12-09T14:44:34.266688Z"
    }
   },
   "outputs": [
    {
     "data": {
      "text/plain": [
       "[[54, 83], [47, 56], [53, 60], [52, 79], [56, 61]]"
      ]
     },
     "execution_count": 172,
     "metadata": {},
     "output_type": "execute_result"
    }
   ],
   "source": [
    "instance.P"
   ]
  },
  {
   "cell_type": "code",
   "execution_count": 173,
   "id": "69d4d577",
   "metadata": {
    "ExecuteTime": {
     "end_time": "2022-12-09T14:45:27.198564Z",
     "start_time": "2022-12-09T14:45:27.187099Z"
    }
   },
   "outputs": [],
   "source": [
    "my_rule = lambda instance, job_id: sum(instance.P[job_id][m_id] for m_id in range(instance.m)) / instance.m\n",
    "rule_sol = methods.Heuristics.dispatch_heuristic(instance, rule = my_rule, reverse=False ).best_solution"
   ]
  },
  {
   "cell_type": "code",
   "execution_count": 177,
   "id": "7282d45c",
   "metadata": {
    "ExecuteTime": {
     "end_time": "2022-12-09T14:46:17.690028Z",
     "start_time": "2022-12-09T14:46:17.678139Z"
    }
   },
   "outputs": [
    {
     "data": {
      "text/plain": [
       "778"
      ]
     },
     "execution_count": 177,
     "metadata": {},
     "output_type": "execute_result"
    }
   ],
   "source": [
    "rule_sol.objective_value"
   ]
  },
  {
   "cell_type": "code",
   "execution_count": 193,
   "id": "23097244",
   "metadata": {
    "ExecuteTime": {
     "end_time": "2022-12-09T14:54:03.786558Z",
     "start_time": "2022-12-09T14:54:03.773553Z"
    }
   },
   "outputs": [],
   "source": [
    "grasp_sol_result = methods.Heuristics.grasp(instance, 0.5, 0.5, 5)"
   ]
  },
  {
   "cell_type": "code",
   "execution_count": 194,
   "id": "ca8767c6",
   "metadata": {
    "ExecuteTime": {
     "end_time": "2022-12-09T14:54:04.037805Z",
     "start_time": "2022-12-09T14:54:04.023227Z"
    }
   },
   "outputs": [
    {
     "data": {
      "text/plain": [
       "759"
      ]
     },
     "execution_count": 194,
     "metadata": {},
     "output_type": "execute_result"
    }
   ],
   "source": [
    "grasp_sol_result.best_solution.objective_value"
   ]
  },
  {
   "cell_type": "markdown",
   "id": "db5b542b",
   "metadata": {},
   "source": [
    "## WiFi"
   ]
  },
  {
   "cell_type": "code",
   "execution_count": 4,
   "id": "4f374058",
   "metadata": {
    "ExecuteTime": {
     "end_time": "2023-02-15T14:24:52.981225Z",
     "start_time": "2023-02-15T14:24:52.888462Z"
    }
   },
   "outputs": [],
   "source": [
    "instance = wifi.FmriSijkwiFi_Instance.generate_random(20, 2)"
   ]
  },
  {
   "cell_type": "code",
   "execution_count": 7,
   "id": "7f05d60f",
   "metadata": {
    "ExecuteTime": {
     "end_time": "2023-02-15T14:25:30.571393Z",
     "start_time": "2023-02-15T14:25:30.559015Z"
    }
   },
   "outputs": [],
   "source": [
    "biba_sol = methods.Heuristics.BIBA(instance).best_solution"
   ]
  },
  {
   "cell_type": "code",
   "execution_count": 13,
   "id": "bbfa2b71",
   "metadata": {
    "ExecuteTime": {
     "end_time": "2023-02-15T14:26:01.131692Z",
     "start_time": "2023-02-15T14:26:01.120368Z"
    }
   },
   "outputs": [
    {
     "data": {
      "text/plain": [
       "[Job(id=5, start_time=15, end_time=29),\n",
       " Job(id=12, start_time=36, end_time=86),\n",
       " Job(id=11, start_time=101, end_time=204),\n",
       " Job(id=0, start_time=204, end_time=408),\n",
       " Job(id=17, start_time=408, end_time=432),\n",
       " Job(id=4, start_time=432, end_time=523),\n",
       " Job(id=9, start_time=523, end_time=747),\n",
       " Job(id=16, start_time=747, end_time=874),\n",
       " Job(id=8, start_time=874, end_time=1035),\n",
       " Job(id=6, start_time=1035, end_time=1207),\n",
       " Job(id=14, start_time=1207, end_time=1314),\n",
       " Job(id=7, start_time=1314, end_time=1508),\n",
       " Job(id=3, start_time=1508, end_time=1676),\n",
       " Job(id=15, start_time=1676, end_time=1791),\n",
       " Job(id=19, start_time=1791, end_time=1923),\n",
       " Job(id=10, start_time=1923, end_time=2053),\n",
       " Job(id=18, start_time=2053, end_time=2247),\n",
       " Job(id=13, start_time=2247, end_time=2466),\n",
       " Job(id=2, start_time=2466, end_time=2505),\n",
       " Job(id=1, start_time=2505, end_time=2644)]"
      ]
     },
     "execution_count": 13,
     "metadata": {},
     "output_type": "execute_result"
    }
   ],
   "source": [
    "biba_sol.machines[0].oper_schedule"
   ]
  },
  {
   "cell_type": "code",
   "execution_count": 14,
   "id": "53c0dbe2",
   "metadata": {
    "ExecuteTime": {
     "end_time": "2023-02-15T14:26:14.111832Z",
     "start_time": "2023-02-15T14:26:14.099484Z"
    }
   },
   "outputs": [
    {
     "data": {
      "text/plain": [
       "[Job(id=5, start_time=29, end_time=41),\n",
       " Job(id=12, start_time=86, end_time=114),\n",
       " Job(id=11, start_time=204, end_time=267),\n",
       " Job(id=0, start_time=408, end_time=455),\n",
       " Job(id=17, start_time=455, end_time=599),\n",
       " Job(id=4, start_time=599, end_time=717),\n",
       " Job(id=9, start_time=747, end_time=867),\n",
       " Job(id=16, start_time=874, end_time=952),\n",
       " Job(id=8, start_time=1035, end_time=1115),\n",
       " Job(id=6, start_time=1207, end_time=1240),\n",
       " Job(id=14, start_time=1314, end_time=1414),\n",
       " Job(id=7, start_time=1508, end_time=1562),\n",
       " Job(id=3, start_time=1676, end_time=1700),\n",
       " Job(id=15, start_time=1791, end_time=1865),\n",
       " Job(id=19, start_time=1923, end_time=1990),\n",
       " Job(id=10, start_time=2053, end_time=2122),\n",
       " Job(id=18, start_time=2247, end_time=2343),\n",
       " Job(id=13, start_time=2466, end_time=2497),\n",
       " Job(id=2, start_time=2505, end_time=2705),\n",
       " Job(id=1, start_time=2705, end_time=2977)]"
      ]
     },
     "execution_count": 14,
     "metadata": {},
     "output_type": "execute_result"
    }
   ],
   "source": [
    "biba_sol.machines[1].oper_schedule"
   ]
  },
  {
   "cell_type": "markdown",
   "id": "2fddcea0",
   "metadata": {},
   "source": [
    "## WiTi"
   ]
  },
  {
   "cell_type": "code",
   "execution_count": 28,
   "id": "fb3b58d6",
   "metadata": {
    "ExecuteTime": {
     "end_time": "2023-02-15T14:40:26.556854Z",
     "start_time": "2023-02-15T14:40:26.547150Z"
    }
   },
   "outputs": [],
   "source": [
    "instance = witi.FmridiSijkwiTi_Instance.generate_random(5, 2)"
   ]
  },
  {
   "cell_type": "code",
   "execution_count": 29,
   "id": "5a656b4a",
   "metadata": {
    "ExecuteTime": {
     "end_time": "2023-02-15T14:40:40.894855Z",
     "start_time": "2023-02-15T14:40:40.879439Z"
    }
   },
   "outputs": [],
   "source": [
    "biba_sol = methods.Heuristics.BIBA(instance).best_solution"
   ]
  },
  {
   "cell_type": "code",
   "execution_count": 32,
   "id": "7b4e4d1b",
   "metadata": {
    "ExecuteTime": {
     "end_time": "2023-02-15T14:41:02.079654Z",
     "start_time": "2023-02-15T14:41:02.066807Z"
    }
   },
   "outputs": [
    {
     "data": {
      "text/plain": [
       "[Job(id=4, start_time=72, end_time=115),\n",
       " Job(id=2, start_time=216, end_time=320),\n",
       " Job(id=0, start_time=428, end_time=459),\n",
       " Job(id=3, start_time=608, end_time=684),\n",
       " Job(id=1, start_time=771, end_time=832)]"
      ]
     },
     "execution_count": 32,
     "metadata": {},
     "output_type": "execute_result"
    }
   ],
   "source": [
    "biba_sol.machines[1].oper_schedule"
   ]
  },
  {
   "cell_type": "code",
   "execution_count": 33,
   "id": "e83a21a3",
   "metadata": {
    "ExecuteTime": {
     "end_time": "2023-02-15T14:41:04.000693Z",
     "start_time": "2023-02-15T14:41:03.989434Z"
    }
   },
   "outputs": [
    {
     "data": {
      "text/plain": [
       "1856"
      ]
     },
     "execution_count": 33,
     "metadata": {},
     "output_type": "execute_result"
    }
   ],
   "source": [
    "biba_sol.objective_value"
   ]
  },
  {
   "cell_type": "code",
   "execution_count": 35,
   "id": "3f1ce94d",
   "metadata": {
    "ExecuteTime": {
     "end_time": "2023-02-15T14:41:23.698463Z",
     "start_time": "2023-02-15T14:41:23.684736Z"
    }
   },
   "outputs": [
    {
     "data": {
      "text/plain": [
       "[101, 66, 164, 121, 102]"
      ]
     },
     "execution_count": 35,
     "metadata": {},
     "output_type": "execute_result"
    }
   ],
   "source": [
    "instance.D"
   ]
  },
  {
   "cell_type": "code",
   "execution_count": 36,
   "id": "667e494e",
   "metadata": {
    "ExecuteTime": {
     "end_time": "2023-02-15T14:42:35.021194Z",
     "start_time": "2023-02-15T14:42:35.009569Z"
    }
   },
   "outputs": [
    {
     "data": {
      "text/plain": [
       "1856"
      ]
     },
     "execution_count": 36,
     "metadata": {},
     "output_type": "execute_result"
    }
   ],
   "source": [
    "115-102 + 320-164 + 459-101 + 684-121 + 832-66"
   ]
  },
  {
   "cell_type": "code",
   "execution_count": null,
   "id": "3e09ddad",
   "metadata": {},
   "outputs": [],
   "source": []
  }
 ],
 "metadata": {
  "kernelspec": {
   "display_name": "Python 3 (ipykernel)",
   "language": "python",
   "name": "python3"
  },
  "language_info": {
   "codemirror_mode": {
    "name": "ipython",
    "version": 3
   },
   "file_extension": ".py",
   "mimetype": "text/x-python",
   "name": "python",
   "nbconvert_exporter": "python",
   "pygments_lexer": "ipython3",
   "version": "3.9.12"
  }
 },
 "nbformat": 4,
 "nbformat_minor": 5
}
