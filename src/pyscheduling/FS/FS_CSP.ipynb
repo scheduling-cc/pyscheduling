{
 "cells": [
  {
   "cell_type": "code",
   "execution_count": 1,
   "id": "87b799f4",
   "metadata": {
    "ExecuteTime": {
     "end_time": "2022-09-15T12:51:57.966685Z",
     "start_time": "2022-09-15T12:51:57.358109Z"
    }
   },
   "outputs": [],
   "source": [
    "import pyscheduling.FS.FmCmax as fm_cmax\n",
    "import pyscheduling.FS.FmSijkCmax as fmsi_cmax\n",
    "from pyscheduling.FS.FlowShop import Job, FlowShopSolution\n",
    "\n",
    "from docplex.cp.model import CpoModel\n",
    "from docplex.cp.solver.cpo_callback import CpoCallback\n",
    "from docplex.cp.expression import INTERVAL_MAX"
   ]
  },
  {
   "cell_type": "code",
   "execution_count": 5,
   "id": "add99774",
   "metadata": {
    "ExecuteTime": {
     "end_time": "2022-09-15T12:52:21.401306Z",
     "start_time": "2022-09-15T12:52:21.390157Z"
    }
   },
   "outputs": [],
   "source": [
    "def csp_transform_solution(msol, E_i, instance ):\n",
    "\n",
    "    sol = FlowShopSolution(instance)\n",
    "    for k in range(instance.m):\n",
    "        k_tasks = []\n",
    "        for i in range(instance.n):\n",
    "            start = msol[E_i[i][k]][0]\n",
    "            end = msol[E_i[i][k]][1]\n",
    "            k_tasks.append(Job(i,start,end))\n",
    "\n",
    "            k_tasks = sorted(k_tasks, key= lambda x: x[1])\n",
    "            sol.machines[k].job_schedule = [job[0] for job in k_tasks]\n",
    "    \n",
    "    sol.job_schedule = sol.machines[0].job_schedule\n",
    "    \n",
    "    return sol"
   ]
  },
  {
   "cell_type": "code",
   "execution_count": 6,
   "id": "81d32d93",
   "metadata": {
    "ExecuteTime": {
     "end_time": "2022-09-15T12:52:21.721083Z",
     "start_time": "2022-09-15T12:52:21.709865Z"
    }
   },
   "outputs": [],
   "source": [
    "instance = fmsi_cmax.FmSijkCmax_Instance.generate_random(10,3)\n",
    "E = range(instance.n)\n",
    "M = range(instance.m)\n",
    "\n",
    "model = CpoModel(\"FS_Model\")\n",
    "\n",
    "# Preparing transition matrices\n",
    "trans_matrix = {}\n",
    "if hasattr(instance, 'S'):\n",
    "    for k in range(instance.m):\n",
    "        k_matrix = [ [0 for _ in range(instance.n + 1)] for _ in range(instance.n + 1) ]\n",
    "        for i in range(instance.n):\n",
    "            ele = instance.S[k][i][i]\n",
    "            k_matrix[i+1][0] = ele\n",
    "            k_matrix[0][i+1] = ele\n",
    "\n",
    "            for j in range(instance.n):\n",
    "                k_matrix[i+1][j+1] = instance.S[k][i][j]\n",
    "\n",
    "        trans_matrix[k] = model.transition_matrix(k_matrix)\n",
    "    \n",
    "    # Create a dummy job for the first task\n",
    "    first_task = model.interval_var(size=0, optional= False, start = 0, name=f'first_task')\n",
    "\n",
    "E_i = [[] for i in E]\n",
    "M_k = [[] for k in M]\n",
    "types_k = [ list(range(1, instance.n + 1)) for k in M ]\n",
    "for i in E:\n",
    "    for k in M:\n",
    "        start_period = (instance.R[i], INTERVAL_MAX) if hasattr(instance, 'R') else (0, INTERVAL_MAX)\n",
    "        job_i = model.interval_var( start = start_period,\n",
    "                                    size = instance.P[i][k], optional= False, name=f'E[{i},{k}]')\n",
    "        E_i[i].append(job_i)\n",
    "        M_k[k].append(job_i)\n",
    "\n",
    "# No overlap inside machines\n",
    "seq_array = []\n",
    "for k in M:\n",
    "    if hasattr(instance, 'S'):\n",
    "        seq_k = model.sequence_var([first_task] + M_k[k], [0] + types_k[k], name=f\"Seq_{k}\")\n",
    "        model.add( model.no_overlap(seq_k, trans_matrix[k]) )\n",
    "    else:\n",
    "        seq_k = model.sequence_var(M_k[k], types_k[k], name=f\"Seq_{k}\")\n",
    "        model.add( model.no_overlap(seq_k) )\n",
    "        \n",
    "    seq_array.append(seq_k)\n",
    "    \n",
    "# Same sequence constraint\n",
    "for k in range(1, instance.m):\n",
    "    model.add( model.same_sequence(seq_array[k - 1], seq_array[k]) )\n",
    "\n",
    "# Precedence constraint between machines for each job\n",
    "for i in E:\n",
    "    for k in range(1, instance.m):\n",
    "        model.add( model.end_before_start(E_i[i][k - 1], E_i[i][k]) )\n",
    "\n",
    "# Add objective\n",
    "model.add( model.minimize( model.max(model.end_of(job_i) for i in E for job_i in E_i[i]) ) )"
   ]
  },
  {
   "cell_type": "code",
   "execution_count": 7,
   "id": "9efc0ac3",
   "metadata": {
    "ExecuteTime": {
     "end_time": "2022-09-15T12:52:52.354844Z",
     "start_time": "2022-09-15T12:52:22.311053Z"
    }
   },
   "outputs": [
    {
     "name": "stdout",
     "output_type": "stream",
     "text": [
      " ! --------------------------------------------------- CP Optimizer 20.1.0.0 --\n",
      " ! Minimization problem - 34 variables, 25 constraints\n",
      " ! TimeLimit            = 30\n",
      " ! Workers              = 1\n",
      " ! LogPeriod            = 1000000\n",
      " ! RelativeOptimalityTolerance = 0\n",
      " ! Initial process time : 0.00s (0.00s extraction + 0.00s propagation)\n",
      " !  . Log search space  : 148.6 (before), 148.6 (after)\n",
      " !  . Memory usage      : 477.1 kB (before), 477.1 kB (after)\n",
      " ! Using sequential search.\n",
      " ! ----------------------------------------------------------------------------\n",
      " !          Best Branches  Non-fixed            Branch decision\n",
      "                        0         34                 -\n",
      " + New bound is 215\n",
      " *          1916       64  0.00s               (gap is 88.78%)\n",
      " *          1829      127  0.00s               (gap is 88.24%)\n",
      " *          1823      207  0.00s               (gap is 88.21%)\n",
      " *          1812      270  0.00s               (gap is 88.13%)\n",
      " *          1809      445  0.02s               (gap is 88.11%)\n",
      " *          1801      496  0.02s               (gap is 88.06%)\n",
      " *          1793      569  0.02s               (gap is 88.01%)\n",
      "            1793     2663          1        F        -\n",
      " + New bound is 785 (gap is 56.22%)\n",
      " *          1781     3219  0.02s               (gap is 55.92%)\n",
      " *          1778     3309  0.02s               (gap is 55.85%)\n",
      " *          1770     3366  0.02s               (gap is 55.65%)\n",
      " ! Using failure-directed search.\n",
      " *          1766     4603  0.04s               (gap is 55.55%)\n",
      " *          1765    18660  0.18s               (gap is 55.52%)\n",
      " *          1763    42729  0.31s               (gap is 55.47%)\n",
      " *          1762     240k  1.77s               (gap is 55.45%)\n",
      " *          1761     357k  2.81s               (gap is 55.42%)\n",
      "            1761    1000k          1        F  1330 >= startOf(E[7,1])\n",
      " *          1757    1102k  9.52s               (gap is 55.32%)\n",
      "            1757    2000k          1        F   375 >= startOf(E[0,1])\n",
      " ! Time = 18.20s, Average fail depth = 15, Memory usage = 1.7 MB\n",
      " ! Current bound is 785 (gap is 55.32%)\n",
      " !          Best Branches  Non-fixed            Branch decision\n",
      "            1757    3000k          1        F   962 >= startOf(E[8,1])\n",
      " ! ----------------------------------------------------------------------------\n",
      " ! Search terminated by limit, 16 solutions found.\n",
      " ! Best objective         : 1757 (gap is 55.32%)\n",
      " ! Best bound             : 785\n",
      " ! ----------------------------------------------------------------------------\n",
      " ! Number of branches     : 3156025\n",
      " ! Number of fails        : 1564108\n",
      " ! Total memory usage     : 2.1 MB (2.0 MB CP Optimizer + 0.1 MB Concert)\n",
      " ! Time spent in solve    : 30.00s (30.00s engine + 0.00s extraction)\n",
      " ! Search speed (br. / s) : 105200.8\n",
      " ! ----------------------------------------------------------------------------\n"
     ]
    }
   ],
   "source": [
    "msol = model.solve(LogVerbosity=\"Normal\", Workers=1, TimeLimit=30, LogPeriod=1000000,\n",
    "                   log_output=True, trace_log=True, add_log_to_solution=True, RelativeOptimalityTolerance=0)"
   ]
  },
  {
   "cell_type": "code",
   "execution_count": 9,
   "id": "b66fef83",
   "metadata": {
    "ExecuteTime": {
     "end_time": "2022-09-15T12:52:56.589889Z",
     "start_time": "2022-09-15T12:52:56.586757Z"
    }
   },
   "outputs": [],
   "source": [
    "sol = csp_transform_solution(msol, E_i, instance )\n",
    "sol.cmax()"
   ]
  },
  {
   "cell_type": "code",
   "execution_count": 10,
   "id": "1a84cadd",
   "metadata": {
    "ExecuteTime": {
     "end_time": "2022-09-15T12:52:57.621068Z",
     "start_time": "2022-09-15T12:52:57.617782Z"
    }
   },
   "outputs": [
    {
     "name": "stdout",
     "output_type": "stream",
     "text": [
      "Objective : 1956\n",
      "Jobs sequence : 9\t2\t8\t5\t7\t0\t1\t6\t3\t4\n",
      "Machine_ID | Job_schedule (job_id , start_time , completion_time) | Completion_time\n",
      "(9, 0, 66) : (2, 66, 244) : (8, 244, 423) : (5, 423, 616) : (7, 616, 770) : (0, 770, 920) : (1, 920, 1073) : (6, 1073, 1244) : (3, 1244, 1440) : (4, 1440, 1633) | 1633\n",
      "(9, 66, 140) : (2, 244, 438) : (8, 438, 610) : (5, 616, 791) : (7, 791, 951) : (0, 951, 1137) : (1, 1137, 1310) : (6, 1310, 1491) : (3, 1491, 1645) : (4, 1645, 1811) | 1811\n",
      "(9, 140, 215) : (2, 438, 619) : (8, 619, 825) : (5, 825, 1016) : (7, 1016, 1191) : (0, 1191, 1356) : (1, 1356, 1509) : (6, 1509, 1662) : (3, 1662, 1810) : (4, 1811, 1956) | 1956\n"
     ]
    }
   ],
   "source": [
    "print(sol)"
   ]
  },
  {
   "cell_type": "code",
   "execution_count": 23,
   "id": "8581a380",
   "metadata": {
    "ExecuteTime": {
     "end_time": "2022-09-13T10:06:06.760258Z",
     "start_time": "2022-09-13T10:06:06.734494Z"
    }
   },
   "outputs": [
    {
     "data": {
      "text/plain": [
       "[[6, 2, 2],\n",
       " [2, 6, 3],\n",
       " [2, 6, 7],\n",
       " [3, 3, 3],\n",
       " [7, 3, 2],\n",
       " [5, 5, 3],\n",
       " [2, 4, 6],\n",
       " [5, 5, 2],\n",
       " [4, 7, 4],\n",
       " [3, 3, 3]]"
      ]
     },
     "execution_count": 23,
     "metadata": {},
     "output_type": "execute_result"
    }
   ],
   "source": [
    "instance.P"
   ]
  },
  {
   "cell_type": "code",
   "execution_count": 26,
   "id": "280060ee",
   "metadata": {
    "ExecuteTime": {
     "end_time": "2022-09-13T10:09:08.108066Z",
     "start_time": "2022-09-13T10:09:08.095816Z"
    }
   },
   "outputs": [
    {
     "data": {
      "text/plain": [
       "6"
      ]
     },
     "execution_count": 26,
     "metadata": {},
     "output_type": "execute_result"
    }
   ],
   "source": [
    "instance.S[2][6][1]"
   ]
  },
  {
   "cell_type": "code",
   "execution_count": 32,
   "id": "54c3b299",
   "metadata": {
    "ExecuteTime": {
     "end_time": "2022-09-13T10:15:32.786132Z",
     "start_time": "2022-09-13T10:15:32.777343Z"
    }
   },
   "outputs": [
    {
     "name": "stdout",
     "output_type": "stream",
     "text": [
      "(2, IntervalVarValue(start=8, end=15, size=7))\n",
      "(4, IntervalVarValue(start=23, end=25, size=2))\n",
      "(6, IntervalVarValue(start=33, end=39, size=6))\n",
      "(1, IntervalVarValue(start=45, end=48, size=3))\n",
      "(0, IntervalVarValue(start=51, end=53, size=2))\n",
      "(8, IntervalVarValue(start=59, end=63, size=4))\n",
      "(9, IntervalVarValue(start=68, end=71, size=3))\n",
      "(5, IntervalVarValue(start=77, end=80, size=3))\n",
      "(3, IntervalVarValue(start=85, end=88, size=3))\n",
      "(7, IntervalVarValue(start=95, end=97, size=2))\n"
     ]
    }
   ],
   "source": [
    "machine = 2\n",
    "list_events = sorted([(i, msol[M_k[machine][i]]) for i in E], key = lambda x: x[1][0])\n",
    "print(\"\\n\".join(map(str,list_events)))"
   ]
  },
  {
   "cell_type": "code",
   "execution_count": 29,
   "id": "a606be41",
   "metadata": {
    "ExecuteTime": {
     "end_time": "2022-09-13T10:10:52.382616Z",
     "start_time": "2022-09-13T10:10:52.373170Z"
    }
   },
   "outputs": [],
   "source": [
    "instance.to_txt(\"fs_cmax_instance.txt\")"
   ]
  },
  {
   "cell_type": "code",
   "execution_count": 30,
   "id": "cbf39013",
   "metadata": {
    "ExecuteTime": {
     "end_time": "2022-09-13T10:10:52.886648Z",
     "start_time": "2022-09-13T10:10:52.877060Z"
    }
   },
   "outputs": [],
   "source": [
    "sol.to_txt(\"fs_cmax_solution.txt\")"
   ]
  },
  {
   "cell_type": "code",
   "execution_count": null,
   "id": "2752b981",
   "metadata": {},
   "outputs": [],
   "source": []
  }
 ],
 "metadata": {
  "kernelspec": {
   "display_name": "Python 3 (ipykernel)",
   "language": "python",
   "name": "python3"
  },
  "language_info": {
   "codemirror_mode": {
    "name": "ipython",
    "version": 3
   },
   "file_extension": ".py",
   "mimetype": "text/x-python",
   "name": "python",
   "nbconvert_exporter": "python",
   "pygments_lexer": "ipython3",
   "version": "3.9.12"
  },
  "vscode": {
   "interpreter": {
    "hash": "fa7cdbb78ab82d427a6b02c171e3c48e0658c2b720f18feff16576a8f3200f32"
   }
  }
 },
 "nbformat": 4,
 "nbformat_minor": 5
}
