{
 "cells": [
  {
   "cell_type": "code",
   "execution_count": 58,
   "id": "574f0e46",
   "metadata": {
    "ExecuteTime": {
     "end_time": "2023-02-06T16:54:35.283168Z",
     "start_time": "2023-02-06T16:54:35.125832Z"
    }
   },
   "outputs": [
    {
     "name": "stdout",
     "output_type": "stream",
     "text": [
      "The autoreload extension is already loaded. To reload it, use:\n",
      "  %reload_ext autoreload\n",
      "The pycodestyle_magic extension is already loaded. To reload it, use:\n",
      "  %reload_ext pycodestyle_magic\n"
     ]
    }
   ],
   "source": [
    "import pyscheduling.JS.JmCmax as jm_cmax\n",
    "import pyscheduling.JS.JmriwiTi as jm_wiTi\n",
    "from pyscheduling.JS.JobShop import Job, JobShopSolution\n",
    "from pyscheduling.Problem import Objective\n",
    "import pyscheduling.JS.JobShop_methods as js_methods\n",
    "\n",
    "%load_ext autoreload\n",
    "%load_ext pycodestyle_magic\n",
    "%autoreload 2"
   ]
  },
  {
   "cell_type": "code",
   "execution_count": 61,
   "id": "2b859c8d",
   "metadata": {
    "ExecuteTime": {
     "end_time": "2023-02-06T16:55:07.920612Z",
     "start_time": "2023-02-06T16:55:07.899515Z"
    }
   },
   "outputs": [],
   "source": [
    "instance = jm_cmax.JmCmax_Instance.generate_random(10,2)"
   ]
  },
  {
   "cell_type": "code",
   "execution_count": 96,
   "id": "605b83be",
   "metadata": {
    "ExecuteTime": {
     "end_time": "2023-02-06T17:04:36.822082Z",
     "start_time": "2023-02-06T17:04:36.024704Z"
    }
   },
   "outputs": [],
   "source": [
    "rule = lambda instance, job_tuple: instance.P[job_tuple[0]][job_tuple[1][0]]"
   ]
  },
  {
   "cell_type": "code",
   "execution_count": 97,
   "id": "4b172cb5",
   "metadata": {
    "ExecuteTime": {
     "end_time": "2023-02-06T17:04:37.975993Z",
     "start_time": "2023-02-06T17:04:37.964400Z"
    }
   },
   "outputs": [],
   "source": []
  },
  {
   "cell_type": "code",
   "execution_count": 94,
   "id": "a9451395",
   "metadata": {
    "ExecuteTime": {
     "end_time": "2023-02-06T17:03:29.721713Z",
     "start_time": "2023-02-06T17:03:29.709278Z"
    }
   },
   "outputs": [
    {
     "data": {
      "text/plain": [
       "[Job(id=1, start_time=0, end_time=34),\n",
       " Job(id=7, start_time=34, end_time=73),\n",
       " Job(id=0, start_time=73, end_time=119),\n",
       " Job(id=5, start_time=119, end_time=217),\n",
       " Job(id=8, start_time=217, end_time=237),\n",
       " Job(id=2, start_time=237, end_time=272),\n",
       " Job(id=6, start_time=272, end_time=353),\n",
       " Job(id=4, start_time=353, end_time=408),\n",
       " Job(id=3, start_time=408, end_time=427)]"
      ]
     },
     "execution_count": 94,
     "metadata": {},
     "output_type": "execute_result"
    }
   ],
   "source": [
    "# Sans compute\n",
    "sol.machines[0].job_schedule"
   ]
  },
  {
   "cell_type": "code",
   "execution_count": 98,
   "id": "ca5510f6",
   "metadata": {
    "ExecuteTime": {
     "end_time": "2023-02-06T17:04:43.951192Z",
     "start_time": "2023-02-06T17:04:43.939311Z"
    }
   },
   "outputs": [
    {
     "data": {
      "text/plain": [
       "[Job(id=1, start_time=0, end_time=34),\n",
       " Job(id=7, start_time=34, end_time=73),\n",
       " Job(id=0, start_time=73, end_time=119),\n",
       " Job(id=5, start_time=119, end_time=217),\n",
       " Job(id=8, start_time=217, end_time=237),\n",
       " Job(id=2, start_time=237, end_time=272),\n",
       " Job(id=6, start_time=272, end_time=353),\n",
       " Job(id=4, start_time=353, end_time=408),\n",
       " Job(id=3, start_time=408, end_time=427)]"
      ]
     },
     "execution_count": 98,
     "metadata": {},
     "output_type": "execute_result"
    }
   ],
   "source": [
    "sol.machines[0].job_schedule"
   ]
  },
  {
   "cell_type": "code",
   "execution_count": 95,
   "id": "fcfcde5c",
   "metadata": {
    "ExecuteTime": {
     "end_time": "2023-02-06T17:03:30.161572Z",
     "start_time": "2023-02-06T17:03:30.143539Z"
    }
   },
   "outputs": [
    {
     "data": {
      "text/plain": [
       "[Job(id=8, start_time=0, end_time=22),\n",
       " Job(id=2, start_time=22, end_time=61),\n",
       " Job(id=6, start_time=61, end_time=101),\n",
       " Job(id=4, start_time=101, end_time=166),\n",
       " Job(id=9, start_time=166, end_time=235),\n",
       " Job(id=3, start_time=235, end_time=326),\n",
       " Job(id=1, start_time=326, end_time=425)]"
      ]
     },
     "execution_count": 95,
     "metadata": {},
     "output_type": "execute_result"
    }
   ],
   "source": [
    "# Sans compute\n",
    "sol.machines[1].job_schedule"
   ]
  },
  {
   "cell_type": "code",
   "execution_count": 73,
   "id": "67ca8a57",
   "metadata": {
    "ExecuteTime": {
     "end_time": "2023-02-06T16:57:07.010326Z",
     "start_time": "2023-02-06T16:57:06.998354Z"
    }
   },
   "outputs": [
    {
     "data": {
      "text/plain": [
       "[[(0, 46)],\n",
       " [(0, 34), (1, 99)],\n",
       " [(1, 39), (0, 35)],\n",
       " [(1, 91), (0, 19)],\n",
       " [(1, 65), (0, 55)],\n",
       " [(0, 98)],\n",
       " [(1, 40), (0, 81)],\n",
       " [(0, 39)],\n",
       " [(1, 22), (0, 20)],\n",
       " [(1, 69)]]"
      ]
     },
     "execution_count": 73,
     "metadata": {},
     "output_type": "execute_result"
    }
   ],
   "source": [
    "instance.P"
   ]
  },
  {
   "cell_type": "code",
   "execution_count": 41,
   "id": "d8e624d0",
   "metadata": {
    "ExecuteTime": {
     "end_time": "2023-02-06T16:22:46.137933Z",
     "start_time": "2023-02-06T16:22:44.113238Z"
    }
   },
   "outputs": [],
   "source": [
    "# BIBA\n",
    "sol = js_methods.Heuristics.BIBA(instance).best_solution"
   ]
  },
  {
   "cell_type": "code",
   "execution_count": 46,
   "id": "5b4eec39",
   "metadata": {
    "ExecuteTime": {
     "end_time": "2023-02-06T16:23:14.739874Z",
     "start_time": "2023-02-06T16:23:14.727040Z"
    }
   },
   "outputs": [
    {
     "data": {
      "text/plain": [
       "[Job(id=2, start_time=0, end_time=43),\n",
       " Job(id=3, start_time=61, end_time=111),\n",
       " Job(id=4, start_time=111, end_time=135),\n",
       " Job(id=11, start_time=135, end_time=177),\n",
       " Job(id=13, start_time=177, end_time=232),\n",
       " Job(id=24, start_time=232, end_time=258),\n",
       " Job(id=18, start_time=258, end_time=346),\n",
       " Job(id=6, start_time=420, end_time=437),\n",
       " Job(id=5, start_time=437, end_time=503),\n",
       " Job(id=7, start_time=503, end_time=552),\n",
       " Job(id=28, start_time=552, end_time=604),\n",
       " Job(id=29, start_time=604, end_time=635),\n",
       " Job(id=38, start_time=635, end_time=680),\n",
       " Job(id=39, start_time=680, end_time=770),\n",
       " Job(id=25, start_time=778, end_time=815),\n",
       " Job(id=21, start_time=847, end_time=887),\n",
       " Job(id=8, start_time=940, end_time=975),\n",
       " Job(id=22, start_time=1024, end_time=1051),\n",
       " Job(id=27, start_time=1101, end_time=1147),\n",
       " Job(id=32, start_time=1249, end_time=1294),\n",
       " Job(id=37, start_time=1452, end_time=1463),\n",
       " Job(id=10, start_time=1483, end_time=1526),\n",
       " Job(id=15, start_time=1713, end_time=1788),\n",
       " Job(id=16, start_time=1900, end_time=1960)]"
      ]
     },
     "execution_count": 46,
     "metadata": {},
     "output_type": "execute_result"
    }
   ],
   "source": [
    "sol.machines[3].job_schedule"
   ]
  },
  {
   "cell_type": "code",
   "execution_count": 47,
   "id": "e379254e",
   "metadata": {
    "ExecuteTime": {
     "end_time": "2023-02-06T16:23:29.181877Z",
     "start_time": "2023-02-06T16:23:29.164101Z"
    }
   },
   "outputs": [
    {
     "data": {
      "text/plain": [
       "1960"
      ]
     },
     "execution_count": 47,
     "metadata": {},
     "output_type": "execute_result"
    }
   ],
   "source": [
    "sol.compute_objective_graph()"
   ]
  },
  {
   "cell_type": "code",
   "execution_count": 48,
   "id": "43c0c546",
   "metadata": {
    "ExecuteTime": {
     "end_time": "2023-02-06T16:23:40.325047Z",
     "start_time": "2023-02-06T16:23:40.312551Z"
    }
   },
   "outputs": [
    {
     "data": {
      "text/plain": [
       "True"
      ]
     },
     "execution_count": 48,
     "metadata": {},
     "output_type": "execute_result"
    }
   ],
   "source": [
    "sol.is_feasible()"
   ]
  },
  {
   "cell_type": "code",
   "execution_count": 49,
   "id": "fed2f6ba",
   "metadata": {
    "ExecuteTime": {
     "end_time": "2023-02-06T16:23:42.326936Z",
     "start_time": "2023-02-06T16:23:42.314831Z"
    }
   },
   "outputs": [
    {
     "data": {
      "text/plain": [
       "1960"
      ]
     },
     "execution_count": 49,
     "metadata": {},
     "output_type": "execute_result"
    }
   ],
   "source": [
    "sol.compute_objective_graph()"
   ]
  },
  {
   "cell_type": "code",
   "execution_count": 51,
   "id": "86455de9",
   "metadata": {
    "ExecuteTime": {
     "end_time": "2023-02-06T16:25:48.487026Z",
     "start_time": "2023-02-06T16:25:48.030347Z"
    }
   },
   "outputs": [],
   "source": [
    "# GRASP\n",
    "sol = js_methods.Heuristics.grasp(instance).best_solution"
   ]
  },
  {
   "cell_type": "code",
   "execution_count": 52,
   "id": "0bd4a237",
   "metadata": {
    "ExecuteTime": {
     "end_time": "2023-02-06T16:25:49.328676Z",
     "start_time": "2023-02-06T16:25:49.316278Z"
    }
   },
   "outputs": [
    {
     "data": {
      "text/plain": [
       "1864"
      ]
     },
     "execution_count": 52,
     "metadata": {},
     "output_type": "execute_result"
    }
   ],
   "source": [
    "sol.objective_value"
   ]
  },
  {
   "cell_type": "code",
   "execution_count": 53,
   "id": "c990d560",
   "metadata": {
    "ExecuteTime": {
     "end_time": "2023-02-06T16:25:55.747694Z",
     "start_time": "2023-02-06T16:25:55.733878Z"
    }
   },
   "outputs": [
    {
     "data": {
      "text/plain": [
       "True"
      ]
     },
     "execution_count": 53,
     "metadata": {},
     "output_type": "execute_result"
    }
   ],
   "source": [
    "sol.is_feasible()"
   ]
  },
  {
   "cell_type": "code",
   "execution_count": 54,
   "id": "920af403",
   "metadata": {
    "ExecuteTime": {
     "end_time": "2023-02-06T16:25:56.836387Z",
     "start_time": "2023-02-06T16:25:56.821164Z"
    }
   },
   "outputs": [
    {
     "data": {
      "text/plain": [
       "1864"
      ]
     },
     "execution_count": 54,
     "metadata": {},
     "output_type": "execute_result"
    }
   ],
   "source": [
    "sol.compute_objective_graph()"
   ]
  },
  {
   "cell_type": "code",
   "execution_count": 56,
   "id": "ca7d2535",
   "metadata": {
    "ExecuteTime": {
     "end_time": "2023-02-06T16:26:36.291934Z",
     "start_time": "2023-02-06T16:26:36.279207Z"
    }
   },
   "outputs": [
    {
     "data": {
      "text/plain": [
       "1864"
      ]
     },
     "execution_count": 56,
     "metadata": {},
     "output_type": "execute_result"
    }
   ],
   "source": [
    "sol.compute_objective()"
   ]
  },
  {
   "cell_type": "code",
   "execution_count": 57,
   "id": "0f1e9a84",
   "metadata": {
    "ExecuteTime": {
     "end_time": "2023-02-06T16:26:38.695541Z",
     "start_time": "2023-02-06T16:26:38.682245Z"
    }
   },
   "outputs": [
    {
     "data": {
      "text/plain": [
       "{0: Job(id=0, start_time=74, end_time=181),\n",
       " 1: Job(id=1, start_time=43, end_time=76),\n",
       " 2: Job(id=2, start_time=83, end_time=171),\n",
       " 3: Job(id=3, start_time=76, end_time=265),\n",
       " 4: Job(id=4, start_time=126, end_time=493),\n",
       " 5: Job(id=5, start_time=381, end_time=1164),\n",
       " 6: Job(id=6, start_time=593, end_time=1597),\n",
       " 7: Job(id=7, start_time=27, end_time=755),\n",
       " 8: Job(id=8, start_time=73, end_time=896),\n",
       " 9: Job(id=9, start_time=24, end_time=443),\n",
       " 10: Job(id=10, start_time=888, end_time=1207),\n",
       " 11: Job(id=11, start_time=200, end_time=242),\n",
       " 12: Job(id=12, start_time=1358, end_time=1535),\n",
       " 13: Job(id=13, start_time=242, end_time=297),\n",
       " 14: Job(id=14, start_time=519, end_time=819),\n",
       " 15: Job(id=15, start_time=236, end_time=1354),\n",
       " 16: Job(id=16, start_time=0, end_time=1751),\n",
       " 17: Job(id=17, start_time=370, end_time=1069),\n",
       " 18: Job(id=18, start_time=405, end_time=1549),\n",
       " 19: Job(id=19, start_time=104, end_time=214),\n",
       " 20: Job(id=20, start_time=875, end_time=948),\n",
       " 21: Job(id=21, start_time=819, end_time=1864),\n",
       " 22: Job(id=22, start_time=419, end_time=1234),\n",
       " 23: Job(id=23, start_time=10, end_time=252),\n",
       " 24: Job(id=24, start_time=297, end_time=1151),\n",
       " 25: Job(id=25, start_time=0, end_time=662),\n",
       " 26: Job(id=26, start_time=252, end_time=1244),\n",
       " 27: Job(id=27, start_time=0, end_time=1400),\n",
       " 28: Job(id=28, start_time=0, end_time=369),\n",
       " 29: Job(id=29, start_time=52, end_time=83),\n",
       " 30: Job(id=30, start_time=1279, end_time=1454),\n",
       " 31: Job(id=31, start_time=1244, end_time=1482),\n",
       " 32: Job(id=32, start_time=498, end_time=1445),\n",
       " 33: Job(id=33, start_time=817, end_time=1709),\n",
       " 34: Job(id=34, start_time=359, end_time=374),\n",
       " 35: Job(id=35, start_time=1098, end_time=1188),\n",
       " 36: Job(id=36, start_time=369, end_time=817),\n",
       " 37: Job(id=37, start_time=443, end_time=1747),\n",
       " 38: Job(id=38, start_time=360, end_time=1626),\n",
       " 39: Job(id=39, start_time=140, end_time=1705)}"
      ]
     },
     "execution_count": 57,
     "metadata": {},
     "output_type": "execute_result"
    }
   ],
   "source": [
    "sol.job_schedule"
   ]
  },
  {
   "cell_type": "code",
   "execution_count": null,
   "id": "d3eac5a3",
   "metadata": {},
   "outputs": [],
   "source": []
  }
 ],
 "metadata": {
  "kernelspec": {
   "display_name": "Python 3 (ipykernel)",
   "language": "python",
   "name": "python3"
  },
  "language_info": {
   "codemirror_mode": {
    "name": "ipython",
    "version": 3
   },
   "file_extension": ".py",
   "mimetype": "text/x-python",
   "name": "python",
   "nbconvert_exporter": "python",
   "pygments_lexer": "ipython3",
   "version": "3.9.12"
  }
 },
 "nbformat": 4,
 "nbformat_minor": 5
}
