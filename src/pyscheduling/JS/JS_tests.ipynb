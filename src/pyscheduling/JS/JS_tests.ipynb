{
 "cells": [
  {
   "cell_type": "code",
   "execution_count": 188,
   "id": "574f0e46",
   "metadata": {
    "ExecuteTime": {
     "end_time": "2023-02-23T18:08:46.104257Z",
     "start_time": "2023-02-23T18:08:46.090120Z"
    }
   },
   "outputs": [
    {
     "name": "stdout",
     "output_type": "stream",
     "text": [
      "The autoreload extension is already loaded. To reload it, use:\n",
      "  %reload_ext autoreload\n",
      "The pycodestyle_magic extension is already loaded. To reload it, use:\n",
      "  %reload_ext pycodestyle_magic\n"
     ]
    }
   ],
   "source": [
    "import pyscheduling.JS.JmCmax as jm_cmax\n",
    "import pyscheduling.JS.JmriwiTi as jm_wiTi\n",
    "import pyscheduling.JS.JmridiSijkwiTi as jms_wiTi\n",
    "import pyscheduling.JS.JmriSijkwiCi as jm_wiCi\n",
    "from pyscheduling.JS.JobShop import Job, JobShopSolution, NeighbourhoodGeneration\n",
    "from pyscheduling.Problem import Objective\n",
    "import pyscheduling.JS.JobShop_methods as js_methods\n",
    "\n",
    "%load_ext autoreload\n",
    "%load_ext pycodestyle_magic\n",
    "%autoreload 2"
   ]
  },
  {
   "cell_type": "markdown",
   "id": "7e42ff72",
   "metadata": {},
   "source": [
    "## Jm | Cmax"
   ]
  },
  {
   "cell_type": "code",
   "execution_count": 21,
   "id": "2b859c8d",
   "metadata": {
    "ExecuteTime": {
     "end_time": "2023-02-22T14:46:02.154995Z",
     "start_time": "2023-02-22T14:46:01.554182Z"
    }
   },
   "outputs": [],
   "source": [
    "instance = jm_cmax.JmCmax_Instance.generate_random(10,2)"
   ]
  },
  {
   "cell_type": "code",
   "execution_count": 22,
   "id": "605b83be",
   "metadata": {
    "ExecuteTime": {
     "end_time": "2023-02-22T14:46:02.173039Z",
     "start_time": "2023-02-22T14:46:02.157083Z"
    }
   },
   "outputs": [],
   "source": [
    "rule = lambda instance, job_tuple: instance.P[job_tuple[0]][job_tuple[1][0]]"
   ]
  },
  {
   "cell_type": "code",
   "execution_count": 25,
   "id": "4b172cb5",
   "metadata": {
    "ExecuteTime": {
     "end_time": "2023-02-22T14:46:30.319417Z",
     "start_time": "2023-02-22T14:46:30.307193Z"
    }
   },
   "outputs": [],
   "source": [
    "sol = js_methods.Heuristics.dispatch_heuristic(instance, rule).best_solution"
   ]
  },
  {
   "cell_type": "code",
   "execution_count": 30,
   "id": "10e5999b",
   "metadata": {
    "ExecuteTime": {
     "end_time": "2023-02-22T14:48:57.151995Z",
     "start_time": "2023-02-22T14:48:54.284469Z"
    }
   },
   "outputs": [
    {
     "data": {
      "text/plain": [
       "True"
      ]
     },
     "execution_count": 30,
     "metadata": {},
     "output_type": "execute_result"
    }
   ],
   "source": [
    "sol.is_valid()"
   ]
  },
  {
   "cell_type": "code",
   "execution_count": 9,
   "id": "c19bc744",
   "metadata": {
    "ExecuteTime": {
     "end_time": "2023-02-22T13:25:27.819317Z",
     "start_time": "2023-02-22T13:25:27.804497Z"
    }
   },
   "outputs": [
    {
     "data": {
      "text/plain": [
       "[Job(id=2, start_time=0, end_time=31),\n",
       " Job(id=5, start_time=31, end_time=101),\n",
       " Job(id=7, start_time=101, end_time=171),\n",
       " Job(id=8, start_time=171, end_time=244),\n",
       " Job(id=6, start_time=244, end_time=338),\n",
       " Job(id=4, start_time=338, end_time=355),\n",
       " Job(id=3, start_time=355, end_time=438)]"
      ]
     },
     "execution_count": 9,
     "metadata": {},
     "output_type": "execute_result"
    }
   ],
   "source": [
    "sol.machines[0].job_schedule"
   ]
  },
  {
   "cell_type": "code",
   "execution_count": 12,
   "id": "a9451395",
   "metadata": {
    "ExecuteTime": {
     "end_time": "2023-02-22T13:26:28.541518Z",
     "start_time": "2023-02-22T13:26:28.521501Z"
    }
   },
   "outputs": [
    {
     "data": {
      "text/plain": [
       "{0: Job(id=0, start_time=32, end_time=56),\n",
       " 1: Job(id=1, start_time=298, end_time=357),\n",
       " 2: Job(id=2, start_time=0, end_time=106),\n",
       " 3: Job(id=3, start_time=12, end_time=438),\n",
       " 4: Job(id=4, start_time=0, end_time=355),\n",
       " 5: Job(id=5, start_time=31, end_time=101),\n",
       " 6: Job(id=6, start_time=244, end_time=338),\n",
       " 7: Job(id=7, start_time=101, end_time=417),\n",
       " 8: Job(id=8, start_time=171, end_time=298),\n",
       " 9: Job(id=9, start_time=417, end_time=498)}"
      ]
     },
     "execution_count": 12,
     "metadata": {},
     "output_type": "execute_result"
    }
   ],
   "source": [
    "# Sans compute\n",
    "sol.job_schedule"
   ]
  },
  {
   "cell_type": "code",
   "execution_count": 11,
   "id": "67ca8a57",
   "metadata": {
    "ExecuteTime": {
     "end_time": "2023-02-22T13:25:50.147761Z",
     "start_time": "2023-02-22T13:25:50.130178Z"
    }
   },
   "outputs": [
    {
     "data": {
      "text/plain": [
       "[[(1, 24)],\n",
       " [(1, 59)],\n",
       " [(0, 31), (1, 50)],\n",
       " [(1, 20), (0, 83)],\n",
       " [(1, 12), (0, 17)],\n",
       " [(0, 70)],\n",
       " [(0, 94)],\n",
       " [(0, 70), (1, 60)],\n",
       " [(0, 73), (1, 54)],\n",
       " [(1, 81)]]"
      ]
     },
     "execution_count": 11,
     "metadata": {},
     "output_type": "execute_result"
    }
   ],
   "source": [
    "instance.P"
   ]
  },
  {
   "cell_type": "code",
   "execution_count": 32,
   "id": "d8e624d0",
   "metadata": {
    "ExecuteTime": {
     "end_time": "2023-02-22T14:50:09.075462Z",
     "start_time": "2023-02-22T14:50:08.870261Z"
    }
   },
   "outputs": [],
   "source": [
    "# BIBA\n",
    "sol_biba = js_methods.Heuristics.BIBA(instance).best_solution"
   ]
  },
  {
   "cell_type": "code",
   "execution_count": 33,
   "id": "5e79e267",
   "metadata": {
    "ExecuteTime": {
     "end_time": "2023-02-22T14:50:13.063751Z",
     "start_time": "2023-02-22T14:50:13.052415Z"
    }
   },
   "outputs": [
    {
     "data": {
      "text/plain": [
       "737"
      ]
     },
     "execution_count": 33,
     "metadata": {},
     "output_type": "execute_result"
    }
   ],
   "source": [
    "sol_biba.objective_value"
   ]
  },
  {
   "cell_type": "code",
   "execution_count": 34,
   "id": "c1c0e5ef",
   "metadata": {
    "ExecuteTime": {
     "end_time": "2023-02-22T14:50:19.657539Z",
     "start_time": "2023-02-22T14:50:19.643507Z"
    }
   },
   "outputs": [
    {
     "data": {
      "text/plain": [
       "True"
      ]
     },
     "execution_count": 34,
     "metadata": {},
     "output_type": "execute_result"
    }
   ],
   "source": [
    "sol_biba.is_valid()"
   ]
  },
  {
   "cell_type": "code",
   "execution_count": 36,
   "id": "e379254e",
   "metadata": {
    "ExecuteTime": {
     "end_time": "2023-02-22T14:50:27.324379Z",
     "start_time": "2023-02-22T14:50:27.311311Z"
    }
   },
   "outputs": [
    {
     "data": {
      "text/plain": [
       "737"
      ]
     },
     "execution_count": 36,
     "metadata": {},
     "output_type": "execute_result"
    }
   ],
   "source": [
    "sol_biba.compute_objective_graph()"
   ]
  },
  {
   "cell_type": "code",
   "execution_count": 48,
   "id": "43c0c546",
   "metadata": {
    "ExecuteTime": {
     "end_time": "2023-02-06T16:23:40.325047Z",
     "start_time": "2023-02-06T16:23:40.312551Z"
    }
   },
   "outputs": [
    {
     "data": {
      "text/plain": [
       "True"
      ]
     },
     "execution_count": 48,
     "metadata": {},
     "output_type": "execute_result"
    }
   ],
   "source": [
    "sol.is_feasible()"
   ]
  },
  {
   "cell_type": "code",
   "execution_count": 49,
   "id": "fed2f6ba",
   "metadata": {
    "ExecuteTime": {
     "end_time": "2023-02-06T16:23:42.326936Z",
     "start_time": "2023-02-06T16:23:42.314831Z"
    }
   },
   "outputs": [
    {
     "data": {
      "text/plain": [
       "1960"
      ]
     },
     "execution_count": 49,
     "metadata": {},
     "output_type": "execute_result"
    }
   ],
   "source": [
    "sol.compute_objective_graph()"
   ]
  },
  {
   "cell_type": "code",
   "execution_count": 51,
   "id": "86455de9",
   "metadata": {
    "ExecuteTime": {
     "end_time": "2023-02-06T16:25:48.487026Z",
     "start_time": "2023-02-06T16:25:48.030347Z"
    }
   },
   "outputs": [],
   "source": [
    "# GRASP\n",
    "sol = js_methods.Heuristics.grasp(instance).best_solution"
   ]
  },
  {
   "cell_type": "code",
   "execution_count": 52,
   "id": "0bd4a237",
   "metadata": {
    "ExecuteTime": {
     "end_time": "2023-02-06T16:25:49.328676Z",
     "start_time": "2023-02-06T16:25:49.316278Z"
    }
   },
   "outputs": [
    {
     "data": {
      "text/plain": [
       "1864"
      ]
     },
     "execution_count": 52,
     "metadata": {},
     "output_type": "execute_result"
    }
   ],
   "source": [
    "sol.objective_value"
   ]
  },
  {
   "cell_type": "code",
   "execution_count": 53,
   "id": "c990d560",
   "metadata": {
    "ExecuteTime": {
     "end_time": "2023-02-06T16:25:55.747694Z",
     "start_time": "2023-02-06T16:25:55.733878Z"
    }
   },
   "outputs": [
    {
     "data": {
      "text/plain": [
       "True"
      ]
     },
     "execution_count": 53,
     "metadata": {},
     "output_type": "execute_result"
    }
   ],
   "source": [
    "sol.is_feasible()"
   ]
  },
  {
   "cell_type": "code",
   "execution_count": 54,
   "id": "920af403",
   "metadata": {
    "ExecuteTime": {
     "end_time": "2023-02-06T16:25:56.836387Z",
     "start_time": "2023-02-06T16:25:56.821164Z"
    }
   },
   "outputs": [
    {
     "data": {
      "text/plain": [
       "1864"
      ]
     },
     "execution_count": 54,
     "metadata": {},
     "output_type": "execute_result"
    }
   ],
   "source": [
    "sol.compute_objective_graph()"
   ]
  },
  {
   "cell_type": "code",
   "execution_count": 56,
   "id": "ca7d2535",
   "metadata": {
    "ExecuteTime": {
     "end_time": "2023-02-06T16:26:36.291934Z",
     "start_time": "2023-02-06T16:26:36.279207Z"
    }
   },
   "outputs": [
    {
     "data": {
      "text/plain": [
       "1864"
      ]
     },
     "execution_count": 56,
     "metadata": {},
     "output_type": "execute_result"
    }
   ],
   "source": [
    "sol.compute_objective()"
   ]
  },
  {
   "cell_type": "markdown",
   "id": "e0d657bf",
   "metadata": {},
   "source": [
    "## Jm| ri, di, Sijk | wiTi"
   ]
  },
  {
   "cell_type": "code",
   "execution_count": 118,
   "id": "04a325e7",
   "metadata": {
    "ExecuteTime": {
     "end_time": "2023-02-22T16:03:22.711121Z",
     "start_time": "2023-02-22T16:03:22.696815Z"
    }
   },
   "outputs": [],
   "source": [
    "instance = jms_wiTi.JmridiSijkwiTi_Instance.generate_random(3,2)"
   ]
  },
  {
   "cell_type": "code",
   "execution_count": 134,
   "id": "2118d479",
   "metadata": {
    "ExecuteTime": {
     "end_time": "2023-02-22T16:14:07.561119Z",
     "start_time": "2023-02-22T16:14:02.875314Z"
    }
   },
   "outputs": [
    {
     "name": "stdout",
     "output_type": "stream",
     "text": [
      "Operation 2-0 on machine 0: setup 27 ((2, 2)), start_time 52, end_time 147\n",
      "Operation 0-0 on machine 1: setup 16 ((0, 0)), start_time 23, end_time 92\n",
      "Operation 1-0 on machine 1: setup 3 ((0, 1)), start_time 121, end_time 213\n",
      "Operation 1-1 on machine 0: setup 28 ((2, 1)), start_time 213, end_time 296\n"
     ]
    }
   ],
   "source": [
    "sol_biba = js_methods.Heuristics.BIBA(instance).best_solution"
   ]
  },
  {
   "cell_type": "code",
   "execution_count": 135,
   "id": "3a5b3ae1",
   "metadata": {
    "ExecuteTime": {
     "end_time": "2023-02-22T16:14:07.602806Z",
     "start_time": "2023-02-22T16:14:07.562839Z"
    }
   },
   "outputs": [
    {
     "name": "stdout",
     "output_type": "stream",
     "text": [
      "Operation 2-0 on machine 0: setup 27 ((2, 2)), start_time 52, end_time 147\n",
      "Operation 0-0 on machine 1: setup 16 ((0, 0)), start_time 23, end_time 92\n",
      "Operation 1-0 on machine 1: setup 3 ((0, 1)), start_time 121, end_time 213\n",
      "Operation 1-1 on machine 0: setup 28 ((2, 1)), start_time 213, end_time 296\n"
     ]
    },
    {
     "data": {
      "text/plain": [
       "71"
      ]
     },
     "execution_count": 135,
     "metadata": {},
     "output_type": "execute_result"
    }
   ],
   "source": [
    "sol_biba.compute_objective()"
   ]
  },
  {
   "cell_type": "code",
   "execution_count": 155,
   "id": "c3d51315",
   "metadata": {
    "ExecuteTime": {
     "end_time": "2023-02-22T16:22:46.200260Z",
     "start_time": "2023-02-22T16:22:46.182349Z"
    }
   },
   "outputs": [
    {
     "data": {
      "text/plain": [
       "83"
      ]
     },
     "execution_count": 155,
     "metadata": {},
     "output_type": "execute_result"
    }
   ],
   "source": [
    "sol_biba.compute_objective_graph(recompute_distances=True)"
   ]
  },
  {
   "cell_type": "code",
   "execution_count": 156,
   "id": "741ed84b",
   "metadata": {
    "ExecuteTime": {
     "end_time": "2023-02-22T16:22:59.080011Z",
     "start_time": "2023-02-22T16:22:59.067230Z"
    }
   },
   "outputs": [
    {
     "data": {
      "text/plain": [
       "{0: Job(id=0, start_time=39, end_time=92),\n",
       " 1: Job(id=1, start_time=164, end_time=308),\n",
       " 2: Job(id=2, start_time=79, end_time=147),\n",
       " -1: Job(id=-1, start_time=0, end_time=308)}"
      ]
     },
     "execution_count": 156,
     "metadata": {},
     "output_type": "execute_result"
    }
   ],
   "source": [
    "sol_biba.graph.jobs_times"
   ]
  },
  {
   "cell_type": "code",
   "execution_count": 160,
   "id": "7e42e246",
   "metadata": {
    "ExecuteTime": {
     "end_time": "2023-02-22T16:23:39.335753Z",
     "start_time": "2023-02-22T16:23:39.322790Z"
    }
   },
   "outputs": [
    {
     "data": {
      "text/plain": [
       "23"
      ]
     },
     "execution_count": 160,
     "metadata": {},
     "output_type": "execute_result"
    }
   ],
   "source": [
    "instance.R[0]"
   ]
  },
  {
   "cell_type": "code",
   "execution_count": 166,
   "id": "117f7cd1",
   "metadata": {
    "ExecuteTime": {
     "end_time": "2023-02-22T16:24:44.531333Z",
     "start_time": "2023-02-22T16:24:44.518966Z"
    }
   },
   "outputs": [
    {
     "data": {
      "text/plain": [
       "124"
      ]
     },
     "execution_count": 166,
     "metadata": {},
     "output_type": "execute_result"
    }
   ],
   "source": [
    "instance.S[1][0][1] + 121"
   ]
  },
  {
   "cell_type": "code",
   "execution_count": 164,
   "id": "f2f58a3d",
   "metadata": {
    "ExecuteTime": {
     "end_time": "2023-02-22T16:24:17.396221Z",
     "start_time": "2023-02-22T16:24:17.382988Z"
    }
   },
   "outputs": [
    {
     "data": {
      "text/plain": [
       "92"
      ]
     },
     "execution_count": 164,
     "metadata": {},
     "output_type": "execute_result"
    }
   ],
   "source": [
    "53 + 39"
   ]
  },
  {
   "cell_type": "code",
   "execution_count": 171,
   "id": "c64ff41f",
   "metadata": {
    "ExecuteTime": {
     "end_time": "2023-02-22T16:26:46.794432Z",
     "start_time": "2023-02-22T16:26:46.781481Z"
    }
   },
   "outputs": [
    {
     "data": {
      "text/plain": [
       "['graph',\n",
       " '_node',\n",
       " '_adj',\n",
       " '_succ',\n",
       " '_pred',\n",
       " 'succ',\n",
       " 'edges',\n",
       " 'adj',\n",
       " 'degree',\n",
       " 'in_degree',\n",
       " 'pred',\n",
       " 'in_edges',\n",
       " 'nodes',\n",
       " 'out_degree',\n",
       " 'out_edges']"
      ]
     },
     "execution_count": 171,
     "metadata": {},
     "output_type": "execute_result"
    }
   ],
   "source": [
    "list(sol_biba.graph.DG.__dict__)"
   ]
  },
  {
   "cell_type": "code",
   "execution_count": 176,
   "id": "19f8bcee",
   "metadata": {
    "ExecuteTime": {
     "end_time": "2023-02-22T16:28:07.233552Z",
     "start_time": "2023-02-22T16:28:07.220603Z"
    }
   },
   "outputs": [
    {
     "data": {
      "text/plain": [
       "{(Node(machine_id=-2, job_id=0),\n",
       "  Node(machine_id=1, job_id=0)): {'weight': -39},\n",
       " (Node(machine_id=-2, job_id=0),\n",
       "  Node(machine_id=1, job_id=1)): {'weight': -164},\n",
       " (Node(machine_id=-2, job_id=0),\n",
       "  Node(machine_id=0, job_id=2)): {'weight': -79},\n",
       " (Node(machine_id=-1, job_id=0),\n",
       "  Node(machine_id=-1, job_id=-1)): {'weight': 0},\n",
       " (Node(machine_id=-1, job_id=1),\n",
       "  Node(machine_id=-1, job_id=-1)): {'weight': 0},\n",
       " (Node(machine_id=-1, job_id=2),\n",
       "  Node(machine_id=-1, job_id=-1)): {'weight': 0},\n",
       " (Node(machine_id=1, job_id=0),\n",
       "  Node(machine_id=-1, job_id=0)): {'weight': -53},\n",
       " (Node(machine_id=1, job_id=0), Node(machine_id=1, job_id=1)): {'weight': -56},\n",
       " (Node(machine_id=1, job_id=1), Node(machine_id=0, job_id=1)): {'weight': -89},\n",
       " (Node(machine_id=0, job_id=1),\n",
       "  Node(machine_id=-1, job_id=1)): {'weight': -55},\n",
       " (Node(machine_id=0, job_id=2),\n",
       "  Node(machine_id=-1, job_id=2)): {'weight': -68},\n",
       " (Node(machine_id=0, job_id=2), Node(machine_id=0, job_id=1)): {'weight': -96}}"
      ]
     },
     "execution_count": 176,
     "metadata": {},
     "output_type": "execute_result"
    }
   ],
   "source": [
    "dict(sol_biba.graph.DG.edges)"
   ]
  },
  {
   "cell_type": "code",
   "execution_count": 177,
   "id": "0ebe5ae4",
   "metadata": {
    "ExecuteTime": {
     "end_time": "2023-02-22T16:30:09.588344Z",
     "start_time": "2023-02-22T16:30:09.571853Z"
    }
   },
   "outputs": [],
   "source": [
    "instance.to_txt(\"triangular_graph_error_instance.txt\")"
   ]
  },
  {
   "cell_type": "code",
   "execution_count": 178,
   "id": "293febde",
   "metadata": {
    "ExecuteTime": {
     "end_time": "2023-02-22T16:30:38.794847Z",
     "start_time": "2023-02-22T16:30:38.782677Z"
    }
   },
   "outputs": [
    {
     "data": {
      "text/plain": [
       "43"
      ]
     },
     "execution_count": 178,
     "metadata": {},
     "output_type": "execute_result"
    }
   ],
   "source": [
    "instance.S[1][1][1]"
   ]
  },
  {
   "cell_type": "code",
   "execution_count": 180,
   "id": "12bdaa3a",
   "metadata": {
    "ExecuteTime": {
     "end_time": "2023-02-22T16:43:59.065846Z",
     "start_time": "2023-02-22T16:43:59.054031Z"
    }
   },
   "outputs": [],
   "source": [
    "instance = jms_wiTi.JmridiSijkwiTi_Instance.read_txt(\"triangular_graph_error_instance.txt\")"
   ]
  },
  {
   "cell_type": "code",
   "execution_count": 181,
   "id": "ea687c86",
   "metadata": {
    "ExecuteTime": {
     "end_time": "2023-02-22T16:44:01.311062Z",
     "start_time": "2023-02-22T16:44:01.298959Z"
    }
   },
   "outputs": [
    {
     "data": {
      "text/plain": [
       "JmridiSijkwiTi_Instance(name='test', n=3, m=2, P=[[(1, 53)], [(1, 89), (0, 55)], [(0, 68)]], W=[1, 1, 1], R=[23, 121, 52], D=[84, 233, 177], S=[[[32, 39, 19], [46, 37, 43], [25, 28, 27]], [[16, 3, 1], [20, 43, 17], [37, 32, 38]]])"
      ]
     },
     "execution_count": 181,
     "metadata": {},
     "output_type": "execute_result"
    }
   ],
   "source": [
    "instance"
   ]
  },
  {
   "cell_type": "markdown",
   "id": "d9f84210",
   "metadata": {
    "ExecuteTime": {
     "end_time": "2023-02-22T16:46:01.334627Z",
     "start_time": "2023-02-22T16:46:01.323948Z"
    }
   },
   "source": [
    "## Jm| ri, Sijk | wiCi"
   ]
  },
  {
   "cell_type": "code",
   "execution_count": 240,
   "id": "f435f8a3",
   "metadata": {
    "ExecuteTime": {
     "end_time": "2023-02-23T19:03:18.629269Z",
     "start_time": "2023-02-23T19:03:18.611551Z"
    }
   },
   "outputs": [],
   "source": [
    "instance = jm_wiCi.JmriSijkwiCi_Instance.generate_random(20,2)"
   ]
  },
  {
   "cell_type": "code",
   "execution_count": 250,
   "id": "88f252b6",
   "metadata": {
    "ExecuteTime": {
     "end_time": "2023-02-23T19:04:42.762046Z",
     "start_time": "2023-02-23T19:04:42.731572Z"
    }
   },
   "outputs": [],
   "source": [
    "sol_biba = js_methods.Heuristics.BIBA(instance).best_solution"
   ]
  },
  {
   "cell_type": "code",
   "execution_count": 251,
   "id": "fbfde36f",
   "metadata": {
    "ExecuteTime": {
     "end_time": "2023-02-23T19:04:43.148378Z",
     "start_time": "2023-02-23T19:04:43.120576Z"
    }
   },
   "outputs": [
    {
     "data": {
      "text/plain": [
       "True"
      ]
     },
     "execution_count": 251,
     "metadata": {},
     "output_type": "execute_result"
    }
   ],
   "source": [
    "sol_biba.is_valid()"
   ]
  },
  {
   "cell_type": "code",
   "execution_count": 291,
   "id": "7b0a969b",
   "metadata": {
    "ExecuteTime": {
     "end_time": "2023-02-23T19:52:40.280288Z",
     "start_time": "2023-02-23T19:52:40.266579Z"
    }
   },
   "outputs": [
    {
     "data": {
      "text/plain": [
       "11563"
      ]
     },
     "execution_count": 291,
     "metadata": {},
     "output_type": "execute_result"
    }
   ],
   "source": [
    "sol_biba.objective_value"
   ]
  },
  {
   "cell_type": "code",
   "execution_count": 288,
   "id": "c5a99c4e",
   "metadata": {
    "ExecuteTime": {
     "end_time": "2023-02-23T19:52:36.072175Z",
     "start_time": "2023-02-23T19:52:36.022783Z"
    }
   },
   "outputs": [],
   "source": [
    "new_sol = NeighbourhoodGeneration.deconstruct_construct(sol_biba, d=0.25)"
   ]
  },
  {
   "cell_type": "code",
   "execution_count": 289,
   "id": "d96a045c",
   "metadata": {
    "ExecuteTime": {
     "end_time": "2023-02-23T19:52:36.437154Z",
     "start_time": "2023-02-23T19:52:36.418137Z"
    }
   },
   "outputs": [
    {
     "data": {
      "text/plain": [
       "True"
      ]
     },
     "execution_count": 289,
     "metadata": {},
     "output_type": "execute_result"
    }
   ],
   "source": [
    "new_sol.is_valid()"
   ]
  },
  {
   "cell_type": "code",
   "execution_count": 290,
   "id": "7f670ed2",
   "metadata": {
    "ExecuteTime": {
     "end_time": "2023-02-23T19:52:37.694830Z",
     "start_time": "2023-02-23T19:52:37.681452Z"
    }
   },
   "outputs": [
    {
     "data": {
      "text/plain": [
       "10340"
      ]
     },
     "execution_count": 290,
     "metadata": {},
     "output_type": "execute_result"
    }
   ],
   "source": [
    "new_sol.objective_value"
   ]
  },
  {
   "cell_type": "code",
   "execution_count": 348,
   "id": "6c140ea2",
   "metadata": {
    "ExecuteTime": {
     "end_time": "2023-02-23T19:59:34.123965Z",
     "start_time": "2023-02-23T19:59:34.094710Z"
    }
   },
   "outputs": [
    {
     "name": "stdout",
     "output_type": "stream",
     "text": [
      "Move swap 0\n",
      "Move swap 1\n"
     ]
    }
   ],
   "source": [
    "new_random_sol = NeighbourhoodGeneration.random_neighbour(sol_biba)"
   ]
  },
  {
   "cell_type": "code",
   "execution_count": null,
   "id": "8903bc4b",
   "metadata": {},
   "outputs": [],
   "source": []
  }
 ],
 "metadata": {
  "kernelspec": {
   "display_name": "Python 3 (ipykernel)",
   "language": "python",
   "name": "python3"
  },
  "language_info": {
   "codemirror_mode": {
    "name": "ipython",
    "version": 3
   },
   "file_extension": ".py",
   "mimetype": "text/x-python",
   "name": "python",
   "nbconvert_exporter": "python",
   "pygments_lexer": "ipython3",
   "version": "3.9.16"
  }
 },
 "nbformat": 4,
 "nbformat_minor": 5
}
