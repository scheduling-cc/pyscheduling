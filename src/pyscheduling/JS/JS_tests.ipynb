{
 "cells": [
  {
   "cell_type": "code",
   "execution_count": 3,
   "id": "574f0e46",
   "metadata": {
    "ExecuteTime": {
     "end_time": "2023-02-22T13:24:00.025811Z",
     "start_time": "2023-02-22T13:23:59.999079Z"
    }
   },
   "outputs": [
    {
     "name": "stdout",
     "output_type": "stream",
     "text": [
      "The autoreload extension is already loaded. To reload it, use:\n",
      "  %reload_ext autoreload\n"
     ]
    }
   ],
   "source": [
    "import pyscheduling.JS.JmCmax as jm_cmax\n",
    "import pyscheduling.JS.JmriwiTi as jm_wiTi\n",
    "from pyscheduling.JS.JobShop import Job, JobShopSolution\n",
    "from pyscheduling.Problem import Objective\n",
    "import pyscheduling.JS.JobShop_methods as js_methods\n",
    "\n",
    "%load_ext autoreload\n",
    "%load_ext pycodestyle_magic\n",
    "%autoreload 2"
   ]
  },
  {
   "cell_type": "code",
   "execution_count": 21,
   "id": "2b859c8d",
   "metadata": {
    "ExecuteTime": {
     "end_time": "2023-02-22T14:46:02.154995Z",
     "start_time": "2023-02-22T14:46:01.554182Z"
    }
   },
   "outputs": [],
   "source": [
    "instance = jm_cmax.JmCmax_Instance.generate_random(10,2)"
   ]
  },
  {
   "cell_type": "code",
   "execution_count": 22,
   "id": "605b83be",
   "metadata": {
    "ExecuteTime": {
     "end_time": "2023-02-22T14:46:02.173039Z",
     "start_time": "2023-02-22T14:46:02.157083Z"
    }
   },
   "outputs": [],
   "source": [
    "rule = lambda instance, job_tuple: instance.P[job_tuple[0]][job_tuple[1][0]]"
   ]
  },
  {
   "cell_type": "code",
   "execution_count": 25,
   "id": "4b172cb5",
   "metadata": {
    "ExecuteTime": {
     "end_time": "2023-02-22T14:46:30.319417Z",
     "start_time": "2023-02-22T14:46:30.307193Z"
    }
   },
   "outputs": [],
   "source": [
    "sol = js_methods.Heuristics.dispatch_heuristic(instance, rule).best_solution"
   ]
  },
  {
   "cell_type": "code",
   "execution_count": 30,
   "id": "d7011c4f",
   "metadata": {
    "ExecuteTime": {
     "end_time": "2023-02-22T14:48:57.151995Z",
     "start_time": "2023-02-22T14:48:54.284469Z"
    }
   },
   "outputs": [
    {
     "data": {
      "text/plain": [
       "True"
      ]
     },
     "execution_count": 30,
     "metadata": {},
     "output_type": "execute_result"
    }
   ],
   "source": [
    "sol.is_valid()"
   ]
  },
  {
   "cell_type": "code",
   "execution_count": 9,
   "id": "068f8896",
   "metadata": {
    "ExecuteTime": {
     "end_time": "2023-02-22T13:25:27.819317Z",
     "start_time": "2023-02-22T13:25:27.804497Z"
    }
   },
   "outputs": [
    {
     "data": {
      "text/plain": [
       "[Job(id=2, start_time=0, end_time=31),\n",
       " Job(id=5, start_time=31, end_time=101),\n",
       " Job(id=7, start_time=101, end_time=171),\n",
       " Job(id=8, start_time=171, end_time=244),\n",
       " Job(id=6, start_time=244, end_time=338),\n",
       " Job(id=4, start_time=338, end_time=355),\n",
       " Job(id=3, start_time=355, end_time=438)]"
      ]
     },
     "execution_count": 9,
     "metadata": {},
     "output_type": "execute_result"
    }
   ],
   "source": [
    "sol.machines[0].job_schedule"
   ]
  },
  {
   "cell_type": "code",
   "execution_count": 12,
   "id": "a9451395",
   "metadata": {
    "ExecuteTime": {
     "end_time": "2023-02-22T13:26:28.541518Z",
     "start_time": "2023-02-22T13:26:28.521501Z"
    }
   },
   "outputs": [
    {
     "data": {
      "text/plain": [
       "{0: Job(id=0, start_time=32, end_time=56),\n",
       " 1: Job(id=1, start_time=298, end_time=357),\n",
       " 2: Job(id=2, start_time=0, end_time=106),\n",
       " 3: Job(id=3, start_time=12, end_time=438),\n",
       " 4: Job(id=4, start_time=0, end_time=355),\n",
       " 5: Job(id=5, start_time=31, end_time=101),\n",
       " 6: Job(id=6, start_time=244, end_time=338),\n",
       " 7: Job(id=7, start_time=101, end_time=417),\n",
       " 8: Job(id=8, start_time=171, end_time=298),\n",
       " 9: Job(id=9, start_time=417, end_time=498)}"
      ]
     },
     "execution_count": 12,
     "metadata": {},
     "output_type": "execute_result"
    }
   ],
   "source": [
    "# Sans compute\n",
    "sol.job_schedule"
   ]
  },
  {
   "cell_type": "code",
   "execution_count": 11,
   "id": "67ca8a57",
   "metadata": {
    "ExecuteTime": {
     "end_time": "2023-02-22T13:25:50.147761Z",
     "start_time": "2023-02-22T13:25:50.130178Z"
    }
   },
   "outputs": [
    {
     "data": {
      "text/plain": [
       "[[(1, 24)],\n",
       " [(1, 59)],\n",
       " [(0, 31), (1, 50)],\n",
       " [(1, 20), (0, 83)],\n",
       " [(1, 12), (0, 17)],\n",
       " [(0, 70)],\n",
       " [(0, 94)],\n",
       " [(0, 70), (1, 60)],\n",
       " [(0, 73), (1, 54)],\n",
       " [(1, 81)]]"
      ]
     },
     "execution_count": 11,
     "metadata": {},
     "output_type": "execute_result"
    }
   ],
   "source": [
    "instance.P"
   ]
  },
  {
   "cell_type": "code",
   "execution_count": 31,
   "id": "d8e624d0",
   "metadata": {
    "ExecuteTime": {
     "end_time": "2023-02-22T14:49:10.834974Z",
     "start_time": "2023-02-22T14:49:10.801783Z"
    }
   },
   "outputs": [
    {
     "ename": "AttributeError",
     "evalue": "'JobShopSolution' object has no attribute 'job_times'",
     "output_type": "error",
     "traceback": [
      "\u001b[0;31m---------------------------------------------------------------------------\u001b[0m",
      "\u001b[0;31mAttributeError\u001b[0m                            Traceback (most recent call last)",
      "Cell \u001b[0;32mIn [31], line 2\u001b[0m\n\u001b[1;32m      1\u001b[0m \u001b[38;5;66;03m# BIBA\u001b[39;00m\n\u001b[0;32m----> 2\u001b[0m sol_biba \u001b[38;5;241m=\u001b[39m \u001b[43mjs_methods\u001b[49m\u001b[38;5;241;43m.\u001b[39;49m\u001b[43mHeuristics\u001b[49m\u001b[38;5;241;43m.\u001b[39;49m\u001b[43mBIBA\u001b[49m\u001b[43m(\u001b[49m\u001b[43minstance\u001b[49m\u001b[43m)\u001b[49m\u001b[38;5;241m.\u001b[39mbest_solution\n",
      "File \u001b[0;32m~/Workspace/SchedulingCC/PyScheduling/src/pyscheduling/JS/JobShop_methods.py:96\u001b[0m, in \u001b[0;36mHeuristics.BIBA\u001b[0;34m(instance)\u001b[0m\n\u001b[1;32m     93\u001b[0m curr_machine\u001b[38;5;241m.\u001b[39mlast_job \u001b[38;5;241m=\u001b[39m taken_job\n\u001b[1;32m     95\u001b[0m \u001b[38;5;66;03m# Update the job_schedule structure (overall schedule per job)\u001b[39;00m\n\u001b[0;32m---> 96\u001b[0m _, old_start, old_end \u001b[38;5;241m=\u001b[39m \u001b[43msolution\u001b[49m\u001b[38;5;241;43m.\u001b[39;49m\u001b[43mjob_times\u001b[49m\u001b[38;5;241m.\u001b[39mget(taken_job, Job(taken_job, \u001b[38;5;241m0\u001b[39m, \u001b[38;5;241m0\u001b[39m))\n\u001b[1;32m     97\u001b[0m solution\u001b[38;5;241m.\u001b[39mjob_times[taken_job] \u001b[38;5;241m=\u001b[39m Job(taken_job, \u001b[38;5;28mmin\u001b[39m(old_start, start_time), \u001b[38;5;28mmax\u001b[39m(old_end, end_time))\n\u001b[1;32m     99\u001b[0m \u001b[38;5;66;03m# Update job timeline\u001b[39;00m\n",
      "\u001b[0;31mAttributeError\u001b[0m: 'JobShopSolution' object has no attribute 'job_times'"
     ]
    }
   ],
   "source": [
    "# BIBA\n",
    "sol_biba = js_methods.Heuristics.BIBA(instance).best_solution"
   ]
  },
  {
   "cell_type": "code",
   "execution_count": 18,
   "id": "b30f54ce",
   "metadata": {
    "ExecuteTime": {
     "end_time": "2023-02-22T13:31:42.783420Z",
     "start_time": "2023-02-22T13:31:42.769235Z"
    }
   },
   "outputs": [
    {
     "data": {
      "text/plain": [
       "438"
      ]
     },
     "execution_count": 18,
     "metadata": {},
     "output_type": "execute_result"
    }
   ],
   "source": [
    "sol.objective_value"
   ]
  },
  {
   "cell_type": "code",
   "execution_count": 20,
   "id": "e379254e",
   "metadata": {
    "ExecuteTime": {
     "end_time": "2023-02-22T13:31:47.130303Z",
     "start_time": "2023-02-22T13:31:47.117428Z"
    }
   },
   "outputs": [
    {
     "data": {
      "text/plain": [
       "438"
      ]
     },
     "execution_count": 20,
     "metadata": {},
     "output_type": "execute_result"
    }
   ],
   "source": [
    "sol.compute_objective_graph()"
   ]
  },
  {
   "cell_type": "code",
   "execution_count": 48,
   "id": "43c0c546",
   "metadata": {
    "ExecuteTime": {
     "end_time": "2023-02-06T16:23:40.325047Z",
     "start_time": "2023-02-06T16:23:40.312551Z"
    }
   },
   "outputs": [
    {
     "data": {
      "text/plain": [
       "True"
      ]
     },
     "execution_count": 48,
     "metadata": {},
     "output_type": "execute_result"
    }
   ],
   "source": [
    "sol.is_feasible()"
   ]
  },
  {
   "cell_type": "code",
   "execution_count": 49,
   "id": "fed2f6ba",
   "metadata": {
    "ExecuteTime": {
     "end_time": "2023-02-06T16:23:42.326936Z",
     "start_time": "2023-02-06T16:23:42.314831Z"
    }
   },
   "outputs": [
    {
     "data": {
      "text/plain": [
       "1960"
      ]
     },
     "execution_count": 49,
     "metadata": {},
     "output_type": "execute_result"
    }
   ],
   "source": [
    "sol.compute_objective_graph()"
   ]
  },
  {
   "cell_type": "code",
   "execution_count": 51,
   "id": "86455de9",
   "metadata": {
    "ExecuteTime": {
     "end_time": "2023-02-06T16:25:48.487026Z",
     "start_time": "2023-02-06T16:25:48.030347Z"
    }
   },
   "outputs": [],
   "source": [
    "# GRASP\n",
    "sol = js_methods.Heuristics.grasp(instance).best_solution"
   ]
  },
  {
   "cell_type": "code",
   "execution_count": 52,
   "id": "0bd4a237",
   "metadata": {
    "ExecuteTime": {
     "end_time": "2023-02-06T16:25:49.328676Z",
     "start_time": "2023-02-06T16:25:49.316278Z"
    }
   },
   "outputs": [
    {
     "data": {
      "text/plain": [
       "1864"
      ]
     },
     "execution_count": 52,
     "metadata": {},
     "output_type": "execute_result"
    }
   ],
   "source": [
    "sol.objective_value"
   ]
  },
  {
   "cell_type": "code",
   "execution_count": 53,
   "id": "c990d560",
   "metadata": {
    "ExecuteTime": {
     "end_time": "2023-02-06T16:25:55.747694Z",
     "start_time": "2023-02-06T16:25:55.733878Z"
    }
   },
   "outputs": [
    {
     "data": {
      "text/plain": [
       "True"
      ]
     },
     "execution_count": 53,
     "metadata": {},
     "output_type": "execute_result"
    }
   ],
   "source": [
    "sol.is_feasible()"
   ]
  },
  {
   "cell_type": "code",
   "execution_count": 54,
   "id": "920af403",
   "metadata": {
    "ExecuteTime": {
     "end_time": "2023-02-06T16:25:56.836387Z",
     "start_time": "2023-02-06T16:25:56.821164Z"
    }
   },
   "outputs": [
    {
     "data": {
      "text/plain": [
       "1864"
      ]
     },
     "execution_count": 54,
     "metadata": {},
     "output_type": "execute_result"
    }
   ],
   "source": [
    "sol.compute_objective_graph()"
   ]
  },
  {
   "cell_type": "code",
   "execution_count": 56,
   "id": "ca7d2535",
   "metadata": {
    "ExecuteTime": {
     "end_time": "2023-02-06T16:26:36.291934Z",
     "start_time": "2023-02-06T16:26:36.279207Z"
    }
   },
   "outputs": [
    {
     "data": {
      "text/plain": [
       "1864"
      ]
     },
     "execution_count": 56,
     "metadata": {},
     "output_type": "execute_result"
    }
   ],
   "source": [
    "sol.compute_objective()"
   ]
  },
  {
   "cell_type": "code",
   "execution_count": 57,
   "id": "0f1e9a84",
   "metadata": {
    "ExecuteTime": {
     "end_time": "2023-02-06T16:26:38.695541Z",
     "start_time": "2023-02-06T16:26:38.682245Z"
    }
   },
   "outputs": [
    {
     "data": {
      "text/plain": [
       "{0: Job(id=0, start_time=74, end_time=181),\n",
       " 1: Job(id=1, start_time=43, end_time=76),\n",
       " 2: Job(id=2, start_time=83, end_time=171),\n",
       " 3: Job(id=3, start_time=76, end_time=265),\n",
       " 4: Job(id=4, start_time=126, end_time=493),\n",
       " 5: Job(id=5, start_time=381, end_time=1164),\n",
       " 6: Job(id=6, start_time=593, end_time=1597),\n",
       " 7: Job(id=7, start_time=27, end_time=755),\n",
       " 8: Job(id=8, start_time=73, end_time=896),\n",
       " 9: Job(id=9, start_time=24, end_time=443),\n",
       " 10: Job(id=10, start_time=888, end_time=1207),\n",
       " 11: Job(id=11, start_time=200, end_time=242),\n",
       " 12: Job(id=12, start_time=1358, end_time=1535),\n",
       " 13: Job(id=13, start_time=242, end_time=297),\n",
       " 14: Job(id=14, start_time=519, end_time=819),\n",
       " 15: Job(id=15, start_time=236, end_time=1354),\n",
       " 16: Job(id=16, start_time=0, end_time=1751),\n",
       " 17: Job(id=17, start_time=370, end_time=1069),\n",
       " 18: Job(id=18, start_time=405, end_time=1549),\n",
       " 19: Job(id=19, start_time=104, end_time=214),\n",
       " 20: Job(id=20, start_time=875, end_time=948),\n",
       " 21: Job(id=21, start_time=819, end_time=1864),\n",
       " 22: Job(id=22, start_time=419, end_time=1234),\n",
       " 23: Job(id=23, start_time=10, end_time=252),\n",
       " 24: Job(id=24, start_time=297, end_time=1151),\n",
       " 25: Job(id=25, start_time=0, end_time=662),\n",
       " 26: Job(id=26, start_time=252, end_time=1244),\n",
       " 27: Job(id=27, start_time=0, end_time=1400),\n",
       " 28: Job(id=28, start_time=0, end_time=369),\n",
       " 29: Job(id=29, start_time=52, end_time=83),\n",
       " 30: Job(id=30, start_time=1279, end_time=1454),\n",
       " 31: Job(id=31, start_time=1244, end_time=1482),\n",
       " 32: Job(id=32, start_time=498, end_time=1445),\n",
       " 33: Job(id=33, start_time=817, end_time=1709),\n",
       " 34: Job(id=34, start_time=359, end_time=374),\n",
       " 35: Job(id=35, start_time=1098, end_time=1188),\n",
       " 36: Job(id=36, start_time=369, end_time=817),\n",
       " 37: Job(id=37, start_time=443, end_time=1747),\n",
       " 38: Job(id=38, start_time=360, end_time=1626),\n",
       " 39: Job(id=39, start_time=140, end_time=1705)}"
      ]
     },
     "execution_count": 57,
     "metadata": {},
     "output_type": "execute_result"
    }
   ],
   "source": [
    "sol.job_schedule"
   ]
  },
  {
   "cell_type": "code",
   "execution_count": null,
   "id": "d3eac5a3",
   "metadata": {},
   "outputs": [],
   "source": []
  }
 ],
 "metadata": {
  "kernelspec": {
   "display_name": "Python 3 (ipykernel)",
   "language": "python",
   "name": "python3"
  },
  "language_info": {
   "codemirror_mode": {
    "name": "ipython",
    "version": 3
   },
   "file_extension": ".py",
   "mimetype": "text/x-python",
   "name": "python",
   "nbconvert_exporter": "python",
   "pygments_lexer": "ipython3",
   "version": "3.9.16"
  }
 },
 "nbformat": 4,
 "nbformat_minor": 5
}
