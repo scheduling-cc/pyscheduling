{
 "cells": [
  {
   "cell_type": "code",
   "execution_count": 1,
   "id": "96a75e73",
   "metadata": {
    "ExecuteTime": {
     "end_time": "2023-02-02T18:51:12.550385Z",
     "start_time": "2023-02-02T18:51:11.948989Z"
    }
   },
   "outputs": [],
   "source": [
    "import pyscheduling.JS.JmCmax as jm_cmax\n",
    "import pyscheduling.JS.JmriwiTi as jm_wiTi\n",
    "from pyscheduling.JS.JobShop import Job, JobShopSolution\n",
    "from pyscheduling.Problem import Objective\n",
    "import pyscheduling.JS.JobShop_methods as js_methods\n",
    "\n",
    "%load_ext autoreload\n",
    "%load_ext pycodestyle_magic\n",
    "%autoreload 2"
   ]
  },
  {
   "cell_type": "code",
   "execution_count": 3,
   "id": "2a537c50",
   "metadata": {
    "ExecuteTime": {
     "end_time": "2023-02-02T18:51:18.132687Z",
     "start_time": "2023-02-02T18:51:18.120457Z"
    }
   },
   "outputs": [],
   "source": [
    "instance = jm_cmax.JmCmax_Instance.generate_random(40,4)"
   ]
  },
  {
   "cell_type": "code",
   "execution_count": 13,
   "id": "247f4bd9",
   "metadata": {
    "ExecuteTime": {
     "end_time": "2023-02-02T18:53:52.428708Z",
     "start_time": "2023-02-02T18:53:52.413243Z"
    }
   },
   "outputs": [],
   "source": [
    "# BIBA\n",
    "sol = js_methods.Heuristics.BIBA(instance).best_solution"
   ]
  },
  {
   "cell_type": "code",
   "execution_count": 14,
   "id": "3fbcb309",
   "metadata": {
    "ExecuteTime": {
     "end_time": "2023-02-02T18:53:52.847828Z",
     "start_time": "2023-02-02T18:53:52.835139Z"
    }
   },
   "outputs": [
    {
     "data": {
      "text/plain": [
       "1408"
      ]
     },
     "execution_count": 14,
     "metadata": {},
     "output_type": "execute_result"
    }
   ],
   "source": [
    "sol.objective_value"
   ]
  },
  {
   "cell_type": "code",
   "execution_count": 15,
   "id": "1c98273b",
   "metadata": {
    "ExecuteTime": {
     "end_time": "2023-02-02T18:53:54.586174Z",
     "start_time": "2023-02-02T18:53:54.572148Z"
    }
   },
   "outputs": [
    {
     "data": {
      "text/plain": [
       "True"
      ]
     },
     "execution_count": 15,
     "metadata": {},
     "output_type": "execute_result"
    }
   ],
   "source": [
    "sol.is_feasible()"
   ]
  },
  {
   "cell_type": "code",
   "execution_count": 16,
   "id": "5867ac19",
   "metadata": {
    "ExecuteTime": {
     "end_time": "2023-02-02T18:53:55.594965Z",
     "start_time": "2023-02-02T18:53:55.576258Z"
    }
   },
   "outputs": [
    {
     "data": {
      "text/plain": [
       "1408"
      ]
     },
     "execution_count": 16,
     "metadata": {},
     "output_type": "execute_result"
    }
   ],
   "source": [
    "sol.compute_objective_graph()"
   ]
  },
  {
   "cell_type": "code",
   "execution_count": 10,
   "id": "3081c9ff",
   "metadata": {
    "ExecuteTime": {
     "end_time": "2023-02-02T18:53:41.974594Z",
     "start_time": "2023-02-02T18:53:41.855771Z"
    }
   },
   "outputs": [],
   "source": [
    "# GRASP\n",
    "sol = js_methods.Heuristics.grasp(instance).best_solution"
   ]
  },
  {
   "cell_type": "code",
   "execution_count": 12,
   "id": "ff0132dc",
   "metadata": {
    "ExecuteTime": {
     "end_time": "2023-02-02T18:53:48.962513Z",
     "start_time": "2023-02-02T18:53:48.949774Z"
    }
   },
   "outputs": [
    {
     "data": {
      "text/plain": [
       "1323"
      ]
     },
     "execution_count": 12,
     "metadata": {},
     "output_type": "execute_result"
    }
   ],
   "source": [
    "sol.objective_value"
   ]
  },
  {
   "cell_type": "code",
   "execution_count": 17,
   "id": "4f512997",
   "metadata": {
    "ExecuteTime": {
     "end_time": "2023-02-02T18:54:01.054028Z",
     "start_time": "2023-02-02T18:54:01.040342Z"
    }
   },
   "outputs": [
    {
     "data": {
      "text/plain": [
       "True"
      ]
     },
     "execution_count": 17,
     "metadata": {},
     "output_type": "execute_result"
    }
   ],
   "source": [
    "sol.is_feasible()"
   ]
  },
  {
   "cell_type": "code",
   "execution_count": 18,
   "id": "9aec2915",
   "metadata": {
    "ExecuteTime": {
     "end_time": "2023-02-02T18:54:05.847671Z",
     "start_time": "2023-02-02T18:54:05.834843Z"
    }
   },
   "outputs": [
    {
     "data": {
      "text/plain": [
       "1408"
      ]
     },
     "execution_count": 18,
     "metadata": {},
     "output_type": "execute_result"
    }
   ],
   "source": [
    "sol.compute_objective_graph()"
   ]
  }
 ],
 "metadata": {
  "kernelspec": {
   "display_name": "Python 3 (ipykernel)",
   "language": "python",
   "name": "python3"
  },
  "language_info": {
   "codemirror_mode": {
    "name": "ipython",
    "version": 3
   },
   "file_extension": ".py",
   "mimetype": "text/x-python",
   "name": "python",
   "nbconvert_exporter": "python",
   "pygments_lexer": "ipython3",
   "version": "3.9.12"
  }
 },
 "nbformat": 4,
 "nbformat_minor": 5
}
