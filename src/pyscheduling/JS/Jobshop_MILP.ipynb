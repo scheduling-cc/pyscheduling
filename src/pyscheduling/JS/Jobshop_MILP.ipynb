{
 "cells": [
  {
   "cell_type": "code",
   "execution_count": 14,
   "id": "20eb1032",
   "metadata": {
    "ExecuteTime": {
     "end_time": "2023-02-03T10:55:10.172154Z",
     "start_time": "2023-02-03T10:55:10.155417Z"
    }
   },
   "outputs": [
    {
     "name": "stdout",
     "output_type": "stream",
     "text": [
      "The autoreload extension is already loaded. To reload it, use:\n",
      "  %reload_ext autoreload\n",
      "The pycodestyle_magic extension is already loaded. To reload it, use:\n",
      "  %reload_ext pycodestyle_magic\n"
     ]
    }
   ],
   "source": [
    "import pyscheduling.JS.JmCmax as jm_cmax\n",
    "import pyscheduling.JS.JmriwiTi as jm_wiTi\n",
    "from pyscheduling.JS.JobShop import Job, JobShopSolution\n",
    "from pyscheduling.Problem import Objective\n",
    "\n",
    "import gurobipy as gp\n",
    "from gurobipy import GRB, quicksum, multidict, tuplelist, tupledict\n",
    "\n",
    "import networkx as nx\n",
    "\n",
    "%load_ext autoreload\n",
    "%load_ext pycodestyle_magic\n",
    "%autoreload 2"
   ]
  },
  {
   "cell_type": "code",
   "execution_count": 2,
   "id": "aa87f051",
   "metadata": {
    "ExecuteTime": {
     "end_time": "2023-02-03T10:52:55.474723Z",
     "start_time": "2023-02-03T10:52:55.417783Z"
    }
   },
   "outputs": [],
   "source": [
    "def transform_solution(Y_ij, instance, dict_m_jobs, dict_ij):\n",
    "    \n",
    "    sol = JobShopSolution(instance)\n",
    "    \n",
    "    for m in dict_m_jobs:\n",
    "        jobs_list = []\n",
    "        for j in dict_m_jobs[m]:\n",
    "            job_start = int(Y_ij[m, j].x)\n",
    "            jobs_list.append(Job(j , job_start, job_start + dict_ij[(m,j)]))\n",
    "        \n",
    "        sol.machines[m].job_schedule = sorted(jobs_list, key= lambda x: x[1])\n",
    "    \n",
    "    return sol"
   ]
  },
  {
   "cell_type": "code",
   "execution_count": 3,
   "id": "03d7d57b",
   "metadata": {
    "ExecuteTime": {
     "end_time": "2023-02-03T10:53:00.682586Z",
     "start_time": "2023-02-03T10:53:00.618336Z"
    }
   },
   "outputs": [
    {
     "name": "stdout",
     "output_type": "stream",
     "text": [
      "Set parameter Username\n",
      "Academic license - for non-commercial use only - expires 2024-01-15\n"
     ]
    }
   ],
   "source": [
    "instance = jm_cmax.JmCmax_Instance.generate_random(8, 3)\n",
    "E = range(instance.n)\n",
    "M = range(instance.m)\n",
    "\n",
    "jobs_prec = { job_id: [ (instance.P[job_id][i-1][0], instance.P[job_id][i][0]) \\\n",
    "                       for i in range(1, len(instance.P[job_id])) ] for job_id in E}\n",
    "\n",
    "dict_ij = [ {(element[0],job_id): element[1] for element in job_l } \\\n",
    "               for job_id, job_l in enumerate(instance.P)  ]\n",
    "dict_ij = {element: element_list[element] for element_list in dict_ij for element in element_list}\n",
    "\n",
    "dict_m_jobs = {}\n",
    "for m in M:\n",
    "    dict_m_jobs[m] = [j for (i,j) in dict_ij if i == m]\n",
    "\n",
    "model = gp.Model(\"jobshop\")\n",
    "\n",
    "Y_ij = model.addVars(dict_ij, vtype=gp.GRB.INTEGER, lb=0, name=\"Y\")\n",
    "C_max = model.addVar(lb=0, vtype=gp.GRB.INTEGER, name=\"C_max\")"
   ]
  },
  {
   "cell_type": "code",
   "execution_count": 5,
   "id": "ee393213",
   "metadata": {
    "ExecuteTime": {
     "end_time": "2023-02-03T10:53:12.245400Z",
     "start_time": "2023-02-03T10:53:12.231025Z"
    }
   },
   "outputs": [
    {
     "data": {
      "text/plain": [
       "[[(1, 53), (2, 72)],\n",
       " [(1, 33), (0, 31)],\n",
       " [(2, 71), (1, 17)],\n",
       " [(1, 27), (0, 89)],\n",
       " [(2, 45)],\n",
       " [(2, 46), (1, 62)],\n",
       " [(2, 43)],\n",
       " [(0, 77)]]"
      ]
     },
     "execution_count": 5,
     "metadata": {},
     "output_type": "execute_result"
    }
   ],
   "source": [
    "instance.P"
   ]
  },
  {
   "cell_type": "code",
   "execution_count": 6,
   "id": "d00abd1f",
   "metadata": {
    "ExecuteTime": {
     "end_time": "2023-02-03T10:53:25.381678Z",
     "start_time": "2023-02-03T10:53:25.368715Z"
    }
   },
   "outputs": [
    {
     "data": {
      "text/plain": [
       "{0: [1, 3, 7], 1: [0, 1, 2, 3, 5], 2: [0, 2, 4, 5, 6]}"
      ]
     },
     "execution_count": 6,
     "metadata": {},
     "output_type": "execute_result"
    }
   ],
   "source": [
    "dict_m_jobs"
   ]
  },
  {
   "cell_type": "code",
   "execution_count": 7,
   "id": "31430665",
   "metadata": {
    "ExecuteTime": {
     "end_time": "2023-02-03T10:53:44.467670Z",
     "start_time": "2023-02-03T10:53:44.421696Z"
    }
   },
   "outputs": [
    {
     "name": "stdout",
     "output_type": "stream",
     "text": [
      "Gurobi Optimizer version 9.5.2 build v9.5.2rc0 (linux64)\n",
      "Thread count: 6 physical cores, 12 logical processors, using up to 12 threads\n",
      "Optimize a model with 28 rows, 14 columns and 56 nonzeros\n",
      "Model fingerprint: 0x3dc58d96\n",
      "Variable types: 0 continuous, 14 integer (0 binary)\n",
      "Coefficient statistics:\n",
      "  Matrix range     [1e+00, 1e+00]\n",
      "  Objective range  [1e+00, 1e+00]\n",
      "  Bounds range     [0e+00, 0e+00]\n",
      "  RHS range        [2e+01, 9e+01]\n",
      "Found heuristic solution: objective 380.0000000\n",
      "Presolve removed 28 rows and 14 columns\n",
      "Presolve time: 0.00s\n",
      "Presolve: All rows and columns removed\n",
      "\n",
      "Explored 0 nodes (0 simplex iterations) in 0.01 seconds (0.00 work units)\n",
      "Thread count was 1 (of 12 available processors)\n",
      "\n",
      "Solution count 1: 380 \n",
      "\n",
      "Optimal solution found (tolerance 1.00e-04)\n",
      "Best objective 3.800000000000e+02, best bound 3.800000000000e+02, gap 0.0000%\n"
     ]
    }
   ],
   "source": [
    "# Adding the constraints\n",
    "model.addConstrs( (Y_ij[k,j] - Y_ij[i, j] >= dict_ij[(i,j)] for j in E for (i, k) in jobs_prec[j]), name=\"prec\")\n",
    "model.addConstrs( (C_max - Y_ij[i,j] >= dict_ij[(i,j)] for (i, j) in dict_ij), name=\"cmax\")\n",
    "model.addConstrs( (Y_ij[m, dict_m_jobs[m][i-1]] - Y_ij[m, dict_m_jobs[m][i]] >= dict_ij[(m, dict_m_jobs[m][i])] \\\n",
    "                   for m in M for i in range(1,len(dict_m_jobs[m])) ) , name=\"machine\")\n",
    "\n",
    "# Setting the objective function\n",
    "model.setObjective( C_max ) # Cmax\n",
    "\n",
    "# Tuning and Calling the solver \n",
    "#model.write(\"model.lp\")\n",
    "model.update()\n",
    "model.optimize()"
   ]
  },
  {
   "cell_type": "code",
   "execution_count": 8,
   "id": "f5ec4568",
   "metadata": {
    "ExecuteTime": {
     "end_time": "2023-02-03T10:53:46.741077Z",
     "start_time": "2023-02-03T10:53:46.724126Z"
    }
   },
   "outputs": [],
   "source": [
    "sol = transform_solution(Y_ij, instance, dict_m_jobs, dict_ij)"
   ]
  },
  {
   "cell_type": "code",
   "execution_count": 10,
   "id": "eb269b5f",
   "metadata": {
    "ExecuteTime": {
     "end_time": "2023-02-03T10:53:55.364133Z",
     "start_time": "2023-02-03T10:53:55.350208Z"
    }
   },
   "outputs": [
    {
     "data": {
      "text/plain": [
       "[Machine(machine_num=0, objective=0, last_job=-1, job_schedule=[Job(id=7, start_time=0, end_time=77), Job(id=3, start_time=178, end_time=267), Job(id=1, start_time=267, end_time=298)]),\n",
       " Machine(machine_num=1, objective=0, last_job=-1, job_schedule=[Job(id=5, start_time=89, end_time=151), Job(id=3, start_time=151, end_time=178), Job(id=2, start_time=205, end_time=222), Job(id=1, start_time=222, end_time=255), Job(id=0, start_time=255, end_time=308)]),\n",
       " Machine(machine_num=2, objective=0, last_job=-1, job_schedule=[Job(id=6, start_time=0, end_time=43), Job(id=5, start_time=43, end_time=89), Job(id=4, start_time=89, end_time=134), Job(id=2, start_time=134, end_time=205), Job(id=0, start_time=308, end_time=380)])]"
      ]
     },
     "execution_count": 10,
     "metadata": {},
     "output_type": "execute_result"
    }
   ],
   "source": [
    "sol.machines"
   ]
  },
  {
   "cell_type": "code",
   "execution_count": 19,
   "id": "eaa8ec77",
   "metadata": {
    "ExecuteTime": {
     "end_time": "2023-02-03T10:57:54.780787Z",
     "start_time": "2023-02-03T10:57:54.717320Z"
    }
   },
   "outputs": [
    {
     "ename": "IndexError",
     "evalue": "pop from empty list",
     "output_type": "error",
     "traceback": [
      "\u001b[0;31m---------------------------------------------------------------------------\u001b[0m",
      "\u001b[0;31mIndexError\u001b[0m                                Traceback (most recent call last)",
      "Cell \u001b[0;32mIn[19], line 1\u001b[0m\n\u001b[0;32m----> 1\u001b[0m sol \u001b[38;5;241m=\u001b[39m \u001b[43mjm_cmax\u001b[49m\u001b[38;5;241;43m.\u001b[39;49m\u001b[43mHeuristics\u001b[49m\u001b[38;5;241;43m.\u001b[39;49m\u001b[43mshifting_bottleneck\u001b[49m\u001b[43m(\u001b[49m\u001b[43minstance\u001b[49m\u001b[43m)\u001b[49m\n",
      "File \u001b[0;32m~/Workspace/SchedulingCC/PyScheduling/src/pyscheduling/JS/JmCmax.py:308\u001b[0m, in \u001b[0;36mHeuristics.shifting_bottleneck\u001b[0;34m(instance)\u001b[0m\n\u001b[1;32m    305\u001b[0m Lmax_instance \u001b[38;5;241m=\u001b[39m graph\u001b[38;5;241m.\u001b[39mgenerate_riPrecLmax(machine,Cmax,mapped_constraints)\n\u001b[1;32m    307\u001b[0m BB \u001b[38;5;241m=\u001b[39m JobShop\u001b[38;5;241m.\u001b[39mriPrecLmax\u001b[38;5;241m.\u001b[39mBB(Lmax_instance)\n\u001b[0;32m--> 308\u001b[0m \u001b[43mBB\u001b[49m\u001b[38;5;241;43m.\u001b[39;49m\u001b[43msolve\u001b[49m\u001b[43m(\u001b[49m\u001b[43m)\u001b[49m\n\u001b[1;32m    309\u001b[0m mapped_IDs_solution \u001b[38;5;241m=\u001b[39m [JobShop\u001b[38;5;241m.\u001b[39mJob(job_id_mapping[job\u001b[38;5;241m.\u001b[39mid],job\u001b[38;5;241m.\u001b[39mstart_time,job\u001b[38;5;241m.\u001b[39mend_time) \u001b[38;5;28;01mfor\u001b[39;00m job \u001b[38;5;129;01min\u001b[39;00m BB\u001b[38;5;241m.\u001b[39mbest_solution\u001b[38;5;241m.\u001b[39mmachine\u001b[38;5;241m.\u001b[39mjob_schedule]\n\u001b[1;32m    310\u001b[0m \u001b[38;5;28;01mif\u001b[39;00m objective_value \u001b[38;5;129;01mis\u001b[39;00m \u001b[38;5;28;01mNone\u001b[39;00m \u001b[38;5;129;01mor\u001b[39;00m objective_value \u001b[38;5;241m<\u001b[39m BB\u001b[38;5;241m.\u001b[39mobjective_value:\n",
      "File \u001b[0;32m~/Workspace/SchedulingCC/PyScheduling/src/pyscheduling/Problem.py:480\u001b[0m, in \u001b[0;36mBranch_Bound.solve\u001b[0;34m(self, root)\u001b[0m\n\u001b[1;32m    478\u001b[0m \u001b[38;5;28mself\u001b[39m\u001b[38;5;241m.\u001b[39mbranch(root) \n\u001b[1;32m    479\u001b[0m \u001b[38;5;28;01mif\u001b[39;00m root\u001b[38;5;241m.\u001b[39msub_nodes[\u001b[38;5;241m0\u001b[39m]\u001b[38;5;241m.\u001b[39mif_solution \u001b[38;5;129;01mis\u001b[39;00m \u001b[38;5;28;01mFalse\u001b[39;00m :\n\u001b[0;32m--> 480\u001b[0m     \u001b[38;5;28;01mfor\u001b[39;00m node \u001b[38;5;129;01min\u001b[39;00m root\u001b[38;5;241m.\u001b[39msub_nodes: \u001b[38;5;28;43mself\u001b[39;49m\u001b[38;5;241;43m.\u001b[39;49m\u001b[43mbound\u001b[49m\u001b[43m(\u001b[49m\u001b[43mnode\u001b[49m\u001b[43m)\u001b[49m\n\u001b[1;32m    481\u001b[0m     sorted_sub_nodes \u001b[38;5;241m=\u001b[39m root\u001b[38;5;241m.\u001b[39msub_nodes\n\u001b[1;32m    482\u001b[0m     sorted_sub_nodes\u001b[38;5;241m.\u001b[39msort(reverse\u001b[38;5;241m=\u001b[39m \u001b[38;5;28mself\u001b[39m\u001b[38;5;241m.\u001b[39minstance\u001b[38;5;241m.\u001b[39mget_objective()\u001b[38;5;241m.\u001b[39mvalue \u001b[38;5;241m>\u001b[39m \u001b[38;5;241m0\u001b[39m, key \u001b[38;5;241m=\u001b[39m \u001b[38;5;28;01mlambda\u001b[39;00m node : node\u001b[38;5;241m.\u001b[39mlower_bound)\n",
      "File \u001b[0;32m~/Workspace/SchedulingCC/PyScheduling/src/pyscheduling/SMSP/riPrecLmax.py:235\u001b[0m, in \u001b[0;36mBB.bound\u001b[0;34m(self, node)\u001b[0m\n\u001b[1;32m    233\u001b[0m remaining_jobs_list \u001b[38;5;241m=\u001b[39m [job \u001b[38;5;28;01mfor\u001b[39;00m job \u001b[38;5;129;01min\u001b[39;00m \u001b[38;5;28mlist\u001b[39m(\u001b[38;5;28mrange\u001b[39m(\u001b[38;5;28mself\u001b[39m\u001b[38;5;241m.\u001b[39minstance\u001b[38;5;241m.\u001b[39mn)) \u001b[38;5;28;01mif\u001b[39;00m job \u001b[38;5;129;01mnot\u001b[39;00m \u001b[38;5;129;01min\u001b[39;00m partial_solution_job_id]\n\u001b[1;32m    234\u001b[0m startTime \u001b[38;5;241m=\u001b[39m node\u001b[38;5;241m.\u001b[39mpartial_solution[\u001b[38;5;28mlen\u001b[39m(node\u001b[38;5;241m.\u001b[39mpartial_solution)\u001b[38;5;241m-\u001b[39m\u001b[38;5;241m1\u001b[39m]\u001b[38;5;241m.\u001b[39mend_time\n\u001b[0;32m--> 235\u001b[0m maximum_lateness \u001b[38;5;241m=\u001b[39m \u001b[38;5;28mmax\u001b[39m(maximum_lateness,\u001b[38;5;28;43mself\u001b[39;49m\u001b[38;5;241;43m.\u001b[39;49m\u001b[43minstance\u001b[49m\u001b[38;5;241;43m.\u001b[39;49m\u001b[43mLB_preemptive_EDD\u001b[49m\u001b[43m(\u001b[49m\u001b[43mstartTime\u001b[49m\u001b[43m,\u001b[49m\u001b[43mremaining_jobs_list\u001b[49m\u001b[43m)\u001b[49m)\n\u001b[1;32m    236\u001b[0m node\u001b[38;5;241m.\u001b[39mlower_bound \u001b[38;5;241m=\u001b[39m maximum_lateness\n",
      "File \u001b[0;32m~/Workspace/SchedulingCC/PyScheduling/src/pyscheduling/SMSP/riPrecLmax.py:139\u001b[0m, in \u001b[0;36mriPrecLmax_Instance.LB_preemptive_EDD\u001b[0;34m(self, start_time, jobs_list)\u001b[0m\n\u001b[1;32m    136\u001b[0m remaining_job_list_released\u001b[38;5;241m.\u001b[39msort(key \u001b[38;5;241m=\u001b[39m \u001b[38;5;28;01mlambda\u001b[39;00m job_id : \u001b[38;5;28mself\u001b[39m\u001b[38;5;241m.\u001b[39mD[job_id])\n\u001b[1;32m    138\u001b[0m \u001b[38;5;28;01mwhile\u001b[39;00m \u001b[38;5;28mlen\u001b[39m(remaining_job_list) \u001b[38;5;241m>\u001b[39m \u001b[38;5;241m0\u001b[39m:\n\u001b[0;32m--> 139\u001b[0m     job_id \u001b[38;5;241m=\u001b[39m \u001b[43mremaining_job_list_released\u001b[49m\u001b[38;5;241;43m.\u001b[39;49m\u001b[43mpop\u001b[49m\u001b[43m(\u001b[49m\u001b[38;5;241;43m0\u001b[39;49m\u001b[43m)\u001b[49m\n\u001b[1;32m    140\u001b[0m     t \u001b[38;5;241m+\u001b[39m\u001b[38;5;241m=\u001b[39m processing_time[job_id]\n\u001b[1;32m    141\u001b[0m     processing_time[job_id] \u001b[38;5;241m=\u001b[39m \u001b[38;5;241m0\u001b[39m\n",
      "\u001b[0;31mIndexError\u001b[0m: pop from empty list"
     ]
    }
   ],
   "source": [
    "sol = jm_cmax.Heuristics.shifting_bottleneck(instance)"
   ]
  },
  {
   "cell_type": "code",
   "execution_count": null,
   "id": "23b5f2d5",
   "metadata": {},
   "outputs": [],
   "source": []
  }
 ],
 "metadata": {
  "kernelspec": {
   "display_name": "Python 3 (ipykernel)",
   "language": "python",
   "name": "python3"
  },
  "language_info": {
   "codemirror_mode": {
    "name": "ipython",
    "version": 3
   },
   "file_extension": ".py",
   "mimetype": "text/x-python",
   "name": "python",
   "nbconvert_exporter": "python",
   "pygments_lexer": "ipython3",
   "version": "3.9.12"
  }
 },
 "nbformat": 4,
 "nbformat_minor": 5
}
