{
 "cells": [
  {
   "cell_type": "code",
   "execution_count": 22,
   "id": "87b799f4",
   "metadata": {
    "ExecuteTime": {
     "end_time": "2022-09-15T12:21:26.812595Z",
     "start_time": "2022-09-15T12:21:26.804736Z"
    }
   },
   "outputs": [],
   "source": [
    "import pyscheduling.JS.JmCmax as jm_cmax\n",
    "from pyscheduling.JS.JobShop import Job, JobShopSolution\n",
    "\n",
    "from docplex.cp.model import CpoModel\n",
    "from docplex.cp.solver.cpo_callback import CpoCallback\n",
    "from docplex.cp.expression import INTERVAL_MAX"
   ]
  },
  {
   "cell_type": "code",
   "execution_count": 29,
   "id": "add99774",
   "metadata": {
    "ExecuteTime": {
     "end_time": "2022-09-15T12:30:11.880828Z",
     "start_time": "2022-09-15T12:30:11.874603Z"
    }
   },
   "outputs": [],
   "source": [
    "def csp_transform_solution(msol, M_k, types_k, instance ):\n",
    "\n",
    "    sol = JobShopSolution(instance)\n",
    "    for k in range(instance.m):\n",
    "        k_tasks = []\n",
    "        for i, oper_k_i in enumerate(M_k[k]):\n",
    "            start, end, _ = msol[oper_k_i]\n",
    "            k_tasks.append(Job(types_k[k][i],start,end))\n",
    "\n",
    "            k_tasks = sorted(k_tasks, key= lambda x: x[1])\n",
    "            sol.machines[k].job_schedule = k_tasks\n",
    "        \n",
    "    return sol"
   ]
  },
  {
   "cell_type": "code",
   "execution_count": 24,
   "id": "81d32d93",
   "metadata": {
    "ExecuteTime": {
     "end_time": "2022-09-15T12:21:28.795412Z",
     "start_time": "2022-09-15T12:21:28.785100Z"
    }
   },
   "outputs": [],
   "source": [
    "instance = jm_cmax.JmCmax_Instance.generate_random(20,4)\n",
    "E = range(instance.n)\n",
    "M = range(instance.m)\n",
    "\n",
    "model = CpoModel(\"JS_Model\")\n",
    "\n",
    "E_i = [[] for i in E]\n",
    "M_k = [[] for k in M]\n",
    "\n",
    "types_k = [ [] for k in M ]\n",
    "for i in E:\n",
    "    for oper in instance.P[i]:\n",
    "        k, p_ik = oper\n",
    "        start_period = (0, INTERVAL_MAX)\n",
    "        oper_i_k = model.interval_var( start = start_period,\n",
    "                                       size = p_ik, optional= False, name=f'E[{i},{k}]')\n",
    "        E_i[i].append(oper_i_k)\n",
    "        \n",
    "        M_k[k].append(oper_i_k)\n",
    "        types_k[k].append(i)\n",
    "\n",
    "# No overlap inside machines\n",
    "seq_array = []\n",
    "for k in M:\n",
    "    seq_k = model.sequence_var(M_k[k], types_k[k], name=f\"Seq_{k}\")\n",
    "    model.add( model.no_overlap(seq_k) )        \n",
    "    seq_array.append(seq_k)\n",
    "\n",
    "# Precedence constraint between machines for each job\n",
    "for i in E:\n",
    "    for k in range(1, len(E_i[i])):\n",
    "        model.add( model.end_before_start(E_i[i][k - 1], E_i[i][k]) )\n",
    "\n",
    "# Add objective\n",
    "model.add( model.minimize( model.max(model.end_of(job_i) for i in E for job_i in E_i[i]) ) )"
   ]
  },
  {
   "cell_type": "code",
   "execution_count": 25,
   "id": "9efc0ac3",
   "metadata": {
    "ExecuteTime": {
     "end_time": "2022-09-15T12:21:29.570045Z",
     "start_time": "2022-09-15T12:21:29.435468Z"
    }
   },
   "outputs": [
    {
     "name": "stdout",
     "output_type": "stream",
     "text": [
      " ! --------------------------------------------------- CP Optimizer 20.1.0.0 --\n",
      " ! Minimization problem - 47 variables, 27 constraints\n",
      " ! TimeLimit            = 30\n",
      " ! Workers              = 1\n",
      " ! LogPeriod            = 1000000\n",
      " ! RelativeOptimalityTolerance = 0\n",
      " ! Initial process time : 0.00s (0.00s extraction + 0.00s propagation)\n",
      " !  . Log search space  : 233.3 (before), 233.3 (after)\n",
      " !  . Memory usage      : 543.6 kB (before), 543.6 kB (after)\n",
      " ! Using sequential search.\n",
      " ! ----------------------------------------------------------------------------\n",
      " !          Best Branches  Non-fixed            Branch decision\n",
      "                        0         47                 -\n",
      " + New bound is 269\n",
      " *          1238       87  0.00s               (gap is 78.27%)\n",
      "            1238       88         47        F        -\n",
      " + New bound is 1238 (gap is 0.00%)\n",
      " ! ----------------------------------------------------------------------------\n",
      " ! Search completed, 1 solution found.\n",
      " ! Best objective         : 1238 (optimal - effective tol. is 0)\n",
      " ! Best bound             : 1238\n",
      " ! ----------------------------------------------------------------------------\n",
      " ! Number of branches     : 89\n",
      " ! Number of fails        : 12\n",
      " ! Total memory usage     : 1.0 MB (0.9 MB CP Optimizer + 0.1 MB Concert)\n",
      " ! Time spent in solve    : 0.00s (0.00s engine + 0.00s extraction)\n",
      " ! Search speed (br. / s) : 8900.0\n",
      " ! ----------------------------------------------------------------------------\n"
     ]
    }
   ],
   "source": [
    "msol = model.solve(LogVerbosity=\"Normal\", Workers=1, TimeLimit=30, LogPeriod=1000000,\n",
    "                   log_output=True, trace_log=True, add_log_to_solution=True, RelativeOptimalityTolerance=0)"
   ]
  },
  {
   "cell_type": "code",
   "execution_count": 31,
   "id": "c5ac0523",
   "metadata": {
    "ExecuteTime": {
     "end_time": "2022-09-15T12:30:41.054775Z",
     "start_time": "2022-09-15T12:30:41.050821Z"
    }
   },
   "outputs": [],
   "source": [
    "sol = csp_transform_solution(msol, M_k, types_k, instance )"
   ]
  },
  {
   "cell_type": "code",
   "execution_count": 33,
   "id": "d751776b",
   "metadata": {
    "ExecuteTime": {
     "end_time": "2022-09-15T12:30:51.388817Z",
     "start_time": "2022-09-15T12:30:51.378662Z"
    }
   },
   "outputs": [
    {
     "data": {
      "text/plain": [
       "Machine(machine_num=0, objective=0, last_job=-1, job_schedule=[Job(id=1, start_time=0, end_time=93), Job(id=4, start_time=93, end_time=175), Job(id=17, start_time=175, end_time=269), Job(id=10, start_time=269, end_time=362), Job(id=14, start_time=362, end_time=443), Job(id=7, start_time=520, end_time=614), Job(id=12, start_time=614, end_time=706), Job(id=5, start_time=706, end_time=799), Job(id=9, start_time=799, end_time=880), Job(id=15, start_time=880, end_time=965), Job(id=16, start_time=965, end_time=1051), Job(id=3, start_time=1051, end_time=1132)])"
      ]
     },
     "execution_count": 33,
     "metadata": {},
     "output_type": "execute_result"
    }
   ],
   "source": [
    "sol.machines[0]"
   ]
  },
  {
   "cell_type": "code",
   "execution_count": 21,
   "id": "b66fef83",
   "metadata": {
    "ExecuteTime": {
     "end_time": "2022-09-14T07:54:10.861717Z",
     "start_time": "2022-09-14T07:53:13.624539Z"
    }
   },
   "outputs": [
    {
     "ename": "KeyboardInterrupt",
     "evalue": "",
     "output_type": "error",
     "traceback": [
      "\u001b[0;31m---------------------------------------------------------------------------\u001b[0m",
      "\u001b[0;31mKeyboardInterrupt\u001b[0m                         Traceback (most recent call last)",
      "Cell \u001b[0;32mIn [21], line 1\u001b[0m\n\u001b[0;32m----> 1\u001b[0m solution \u001b[38;5;241m=\u001b[39m \u001b[43mjm_cmax\u001b[49m\u001b[38;5;241;43m.\u001b[39;49m\u001b[43mHeuristics\u001b[49m\u001b[38;5;241;43m.\u001b[39;49m\u001b[43mshifting_bottleneck\u001b[49m\u001b[43m(\u001b[49m\u001b[43minstance\u001b[49m\u001b[43m)\u001b[49m\n\u001b[1;32m      2\u001b[0m \u001b[38;5;28mprint\u001b[39m(solution)\n",
      "File \u001b[0;32m~/anaconda3/envs/pyscheduling/lib/python3.9/site-packages/pyscheduling/JS/JmCmax.py:127\u001b[0m, in \u001b[0;36mHeuristics.shifting_bottleneck\u001b[0;34m(instance)\u001b[0m\n\u001b[1;32m    125\u001b[0m job_id_mapping \u001b[38;5;241m=\u001b[39m {i:vertices[i] \u001b[38;5;28;01mfor\u001b[39;00m i \u001b[38;5;129;01min\u001b[39;00m \u001b[38;5;28mrange\u001b[39m(\u001b[38;5;28mlen\u001b[39m(vertices))}\n\u001b[1;32m    126\u001b[0m BB \u001b[38;5;241m=\u001b[39m JobShop\u001b[38;5;241m.\u001b[39mriPrecLmax\u001b[38;5;241m.\u001b[39mBB(Lmax_instance)\n\u001b[0;32m--> 127\u001b[0m \u001b[43mBB\u001b[49m\u001b[38;5;241;43m.\u001b[39;49m\u001b[43msolve\u001b[49m\u001b[43m(\u001b[49m\u001b[43m)\u001b[49m\n\u001b[1;32m    128\u001b[0m mapped_IDs_solution \u001b[38;5;241m=\u001b[39m [JobShop\u001b[38;5;241m.\u001b[39mJob(job_id_mapping[job\u001b[38;5;241m.\u001b[39mid],job\u001b[38;5;241m.\u001b[39mstart_time,job\u001b[38;5;241m.\u001b[39mend_time) \u001b[38;5;28;01mfor\u001b[39;00m job \u001b[38;5;129;01min\u001b[39;00m BB\u001b[38;5;241m.\u001b[39mbest_solution]\n\u001b[1;32m    129\u001b[0m \u001b[38;5;28;01mif\u001b[39;00m objective_value \u001b[38;5;129;01mis\u001b[39;00m \u001b[38;5;28;01mNone\u001b[39;00m \u001b[38;5;129;01mor\u001b[39;00m objective_value \u001b[38;5;241m<\u001b[39m BB\u001b[38;5;241m.\u001b[39mobjective_value:\n",
      "File \u001b[0;32m~/anaconda3/envs/pyscheduling/lib/python3.9/site-packages/pyscheduling/Problem.py:295\u001b[0m, in \u001b[0;36mBranch_Bound.solve\u001b[0;34m(self, root)\u001b[0m\n\u001b[1;32m    293\u001b[0m     sorted_sub_nodes \u001b[38;5;241m=\u001b[39m root\u001b[38;5;241m.\u001b[39msub_nodes\n\u001b[1;32m    294\u001b[0m     sorted_sub_nodes\u001b[38;5;241m.\u001b[39msort(reverse\u001b[38;5;241m=\u001b[39m \u001b[38;5;28mself\u001b[39m\u001b[38;5;241m.\u001b[39minstance\u001b[38;5;241m.\u001b[39mget_objective()\u001b[38;5;241m.\u001b[39mvalue \u001b[38;5;241m>\u001b[39m \u001b[38;5;241m0\u001b[39m, key \u001b[38;5;241m=\u001b[39m \u001b[38;5;28;01mlambda\u001b[39;00m node : node\u001b[38;5;241m.\u001b[39mlower_bound)\n\u001b[0;32m--> 295\u001b[0m     \u001b[38;5;28;01mfor\u001b[39;00m node \u001b[38;5;129;01min\u001b[39;00m sorted_sub_nodes : \u001b[38;5;28;43mself\u001b[39;49m\u001b[38;5;241;43m.\u001b[39;49m\u001b[43msolve\u001b[49m\u001b[43m(\u001b[49m\u001b[43mnode\u001b[49m\u001b[43m)\u001b[49m\n\u001b[1;32m    296\u001b[0m \u001b[38;5;28;01melse\u001b[39;00m :\n\u001b[1;32m    297\u001b[0m     \u001b[38;5;28;01mfor\u001b[39;00m node \u001b[38;5;129;01min\u001b[39;00m root\u001b[38;5;241m.\u001b[39msub_nodes: \n",
      "File \u001b[0;32m~/anaconda3/envs/pyscheduling/lib/python3.9/site-packages/pyscheduling/Problem.py:295\u001b[0m, in \u001b[0;36mBranch_Bound.solve\u001b[0;34m(self, root)\u001b[0m\n\u001b[1;32m    293\u001b[0m     sorted_sub_nodes \u001b[38;5;241m=\u001b[39m root\u001b[38;5;241m.\u001b[39msub_nodes\n\u001b[1;32m    294\u001b[0m     sorted_sub_nodes\u001b[38;5;241m.\u001b[39msort(reverse\u001b[38;5;241m=\u001b[39m \u001b[38;5;28mself\u001b[39m\u001b[38;5;241m.\u001b[39minstance\u001b[38;5;241m.\u001b[39mget_objective()\u001b[38;5;241m.\u001b[39mvalue \u001b[38;5;241m>\u001b[39m \u001b[38;5;241m0\u001b[39m, key \u001b[38;5;241m=\u001b[39m \u001b[38;5;28;01mlambda\u001b[39;00m node : node\u001b[38;5;241m.\u001b[39mlower_bound)\n\u001b[0;32m--> 295\u001b[0m     \u001b[38;5;28;01mfor\u001b[39;00m node \u001b[38;5;129;01min\u001b[39;00m sorted_sub_nodes : \u001b[38;5;28;43mself\u001b[39;49m\u001b[38;5;241;43m.\u001b[39;49m\u001b[43msolve\u001b[49m\u001b[43m(\u001b[49m\u001b[43mnode\u001b[49m\u001b[43m)\u001b[49m\n\u001b[1;32m    296\u001b[0m \u001b[38;5;28;01melse\u001b[39;00m :\n\u001b[1;32m    297\u001b[0m     \u001b[38;5;28;01mfor\u001b[39;00m node \u001b[38;5;129;01min\u001b[39;00m root\u001b[38;5;241m.\u001b[39msub_nodes: \n",
      "    \u001b[0;31m[... skipping similar frames: Branch_Bound.solve at line 295 (8 times)]\u001b[0m\n",
      "File \u001b[0;32m~/anaconda3/envs/pyscheduling/lib/python3.9/site-packages/pyscheduling/Problem.py:295\u001b[0m, in \u001b[0;36mBranch_Bound.solve\u001b[0;34m(self, root)\u001b[0m\n\u001b[1;32m    293\u001b[0m     sorted_sub_nodes \u001b[38;5;241m=\u001b[39m root\u001b[38;5;241m.\u001b[39msub_nodes\n\u001b[1;32m    294\u001b[0m     sorted_sub_nodes\u001b[38;5;241m.\u001b[39msort(reverse\u001b[38;5;241m=\u001b[39m \u001b[38;5;28mself\u001b[39m\u001b[38;5;241m.\u001b[39minstance\u001b[38;5;241m.\u001b[39mget_objective()\u001b[38;5;241m.\u001b[39mvalue \u001b[38;5;241m>\u001b[39m \u001b[38;5;241m0\u001b[39m, key \u001b[38;5;241m=\u001b[39m \u001b[38;5;28;01mlambda\u001b[39;00m node : node\u001b[38;5;241m.\u001b[39mlower_bound)\n\u001b[0;32m--> 295\u001b[0m     \u001b[38;5;28;01mfor\u001b[39;00m node \u001b[38;5;129;01min\u001b[39;00m sorted_sub_nodes : \u001b[38;5;28;43mself\u001b[39;49m\u001b[38;5;241;43m.\u001b[39;49m\u001b[43msolve\u001b[49m\u001b[43m(\u001b[49m\u001b[43mnode\u001b[49m\u001b[43m)\u001b[49m\n\u001b[1;32m    296\u001b[0m \u001b[38;5;28;01melse\u001b[39;00m :\n\u001b[1;32m    297\u001b[0m     \u001b[38;5;28;01mfor\u001b[39;00m node \u001b[38;5;129;01min\u001b[39;00m root\u001b[38;5;241m.\u001b[39msub_nodes: \n",
      "File \u001b[0;32m~/anaconda3/envs/pyscheduling/lib/python3.9/site-packages/pyscheduling/Problem.py:306\u001b[0m, in \u001b[0;36mBranch_Bound.solve\u001b[0;34m(self, root)\u001b[0m\n\u001b[1;32m    304\u001b[0m     \u001b[38;5;28mself\u001b[39m\u001b[38;5;241m.\u001b[39mbest_solution \u001b[38;5;241m=\u001b[39m node\u001b[38;5;241m.\u001b[39mpartial_solution\n\u001b[1;32m    305\u001b[0m     \u001b[38;5;28mself\u001b[39m\u001b[38;5;241m.\u001b[39mobjective_value \u001b[38;5;241m=\u001b[39m node\u001b[38;5;241m.\u001b[39mlower_bound\n\u001b[0;32m--> 306\u001b[0m \u001b[38;5;28;43mself\u001b[39;49m\u001b[38;5;241;43m.\u001b[39;49m\u001b[43mdiscard\u001b[49m\u001b[43m(\u001b[49m\u001b[38;5;28;43mself\u001b[39;49m\u001b[38;5;241;43m.\u001b[39;49m\u001b[43mroot\u001b[49m\u001b[43m,\u001b[49m\u001b[38;5;28;43mself\u001b[39;49m\u001b[38;5;241;43m.\u001b[39;49m\u001b[43mobjective_value\u001b[49m\u001b[43m,\u001b[49m\u001b[38;5;28;43mself\u001b[39;49m\u001b[38;5;241;43m.\u001b[39;49m\u001b[43minstance\u001b[49m\u001b[38;5;241;43m.\u001b[39;49m\u001b[43mget_objective\u001b[49m\u001b[43m(\u001b[49m\u001b[43m)\u001b[49m\u001b[43m)\u001b[49m\n",
      "File \u001b[0;32m~/anaconda3/envs/pyscheduling/lib/python3.9/site-packages/pyscheduling/Problem.py:271\u001b[0m, in \u001b[0;36mBranch_Bound.discard\u001b[0;34m(self, root, best_solution, objective)\u001b[0m\n\u001b[1;32m    269\u001b[0m \u001b[38;5;28;01mfor\u001b[39;00m node \u001b[38;5;129;01min\u001b[39;00m root\u001b[38;5;241m.\u001b[39msub_nodes :\n\u001b[1;32m    270\u001b[0m     \u001b[38;5;28;01mif\u001b[39;00m objective\u001b[38;5;241m.\u001b[39mvalue \u001b[38;5;241m>\u001b[39m \u001b[38;5;241m0\u001b[39m \u001b[38;5;129;01mand\u001b[39;00m node\u001b[38;5;241m.\u001b[39mlower_bound \u001b[38;5;241m<\u001b[39m best_solution : node \u001b[38;5;241m=\u001b[39m \u001b[38;5;28;01mNone\u001b[39;00m\n\u001b[0;32m--> 271\u001b[0m     \u001b[38;5;28;01melif\u001b[39;00m objective\u001b[38;5;241m.\u001b[39mvalue \u001b[38;5;241m<\u001b[39m \u001b[38;5;241m0\u001b[39m \u001b[38;5;129;01mand\u001b[39;00m \u001b[43mnode\u001b[49m\u001b[38;5;241;43m.\u001b[39;49m\u001b[43mlower_bound\u001b[49m \u001b[38;5;241m>\u001b[39m best_solution : node \u001b[38;5;241m=\u001b[39m \u001b[38;5;28;01mNone\u001b[39;00m\n",
      "\u001b[0;31mKeyboardInterrupt\u001b[0m: "
     ]
    }
   ],
   "source": [
    "solution = jm_cmax.Heuristics.shifting_bottleneck(instance)\n",
    "print(solution)"
   ]
  },
  {
   "cell_type": "code",
   "execution_count": 37,
   "id": "54c3b299",
   "metadata": {
    "ExecuteTime": {
     "end_time": "2022-09-15T12:51:11.616369Z",
     "start_time": "2022-09-15T12:51:11.612598Z"
    }
   },
   "outputs": [
    {
     "name": "stdout",
     "output_type": "stream",
     "text": [
      "(1, IntervalVarValue(start=0, end=93, size=93))\n",
      "(4, IntervalVarValue(start=93, end=175, size=82))\n",
      "(17, IntervalVarValue(start=175, end=269, size=94))\n",
      "(10, IntervalVarValue(start=269, end=362, size=93))\n",
      "(14, IntervalVarValue(start=362, end=443, size=81))\n",
      "(7, IntervalVarValue(start=520, end=614, size=94))\n",
      "(12, IntervalVarValue(start=614, end=706, size=92))\n",
      "(5, IntervalVarValue(start=706, end=799, size=93))\n",
      "(9, IntervalVarValue(start=799, end=880, size=81))\n",
      "(15, IntervalVarValue(start=880, end=965, size=85))\n",
      "(16, IntervalVarValue(start=965, end=1051, size=86))\n",
      "(3, IntervalVarValue(start=1051, end=1132, size=81))\n"
     ]
    }
   ],
   "source": [
    "machine = 0\n",
    "list_events = sorted([(j_id, msol[M_k[machine][i]]) for i, j_id in enumerate(types_k[machine])], key = lambda x: x[1][0])\n",
    "print(\"\\n\".join(map(str,list_events)))"
   ]
  },
  {
   "cell_type": "code",
   "execution_count": null,
   "id": "2752b981",
   "metadata": {},
   "outputs": [],
   "source": []
  }
 ],
 "metadata": {
  "kernelspec": {
   "display_name": "Python 3 (ipykernel)",
   "language": "python",
   "name": "python3"
  },
  "language_info": {
   "codemirror_mode": {
    "name": "ipython",
    "version": 3
   },
   "file_extension": ".py",
   "mimetype": "text/x-python",
   "name": "python",
   "nbconvert_exporter": "python",
   "pygments_lexer": "ipython3",
   "version": "3.9.12"
  }
 },
 "nbformat": 4,
 "nbformat_minor": 5
}
